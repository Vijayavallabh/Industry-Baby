{
 "cells": [
  {
   "cell_type": "code",
   "execution_count": 111,
   "id": "d105f6d4",
   "metadata": {
    "execution": {
     "iopub.execute_input": "2024-04-20T14:42:42.829743Z",
     "iopub.status.busy": "2024-04-20T14:42:42.829082Z",
     "iopub.status.idle": "2024-04-20T14:42:44.803731Z",
     "shell.execute_reply": "2024-04-20T14:42:44.802108Z"
    },
    "papermill": {
     "duration": 2.00596,
     "end_time": "2024-04-20T14:42:44.806680",
     "exception": false,
     "start_time": "2024-04-20T14:42:42.800720",
     "status": "completed"
    },
    "tags": []
   },
   "outputs": [],
   "source": [
    "import numpy as np\n",
    "import pandas as pd\n",
    "import seaborn as sns\n",
    "import matplotlib.pyplot as plt\n",
    "from sklearn.model_selection import train_test_split\n",
    "from sklearn.preprocessing import MinMaxScaler\n",
    "from sklearn.ensemble import GradientBoostingClassifier, RandomForestClassifier\n",
    "from sklearn.linear_model import LogisticRegression\n",
    "from sklearn.tree import DecisionTreeClassifier\n",
    "from xgboost import XGBClassifier\n",
    "from lightgbm import LGBMClassifier\n",
    "from catboost import CatBoostClassifier\n",
    "from sklearn.metrics import accuracy_score\n",
    "from sklearn.model_selection import cross_val_score, StratifiedKFold\n",
    "from tqdm import tqdm"
   ]
  },
  {
   "cell_type": "code",
   "execution_count": null,
   "id": "5cc52857",
   "metadata": {
    "execution": {
     "iopub.execute_input": "2024-04-20T14:42:44.863624Z",
     "iopub.status.busy": "2024-04-20T14:42:44.863163Z",
     "iopub.status.idle": "2024-04-20T14:42:45.565417Z",
     "shell.execute_reply": "2024-04-20T14:42:45.562890Z"
    },
    "papermill": {
     "duration": 0.734661,
     "end_time": "2024-04-20T14:42:45.569443",
     "exception": false,
     "start_time": "2024-04-20T14:42:44.834782",
     "status": "completed"
    },
    "tags": []
   },
   "outputs": [],
   "source": [
    "df = pd.read_csv(r\"C:\\Users\\rahul\\OneDrive\\Documents\\Hackathon\\IndustriAI\\Industry-Baby\\Creditscore_train_cleaned.csv\")\n",
    "df.head()"
   ]
  },
  {
   "cell_type": "code",
   "execution_count": null,
   "id": "e0c291ea",
   "metadata": {
    "execution": {
     "iopub.execute_input": "2024-04-20T14:42:45.627261Z",
     "iopub.status.busy": "2024-04-20T14:42:45.626772Z",
     "iopub.status.idle": "2024-04-20T14:42:45.635834Z",
     "shell.execute_reply": "2024-04-20T14:42:45.634441Z"
    },
    "papermill": {
     "duration": 0.040419,
     "end_time": "2024-04-20T14:42:45.638221",
     "exception": false,
     "start_time": "2024-04-20T14:42:45.597802",
     "status": "completed"
    },
    "tags": []
   },
   "outputs": [],
   "source": [
    "df.shape"
   ]
  },
  {
   "cell_type": "code",
   "execution_count": null,
   "id": "78a60514",
   "metadata": {
    "execution": {
     "iopub.execute_input": "2024-04-20T14:42:45.696343Z",
     "iopub.status.busy": "2024-04-20T14:42:45.695156Z",
     "iopub.status.idle": "2024-04-20T14:42:45.770114Z",
     "shell.execute_reply": "2024-04-20T14:42:45.768880Z"
    },
    "papermill": {
     "duration": 0.107397,
     "end_time": "2024-04-20T14:42:45.773111",
     "exception": false,
     "start_time": "2024-04-20T14:42:45.665714",
     "status": "completed"
    },
    "tags": []
   },
   "outputs": [],
   "source": [
    "df.info()"
   ]
  },
  {
   "cell_type": "code",
   "execution_count": null,
   "id": "14b3fbce",
   "metadata": {
    "execution": {
     "iopub.execute_input": "2024-04-20T14:42:45.885384Z",
     "iopub.status.busy": "2024-04-20T14:42:45.884930Z",
     "iopub.status.idle": "2024-04-20T14:42:45.911525Z",
     "shell.execute_reply": "2024-04-20T14:42:45.909681Z"
    },
    "papermill": {
     "duration": 0.059795,
     "end_time": "2024-04-20T14:42:45.915369",
     "exception": false,
     "start_time": "2024-04-20T14:42:45.855574",
     "status": "completed"
    },
    "tags": []
   },
   "outputs": [],
   "source": [
    "def value_cnt(df, column_name):\n",
    "    vc = df[column_name].value_counts()\n",
    "    vc_norm = df[column_name].value_counts(normalize=True)\n",
    "\n",
    "    vc = vc.rename_axis(column_name).reset_index(name='counts')\n",
    "    vc_norm = vc_norm.rename_axis(column_name).reset_index(name='norm_counts')\n",
    "\n",
    "    df_result = pd.concat([vc[column_name], vc['counts'], vc_norm['norm_counts']], axis=1)\n",
    "    \n",
    "    return df_result\n",
    "\n",
    "value_cnt(df, 'Credit_Score')  # imbalanced"
   ]
  },
  {
   "cell_type": "code",
   "execution_count": null,
   "id": "9c693047",
   "metadata": {
    "execution": {
     "iopub.execute_input": "2024-04-20T14:42:46.860068Z",
     "iopub.status.busy": "2024-04-20T14:42:46.858563Z",
     "iopub.status.idle": "2024-04-20T14:42:48.517844Z",
     "shell.execute_reply": "2024-04-20T14:42:48.516301Z"
    },
    "papermill": {
     "duration": 1.694863,
     "end_time": "2024-04-20T14:42:48.520884",
     "exception": false,
     "start_time": "2024-04-20T14:42:46.826021",
     "status": "completed"
    },
    "tags": []
   },
   "outputs": [],
   "source": [
    "plt.figure(figsize=(15, 8))\n",
    "\n",
    "sns.heatmap(df.select_dtypes('number').corr(), annot = True, fmt='.2f', cmap= 'coolwarm');"
   ]
  },
  {
   "cell_type": "code",
   "execution_count": 80,
   "id": "77719d0d",
   "metadata": {
    "execution": {
     "iopub.execute_input": "2024-04-20T14:42:48.994100Z",
     "iopub.status.busy": "2024-04-20T14:42:48.993698Z",
     "iopub.status.idle": "2024-04-20T14:42:49.466298Z",
     "shell.execute_reply": "2024-04-20T14:42:49.464643Z"
    },
    "papermill": {
     "duration": 0.51062,
     "end_time": "2024-04-20T14:42:49.469552",
     "exception": false,
     "start_time": "2024-04-20T14:42:48.958932",
     "status": "completed"
    },
    "tags": []
   },
   "outputs": [],
   "source": [
    "X = df.drop(['Credit_Score'], axis=1)\n",
    "y = df['Credit_Score']\n",
    "\n",
    "seed = 42\n",
    "X_train, X_test, y_train, y_test = train_test_split(X,\n",
    "                                                    y,\n",
    "                                                    stratify=y,\n",
    "                                                    shuffle=True,\n",
    "                                                    test_size=0.10,\n",
    "                                                    random_state=seed)"
   ]
  },
  {
   "cell_type": "code",
   "execution_count": null,
   "id": "5163cbf6",
   "metadata": {
    "execution": {
     "iopub.execute_input": "2024-04-20T14:42:49.539899Z",
     "iopub.status.busy": "2024-04-20T14:42:49.539397Z",
     "iopub.status.idle": "2024-04-20T14:42:49.546646Z",
     "shell.execute_reply": "2024-04-20T14:42:49.545109Z"
    },
    "papermill": {
     "duration": 0.045643,
     "end_time": "2024-04-20T14:42:49.549337",
     "exception": false,
     "start_time": "2024-04-20T14:42:49.503694",
     "status": "completed"
    },
    "tags": []
   },
   "outputs": [],
   "source": [
    "print(\"X_train shape :\", X_train.shape)\n",
    "print(\"y_train shape :\", y_train.shape)\n",
    "print(\"X_test shape :\", X_test.shape)\n",
    "print(\"y_test shape :\", y_test.shape)"
   ]
  },
  {
   "cell_type": "code",
   "execution_count": 82,
   "id": "4fb85cf7",
   "metadata": {
    "execution": {
     "iopub.execute_input": "2024-04-20T14:42:49.753309Z",
     "iopub.status.busy": "2024-04-20T14:42:49.751732Z",
     "iopub.status.idle": "2024-04-20T14:42:49.814201Z",
     "shell.execute_reply": "2024-04-20T14:42:49.813228Z"
    },
    "papermill": {
     "duration": 0.100323,
     "end_time": "2024-04-20T14:42:49.817232",
     "exception": false,
     "start_time": "2024-04-20T14:42:49.716909",
     "status": "completed"
    },
    "tags": []
   },
   "outputs": [],
   "source": [
    "from sklearn.preprocessing import OneHotEncoder, OrdinalEncoder\n",
    "\n",
    "order = [\n",
    "    'Low_spent_Small_value_payments', \n",
    "    'Low_spent_Medium_value_payments', \n",
    "    'Low_spent_Large_value_payments', \n",
    "    'High_spent_Small_value_payments', \n",
    "    'High_spent_Medium_value_payments', \n",
    "    'High_spent_Large_value_payments'\n",
    "]\n",
    "\n",
    "ordinal_encoder = OrdinalEncoder(categories=[order])\n",
    "\n",
    "X_train['Payment_Behaviour_Encoded'] = ordinal_encoder.fit_transform(X_train[['Payment_Behaviour']])\n",
    "X_test['Payment_Behaviour_Encoded'] = ordinal_encoder.transform(X_test[['Payment_Behaviour']])\n",
    "\n",
    "# Drop original column\n",
    "X_train.drop(['Payment_Behaviour'], axis=1, inplace= True)\n",
    "X_test.drop(['Payment_Behaviour'], axis=1, inplace= True)"
   ]
  },
  {
   "cell_type": "code",
   "execution_count": null,
   "id": "2c3ae34d",
   "metadata": {
    "execution": {
     "iopub.execute_input": "2024-04-20T14:42:49.888874Z",
     "iopub.status.busy": "2024-04-20T14:42:49.887549Z",
     "iopub.status.idle": "2024-04-20T14:42:49.909541Z",
     "shell.execute_reply": "2024-04-20T14:42:49.907928Z"
    },
    "papermill": {
     "duration": 0.061157,
     "end_time": "2024-04-20T14:42:49.912999",
     "exception": false,
     "start_time": "2024-04-20T14:42:49.851842",
     "status": "completed"
    },
    "tags": []
   },
   "outputs": [],
   "source": [
    "X_train.head()"
   ]
  },
  {
   "cell_type": "code",
   "execution_count": null,
   "id": "b865b8a6",
   "metadata": {
    "execution": {
     "iopub.execute_input": "2024-04-20T14:42:50.052562Z",
     "iopub.status.busy": "2024-04-20T14:42:50.052116Z",
     "iopub.status.idle": "2024-04-20T14:42:50.265943Z",
     "shell.execute_reply": "2024-04-20T14:42:50.264488Z"
    },
    "papermill": {
     "duration": 0.253315,
     "end_time": "2024-04-20T14:42:50.269100",
     "exception": false,
     "start_time": "2024-04-20T14:42:50.015785",
     "status": "completed"
    },
    "tags": []
   },
   "outputs": [],
   "source": [
    "from sklearn.preprocessing import OneHotEncoder\n",
    "\n",
    "# Create OneHotEncoder object\n",
    "onehot_encoder = OneHotEncoder(handle_unknown=\"ignore\", sparse_output=False).set_output(transform=\"pandas\") \n",
    "\n",
    "# Fit and transform the training set\n",
    "encoded_features = onehot_encoder.fit_transform(X_train[['Occupation', 'Payment_of_Min_Amount', 'Credit_Mix']])\n",
    "encoded_features_test = onehot_encoder.transform(X_test[['Occupation', 'Payment_of_Min_Amount', 'Credit_Mix']])\n",
    "\n",
    "encoded_features"
   ]
  },
  {
   "cell_type": "code",
   "execution_count": 85,
   "id": "51ac01fe",
   "metadata": {
    "execution": {
     "iopub.execute_input": "2024-04-20T14:42:50.341419Z",
     "iopub.status.busy": "2024-04-20T14:42:50.340606Z",
     "iopub.status.idle": "2024-04-20T14:42:50.394969Z",
     "shell.execute_reply": "2024-04-20T14:42:50.393792Z"
    },
    "papermill": {
     "duration": 0.094709,
     "end_time": "2024-04-20T14:42:50.398214",
     "exception": false,
     "start_time": "2024-04-20T14:42:50.303505",
     "status": "completed"
    },
    "tags": []
   },
   "outputs": [],
   "source": [
    "X_train= pd.concat([X_train, encoded_features], axis=1).drop(columns= ['Occupation', 'Payment_of_Min_Amount', 'Credit_Mix'])\n",
    "X_test= pd.concat([X_test, encoded_features_test], axis=1).drop(columns= ['Occupation', 'Payment_of_Min_Amount', 'Credit_Mix'])"
   ]
  },
  {
   "cell_type": "code",
   "execution_count": null,
   "id": "34d91ff1",
   "metadata": {
    "execution": {
     "iopub.execute_input": "2024-04-20T14:42:50.469868Z",
     "iopub.status.busy": "2024-04-20T14:42:50.469456Z",
     "iopub.status.idle": "2024-04-20T14:42:50.492567Z",
     "shell.execute_reply": "2024-04-20T14:42:50.491125Z"
    },
    "papermill": {
     "duration": 0.061902,
     "end_time": "2024-04-20T14:42:50.495140",
     "exception": false,
     "start_time": "2024-04-20T14:42:50.433238",
     "status": "completed"
    },
    "tags": []
   },
   "outputs": [],
   "source": [
    "X_train.head()"
   ]
  },
  {
   "cell_type": "code",
   "execution_count": null,
   "id": "f686a240",
   "metadata": {
    "execution": {
     "iopub.execute_input": "2024-04-20T14:42:50.569769Z",
     "iopub.status.busy": "2024-04-20T14:42:50.568868Z",
     "iopub.status.idle": "2024-04-20T14:42:50.591804Z",
     "shell.execute_reply": "2024-04-20T14:42:50.590609Z"
    },
    "papermill": {
     "duration": 0.063453,
     "end_time": "2024-04-20T14:42:50.594587",
     "exception": false,
     "start_time": "2024-04-20T14:42:50.531134",
     "status": "completed"
    },
    "tags": []
   },
   "outputs": [],
   "source": [
    "X_test.head()"
   ]
  },
  {
   "cell_type": "code",
   "execution_count": null,
   "id": "74aeca99",
   "metadata": {
    "execution": {
     "iopub.execute_input": "2024-04-20T14:42:50.669176Z",
     "iopub.status.busy": "2024-04-20T14:42:50.667915Z",
     "iopub.status.idle": "2024-04-20T14:42:50.675972Z",
     "shell.execute_reply": "2024-04-20T14:42:50.674850Z"
    },
    "papermill": {
     "duration": 0.048215,
     "end_time": "2024-04-20T14:42:50.678217",
     "exception": false,
     "start_time": "2024-04-20T14:42:50.630002",
     "status": "completed"
    },
    "tags": []
   },
   "outputs": [],
   "source": [
    "X_train.columns"
   ]
  },
  {
   "cell_type": "markdown",
   "id": "603b15fb",
   "metadata": {
    "papermill": {
     "duration": 0.0429,
     "end_time": "2024-04-20T14:42:57.371056",
     "exception": false,
     "start_time": "2024-04-20T14:42:57.328156",
     "status": "completed"
    },
    "tags": []
   },
   "source": [
    "MinMax Scaling"
   ]
  },
  {
   "cell_type": "code",
   "execution_count": 90,
   "id": "4ba57002",
   "metadata": {
    "execution": {
     "iopub.execute_input": "2024-04-20T14:42:57.460854Z",
     "iopub.status.busy": "2024-04-20T14:42:57.459888Z",
     "iopub.status.idle": "2024-04-20T14:42:57.533719Z",
     "shell.execute_reply": "2024-04-20T14:42:57.532272Z"
    },
    "papermill": {
     "duration": 0.123179,
     "end_time": "2024-04-20T14:42:57.536961",
     "exception": false,
     "start_time": "2024-04-20T14:42:57.413782",
     "status": "completed"
    },
    "tags": []
   },
   "outputs": [],
   "source": [
    "# Scale the features\n",
    "scaler = MinMaxScaler()\n",
    "X_train_scaled = scaler.fit_transform(X_train)\n",
    "X_test_scaled = scaler.transform(X_test)\n",
    "\n",
    "# Convert scaled arrays back to DataFrame\n",
    "X_train = pd.DataFrame(X_train_scaled, columns=X_train.columns)\n",
    "X_test = pd.DataFrame(X_test_scaled, columns=X_test.columns)\n"
   ]
  },
  {
   "cell_type": "code",
   "execution_count": null,
   "id": "56134de5",
   "metadata": {
    "execution": {
     "iopub.execute_input": "2024-04-20T14:42:57.729270Z",
     "iopub.status.busy": "2024-04-20T14:42:57.728815Z",
     "iopub.status.idle": "2024-04-20T14:42:57.759600Z",
     "shell.execute_reply": "2024-04-20T14:42:57.758397Z"
    },
    "papermill": {
     "duration": 0.080724,
     "end_time": "2024-04-20T14:42:57.762247",
     "exception": false,
     "start_time": "2024-04-20T14:42:57.681523",
     "status": "completed"
    },
    "tags": []
   },
   "outputs": [],
   "source": [
    "X_train"
   ]
  },
  {
   "cell_type": "code",
   "execution_count": null,
   "id": "02cf6807",
   "metadata": {
    "execution": {
     "iopub.execute_input": "2024-04-20T14:42:57.854247Z",
     "iopub.status.busy": "2024-04-20T14:42:57.853802Z",
     "iopub.status.idle": "2024-04-20T14:42:57.879639Z",
     "shell.execute_reply": "2024-04-20T14:42:57.878241Z"
    },
    "papermill": {
     "duration": 0.075004,
     "end_time": "2024-04-20T14:42:57.882367",
     "exception": false,
     "start_time": "2024-04-20T14:42:57.807363",
     "status": "completed"
    },
    "tags": []
   },
   "outputs": [],
   "source": [
    "X_test"
   ]
  },
  {
   "cell_type": "markdown",
   "id": "f970548f",
   "metadata": {
    "papermill": {
     "duration": 0.218836,
     "end_time": "2024-04-20T14:45:44.355981",
     "exception": false,
     "start_time": "2024-04-20T14:45:44.137145",
     "status": "completed"
    },
    "tags": []
   },
   "source": [
    "--------------"
   ]
  },
  {
   "cell_type": "code",
   "execution_count": 105,
   "id": "aa7fd6a5",
   "metadata": {},
   "outputs": [],
   "source": [
    "import tensorflow as tf\n",
    "from tensorflow.keras.models import Sequential\n",
    "from tensorflow.keras.layers import Dense, Activation, Dropout, BatchNormalization\n",
    "from tensorflow.keras.callbacks import EarlyStopping\n",
    "from tensorflow.keras.optimizers import Adam\n",
    "\n",
    "from sklearn.metrics import classification_report, confusion_matrix\n",
    "from sklearn.metrics import roc_auc_score, roc_curve, precision_recall_curve, average_precision_score\n",
    "from sklearn.metrics import mean_squared_error, mean_absolute_error, explained_variance_score, r2_score\n",
    "\n",
    "from sklearn.model_selection import cross_val_score, cross_validate\n",
    "from sklearn.model_selection import GridSearchCV"
   ]
  },
  {
   "cell_type": "code",
   "execution_count": 106,
   "id": "a076a447",
   "metadata": {},
   "outputs": [],
   "source": [
    "def eval_metric(model, X_train, y_train, X_test, y_test):\n",
    "    y_train_pred_probabilities = model.predict(X_train)\n",
    "    y_train_pred = y_train_pred_probabilities.argmax(axis=1)\n",
    "    y_pred_probabilities = model.predict(X_test)\n",
    "    y_pred = y_pred_probabilities.argmax(axis=1)\n",
    "    \n",
    "    print(\"Test Set:\")\n",
    "    print(confusion_matrix(y_test, y_pred))\n",
    "    print(classification_report(y_test, y_pred))\n",
    "    \n",
    "    print(\"\\nTrain Set:\")\n",
    "    print(confusion_matrix(y_train, y_train_pred))\n",
    "    print(classification_report(y_train, y_train_pred))"
   ]
  },
  {
   "cell_type": "markdown",
   "id": "4b12ad84",
   "metadata": {
    "papermill": {
     "duration": 0.513294,
     "end_time": "2024-04-20T14:48:47.923369",
     "exception": false,
     "start_time": "2024-04-20T14:48:47.410075",
     "status": "completed"
    },
    "tags": []
   },
   "source": [
    "# SMOTE"
   ]
  },
  {
   "cell_type": "code",
   "execution_count": null,
   "id": "354ada5d",
   "metadata": {
    "execution": {
     "iopub.execute_input": "2024-04-20T14:48:49.077340Z",
     "iopub.status.busy": "2024-04-20T14:48:49.076884Z",
     "iopub.status.idle": "2024-04-20T14:48:52.147098Z",
     "shell.execute_reply": "2024-04-20T14:48:52.145815Z"
    },
    "papermill": {
     "duration": 3.710078,
     "end_time": "2024-04-20T14:48:52.149782",
     "exception": false,
     "start_time": "2024-04-20T14:48:48.439704",
     "status": "completed"
    },
    "tags": []
   },
   "outputs": [],
   "source": [
    "from imblearn.over_sampling import SMOTE\n",
    "\n",
    "smote = SMOTE()\n",
    "X_train_smote, y_train_smote = smote.fit_resample(X_train, y_train)\n",
    "\n",
    "print(\"X_train shape :\", X_train_smote.shape)\n",
    "print(\"y_train shape :\", y_train_smote.shape)\n",
    "print(\"X_test shape :\", X_test.shape)\n",
    "print(\"y_test shape :\", y_test.shape)"
   ]
  },
  {
   "cell_type": "code",
   "execution_count": null,
   "id": "9c5fa0e5",
   "metadata": {
    "_kg_hide-output": true,
    "execution": {
     "iopub.execute_input": "2024-04-20T14:48:53.180055Z",
     "iopub.status.busy": "2024-04-20T14:48:53.179155Z",
     "iopub.status.idle": "2024-04-20T14:51:40.290575Z",
     "shell.execute_reply": "2024-04-20T14:51:40.289488Z"
    },
    "papermill": {
     "duration": 167.637305,
     "end_time": "2024-04-20T14:51:40.293725",
     "exception": false,
     "start_time": "2024-04-20T14:48:52.656420",
     "status": "completed"
    },
    "tags": []
   },
   "outputs": [],
   "source": [
    "model=Sequential()\n",
    "\n",
    "model.add(Dense(128, activation=\"relu\"))\n",
    "model.add(Dropout(0.3))\n",
    "model.add(Dense(128, activation=\"relu\"))\n",
    "model.add(Dropout(0.3))\n",
    "model.add(Dense(64, activation=\"relu\"))\n",
    "model.add(Dropout(0.3))\n",
    "model.add(Dense(64, activation=\"relu\"))\n",
    "model.add(Dropout(0.3))\n",
    "model.add(Dense(3, activation=\"softmax\"))\n",
    "\n",
    "opt = Adam(learning_rate=0.001)\n",
    "model.compile(optimizer=opt, \n",
    "              loss=\"sparse_categorical_crossentropy\",\n",
    "              metrics=['accuracy'])\n",
    "\n",
    "es=EarlyStopping(monitor=\"val_accuracy\",patience=30,mode=\"auto\",verbose=1)\n",
    "\n",
    "history = model.fit(x=X_train_smote,\n",
    "          y=y_train_smote,\n",
    "          validation_data=(X_test, y_test),\n",
    "          batch_size=512,\n",
    "          epochs=300,\n",
    "          verbose=1,\n",
    "          callbacks=[es])"
   ]
  },
  {
   "cell_type": "code",
   "execution_count": null,
   "id": "8f12e128",
   "metadata": {
    "execution": {
     "iopub.execute_input": "2024-04-20T14:51:41.986239Z",
     "iopub.status.busy": "2024-04-20T14:51:41.985577Z",
     "iopub.status.idle": "2024-04-20T14:51:51.328664Z",
     "shell.execute_reply": "2024-04-20T14:51:51.327147Z"
    },
    "papermill": {
     "duration": 10.242908,
     "end_time": "2024-04-20T14:51:51.331708",
     "exception": false,
     "start_time": "2024-04-20T14:51:41.088800",
     "status": "completed"
    },
    "tags": []
   },
   "outputs": [],
   "source": [
    "eval_metric(model, X_train_smote, y_train_smote, X_test, y_test)"
   ]
  },
  {
   "cell_type": "code",
   "execution_count": 113,
   "id": "9b329689",
   "metadata": {
    "execution": {
     "iopub.execute_input": "2024-04-20T14:56:33.878216Z",
     "iopub.status.busy": "2024-04-20T14:56:33.877732Z",
     "iopub.status.idle": "2024-04-20T15:09:57.518207Z",
     "shell.execute_reply": "2024-04-20T15:09:57.517064Z"
    },
    "papermill": {
     "duration": 804.742519,
     "end_time": "2024-04-20T15:09:57.520546",
     "exception": false,
     "start_time": "2024-04-20T14:56:32.778027",
     "status": "completed"
    },
    "tags": []
   },
   "outputs": [
    {
     "name": "stderr",
     "output_type": "stream",
     "text": [
      "  0%|          | 0/5 [03:42<?, ?it/s]\n"
     ]
    },
    {
     "ename": "KeyboardInterrupt",
     "evalue": "",
     "output_type": "error",
     "traceback": [
      "\u001b[1;31m---------------------------------------------------------------------------\u001b[0m",
      "\u001b[1;31mKeyboardInterrupt\u001b[0m                         Traceback (most recent call last)",
      "Cell \u001b[1;32mIn[113], line 16\u001b[0m\n\u001b[0;32m     13\u001b[0m \u001b[38;5;28;01mfor\u001b[39;00m name, model \u001b[38;5;129;01min\u001b[39;00m tqdm(models\u001b[38;5;241m.\u001b[39mitems()):\n\u001b[0;32m     14\u001b[0m     \u001b[38;5;66;03m# Perform cross-validation\u001b[39;00m\n\u001b[0;32m     15\u001b[0m     kfold \u001b[38;5;241m=\u001b[39m StratifiedKFold(n_splits\u001b[38;5;241m=\u001b[39m\u001b[38;5;241m5\u001b[39m, shuffle\u001b[38;5;241m=\u001b[39m\u001b[38;5;28;01mTrue\u001b[39;00m, random_state\u001b[38;5;241m=\u001b[39m\u001b[38;5;241m42\u001b[39m)\n\u001b[1;32m---> 16\u001b[0m     cv_results \u001b[38;5;241m=\u001b[39m \u001b[43mcross_val_score\u001b[49m\u001b[43m(\u001b[49m\u001b[43mmodel\u001b[49m\u001b[43m,\u001b[49m\u001b[43m \u001b[49m\u001b[43mX_train\u001b[49m\u001b[43m,\u001b[49m\u001b[43m \u001b[49m\u001b[43my_train\u001b[49m\u001b[43m,\u001b[49m\u001b[43m \u001b[49m\u001b[43mcv\u001b[49m\u001b[38;5;241;43m=\u001b[39;49m\u001b[43mkfold\u001b[49m\u001b[43m,\u001b[49m\u001b[43m \u001b[49m\u001b[43mscoring\u001b[49m\u001b[38;5;241;43m=\u001b[39;49m\u001b[38;5;124;43m\"\u001b[39;49m\u001b[38;5;124;43maccuracy\u001b[39;49m\u001b[38;5;124;43m\"\u001b[39;49m\u001b[43m)\u001b[49m\n\u001b[0;32m     17\u001b[0m     results[name] \u001b[38;5;241m=\u001b[39m cv_results\n\u001b[0;32m     18\u001b[0m     \u001b[38;5;28mprint\u001b[39m(\u001b[38;5;124mf\u001b[39m\u001b[38;5;124m\"\u001b[39m\u001b[38;5;132;01m{\u001b[39;00mname\u001b[38;5;132;01m}\u001b[39;00m\u001b[38;5;124m: Mean Accuracy = \u001b[39m\u001b[38;5;132;01m{\u001b[39;00mcv_results\u001b[38;5;241m.\u001b[39mmean()\u001b[38;5;132;01m}\u001b[39;00m\u001b[38;5;124m, Std = \u001b[39m\u001b[38;5;132;01m{\u001b[39;00mcv_results\u001b[38;5;241m.\u001b[39mstd()\u001b[38;5;132;01m}\u001b[39;00m\u001b[38;5;124m\"\u001b[39m)\n",
      "File \u001b[1;32mc:\\Users\\rahul\\miniconda3\\envs\\llm\\lib\\site-packages\\sklearn\\utils\\_param_validation.py:216\u001b[0m, in \u001b[0;36mvalidate_params.<locals>.decorator.<locals>.wrapper\u001b[1;34m(*args, **kwargs)\u001b[0m\n\u001b[0;32m    210\u001b[0m \u001b[38;5;28;01mtry\u001b[39;00m:\n\u001b[0;32m    211\u001b[0m     \u001b[38;5;28;01mwith\u001b[39;00m config_context(\n\u001b[0;32m    212\u001b[0m         skip_parameter_validation\u001b[38;5;241m=\u001b[39m(\n\u001b[0;32m    213\u001b[0m             prefer_skip_nested_validation \u001b[38;5;129;01mor\u001b[39;00m global_skip_validation\n\u001b[0;32m    214\u001b[0m         )\n\u001b[0;32m    215\u001b[0m     ):\n\u001b[1;32m--> 216\u001b[0m         \u001b[38;5;28;01mreturn\u001b[39;00m func(\u001b[38;5;241m*\u001b[39margs, \u001b[38;5;241m*\u001b[39m\u001b[38;5;241m*\u001b[39mkwargs)\n\u001b[0;32m    217\u001b[0m \u001b[38;5;28;01mexcept\u001b[39;00m InvalidParameterError \u001b[38;5;28;01mas\u001b[39;00m e:\n\u001b[0;32m    218\u001b[0m     \u001b[38;5;66;03m# When the function is just a wrapper around an estimator, we allow\u001b[39;00m\n\u001b[0;32m    219\u001b[0m     \u001b[38;5;66;03m# the function to delegate validation to the estimator, but we replace\u001b[39;00m\n\u001b[0;32m    220\u001b[0m     \u001b[38;5;66;03m# the name of the estimator by the name of the function in the error\u001b[39;00m\n\u001b[0;32m    221\u001b[0m     \u001b[38;5;66;03m# message to avoid confusion.\u001b[39;00m\n\u001b[0;32m    222\u001b[0m     msg \u001b[38;5;241m=\u001b[39m re\u001b[38;5;241m.\u001b[39msub(\n\u001b[0;32m    223\u001b[0m         \u001b[38;5;124mr\u001b[39m\u001b[38;5;124m\"\u001b[39m\u001b[38;5;124mparameter of \u001b[39m\u001b[38;5;124m\\\u001b[39m\u001b[38;5;124mw+ must be\u001b[39m\u001b[38;5;124m\"\u001b[39m,\n\u001b[0;32m    224\u001b[0m         \u001b[38;5;124mf\u001b[39m\u001b[38;5;124m\"\u001b[39m\u001b[38;5;124mparameter of \u001b[39m\u001b[38;5;132;01m{\u001b[39;00mfunc\u001b[38;5;241m.\u001b[39m\u001b[38;5;18m__qualname__\u001b[39m\u001b[38;5;132;01m}\u001b[39;00m\u001b[38;5;124m must be\u001b[39m\u001b[38;5;124m\"\u001b[39m,\n\u001b[0;32m    225\u001b[0m         \u001b[38;5;28mstr\u001b[39m(e),\n\u001b[0;32m    226\u001b[0m     )\n",
      "File \u001b[1;32mc:\\Users\\rahul\\miniconda3\\envs\\llm\\lib\\site-packages\\sklearn\\model_selection\\_validation.py:684\u001b[0m, in \u001b[0;36mcross_val_score\u001b[1;34m(estimator, X, y, groups, scoring, cv, n_jobs, verbose, params, pre_dispatch, error_score)\u001b[0m\n\u001b[0;32m    681\u001b[0m \u001b[38;5;66;03m# To ensure multimetric format is not supported\u001b[39;00m\n\u001b[0;32m    682\u001b[0m scorer \u001b[38;5;241m=\u001b[39m check_scoring(estimator, scoring\u001b[38;5;241m=\u001b[39mscoring)\n\u001b[1;32m--> 684\u001b[0m cv_results \u001b[38;5;241m=\u001b[39m \u001b[43mcross_validate\u001b[49m\u001b[43m(\u001b[49m\n\u001b[0;32m    685\u001b[0m \u001b[43m    \u001b[49m\u001b[43mestimator\u001b[49m\u001b[38;5;241;43m=\u001b[39;49m\u001b[43mestimator\u001b[49m\u001b[43m,\u001b[49m\n\u001b[0;32m    686\u001b[0m \u001b[43m    \u001b[49m\u001b[43mX\u001b[49m\u001b[38;5;241;43m=\u001b[39;49m\u001b[43mX\u001b[49m\u001b[43m,\u001b[49m\n\u001b[0;32m    687\u001b[0m \u001b[43m    \u001b[49m\u001b[43my\u001b[49m\u001b[38;5;241;43m=\u001b[39;49m\u001b[43my\u001b[49m\u001b[43m,\u001b[49m\n\u001b[0;32m    688\u001b[0m \u001b[43m    \u001b[49m\u001b[43mgroups\u001b[49m\u001b[38;5;241;43m=\u001b[39;49m\u001b[43mgroups\u001b[49m\u001b[43m,\u001b[49m\n\u001b[0;32m    689\u001b[0m \u001b[43m    \u001b[49m\u001b[43mscoring\u001b[49m\u001b[38;5;241;43m=\u001b[39;49m\u001b[43m{\u001b[49m\u001b[38;5;124;43m\"\u001b[39;49m\u001b[38;5;124;43mscore\u001b[39;49m\u001b[38;5;124;43m\"\u001b[39;49m\u001b[43m:\u001b[49m\u001b[43m \u001b[49m\u001b[43mscorer\u001b[49m\u001b[43m}\u001b[49m\u001b[43m,\u001b[49m\n\u001b[0;32m    690\u001b[0m \u001b[43m    \u001b[49m\u001b[43mcv\u001b[49m\u001b[38;5;241;43m=\u001b[39;49m\u001b[43mcv\u001b[49m\u001b[43m,\u001b[49m\n\u001b[0;32m    691\u001b[0m \u001b[43m    \u001b[49m\u001b[43mn_jobs\u001b[49m\u001b[38;5;241;43m=\u001b[39;49m\u001b[43mn_jobs\u001b[49m\u001b[43m,\u001b[49m\n\u001b[0;32m    692\u001b[0m \u001b[43m    \u001b[49m\u001b[43mverbose\u001b[49m\u001b[38;5;241;43m=\u001b[39;49m\u001b[43mverbose\u001b[49m\u001b[43m,\u001b[49m\n\u001b[0;32m    693\u001b[0m \u001b[43m    \u001b[49m\u001b[43mparams\u001b[49m\u001b[38;5;241;43m=\u001b[39;49m\u001b[43mparams\u001b[49m\u001b[43m,\u001b[49m\n\u001b[0;32m    694\u001b[0m \u001b[43m    \u001b[49m\u001b[43mpre_dispatch\u001b[49m\u001b[38;5;241;43m=\u001b[39;49m\u001b[43mpre_dispatch\u001b[49m\u001b[43m,\u001b[49m\n\u001b[0;32m    695\u001b[0m \u001b[43m    \u001b[49m\u001b[43merror_score\u001b[49m\u001b[38;5;241;43m=\u001b[39;49m\u001b[43merror_score\u001b[49m\u001b[43m,\u001b[49m\n\u001b[0;32m    696\u001b[0m \u001b[43m\u001b[49m\u001b[43m)\u001b[49m\n\u001b[0;32m    697\u001b[0m \u001b[38;5;28;01mreturn\u001b[39;00m cv_results[\u001b[38;5;124m\"\u001b[39m\u001b[38;5;124mtest_score\u001b[39m\u001b[38;5;124m\"\u001b[39m]\n",
      "File \u001b[1;32mc:\\Users\\rahul\\miniconda3\\envs\\llm\\lib\\site-packages\\sklearn\\utils\\_param_validation.py:216\u001b[0m, in \u001b[0;36mvalidate_params.<locals>.decorator.<locals>.wrapper\u001b[1;34m(*args, **kwargs)\u001b[0m\n\u001b[0;32m    210\u001b[0m \u001b[38;5;28;01mtry\u001b[39;00m:\n\u001b[0;32m    211\u001b[0m     \u001b[38;5;28;01mwith\u001b[39;00m config_context(\n\u001b[0;32m    212\u001b[0m         skip_parameter_validation\u001b[38;5;241m=\u001b[39m(\n\u001b[0;32m    213\u001b[0m             prefer_skip_nested_validation \u001b[38;5;129;01mor\u001b[39;00m global_skip_validation\n\u001b[0;32m    214\u001b[0m         )\n\u001b[0;32m    215\u001b[0m     ):\n\u001b[1;32m--> 216\u001b[0m         \u001b[38;5;28;01mreturn\u001b[39;00m func(\u001b[38;5;241m*\u001b[39margs, \u001b[38;5;241m*\u001b[39m\u001b[38;5;241m*\u001b[39mkwargs)\n\u001b[0;32m    217\u001b[0m \u001b[38;5;28;01mexcept\u001b[39;00m InvalidParameterError \u001b[38;5;28;01mas\u001b[39;00m e:\n\u001b[0;32m    218\u001b[0m     \u001b[38;5;66;03m# When the function is just a wrapper around an estimator, we allow\u001b[39;00m\n\u001b[0;32m    219\u001b[0m     \u001b[38;5;66;03m# the function to delegate validation to the estimator, but we replace\u001b[39;00m\n\u001b[0;32m    220\u001b[0m     \u001b[38;5;66;03m# the name of the estimator by the name of the function in the error\u001b[39;00m\n\u001b[0;32m    221\u001b[0m     \u001b[38;5;66;03m# message to avoid confusion.\u001b[39;00m\n\u001b[0;32m    222\u001b[0m     msg \u001b[38;5;241m=\u001b[39m re\u001b[38;5;241m.\u001b[39msub(\n\u001b[0;32m    223\u001b[0m         \u001b[38;5;124mr\u001b[39m\u001b[38;5;124m\"\u001b[39m\u001b[38;5;124mparameter of \u001b[39m\u001b[38;5;124m\\\u001b[39m\u001b[38;5;124mw+ must be\u001b[39m\u001b[38;5;124m\"\u001b[39m,\n\u001b[0;32m    224\u001b[0m         \u001b[38;5;124mf\u001b[39m\u001b[38;5;124m\"\u001b[39m\u001b[38;5;124mparameter of \u001b[39m\u001b[38;5;132;01m{\u001b[39;00mfunc\u001b[38;5;241m.\u001b[39m\u001b[38;5;18m__qualname__\u001b[39m\u001b[38;5;132;01m}\u001b[39;00m\u001b[38;5;124m must be\u001b[39m\u001b[38;5;124m\"\u001b[39m,\n\u001b[0;32m    225\u001b[0m         \u001b[38;5;28mstr\u001b[39m(e),\n\u001b[0;32m    226\u001b[0m     )\n",
      "File \u001b[1;32mc:\\Users\\rahul\\miniconda3\\envs\\llm\\lib\\site-packages\\sklearn\\model_selection\\_validation.py:411\u001b[0m, in \u001b[0;36mcross_validate\u001b[1;34m(estimator, X, y, groups, scoring, cv, n_jobs, verbose, params, pre_dispatch, return_train_score, return_estimator, return_indices, error_score)\u001b[0m\n\u001b[0;32m    408\u001b[0m \u001b[38;5;66;03m# We clone the estimator to make sure that all the folds are\u001b[39;00m\n\u001b[0;32m    409\u001b[0m \u001b[38;5;66;03m# independent, and that it is pickle-able.\u001b[39;00m\n\u001b[0;32m    410\u001b[0m parallel \u001b[38;5;241m=\u001b[39m Parallel(n_jobs\u001b[38;5;241m=\u001b[39mn_jobs, verbose\u001b[38;5;241m=\u001b[39mverbose, pre_dispatch\u001b[38;5;241m=\u001b[39mpre_dispatch)\n\u001b[1;32m--> 411\u001b[0m results \u001b[38;5;241m=\u001b[39m \u001b[43mparallel\u001b[49m\u001b[43m(\u001b[49m\n\u001b[0;32m    412\u001b[0m \u001b[43m    \u001b[49m\u001b[43mdelayed\u001b[49m\u001b[43m(\u001b[49m\u001b[43m_fit_and_score\u001b[49m\u001b[43m)\u001b[49m\u001b[43m(\u001b[49m\n\u001b[0;32m    413\u001b[0m \u001b[43m        \u001b[49m\u001b[43mclone\u001b[49m\u001b[43m(\u001b[49m\u001b[43mestimator\u001b[49m\u001b[43m)\u001b[49m\u001b[43m,\u001b[49m\n\u001b[0;32m    414\u001b[0m \u001b[43m        \u001b[49m\u001b[43mX\u001b[49m\u001b[43m,\u001b[49m\n\u001b[0;32m    415\u001b[0m \u001b[43m        \u001b[49m\u001b[43my\u001b[49m\u001b[43m,\u001b[49m\n\u001b[0;32m    416\u001b[0m \u001b[43m        \u001b[49m\u001b[43mscorer\u001b[49m\u001b[38;5;241;43m=\u001b[39;49m\u001b[43mscorers\u001b[49m\u001b[43m,\u001b[49m\n\u001b[0;32m    417\u001b[0m \u001b[43m        \u001b[49m\u001b[43mtrain\u001b[49m\u001b[38;5;241;43m=\u001b[39;49m\u001b[43mtrain\u001b[49m\u001b[43m,\u001b[49m\n\u001b[0;32m    418\u001b[0m \u001b[43m        \u001b[49m\u001b[43mtest\u001b[49m\u001b[38;5;241;43m=\u001b[39;49m\u001b[43mtest\u001b[49m\u001b[43m,\u001b[49m\n\u001b[0;32m    419\u001b[0m \u001b[43m        \u001b[49m\u001b[43mverbose\u001b[49m\u001b[38;5;241;43m=\u001b[39;49m\u001b[43mverbose\u001b[49m\u001b[43m,\u001b[49m\n\u001b[0;32m    420\u001b[0m \u001b[43m        \u001b[49m\u001b[43mparameters\u001b[49m\u001b[38;5;241;43m=\u001b[39;49m\u001b[38;5;28;43;01mNone\u001b[39;49;00m\u001b[43m,\u001b[49m\n\u001b[0;32m    421\u001b[0m \u001b[43m        \u001b[49m\u001b[43mfit_params\u001b[49m\u001b[38;5;241;43m=\u001b[39;49m\u001b[43mrouted_params\u001b[49m\u001b[38;5;241;43m.\u001b[39;49m\u001b[43mestimator\u001b[49m\u001b[38;5;241;43m.\u001b[39;49m\u001b[43mfit\u001b[49m\u001b[43m,\u001b[49m\n\u001b[0;32m    422\u001b[0m \u001b[43m        \u001b[49m\u001b[43mscore_params\u001b[49m\u001b[38;5;241;43m=\u001b[39;49m\u001b[43mrouted_params\u001b[49m\u001b[38;5;241;43m.\u001b[39;49m\u001b[43mscorer\u001b[49m\u001b[38;5;241;43m.\u001b[39;49m\u001b[43mscore\u001b[49m\u001b[43m,\u001b[49m\n\u001b[0;32m    423\u001b[0m \u001b[43m        \u001b[49m\u001b[43mreturn_train_score\u001b[49m\u001b[38;5;241;43m=\u001b[39;49m\u001b[43mreturn_train_score\u001b[49m\u001b[43m,\u001b[49m\n\u001b[0;32m    424\u001b[0m \u001b[43m        \u001b[49m\u001b[43mreturn_times\u001b[49m\u001b[38;5;241;43m=\u001b[39;49m\u001b[38;5;28;43;01mTrue\u001b[39;49;00m\u001b[43m,\u001b[49m\n\u001b[0;32m    425\u001b[0m \u001b[43m        \u001b[49m\u001b[43mreturn_estimator\u001b[49m\u001b[38;5;241;43m=\u001b[39;49m\u001b[43mreturn_estimator\u001b[49m\u001b[43m,\u001b[49m\n\u001b[0;32m    426\u001b[0m \u001b[43m        \u001b[49m\u001b[43merror_score\u001b[49m\u001b[38;5;241;43m=\u001b[39;49m\u001b[43merror_score\u001b[49m\u001b[43m,\u001b[49m\n\u001b[0;32m    427\u001b[0m \u001b[43m    \u001b[49m\u001b[43m)\u001b[49m\n\u001b[0;32m    428\u001b[0m \u001b[43m    \u001b[49m\u001b[38;5;28;43;01mfor\u001b[39;49;00m\u001b[43m \u001b[49m\u001b[43mtrain\u001b[49m\u001b[43m,\u001b[49m\u001b[43m \u001b[49m\u001b[43mtest\u001b[49m\u001b[43m \u001b[49m\u001b[38;5;129;43;01min\u001b[39;49;00m\u001b[43m \u001b[49m\u001b[43mindices\u001b[49m\n\u001b[0;32m    429\u001b[0m \u001b[43m\u001b[49m\u001b[43m)\u001b[49m\n\u001b[0;32m    431\u001b[0m _warn_or_raise_about_fit_failures(results, error_score)\n\u001b[0;32m    433\u001b[0m \u001b[38;5;66;03m# For callable scoring, the return type is only know after calling. If the\u001b[39;00m\n\u001b[0;32m    434\u001b[0m \u001b[38;5;66;03m# return type is a dictionary, the error scores can now be inserted with\u001b[39;00m\n\u001b[0;32m    435\u001b[0m \u001b[38;5;66;03m# the correct key.\u001b[39;00m\n",
      "File \u001b[1;32mc:\\Users\\rahul\\miniconda3\\envs\\llm\\lib\\site-packages\\sklearn\\utils\\parallel.py:77\u001b[0m, in \u001b[0;36mParallel.__call__\u001b[1;34m(self, iterable)\u001b[0m\n\u001b[0;32m     72\u001b[0m config \u001b[38;5;241m=\u001b[39m get_config()\n\u001b[0;32m     73\u001b[0m iterable_with_config \u001b[38;5;241m=\u001b[39m (\n\u001b[0;32m     74\u001b[0m     (_with_config(delayed_func, config), args, kwargs)\n\u001b[0;32m     75\u001b[0m     \u001b[38;5;28;01mfor\u001b[39;00m delayed_func, args, kwargs \u001b[38;5;129;01min\u001b[39;00m iterable\n\u001b[0;32m     76\u001b[0m )\n\u001b[1;32m---> 77\u001b[0m \u001b[38;5;28;01mreturn\u001b[39;00m \u001b[38;5;28;43msuper\u001b[39;49m\u001b[43m(\u001b[49m\u001b[43m)\u001b[49m\u001b[38;5;241;43m.\u001b[39;49m\u001b[38;5;21;43m__call__\u001b[39;49m\u001b[43m(\u001b[49m\u001b[43miterable_with_config\u001b[49m\u001b[43m)\u001b[49m\n",
      "File \u001b[1;32mc:\\Users\\rahul\\miniconda3\\envs\\llm\\lib\\site-packages\\joblib\\parallel.py:1918\u001b[0m, in \u001b[0;36mParallel.__call__\u001b[1;34m(self, iterable)\u001b[0m\n\u001b[0;32m   1916\u001b[0m     output \u001b[38;5;241m=\u001b[39m \u001b[38;5;28mself\u001b[39m\u001b[38;5;241m.\u001b[39m_get_sequential_output(iterable)\n\u001b[0;32m   1917\u001b[0m     \u001b[38;5;28mnext\u001b[39m(output)\n\u001b[1;32m-> 1918\u001b[0m     \u001b[38;5;28;01mreturn\u001b[39;00m output \u001b[38;5;28;01mif\u001b[39;00m \u001b[38;5;28mself\u001b[39m\u001b[38;5;241m.\u001b[39mreturn_generator \u001b[38;5;28;01melse\u001b[39;00m \u001b[38;5;28;43mlist\u001b[39;49m\u001b[43m(\u001b[49m\u001b[43moutput\u001b[49m\u001b[43m)\u001b[49m\n\u001b[0;32m   1920\u001b[0m \u001b[38;5;66;03m# Let's create an ID that uniquely identifies the current call. If the\u001b[39;00m\n\u001b[0;32m   1921\u001b[0m \u001b[38;5;66;03m# call is interrupted early and that the same instance is immediately\u001b[39;00m\n\u001b[0;32m   1922\u001b[0m \u001b[38;5;66;03m# re-used, this id will be used to prevent workers that were\u001b[39;00m\n\u001b[0;32m   1923\u001b[0m \u001b[38;5;66;03m# concurrently finalizing a task from the previous call to run the\u001b[39;00m\n\u001b[0;32m   1924\u001b[0m \u001b[38;5;66;03m# callback.\u001b[39;00m\n\u001b[0;32m   1925\u001b[0m \u001b[38;5;28;01mwith\u001b[39;00m \u001b[38;5;28mself\u001b[39m\u001b[38;5;241m.\u001b[39m_lock:\n",
      "File \u001b[1;32mc:\\Users\\rahul\\miniconda3\\envs\\llm\\lib\\site-packages\\joblib\\parallel.py:1847\u001b[0m, in \u001b[0;36mParallel._get_sequential_output\u001b[1;34m(self, iterable)\u001b[0m\n\u001b[0;32m   1845\u001b[0m \u001b[38;5;28mself\u001b[39m\u001b[38;5;241m.\u001b[39mn_dispatched_batches \u001b[38;5;241m+\u001b[39m\u001b[38;5;241m=\u001b[39m \u001b[38;5;241m1\u001b[39m\n\u001b[0;32m   1846\u001b[0m \u001b[38;5;28mself\u001b[39m\u001b[38;5;241m.\u001b[39mn_dispatched_tasks \u001b[38;5;241m+\u001b[39m\u001b[38;5;241m=\u001b[39m \u001b[38;5;241m1\u001b[39m\n\u001b[1;32m-> 1847\u001b[0m res \u001b[38;5;241m=\u001b[39m func(\u001b[38;5;241m*\u001b[39margs, \u001b[38;5;241m*\u001b[39m\u001b[38;5;241m*\u001b[39mkwargs)\n\u001b[0;32m   1848\u001b[0m \u001b[38;5;28mself\u001b[39m\u001b[38;5;241m.\u001b[39mn_completed_tasks \u001b[38;5;241m+\u001b[39m\u001b[38;5;241m=\u001b[39m \u001b[38;5;241m1\u001b[39m\n\u001b[0;32m   1849\u001b[0m \u001b[38;5;28mself\u001b[39m\u001b[38;5;241m.\u001b[39mprint_progress()\n",
      "File \u001b[1;32mc:\\Users\\rahul\\miniconda3\\envs\\llm\\lib\\site-packages\\sklearn\\utils\\parallel.py:139\u001b[0m, in \u001b[0;36m_FuncWrapper.__call__\u001b[1;34m(self, *args, **kwargs)\u001b[0m\n\u001b[0;32m    137\u001b[0m     config \u001b[38;5;241m=\u001b[39m {}\n\u001b[0;32m    138\u001b[0m \u001b[38;5;28;01mwith\u001b[39;00m config_context(\u001b[38;5;241m*\u001b[39m\u001b[38;5;241m*\u001b[39mconfig):\n\u001b[1;32m--> 139\u001b[0m     \u001b[38;5;28;01mreturn\u001b[39;00m \u001b[38;5;28mself\u001b[39m\u001b[38;5;241m.\u001b[39mfunction(\u001b[38;5;241m*\u001b[39margs, \u001b[38;5;241m*\u001b[39m\u001b[38;5;241m*\u001b[39mkwargs)\n",
      "File \u001b[1;32mc:\\Users\\rahul\\miniconda3\\envs\\llm\\lib\\site-packages\\sklearn\\model_selection\\_validation.py:866\u001b[0m, in \u001b[0;36m_fit_and_score\u001b[1;34m(estimator, X, y, scorer, train, test, verbose, parameters, fit_params, score_params, return_train_score, return_parameters, return_n_test_samples, return_times, return_estimator, split_progress, candidate_progress, error_score)\u001b[0m\n\u001b[0;32m    864\u001b[0m         estimator\u001b[38;5;241m.\u001b[39mfit(X_train, \u001b[38;5;241m*\u001b[39m\u001b[38;5;241m*\u001b[39mfit_params)\n\u001b[0;32m    865\u001b[0m     \u001b[38;5;28;01melse\u001b[39;00m:\n\u001b[1;32m--> 866\u001b[0m         estimator\u001b[38;5;241m.\u001b[39mfit(X_train, y_train, \u001b[38;5;241m*\u001b[39m\u001b[38;5;241m*\u001b[39mfit_params)\n\u001b[0;32m    868\u001b[0m \u001b[38;5;28;01mexcept\u001b[39;00m \u001b[38;5;167;01mException\u001b[39;00m:\n\u001b[0;32m    869\u001b[0m     \u001b[38;5;66;03m# Note fit time as time until error\u001b[39;00m\n\u001b[0;32m    870\u001b[0m     fit_time \u001b[38;5;241m=\u001b[39m time\u001b[38;5;241m.\u001b[39mtime() \u001b[38;5;241m-\u001b[39m start_time\n",
      "File \u001b[1;32mc:\\Users\\rahul\\miniconda3\\envs\\llm\\lib\\site-packages\\sklearn\\base.py:1389\u001b[0m, in \u001b[0;36m_fit_context.<locals>.decorator.<locals>.wrapper\u001b[1;34m(estimator, *args, **kwargs)\u001b[0m\n\u001b[0;32m   1382\u001b[0m     estimator\u001b[38;5;241m.\u001b[39m_validate_params()\n\u001b[0;32m   1384\u001b[0m \u001b[38;5;28;01mwith\u001b[39;00m config_context(\n\u001b[0;32m   1385\u001b[0m     skip_parameter_validation\u001b[38;5;241m=\u001b[39m(\n\u001b[0;32m   1386\u001b[0m         prefer_skip_nested_validation \u001b[38;5;129;01mor\u001b[39;00m global_skip_validation\n\u001b[0;32m   1387\u001b[0m     )\n\u001b[0;32m   1388\u001b[0m ):\n\u001b[1;32m-> 1389\u001b[0m     \u001b[38;5;28;01mreturn\u001b[39;00m fit_method(estimator, \u001b[38;5;241m*\u001b[39margs, \u001b[38;5;241m*\u001b[39m\u001b[38;5;241m*\u001b[39mkwargs)\n",
      "File \u001b[1;32mc:\\Users\\rahul\\miniconda3\\envs\\llm\\lib\\site-packages\\sklearn\\ensemble\\_gb.py:787\u001b[0m, in \u001b[0;36mBaseGradientBoosting.fit\u001b[1;34m(self, X, y, sample_weight, monitor)\u001b[0m\n\u001b[0;32m    784\u001b[0m     \u001b[38;5;28mself\u001b[39m\u001b[38;5;241m.\u001b[39m_resize_state()\n\u001b[0;32m    786\u001b[0m \u001b[38;5;66;03m# fit the boosting stages\u001b[39;00m\n\u001b[1;32m--> 787\u001b[0m n_stages \u001b[38;5;241m=\u001b[39m \u001b[38;5;28;43mself\u001b[39;49m\u001b[38;5;241;43m.\u001b[39;49m\u001b[43m_fit_stages\u001b[49m\u001b[43m(\u001b[49m\n\u001b[0;32m    788\u001b[0m \u001b[43m    \u001b[49m\u001b[43mX_train\u001b[49m\u001b[43m,\u001b[49m\n\u001b[0;32m    789\u001b[0m \u001b[43m    \u001b[49m\u001b[43my_train\u001b[49m\u001b[43m,\u001b[49m\n\u001b[0;32m    790\u001b[0m \u001b[43m    \u001b[49m\u001b[43mraw_predictions\u001b[49m\u001b[43m,\u001b[49m\n\u001b[0;32m    791\u001b[0m \u001b[43m    \u001b[49m\u001b[43msample_weight_train\u001b[49m\u001b[43m,\u001b[49m\n\u001b[0;32m    792\u001b[0m \u001b[43m    \u001b[49m\u001b[38;5;28;43mself\u001b[39;49m\u001b[38;5;241;43m.\u001b[39;49m\u001b[43m_rng\u001b[49m\u001b[43m,\u001b[49m\n\u001b[0;32m    793\u001b[0m \u001b[43m    \u001b[49m\u001b[43mX_val\u001b[49m\u001b[43m,\u001b[49m\n\u001b[0;32m    794\u001b[0m \u001b[43m    \u001b[49m\u001b[43my_val\u001b[49m\u001b[43m,\u001b[49m\n\u001b[0;32m    795\u001b[0m \u001b[43m    \u001b[49m\u001b[43msample_weight_val\u001b[49m\u001b[43m,\u001b[49m\n\u001b[0;32m    796\u001b[0m \u001b[43m    \u001b[49m\u001b[43mbegin_at_stage\u001b[49m\u001b[43m,\u001b[49m\n\u001b[0;32m    797\u001b[0m \u001b[43m    \u001b[49m\u001b[43mmonitor\u001b[49m\u001b[43m,\u001b[49m\n\u001b[0;32m    798\u001b[0m \u001b[43m\u001b[49m\u001b[43m)\u001b[49m\n\u001b[0;32m    800\u001b[0m \u001b[38;5;66;03m# change shape of arrays after fit (early-stopping or additional ests)\u001b[39;00m\n\u001b[0;32m    801\u001b[0m \u001b[38;5;28;01mif\u001b[39;00m n_stages \u001b[38;5;241m!=\u001b[39m \u001b[38;5;28mself\u001b[39m\u001b[38;5;241m.\u001b[39mestimators_\u001b[38;5;241m.\u001b[39mshape[\u001b[38;5;241m0\u001b[39m]:\n",
      "File \u001b[1;32mc:\\Users\\rahul\\miniconda3\\envs\\llm\\lib\\site-packages\\sklearn\\ensemble\\_gb.py:883\u001b[0m, in \u001b[0;36mBaseGradientBoosting._fit_stages\u001b[1;34m(self, X, y, raw_predictions, sample_weight, random_state, X_val, y_val, sample_weight_val, begin_at_stage, monitor)\u001b[0m\n\u001b[0;32m    876\u001b[0m         initial_loss \u001b[38;5;241m=\u001b[39m factor \u001b[38;5;241m*\u001b[39m \u001b[38;5;28mself\u001b[39m\u001b[38;5;241m.\u001b[39m_loss(\n\u001b[0;32m    877\u001b[0m             y_true\u001b[38;5;241m=\u001b[39my_oob_masked,\n\u001b[0;32m    878\u001b[0m             raw_prediction\u001b[38;5;241m=\u001b[39mraw_predictions[\u001b[38;5;241m~\u001b[39msample_mask],\n\u001b[0;32m    879\u001b[0m             sample_weight\u001b[38;5;241m=\u001b[39msample_weight_oob_masked,\n\u001b[0;32m    880\u001b[0m         )\n\u001b[0;32m    882\u001b[0m \u001b[38;5;66;03m# fit next stage of trees\u001b[39;00m\n\u001b[1;32m--> 883\u001b[0m raw_predictions \u001b[38;5;241m=\u001b[39m \u001b[38;5;28;43mself\u001b[39;49m\u001b[38;5;241;43m.\u001b[39;49m\u001b[43m_fit_stage\u001b[49m\u001b[43m(\u001b[49m\n\u001b[0;32m    884\u001b[0m \u001b[43m    \u001b[49m\u001b[43mi\u001b[49m\u001b[43m,\u001b[49m\n\u001b[0;32m    885\u001b[0m \u001b[43m    \u001b[49m\u001b[43mX\u001b[49m\u001b[43m,\u001b[49m\n\u001b[0;32m    886\u001b[0m \u001b[43m    \u001b[49m\u001b[43my\u001b[49m\u001b[43m,\u001b[49m\n\u001b[0;32m    887\u001b[0m \u001b[43m    \u001b[49m\u001b[43mraw_predictions\u001b[49m\u001b[43m,\u001b[49m\n\u001b[0;32m    888\u001b[0m \u001b[43m    \u001b[49m\u001b[43msample_weight\u001b[49m\u001b[43m,\u001b[49m\n\u001b[0;32m    889\u001b[0m \u001b[43m    \u001b[49m\u001b[43msample_mask\u001b[49m\u001b[43m,\u001b[49m\n\u001b[0;32m    890\u001b[0m \u001b[43m    \u001b[49m\u001b[43mrandom_state\u001b[49m\u001b[43m,\u001b[49m\n\u001b[0;32m    891\u001b[0m \u001b[43m    \u001b[49m\u001b[43mX_csc\u001b[49m\u001b[38;5;241;43m=\u001b[39;49m\u001b[43mX_csc\u001b[49m\u001b[43m,\u001b[49m\n\u001b[0;32m    892\u001b[0m \u001b[43m    \u001b[49m\u001b[43mX_csr\u001b[49m\u001b[38;5;241;43m=\u001b[39;49m\u001b[43mX_csr\u001b[49m\u001b[43m,\u001b[49m\n\u001b[0;32m    893\u001b[0m \u001b[43m\u001b[49m\u001b[43m)\u001b[49m\n\u001b[0;32m    895\u001b[0m \u001b[38;5;66;03m# track loss\u001b[39;00m\n\u001b[0;32m    896\u001b[0m \u001b[38;5;28;01mif\u001b[39;00m do_oob:\n",
      "File \u001b[1;32mc:\\Users\\rahul\\miniconda3\\envs\\llm\\lib\\site-packages\\sklearn\\ensemble\\_gb.py:489\u001b[0m, in \u001b[0;36mBaseGradientBoosting._fit_stage\u001b[1;34m(self, i, X, y, raw_predictions, sample_weight, sample_mask, random_state, X_csc, X_csr)\u001b[0m\n\u001b[0;32m    486\u001b[0m     sample_weight \u001b[38;5;241m=\u001b[39m sample_weight \u001b[38;5;241m*\u001b[39m sample_mask\u001b[38;5;241m.\u001b[39mastype(np\u001b[38;5;241m.\u001b[39mfloat64)\n\u001b[0;32m    488\u001b[0m X \u001b[38;5;241m=\u001b[39m X_csc \u001b[38;5;28;01mif\u001b[39;00m X_csc \u001b[38;5;129;01mis\u001b[39;00m \u001b[38;5;129;01mnot\u001b[39;00m \u001b[38;5;28;01mNone\u001b[39;00m \u001b[38;5;28;01melse\u001b[39;00m X\n\u001b[1;32m--> 489\u001b[0m \u001b[43mtree\u001b[49m\u001b[38;5;241;43m.\u001b[39;49m\u001b[43mfit\u001b[49m\u001b[43m(\u001b[49m\n\u001b[0;32m    490\u001b[0m \u001b[43m    \u001b[49m\u001b[43mX\u001b[49m\u001b[43m,\u001b[49m\u001b[43m \u001b[49m\u001b[43mneg_g_view\u001b[49m\u001b[43m[\u001b[49m\u001b[43m:\u001b[49m\u001b[43m,\u001b[49m\u001b[43m \u001b[49m\u001b[43mk\u001b[49m\u001b[43m]\u001b[49m\u001b[43m,\u001b[49m\u001b[43m \u001b[49m\u001b[43msample_weight\u001b[49m\u001b[38;5;241;43m=\u001b[39;49m\u001b[43msample_weight\u001b[49m\u001b[43m,\u001b[49m\u001b[43m \u001b[49m\u001b[43mcheck_input\u001b[49m\u001b[38;5;241;43m=\u001b[39;49m\u001b[38;5;28;43;01mFalse\u001b[39;49;00m\n\u001b[0;32m    491\u001b[0m \u001b[43m\u001b[49m\u001b[43m)\u001b[49m\n\u001b[0;32m    493\u001b[0m \u001b[38;5;66;03m# update tree leaves\u001b[39;00m\n\u001b[0;32m    494\u001b[0m X_for_tree_update \u001b[38;5;241m=\u001b[39m X_csr \u001b[38;5;28;01mif\u001b[39;00m X_csr \u001b[38;5;129;01mis\u001b[39;00m \u001b[38;5;129;01mnot\u001b[39;00m \u001b[38;5;28;01mNone\u001b[39;00m \u001b[38;5;28;01melse\u001b[39;00m X\n",
      "File \u001b[1;32mc:\\Users\\rahul\\miniconda3\\envs\\llm\\lib\\site-packages\\sklearn\\base.py:1389\u001b[0m, in \u001b[0;36m_fit_context.<locals>.decorator.<locals>.wrapper\u001b[1;34m(estimator, *args, **kwargs)\u001b[0m\n\u001b[0;32m   1382\u001b[0m     estimator\u001b[38;5;241m.\u001b[39m_validate_params()\n\u001b[0;32m   1384\u001b[0m \u001b[38;5;28;01mwith\u001b[39;00m config_context(\n\u001b[0;32m   1385\u001b[0m     skip_parameter_validation\u001b[38;5;241m=\u001b[39m(\n\u001b[0;32m   1386\u001b[0m         prefer_skip_nested_validation \u001b[38;5;129;01mor\u001b[39;00m global_skip_validation\n\u001b[0;32m   1387\u001b[0m     )\n\u001b[0;32m   1388\u001b[0m ):\n\u001b[1;32m-> 1389\u001b[0m     \u001b[38;5;28;01mreturn\u001b[39;00m fit_method(estimator, \u001b[38;5;241m*\u001b[39margs, \u001b[38;5;241m*\u001b[39m\u001b[38;5;241m*\u001b[39mkwargs)\n",
      "File \u001b[1;32mc:\\Users\\rahul\\miniconda3\\envs\\llm\\lib\\site-packages\\sklearn\\tree\\_classes.py:1399\u001b[0m, in \u001b[0;36mDecisionTreeRegressor.fit\u001b[1;34m(self, X, y, sample_weight, check_input)\u001b[0m\n\u001b[0;32m   1369\u001b[0m \u001b[38;5;129m@_fit_context\u001b[39m(prefer_skip_nested_validation\u001b[38;5;241m=\u001b[39m\u001b[38;5;28;01mTrue\u001b[39;00m)\n\u001b[0;32m   1370\u001b[0m \u001b[38;5;28;01mdef\u001b[39;00m \u001b[38;5;21mfit\u001b[39m(\u001b[38;5;28mself\u001b[39m, X, y, sample_weight\u001b[38;5;241m=\u001b[39m\u001b[38;5;28;01mNone\u001b[39;00m, check_input\u001b[38;5;241m=\u001b[39m\u001b[38;5;28;01mTrue\u001b[39;00m):\n\u001b[0;32m   1371\u001b[0m \u001b[38;5;250m    \u001b[39m\u001b[38;5;124;03m\"\"\"Build a decision tree regressor from the training set (X, y).\u001b[39;00m\n\u001b[0;32m   1372\u001b[0m \n\u001b[0;32m   1373\u001b[0m \u001b[38;5;124;03m    Parameters\u001b[39;00m\n\u001b[1;32m   (...)\u001b[0m\n\u001b[0;32m   1396\u001b[0m \u001b[38;5;124;03m        Fitted estimator.\u001b[39;00m\n\u001b[0;32m   1397\u001b[0m \u001b[38;5;124;03m    \"\"\"\u001b[39;00m\n\u001b[1;32m-> 1399\u001b[0m     \u001b[38;5;28;43msuper\u001b[39;49m\u001b[43m(\u001b[49m\u001b[43m)\u001b[49m\u001b[38;5;241;43m.\u001b[39;49m\u001b[43m_fit\u001b[49m\u001b[43m(\u001b[49m\n\u001b[0;32m   1400\u001b[0m \u001b[43m        \u001b[49m\u001b[43mX\u001b[49m\u001b[43m,\u001b[49m\n\u001b[0;32m   1401\u001b[0m \u001b[43m        \u001b[49m\u001b[43my\u001b[49m\u001b[43m,\u001b[49m\n\u001b[0;32m   1402\u001b[0m \u001b[43m        \u001b[49m\u001b[43msample_weight\u001b[49m\u001b[38;5;241;43m=\u001b[39;49m\u001b[43msample_weight\u001b[49m\u001b[43m,\u001b[49m\n\u001b[0;32m   1403\u001b[0m \u001b[43m        \u001b[49m\u001b[43mcheck_input\u001b[49m\u001b[38;5;241;43m=\u001b[39;49m\u001b[43mcheck_input\u001b[49m\u001b[43m,\u001b[49m\n\u001b[0;32m   1404\u001b[0m \u001b[43m    \u001b[49m\u001b[43m)\u001b[49m\n\u001b[0;32m   1405\u001b[0m     \u001b[38;5;28;01mreturn\u001b[39;00m \u001b[38;5;28mself\u001b[39m\n",
      "File \u001b[1;32mc:\\Users\\rahul\\miniconda3\\envs\\llm\\lib\\site-packages\\sklearn\\tree\\_classes.py:472\u001b[0m, in \u001b[0;36mBaseDecisionTree._fit\u001b[1;34m(self, X, y, sample_weight, check_input, missing_values_in_feature_mask)\u001b[0m\n\u001b[0;32m    461\u001b[0m \u001b[38;5;28;01melse\u001b[39;00m:\n\u001b[0;32m    462\u001b[0m     builder \u001b[38;5;241m=\u001b[39m BestFirstTreeBuilder(\n\u001b[0;32m    463\u001b[0m         splitter,\n\u001b[0;32m    464\u001b[0m         min_samples_split,\n\u001b[1;32m   (...)\u001b[0m\n\u001b[0;32m    469\u001b[0m         \u001b[38;5;28mself\u001b[39m\u001b[38;5;241m.\u001b[39mmin_impurity_decrease,\n\u001b[0;32m    470\u001b[0m     )\n\u001b[1;32m--> 472\u001b[0m \u001b[43mbuilder\u001b[49m\u001b[38;5;241;43m.\u001b[39;49m\u001b[43mbuild\u001b[49m\u001b[43m(\u001b[49m\u001b[38;5;28;43mself\u001b[39;49m\u001b[38;5;241;43m.\u001b[39;49m\u001b[43mtree_\u001b[49m\u001b[43m,\u001b[49m\u001b[43m \u001b[49m\u001b[43mX\u001b[49m\u001b[43m,\u001b[49m\u001b[43m \u001b[49m\u001b[43my\u001b[49m\u001b[43m,\u001b[49m\u001b[43m \u001b[49m\u001b[43msample_weight\u001b[49m\u001b[43m,\u001b[49m\u001b[43m \u001b[49m\u001b[43mmissing_values_in_feature_mask\u001b[49m\u001b[43m)\u001b[49m\n\u001b[0;32m    474\u001b[0m \u001b[38;5;28;01mif\u001b[39;00m \u001b[38;5;28mself\u001b[39m\u001b[38;5;241m.\u001b[39mn_outputs_ \u001b[38;5;241m==\u001b[39m \u001b[38;5;241m1\u001b[39m \u001b[38;5;129;01mand\u001b[39;00m is_classifier(\u001b[38;5;28mself\u001b[39m):\n\u001b[0;32m    475\u001b[0m     \u001b[38;5;28mself\u001b[39m\u001b[38;5;241m.\u001b[39mn_classes_ \u001b[38;5;241m=\u001b[39m \u001b[38;5;28mself\u001b[39m\u001b[38;5;241m.\u001b[39mn_classes_[\u001b[38;5;241m0\u001b[39m]\n",
      "\u001b[1;31mKeyboardInterrupt\u001b[0m: "
     ]
    }
   ],
   "source": [
    "# Define models\n",
    "models = {\n",
    "    \"Gradient Boosting\": GradientBoostingClassifier(),\n",
    "    # \"XGBoost\": XGBClassifier(),\n",
    "    \"LightGBM\": LGBMClassifier(),\n",
    "    \"Logistic Regression\": LogisticRegression(),\n",
    "    \"CatBoost\": CatBoostClassifier(verbose=0),\n",
    "    \"Random Forest\": RandomForestClassifier()\n",
    "}\n",
    "\n",
    "# Train and evaluate models\n",
    "results = {}\n",
    "for name, model in tqdm(models.items()):\n",
    "    # Perform cross-validation\n",
    "    kfold = StratifiedKFold(n_splits=5, shuffle=True, random_state=42)\n",
    "    cv_results = cross_val_score(model, X_train, y_train, cv=kfold, scoring=\"accuracy\")\n",
    "    results[name] = cv_results\n",
    "    print(f\"{name}: Mean Accuracy = {cv_results.mean()}, Std = {cv_results.std()}\")\n",
    "\n",
    "# Compare model performance\n",
    "print(\"\\nModel Performance Comparison (Accuracy):\")\n",
    "for name, scores in results.items():\n",
    "    print(f\"{name}: Mean Accuracy = {scores.mean()}, Std = {scores.std()}\")\n",
    "\n",
    "# Plotting the results (optional)\n",
    "plt.figure(figsize=(10, 6))\n",
    "plt.boxplot(list(results.values()), labels=list(results.keys()))\n",
    "plt.title(\"Model Performance Comparison (Accuracy)\")\n",
    "plt.ylabel(\"Accuracy\")\n",
    "plt.xticks(rotation=45)\n",
    "plt.show()"
   ]
  },
  {
   "cell_type": "markdown",
   "id": "55a1c745",
   "metadata": {
    "papermill": {
     "duration": 1.076453,
     "end_time": "2024-04-20T15:09:59.760867",
     "exception": false,
     "start_time": "2024-04-20T15:09:58.684414",
     "status": "completed"
    },
    "tags": []
   },
   "source": [
    "# Final Model"
   ]
  },
  {
   "cell_type": "code",
   "execution_count": null,
   "id": "4433c68e",
   "metadata": {
    "execution": {
     "iopub.execute_input": "2024-04-20T15:10:04.384147Z",
     "iopub.status.busy": "2024-04-20T15:10:04.383311Z",
     "iopub.status.idle": "2024-04-20T15:10:04.391049Z",
     "shell.execute_reply": "2024-04-20T15:10:04.389599Z"
    },
    "papermill": {
     "duration": 1.265248,
     "end_time": "2024-04-20T15:10:04.393610",
     "exception": false,
     "start_time": "2024-04-20T15:10:03.128362",
     "status": "completed"
    },
    "tags": []
   },
   "outputs": [],
   "source": [
    "X.shape"
   ]
  },
  {
   "cell_type": "code",
   "execution_count": 47,
   "id": "44f535c7",
   "metadata": {
    "execution": {
     "iopub.execute_input": "2024-04-20T15:10:08.880135Z",
     "iopub.status.busy": "2024-04-20T15:10:08.879389Z",
     "iopub.status.idle": "2024-04-20T15:10:09.062414Z",
     "shell.execute_reply": "2024-04-20T15:10:09.061495Z"
    },
    "papermill": {
     "duration": 1.276111,
     "end_time": "2024-04-20T15:10:09.065234",
     "exception": false,
     "start_time": "2024-04-20T15:10:07.789123",
     "status": "completed"
    },
    "tags": []
   },
   "outputs": [],
   "source": [
    "# encoding\n",
    "\n",
    "order = [\n",
    "    'Low_spent_Small_value_payments', \n",
    "    'Low_spent_Medium_value_payments', \n",
    "    'Low_spent_Large_value_payments', \n",
    "    'High_spent_Small_value_payments', \n",
    "    'High_spent_Medium_value_payments', \n",
    "    'High_spent_Large_value_payments'\n",
    "]\n",
    "\n",
    "ordinal_encoder = OrdinalEncoder(categories=[order])\n",
    "\n",
    "X['Payment_Behaviour'] = ordinal_encoder.fit_transform(X[['Payment_Behaviour']])\n",
    "\n",
    "#########################################################\n",
    "\n",
    "onehot_encoder = OneHotEncoder(handle_unknown=\"ignore\", sparse=False).set_output(transform=\"pandas\") \n",
    "\n",
    "encoded_features = onehot_encoder.fit_transform(X[['Occupation', 'Payment_of_Min_Amount', 'Credit_Mix']])\n",
    "\n",
    "X = pd.concat([X, encoded_features], axis=1).drop(columns= ['Occupation', 'Payment_of_Min_Amount', 'Credit_Mix'])"
   ]
  },
  {
   "cell_type": "code",
   "execution_count": null,
   "id": "9956f22b",
   "metadata": {
    "execution": {
     "iopub.execute_input": "2024-04-20T15:10:11.362160Z",
     "iopub.status.busy": "2024-04-20T15:10:11.361438Z",
     "iopub.status.idle": "2024-04-20T15:10:11.367961Z",
     "shell.execute_reply": "2024-04-20T15:10:11.367067Z"
    },
    "papermill": {
     "duration": 1.087267,
     "end_time": "2024-04-20T15:10:11.370327",
     "exception": false,
     "start_time": "2024-04-20T15:10:10.283060",
     "status": "completed"
    },
    "tags": []
   },
   "outputs": [],
   "source": [
    "X.columns"
   ]
  },
  {
   "cell_type": "code",
   "execution_count": 49,
   "id": "5666dfa6",
   "metadata": {
    "execution": {
     "iopub.execute_input": "2024-04-20T15:10:13.628194Z",
     "iopub.status.busy": "2024-04-20T15:10:13.627401Z",
     "iopub.status.idle": "2024-04-20T15:10:13.651686Z",
     "shell.execute_reply": "2024-04-20T15:10:13.650605Z"
    },
    "papermill": {
     "duration": 1.21502,
     "end_time": "2024-04-20T15:10:13.654785",
     "exception": false,
     "start_time": "2024-04-20T15:10:12.439765",
     "status": "completed"
    },
    "tags": []
   },
   "outputs": [],
   "source": [
    "scaler = MinMaxScaler().fit(X)"
   ]
  },
  {
   "cell_type": "code",
   "execution_count": 50,
   "id": "22b4ae1e",
   "metadata": {
    "execution": {
     "iopub.execute_input": "2024-04-20T15:10:15.972304Z",
     "iopub.status.busy": "2024-04-20T15:10:15.971202Z",
     "iopub.status.idle": "2024-04-20T15:10:15.977810Z",
     "shell.execute_reply": "2024-04-20T15:10:15.976730Z"
    },
    "papermill": {
     "duration": 1.251061,
     "end_time": "2024-04-20T15:10:15.980351",
     "exception": false,
     "start_time": "2024-04-20T15:10:14.729290",
     "status": "completed"
    },
    "tags": []
   },
   "outputs": [],
   "source": [
    "import pickle\n",
    "pickle.dump(scaler, open(\"scaler_credit_score\", 'wb'))"
   ]
  },
  {
   "cell_type": "code",
   "execution_count": 51,
   "id": "6850a687",
   "metadata": {
    "execution": {
     "iopub.execute_input": "2024-04-20T15:10:18.229328Z",
     "iopub.status.busy": "2024-04-20T15:10:18.228592Z",
     "iopub.status.idle": "2024-04-20T15:10:18.257999Z",
     "shell.execute_reply": "2024-04-20T15:10:18.257001Z"
    },
    "papermill": {
     "duration": 1.225608,
     "end_time": "2024-04-20T15:10:18.260955",
     "exception": false,
     "start_time": "2024-04-20T15:10:17.035347",
     "status": "completed"
    },
    "tags": []
   },
   "outputs": [],
   "source": [
    "X_scaled = scaler.transform(X)"
   ]
  },
  {
   "cell_type": "code",
   "execution_count": null,
   "id": "8b3925ba",
   "metadata": {
    "_kg_hide-input": true,
    "_kg_hide-output": true,
    "execution": {
     "iopub.execute_input": "2024-04-20T15:10:20.585444Z",
     "iopub.status.busy": "2024-04-20T15:10:20.584938Z",
     "iopub.status.idle": "2024-04-20T15:18:20.852844Z",
     "shell.execute_reply": "2024-04-20T15:18:20.851789Z"
    },
    "papermill": {
     "duration": 481.52584,
     "end_time": "2024-04-20T15:18:20.855451",
     "exception": false,
     "start_time": "2024-04-20T15:10:19.329611",
     "status": "completed"
    },
    "tags": []
   },
   "outputs": [],
   "source": [
    "# final_model = LightGBMClassifier()\n",
    "# final_model.fit(X_scaled, y)\n",
    "# pickle.dump(final_model, open(\"credit_score_model\", 'wb'))\n",
    "\n",
    "# print(\"Model saved successfully!\")"
   ]
  },
  {
   "cell_type": "code",
   "execution_count": 53,
   "id": "8947e2d7",
   "metadata": {
    "execution": {
     "iopub.execute_input": "2024-04-20T15:18:24.798266Z",
     "iopub.status.busy": "2024-04-20T15:18:24.797498Z",
     "iopub.status.idle": "2024-04-20T15:18:24.838335Z",
     "shell.execute_reply": "2024-04-20T15:18:24.837423Z"
    },
    "papermill": {
     "duration": 2.064037,
     "end_time": "2024-04-20T15:18:24.841308",
     "exception": false,
     "start_time": "2024-04-20T15:18:22.777271",
     "status": "completed"
    },
    "tags": []
   },
   "outputs": [],
   "source": [
    "# final_model.save('final_model_credit_score.h5') "
   ]
  },
  {
   "cell_type": "markdown",
   "id": "db762f21",
   "metadata": {
    "papermill": {
     "duration": 1.901067,
     "end_time": "2024-04-20T15:18:28.815990",
     "exception": false,
     "start_time": "2024-04-20T15:18:26.914923",
     "status": "completed"
    },
    "tags": []
   },
   "source": [
    "# Predictions with test data"
   ]
  },
  {
   "cell_type": "code",
   "execution_count": null,
   "id": "9fb12561",
   "metadata": {
    "execution": {
     "iopub.execute_input": "2024-04-20T15:18:32.912128Z",
     "iopub.status.busy": "2024-04-20T15:18:32.911604Z",
     "iopub.status.idle": "2024-04-20T15:18:33.246471Z",
     "shell.execute_reply": "2024-04-20T15:18:33.245519Z"
    },
    "papermill": {
     "duration": 2.386613,
     "end_time": "2024-04-20T15:18:33.249464",
     "exception": false,
     "start_time": "2024-04-20T15:18:30.862851",
     "status": "completed"
    },
    "tags": []
   },
   "outputs": [],
   "source": [
    "test = pd.read_csv(r\"C:\\Users\\rahul\\OneDrive\\Documents\\Hackathon\\IndustriAI\\Industry-Baby\\Creditscore_test_cleaned.csv\")\n",
    "test"
   ]
  },
  {
   "cell_type": "code",
   "execution_count": 55,
   "id": "4244048a",
   "metadata": {
    "execution": {
     "iopub.execute_input": "2024-04-20T15:18:37.353928Z",
     "iopub.status.busy": "2024-04-20T15:18:37.353406Z",
     "iopub.status.idle": "2024-04-20T15:18:37.363843Z",
     "shell.execute_reply": "2024-04-20T15:18:37.362049Z"
    },
    "papermill": {
     "duration": 2.032378,
     "end_time": "2024-04-20T15:18:37.366526",
     "exception": false,
     "start_time": "2024-04-20T15:18:35.334148",
     "status": "completed"
    },
    "tags": []
   },
   "outputs": [],
   "source": [
    "from sklearn.preprocessing import OneHotEncoder, OrdinalEncoder, MinMaxScaler\n",
    "\n",
    "payment_behaviour_order = [\n",
    "    'Low_spent_Small_value_payments', \n",
    "    'Low_spent_Medium_value_payments', \n",
    "    'Low_spent_Large_value_payments', \n",
    "    'High_spent_Small_value_payments', \n",
    "    'High_spent_Medium_value_payments', \n",
    "    'High_spent_Large_value_payments'\n",
    "]\n",
    "\n",
    "# Define preprocessing function for new data\n",
    "def preprocess_new_data(new_data, ordinal_encoder, onehot_encoder, scaler):\n",
    "    # Ordinal encoding for 'Payment_Behaviour'\n",
    "    new_data['Payment_Behaviour'] = ordinal_encoder.transform(new_data[['Payment_Behaviour']])\n",
    "    \n",
    "    # One-hot encoding for 'Occupation', 'Payment_of_Min_Amount', 'Credit_Mix'\n",
    "    encoded_features = onehot_encoder.transform(new_data[['Occupation', 'Payment_of_Min_Amount', 'Credit_Mix']])\n",
    "    encoded_df = pd.DataFrame(encoded_features, columns=onehot_encoder.get_feature_names_out(['Occupation', 'Payment_of_Min_Amount', 'Credit_Mix']))\n",
    "    new_data = pd.concat([new_data, encoded_df], axis=1).drop(columns=['Occupation', 'Payment_of_Min_Amount', 'Credit_Mix'])\n",
    "    \n",
    "    # Min-max scaling for all numeric features\n",
    "    new_data[new_data.columns] = scaler.transform(new_data[new_data.columns])\n",
    "    \n",
    "    return new_data\n"
   ]
  },
  {
   "cell_type": "code",
   "execution_count": null,
   "id": "4dfc9d3f",
   "metadata": {
    "execution": {
     "iopub.execute_input": "2024-04-20T15:18:41.308560Z",
     "iopub.status.busy": "2024-04-20T15:18:41.307723Z",
     "iopub.status.idle": "2024-04-20T15:18:41.455543Z",
     "shell.execute_reply": "2024-04-20T15:18:41.454134Z"
    },
    "papermill": {
     "duration": 2.199055,
     "end_time": "2024-04-20T15:18:41.458614",
     "exception": false,
     "start_time": "2024-04-20T15:18:39.259559",
     "status": "completed"
    },
    "tags": []
   },
   "outputs": [],
   "source": [
    "# Apply preprocessing function to new data using fitted encoders and scaler\n",
    "test_df = preprocess_new_data(test, ordinal_encoder, onehot_encoder, scaler)\n",
    "test_df"
   ]
  },
  {
   "cell_type": "code",
   "execution_count": null,
   "id": "cbc8982d",
   "metadata": {
    "execution": {
     "iopub.execute_input": "2024-04-20T15:18:45.458509Z",
     "iopub.status.busy": "2024-04-20T15:18:45.458114Z",
     "iopub.status.idle": "2024-04-20T15:18:50.654553Z",
     "shell.execute_reply": "2024-04-20T15:18:50.653465Z"
    },
    "papermill": {
     "duration": 7.139622,
     "end_time": "2024-04-20T15:18:50.657855",
     "exception": false,
     "start_time": "2024-04-20T15:18:43.518233",
     "status": "completed"
    },
    "tags": []
   },
   "outputs": [],
   "source": [
    "# Make predictions\n",
    "probabilities = final_model.predict(test_df)\n",
    "probabilities"
   ]
  },
  {
   "cell_type": "code",
   "execution_count": null,
   "id": "498fa737",
   "metadata": {
    "execution": {
     "iopub.execute_input": "2024-04-20T15:18:54.735677Z",
     "iopub.status.busy": "2024-04-20T15:18:54.735201Z",
     "iopub.status.idle": "2024-04-20T15:18:54.751307Z",
     "shell.execute_reply": "2024-04-20T15:18:54.750149Z"
    },
    "papermill": {
     "duration": 2.045867,
     "end_time": "2024-04-20T15:18:54.754130",
     "exception": false,
     "start_time": "2024-04-20T15:18:52.708263",
     "status": "completed"
    },
    "tags": []
   },
   "outputs": [],
   "source": [
    "probabilities_df = pd.DataFrame(probabilities, columns=['Probability_Class_0', 'Probability_Class_1', 'Probability_Class_2'])\n",
    "# Display the DataFrame\n",
    "probabilities_df"
   ]
  },
  {
   "cell_type": "code",
   "execution_count": null,
   "id": "3a42c273",
   "metadata": {
    "execution": {
     "iopub.execute_input": "2024-04-20T15:18:58.834312Z",
     "iopub.status.busy": "2024-04-20T15:18:58.832951Z",
     "iopub.status.idle": "2024-04-20T15:18:58.844226Z",
     "shell.execute_reply": "2024-04-20T15:18:58.842762Z"
    },
    "papermill": {
     "duration": 2.053092,
     "end_time": "2024-04-20T15:18:58.847225",
     "exception": false,
     "start_time": "2024-04-20T15:18:56.794133",
     "status": "completed"
    },
    "tags": []
   },
   "outputs": [],
   "source": [
    "predicted_labels = np.argmax(probabilities, axis=1)\n",
    "# Display the predicted class labels\n",
    "predicted_labels"
   ]
  },
  {
   "cell_type": "code",
   "execution_count": null,
   "id": "bea4c547",
   "metadata": {
    "execution": {
     "iopub.execute_input": "2024-04-20T15:19:02.808910Z",
     "iopub.status.busy": "2024-04-20T15:19:02.808140Z",
     "iopub.status.idle": "2024-04-20T15:19:02.819243Z",
     "shell.execute_reply": "2024-04-20T15:19:02.818317Z"
    },
    "papermill": {
     "duration": 2.053594,
     "end_time": "2024-04-20T15:19:02.821556",
     "exception": false,
     "start_time": "2024-04-20T15:19:00.767962",
     "status": "completed"
    },
    "tags": []
   },
   "outputs": [],
   "source": [
    "predictions_df = pd.DataFrame(predicted_labels, columns=['Predicted_Label'])\n",
    "predictions_df"
   ]
  },
  {
   "cell_type": "code",
   "execution_count": null,
   "id": "ae5f7b7f",
   "metadata": {
    "execution": {
     "iopub.execute_input": "2024-04-20T15:19:06.930026Z",
     "iopub.status.busy": "2024-04-20T15:19:06.929270Z",
     "iopub.status.idle": "2024-04-20T15:19:06.942554Z",
     "shell.execute_reply": "2024-04-20T15:19:06.941658Z"
    },
    "papermill": {
     "duration": 2.079603,
     "end_time": "2024-04-20T15:19:06.944809",
     "exception": false,
     "start_time": "2024-04-20T15:19:04.865206",
     "status": "completed"
    },
    "tags": []
   },
   "outputs": [],
   "source": [
    "# Concatenate predictions and probabilities DataFrames along the columns axis\n",
    "pred_proba_df = pd.concat([probabilities_df, predictions_df], axis=1)\n",
    "pred_proba_df\n"
   ]
  },
  {
   "cell_type": "code",
   "execution_count": null,
   "id": "f646ddcd",
   "metadata": {
    "execution": {
     "iopub.execute_input": "2024-04-20T15:19:23.091954Z",
     "iopub.status.busy": "2024-04-20T15:19:23.091043Z",
     "iopub.status.idle": "2024-04-20T15:19:23.101859Z",
     "shell.execute_reply": "2024-04-20T15:19:23.100589Z"
    },
    "papermill": {
     "duration": 2.114807,
     "end_time": "2024-04-20T15:19:23.104458",
     "exception": false,
     "start_time": "2024-04-20T15:19:20.989651",
     "status": "completed"
    },
    "tags": []
   },
   "outputs": [],
   "source": [
    "pred_proba_df['Predicted_Label'].value_counts()"
   ]
  }
 ],
 "metadata": {
  "kaggle": {
   "accelerator": "none",
   "dataSources": [
    {
     "datasetId": 4820529,
     "sourceId": 8150738,
     "sourceType": "datasetVersion"
    }
   ],
   "dockerImageVersionId": 30673,
   "isGpuEnabled": false,
   "isInternetEnabled": true,
   "language": "python",
   "sourceType": "notebook"
  },
  "kernelspec": {
   "display_name": "Python 3",
   "language": "python",
   "name": "python3"
  },
  "language_info": {
   "codemirror_mode": {
    "name": "ipython",
    "version": 3
   },
   "file_extension": ".py",
   "mimetype": "text/x-python",
   "name": "python",
   "nbconvert_exporter": "python",
   "pygments_lexer": "ipython3",
   "version": "3.10.11"
  },
  "papermill": {
   "default_parameters": {},
   "duration": 2214.804996,
   "end_time": "2024-04-20T15:19:32.514656",
   "environment_variables": {},
   "exception": null,
   "input_path": "__notebook__.ipynb",
   "output_path": "__notebook__.ipynb",
   "parameters": {},
   "start_time": "2024-04-20T14:42:37.709660",
   "version": "2.5.0"
  }
 },
 "nbformat": 4,
 "nbformat_minor": 5
}
