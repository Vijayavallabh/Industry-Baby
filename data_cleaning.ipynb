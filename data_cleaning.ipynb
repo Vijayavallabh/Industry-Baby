{
 "cells": [
  {
   "cell_type": "markdown",
   "metadata": {},
   "source": [
    "# Import Libraries"
   ]
  },
  {
   "cell_type": "code",
   "execution_count": 1,
   "metadata": {
    "execution": {
     "iopub.execute_input": "2024-04-20T17:03:06.713795Z",
     "iopub.status.busy": "2024-04-20T17:03:06.712706Z",
     "iopub.status.idle": "2024-04-20T17:03:09.735457Z",
     "shell.execute_reply": "2024-04-20T17:03:09.73446Z",
     "shell.execute_reply.started": "2024-04-20T17:03:06.713749Z"
    },
    "trusted": true
   },
   "outputs": [],
   "source": [
    "import numpy as np\n",
    "import pandas as pd\n",
    "import seaborn as sns\n",
    "import matplotlib.pyplot as plt\n",
    "\n",
    "%matplotlib inline\n",
    "# %matplotlib notebook\n",
    "plt.rcParams[\"figure.figsize\"] = (12, 6)\n",
    "# plt.rcParams['figure.dpi'] = 100\n",
    "sns.set_style(\"whitegrid\")\n",
    "import warnings\n",
    "\n",
    "warnings.filterwarnings(\"ignore\")\n",
    "warnings.warn(\"this will not show\")\n",
    "pd.set_option('display.float_format', lambda x: '%.3f' % x)"
   ]
  },
  {
   "cell_type": "markdown",
   "metadata": {},
   "source": [
    "# Data Cleaning"
   ]
  },
  {
   "cell_type": "code",
   "execution_count": 2,
   "metadata": {
    "execution": {
     "iopub.execute_input": "2024-04-20T17:04:04.72831Z",
     "iopub.status.busy": "2024-04-20T17:04:04.727426Z",
     "iopub.status.idle": "2024-04-20T17:04:06.151297Z",
     "shell.execute_reply": "2024-04-20T17:04:06.149213Z",
     "shell.execute_reply.started": "2024-04-20T17:04:04.728269Z"
    },
    "trusted": true
   },
   "outputs": [
    {
     "data": {
      "text/html": [
       "<div>\n",
       "<style scoped>\n",
       "    .dataframe tbody tr th:only-of-type {\n",
       "        vertical-align: middle;\n",
       "    }\n",
       "\n",
       "    .dataframe tbody tr th {\n",
       "        vertical-align: top;\n",
       "    }\n",
       "\n",
       "    .dataframe thead th {\n",
       "        text-align: right;\n",
       "    }\n",
       "</style>\n",
       "<table border=\"1\" class=\"dataframe\">\n",
       "  <thead>\n",
       "    <tr style=\"text-align: right;\">\n",
       "      <th></th>\n",
       "      <th>ID</th>\n",
       "      <th>Customer_ID</th>\n",
       "      <th>Month</th>\n",
       "      <th>Name</th>\n",
       "      <th>Age</th>\n",
       "      <th>SSN</th>\n",
       "      <th>Occupation</th>\n",
       "      <th>Annual_Income</th>\n",
       "      <th>Monthly_Inhand_Salary</th>\n",
       "      <th>Num_Bank_Accounts</th>\n",
       "      <th>...</th>\n",
       "      <th>Credit_Mix</th>\n",
       "      <th>Outstanding_Debt</th>\n",
       "      <th>Credit_Utilization_Ratio</th>\n",
       "      <th>Credit_History_Age</th>\n",
       "      <th>Payment_of_Min_Amount</th>\n",
       "      <th>Total_EMI_per_month</th>\n",
       "      <th>Amount_invested_monthly</th>\n",
       "      <th>Payment_Behaviour</th>\n",
       "      <th>Monthly_Balance</th>\n",
       "      <th>Credit_Score</th>\n",
       "    </tr>\n",
       "  </thead>\n",
       "  <tbody>\n",
       "    <tr>\n",
       "      <th>0</th>\n",
       "      <td>0x1602</td>\n",
       "      <td>CUS_0xd40</td>\n",
       "      <td>January</td>\n",
       "      <td>Aaron Maashoh</td>\n",
       "      <td>23</td>\n",
       "      <td>821-00-0265</td>\n",
       "      <td>Scientist</td>\n",
       "      <td>19114.12</td>\n",
       "      <td>1824.843</td>\n",
       "      <td>3</td>\n",
       "      <td>...</td>\n",
       "      <td>_</td>\n",
       "      <td>809.98</td>\n",
       "      <td>26.823</td>\n",
       "      <td>22 Years and 1 Months</td>\n",
       "      <td>No</td>\n",
       "      <td>49.575</td>\n",
       "      <td>80.41529543900253</td>\n",
       "      <td>High_spent_Small_value_payments</td>\n",
       "      <td>312.49408867943663</td>\n",
       "      <td>Good</td>\n",
       "    </tr>\n",
       "    <tr>\n",
       "      <th>1</th>\n",
       "      <td>0x1603</td>\n",
       "      <td>CUS_0xd40</td>\n",
       "      <td>February</td>\n",
       "      <td>Aaron Maashoh</td>\n",
       "      <td>23</td>\n",
       "      <td>821-00-0265</td>\n",
       "      <td>Scientist</td>\n",
       "      <td>19114.12</td>\n",
       "      <td>NaN</td>\n",
       "      <td>3</td>\n",
       "      <td>...</td>\n",
       "      <td>Good</td>\n",
       "      <td>809.98</td>\n",
       "      <td>31.945</td>\n",
       "      <td>NaN</td>\n",
       "      <td>No</td>\n",
       "      <td>49.575</td>\n",
       "      <td>118.28022162236736</td>\n",
       "      <td>Low_spent_Large_value_payments</td>\n",
       "      <td>284.62916249607184</td>\n",
       "      <td>Good</td>\n",
       "    </tr>\n",
       "    <tr>\n",
       "      <th>2</th>\n",
       "      <td>0x1604</td>\n",
       "      <td>CUS_0xd40</td>\n",
       "      <td>March</td>\n",
       "      <td>Aaron Maashoh</td>\n",
       "      <td>-500</td>\n",
       "      <td>821-00-0265</td>\n",
       "      <td>Scientist</td>\n",
       "      <td>19114.12</td>\n",
       "      <td>NaN</td>\n",
       "      <td>3</td>\n",
       "      <td>...</td>\n",
       "      <td>Good</td>\n",
       "      <td>809.98</td>\n",
       "      <td>28.609</td>\n",
       "      <td>22 Years and 3 Months</td>\n",
       "      <td>No</td>\n",
       "      <td>49.575</td>\n",
       "      <td>81.699521264648</td>\n",
       "      <td>Low_spent_Medium_value_payments</td>\n",
       "      <td>331.2098628537912</td>\n",
       "      <td>Good</td>\n",
       "    </tr>\n",
       "    <tr>\n",
       "      <th>3</th>\n",
       "      <td>0x1605</td>\n",
       "      <td>CUS_0xd40</td>\n",
       "      <td>April</td>\n",
       "      <td>Aaron Maashoh</td>\n",
       "      <td>23</td>\n",
       "      <td>821-00-0265</td>\n",
       "      <td>Scientist</td>\n",
       "      <td>19114.12</td>\n",
       "      <td>NaN</td>\n",
       "      <td>3</td>\n",
       "      <td>...</td>\n",
       "      <td>Good</td>\n",
       "      <td>809.98</td>\n",
       "      <td>31.378</td>\n",
       "      <td>22 Years and 4 Months</td>\n",
       "      <td>No</td>\n",
       "      <td>49.575</td>\n",
       "      <td>199.4580743910713</td>\n",
       "      <td>Low_spent_Small_value_payments</td>\n",
       "      <td>223.45130972736786</td>\n",
       "      <td>Good</td>\n",
       "    </tr>\n",
       "    <tr>\n",
       "      <th>4</th>\n",
       "      <td>0x1606</td>\n",
       "      <td>CUS_0xd40</td>\n",
       "      <td>May</td>\n",
       "      <td>Aaron Maashoh</td>\n",
       "      <td>23</td>\n",
       "      <td>821-00-0265</td>\n",
       "      <td>Scientist</td>\n",
       "      <td>19114.12</td>\n",
       "      <td>1824.843</td>\n",
       "      <td>3</td>\n",
       "      <td>...</td>\n",
       "      <td>Good</td>\n",
       "      <td>809.98</td>\n",
       "      <td>24.797</td>\n",
       "      <td>22 Years and 5 Months</td>\n",
       "      <td>No</td>\n",
       "      <td>49.575</td>\n",
       "      <td>41.420153086217326</td>\n",
       "      <td>High_spent_Medium_value_payments</td>\n",
       "      <td>341.48923103222177</td>\n",
       "      <td>Good</td>\n",
       "    </tr>\n",
       "  </tbody>\n",
       "</table>\n",
       "<p>5 rows × 28 columns</p>\n",
       "</div>"
      ],
      "text/plain": [
       "       ID Customer_ID     Month           Name   Age          SSN Occupation  \\\n",
       "0  0x1602   CUS_0xd40   January  Aaron Maashoh    23  821-00-0265  Scientist   \n",
       "1  0x1603   CUS_0xd40  February  Aaron Maashoh    23  821-00-0265  Scientist   \n",
       "2  0x1604   CUS_0xd40     March  Aaron Maashoh  -500  821-00-0265  Scientist   \n",
       "3  0x1605   CUS_0xd40     April  Aaron Maashoh    23  821-00-0265  Scientist   \n",
       "4  0x1606   CUS_0xd40       May  Aaron Maashoh    23  821-00-0265  Scientist   \n",
       "\n",
       "  Annual_Income  Monthly_Inhand_Salary  Num_Bank_Accounts  ...  Credit_Mix  \\\n",
       "0      19114.12               1824.843                  3  ...           _   \n",
       "1      19114.12                    NaN                  3  ...        Good   \n",
       "2      19114.12                    NaN                  3  ...        Good   \n",
       "3      19114.12                    NaN                  3  ...        Good   \n",
       "4      19114.12               1824.843                  3  ...        Good   \n",
       "\n",
       "   Outstanding_Debt Credit_Utilization_Ratio     Credit_History_Age  \\\n",
       "0            809.98                   26.823  22 Years and 1 Months   \n",
       "1            809.98                   31.945                    NaN   \n",
       "2            809.98                   28.609  22 Years and 3 Months   \n",
       "3            809.98                   31.378  22 Years and 4 Months   \n",
       "4            809.98                   24.797  22 Years and 5 Months   \n",
       "\n",
       "   Payment_of_Min_Amount Total_EMI_per_month Amount_invested_monthly  \\\n",
       "0                     No              49.575       80.41529543900253   \n",
       "1                     No              49.575      118.28022162236736   \n",
       "2                     No              49.575         81.699521264648   \n",
       "3                     No              49.575       199.4580743910713   \n",
       "4                     No              49.575      41.420153086217326   \n",
       "\n",
       "                  Payment_Behaviour     Monthly_Balance Credit_Score  \n",
       "0   High_spent_Small_value_payments  312.49408867943663         Good  \n",
       "1    Low_spent_Large_value_payments  284.62916249607184         Good  \n",
       "2   Low_spent_Medium_value_payments   331.2098628537912         Good  \n",
       "3    Low_spent_Small_value_payments  223.45130972736786         Good  \n",
       "4  High_spent_Medium_value_payments  341.48923103222177         Good  \n",
       "\n",
       "[5 rows x 28 columns]"
      ]
     },
     "execution_count": 2,
     "metadata": {},
     "output_type": "execute_result"
    }
   ],
   "source": [
    "df = pd.read_csv(r\"C:\\Users\\rahul\\OneDrive\\Documents\\Hackathon\\IndustriAI\\Industry-Baby\\archive\\train.csv\")\n",
    "df.head()"
   ]
  },
  {
   "cell_type": "code",
   "execution_count": 3,
   "metadata": {
    "execution": {
     "iopub.execute_input": "2024-04-20T17:04:07.277736Z",
     "iopub.status.busy": "2024-04-20T17:04:07.276684Z",
     "iopub.status.idle": "2024-04-20T17:04:07.519414Z",
     "shell.execute_reply": "2024-04-20T17:04:07.518296Z",
     "shell.execute_reply.started": "2024-04-20T17:04:07.277699Z"
    },
    "trusted": true
   },
   "outputs": [
    {
     "name": "stdout",
     "output_type": "stream",
     "text": [
      "<class 'pandas.core.frame.DataFrame'>\n",
      "RangeIndex: 100000 entries, 0 to 99999\n",
      "Data columns (total 28 columns):\n",
      " #   Column                    Non-Null Count   Dtype  \n",
      "---  ------                    --------------   -----  \n",
      " 0   ID                        100000 non-null  object \n",
      " 1   Customer_ID               100000 non-null  object \n",
      " 2   Month                     100000 non-null  object \n",
      " 3   Name                      90015 non-null   object \n",
      " 4   Age                       100000 non-null  object \n",
      " 5   SSN                       100000 non-null  object \n",
      " 6   Occupation                100000 non-null  object \n",
      " 7   Annual_Income             100000 non-null  object \n",
      " 8   Monthly_Inhand_Salary     84998 non-null   float64\n",
      " 9   Num_Bank_Accounts         100000 non-null  int64  \n",
      " 10  Num_Credit_Card           100000 non-null  int64  \n",
      " 11  Interest_Rate             100000 non-null  int64  \n",
      " 12  Num_of_Loan               100000 non-null  object \n",
      " 13  Type_of_Loan              88592 non-null   object \n",
      " 14  Delay_from_due_date       100000 non-null  int64  \n",
      " 15  Num_of_Delayed_Payment    92998 non-null   object \n",
      " 16  Changed_Credit_Limit      100000 non-null  object \n",
      " 17  Num_Credit_Inquiries      98035 non-null   float64\n",
      " 18  Credit_Mix                100000 non-null  object \n",
      " 19  Outstanding_Debt          100000 non-null  object \n",
      " 20  Credit_Utilization_Ratio  100000 non-null  float64\n",
      " 21  Credit_History_Age        90970 non-null   object \n",
      " 22  Payment_of_Min_Amount     100000 non-null  object \n",
      " 23  Total_EMI_per_month       100000 non-null  float64\n",
      " 24  Amount_invested_monthly   95521 non-null   object \n",
      " 25  Payment_Behaviour         100000 non-null  object \n",
      " 26  Monthly_Balance           98800 non-null   object \n",
      " 27  Credit_Score              100000 non-null  object \n",
      "dtypes: float64(4), int64(4), object(20)\n",
      "memory usage: 21.4+ MB\n"
     ]
    }
   ],
   "source": [
    "df.info()"
   ]
  },
  {
   "cell_type": "code",
   "execution_count": 4,
   "metadata": {
    "execution": {
     "iopub.execute_input": "2024-04-20T17:04:08.053114Z",
     "iopub.status.busy": "2024-04-20T17:04:08.052034Z",
     "iopub.status.idle": "2024-04-20T17:04:08.395405Z",
     "shell.execute_reply": "2024-04-20T17:04:08.394245Z",
     "shell.execute_reply.started": "2024-04-20T17:04:08.053051Z"
    },
    "trusted": true
   },
   "outputs": [
    {
     "name": "stdout",
     "output_type": "stream",
     "text": [
      "Duplicate check...\n",
      "There are no duplicated observations in the dataset.\n"
     ]
    }
   ],
   "source": [
    "# Duplicate check\n",
    "def duplicate_values(df):\n",
    "    print(\"Duplicate check...\")\n",
    "    num_duplicates = df.duplicated(subset=None, keep='first').sum()\n",
    "    if num_duplicates > 0:\n",
    "        print(\"There are\", num_duplicates, \"duplicated observations in the dataset.\")\n",
    "        df.drop_duplicates(keep='first', inplace=True)\n",
    "        print(num_duplicates, \"duplicates were dropped!\")\n",
    "        print(\"No more duplicate rows!\")\n",
    "    else:\n",
    "        print(\"There are no duplicated observations in the dataset.\")\n",
    "        \n",
    "duplicate_values(df)"
   ]
  },
  {
   "cell_type": "code",
   "execution_count": 5,
   "metadata": {
    "execution": {
     "iopub.execute_input": "2024-04-20T17:04:09.624949Z",
     "iopub.status.busy": "2024-04-20T17:04:09.624524Z",
     "iopub.status.idle": "2024-04-20T17:04:09.64403Z",
     "shell.execute_reply": "2024-04-20T17:04:09.642953Z",
     "shell.execute_reply.started": "2024-04-20T17:04:09.624919Z"
    },
    "trusted": true
   },
   "outputs": [],
   "source": [
    "# dropping unnecessary columns for modelling\n",
    "df = df.drop(['ID','Customer_ID','Month','Name','SSN', 'Type_of_Loan', 'Changed_Credit_Limit', 'Monthly_Inhand_Salary'], axis = 1)"
   ]
  },
  {
   "cell_type": "code",
   "execution_count": 6,
   "metadata": {
    "execution": {
     "iopub.execute_input": "2024-04-20T17:04:10.50736Z",
     "iopub.status.busy": "2024-04-20T17:04:10.506949Z",
     "iopub.status.idle": "2024-04-20T17:04:10.525884Z",
     "shell.execute_reply": "2024-04-20T17:04:10.524796Z",
     "shell.execute_reply.started": "2024-04-20T17:04:10.507328Z"
    },
    "trusted": true
   },
   "outputs": [],
   "source": [
    "target_mapping = {'Poor': 0, 'Standard': 1, 'Good': 2}\n",
    "\n",
    "# Map the target variable using the defined mapping\n",
    "df['Credit_Score'] = df['Credit_Score'].map(target_mapping)"
   ]
  },
  {
   "cell_type": "code",
   "execution_count": 7,
   "metadata": {
    "execution": {
     "iopub.execute_input": "2024-04-20T17:04:11.369586Z",
     "iopub.status.busy": "2024-04-20T17:04:11.368634Z",
     "iopub.status.idle": "2024-04-20T17:04:12.760885Z",
     "shell.execute_reply": "2024-04-20T17:04:12.759669Z",
     "shell.execute_reply.started": "2024-04-20T17:04:11.369515Z"
    },
    "trusted": true
   },
   "outputs": [
    {
     "data": {
      "text/html": [
       "<div>\n",
       "<style scoped>\n",
       "    .dataframe tbody tr th:only-of-type {\n",
       "        vertical-align: middle;\n",
       "    }\n",
       "\n",
       "    .dataframe tbody tr th {\n",
       "        vertical-align: top;\n",
       "    }\n",
       "\n",
       "    .dataframe thead th {\n",
       "        text-align: right;\n",
       "    }\n",
       "</style>\n",
       "<table border=\"1\" class=\"dataframe\">\n",
       "  <thead>\n",
       "    <tr style=\"text-align: right;\">\n",
       "      <th></th>\n",
       "      <th>Age</th>\n",
       "      <th>Occupation</th>\n",
       "      <th>Annual_Income</th>\n",
       "      <th>Num_Bank_Accounts</th>\n",
       "      <th>Num_Credit_Card</th>\n",
       "      <th>Interest_Rate</th>\n",
       "      <th>Num_of_Loan</th>\n",
       "      <th>Delay_from_due_date</th>\n",
       "      <th>Num_of_Delayed_Payment</th>\n",
       "      <th>Num_Credit_Inquiries</th>\n",
       "      <th>Credit_Mix</th>\n",
       "      <th>Outstanding_Debt</th>\n",
       "      <th>Credit_Utilization_Ratio</th>\n",
       "      <th>Credit_History_Age</th>\n",
       "      <th>Payment_of_Min_Amount</th>\n",
       "      <th>Total_EMI_per_month</th>\n",
       "      <th>Amount_invested_monthly</th>\n",
       "      <th>Payment_Behaviour</th>\n",
       "      <th>Monthly_Balance</th>\n",
       "      <th>Credit_Score</th>\n",
       "    </tr>\n",
       "  </thead>\n",
       "  <tbody>\n",
       "    <tr>\n",
       "      <th>0</th>\n",
       "      <td>23</td>\n",
       "      <td>Scientist</td>\n",
       "      <td>19114.12</td>\n",
       "      <td>3</td>\n",
       "      <td>4</td>\n",
       "      <td>3</td>\n",
       "      <td>4</td>\n",
       "      <td>3</td>\n",
       "      <td>7</td>\n",
       "      <td>4.000</td>\n",
       "      <td></td>\n",
       "      <td>809.98</td>\n",
       "      <td>26.823</td>\n",
       "      <td>22 Years and 1 Months</td>\n",
       "      <td>No</td>\n",
       "      <td>49.575</td>\n",
       "      <td>80.41529543900253</td>\n",
       "      <td>HighspentSmallvaluepayments</td>\n",
       "      <td>312.49408867943663</td>\n",
       "      <td>2</td>\n",
       "    </tr>\n",
       "    <tr>\n",
       "      <th>8</th>\n",
       "      <td>28</td>\n",
       "      <td></td>\n",
       "      <td>34847.84</td>\n",
       "      <td>2</td>\n",
       "      <td>4</td>\n",
       "      <td>6</td>\n",
       "      <td>1</td>\n",
       "      <td>3</td>\n",
       "      <td>4</td>\n",
       "      <td>2.000</td>\n",
       "      <td>Good</td>\n",
       "      <td>605.03</td>\n",
       "      <td>24.464</td>\n",
       "      <td>26 Years and 7 Months</td>\n",
       "      <td>No</td>\n",
       "      <td>18.816</td>\n",
       "      <td>104.291825168246</td>\n",
       "      <td>LowspentSmallvaluepayments</td>\n",
       "      <td>470.69062692529184</td>\n",
       "      <td>1</td>\n",
       "    </tr>\n",
       "    <tr>\n",
       "      <th>10</th>\n",
       "      <td>28</td>\n",
       "      <td>Teacher</td>\n",
       "      <td>34847.84</td>\n",
       "      <td>2</td>\n",
       "      <td>1385</td>\n",
       "      <td>6</td>\n",
       "      <td>1</td>\n",
       "      <td>3</td>\n",
       "      <td>-1</td>\n",
       "      <td>2.000</td>\n",
       "      <td></td>\n",
       "      <td>605.03</td>\n",
       "      <td>33.225</td>\n",
       "      <td>26 Years and 9 Months</td>\n",
       "      <td>No</td>\n",
       "      <td>18.816</td>\n",
       "      <td>58.51597569589465</td>\n",
       "      <td>HighspentLargevaluepayments</td>\n",
       "      <td>466.46647639764313</td>\n",
       "      <td>1</td>\n",
       "    </tr>\n",
       "    <tr>\n",
       "      <th>16</th>\n",
       "      <td>34</td>\n",
       "      <td></td>\n",
       "      <td>143162.64</td>\n",
       "      <td>1</td>\n",
       "      <td>5</td>\n",
       "      <td>8</td>\n",
       "      <td>3</td>\n",
       "      <td>5</td>\n",
       "      <td>8</td>\n",
       "      <td>3.000</td>\n",
       "      <td>Good</td>\n",
       "      <td>1303.01</td>\n",
       "      <td>28.617</td>\n",
       "      <td>17 Years and 9 Months</td>\n",
       "      <td>No</td>\n",
       "      <td>246.992</td>\n",
       "      <td>168.413702679309</td>\n",
       "      <td>!@9#%8</td>\n",
       "      <td>1043.3159778669492</td>\n",
       "      <td>2</td>\n",
       "    </tr>\n",
       "    <tr>\n",
       "      <th>18</th>\n",
       "      <td>34</td>\n",
       "      <td></td>\n",
       "      <td>143162.64</td>\n",
       "      <td>1</td>\n",
       "      <td>5</td>\n",
       "      <td>8</td>\n",
       "      <td>3</td>\n",
       "      <td>8</td>\n",
       "      <td>7</td>\n",
       "      <td>NaN</td>\n",
       "      <td>Good</td>\n",
       "      <td>1303.01</td>\n",
       "      <td>26.520</td>\n",
       "      <td>17 Years and 11 Months</td>\n",
       "      <td>No</td>\n",
       "      <td>246.992</td>\n",
       "      <td>10000</td>\n",
       "      <td>HighspentSmallvaluepayments</td>\n",
       "      <td>715.741367403555</td>\n",
       "      <td>2</td>\n",
       "    </tr>\n",
       "    <tr>\n",
       "      <th>...</th>\n",
       "      <td>...</td>\n",
       "      <td>...</td>\n",
       "      <td>...</td>\n",
       "      <td>...</td>\n",
       "      <td>...</td>\n",
       "      <td>...</td>\n",
       "      <td>...</td>\n",
       "      <td>...</td>\n",
       "      <td>...</td>\n",
       "      <td>...</td>\n",
       "      <td>...</td>\n",
       "      <td>...</td>\n",
       "      <td>...</td>\n",
       "      <td>...</td>\n",
       "      <td>...</td>\n",
       "      <td>...</td>\n",
       "      <td>...</td>\n",
       "      <td>...</td>\n",
       "      <td>...</td>\n",
       "      <td>...</td>\n",
       "    </tr>\n",
       "    <tr>\n",
       "      <th>99989</th>\n",
       "      <td>28</td>\n",
       "      <td></td>\n",
       "      <td>20002.88</td>\n",
       "      <td>10</td>\n",
       "      <td>8</td>\n",
       "      <td>29</td>\n",
       "      <td>5</td>\n",
       "      <td>33</td>\n",
       "      <td>25</td>\n",
       "      <td>9.000</td>\n",
       "      <td>Bad</td>\n",
       "      <td>3571.7</td>\n",
       "      <td>33.360</td>\n",
       "      <td>6 Years and 1 Months</td>\n",
       "      <td>Yes</td>\n",
       "      <td>60.965</td>\n",
       "      <td>74.36660309585342</td>\n",
       "      <td>!@9#%8</td>\n",
       "      <td>307.659</td>\n",
       "      <td>1</td>\n",
       "    </tr>\n",
       "    <tr>\n",
       "      <th>99992</th>\n",
       "      <td>24</td>\n",
       "      <td>Mechanic</td>\n",
       "      <td>39628.99</td>\n",
       "      <td>4</td>\n",
       "      <td>6</td>\n",
       "      <td>7</td>\n",
       "      <td>2</td>\n",
       "      <td>23</td>\n",
       "      <td>NaN</td>\n",
       "      <td>3.000</td>\n",
       "      <td></td>\n",
       "      <td>502.38</td>\n",
       "      <td>32.991</td>\n",
       "      <td>31 Years and 3 Months</td>\n",
       "      <td>No</td>\n",
       "      <td>35.104</td>\n",
       "      <td>401.1964806036356</td>\n",
       "      <td>LowspentSmallvaluepayments</td>\n",
       "      <td>189.641</td>\n",
       "      <td>0</td>\n",
       "    </tr>\n",
       "    <tr>\n",
       "      <th>99994</th>\n",
       "      <td>25</td>\n",
       "      <td>Mechanic</td>\n",
       "      <td>39628.99</td>\n",
       "      <td>4</td>\n",
       "      <td>6</td>\n",
       "      <td>7</td>\n",
       "      <td>2</td>\n",
       "      <td>20</td>\n",
       "      <td>6</td>\n",
       "      <td>3.000</td>\n",
       "      <td></td>\n",
       "      <td>502.38</td>\n",
       "      <td>39.324</td>\n",
       "      <td>31 Years and 5 Months</td>\n",
       "      <td>No</td>\n",
       "      <td>35.104</td>\n",
       "      <td>140.58140274528395</td>\n",
       "      <td>HighspentMediumvaluepayments</td>\n",
       "      <td>410.256</td>\n",
       "      <td>0</td>\n",
       "    </tr>\n",
       "    <tr>\n",
       "      <th>99995</th>\n",
       "      <td>25</td>\n",
       "      <td>Mechanic</td>\n",
       "      <td>39628.99</td>\n",
       "      <td>4</td>\n",
       "      <td>6</td>\n",
       "      <td>7</td>\n",
       "      <td>2</td>\n",
       "      <td>23</td>\n",
       "      <td>7</td>\n",
       "      <td>3.000</td>\n",
       "      <td></td>\n",
       "      <td>502.38</td>\n",
       "      <td>34.664</td>\n",
       "      <td>31 Years and 6 Months</td>\n",
       "      <td>No</td>\n",
       "      <td>35.104</td>\n",
       "      <td>60.97133255718485</td>\n",
       "      <td>HighspentLargevaluepayments</td>\n",
       "      <td>479.866</td>\n",
       "      <td>0</td>\n",
       "    </tr>\n",
       "    <tr>\n",
       "      <th>99996</th>\n",
       "      <td>25</td>\n",
       "      <td>Mechanic</td>\n",
       "      <td>39628.99</td>\n",
       "      <td>4</td>\n",
       "      <td>6</td>\n",
       "      <td>7</td>\n",
       "      <td>2</td>\n",
       "      <td>18</td>\n",
       "      <td>7</td>\n",
       "      <td>3.000</td>\n",
       "      <td></td>\n",
       "      <td>502.38</td>\n",
       "      <td>40.566</td>\n",
       "      <td>31 Years and 7 Months</td>\n",
       "      <td>No</td>\n",
       "      <td>35.104</td>\n",
       "      <td>54.18595028760385</td>\n",
       "      <td>HighspentMediumvaluepayments</td>\n",
       "      <td>496.652</td>\n",
       "      <td>0</td>\n",
       "    </tr>\n",
       "  </tbody>\n",
       "</table>\n",
       "<p>25836 rows × 20 columns</p>\n",
       "</div>"
      ],
      "text/plain": [
       "      Age Occupation Annual_Income  Num_Bank_Accounts  Num_Credit_Card  \\\n",
       "0      23  Scientist      19114.12                  3                4   \n",
       "8      28                 34847.84                  2                4   \n",
       "10     28    Teacher      34847.84                  2             1385   \n",
       "16     34                143162.64                  1                5   \n",
       "18     34                143162.64                  1                5   \n",
       "...    ..        ...           ...                ...              ...   \n",
       "99989  28                 20002.88                 10                8   \n",
       "99992  24   Mechanic      39628.99                  4                6   \n",
       "99994  25   Mechanic      39628.99                  4                6   \n",
       "99995  25   Mechanic      39628.99                  4                6   \n",
       "99996  25   Mechanic      39628.99                  4                6   \n",
       "\n",
       "       Interest_Rate Num_of_Loan  Delay_from_due_date Num_of_Delayed_Payment  \\\n",
       "0                  3           4                    3                      7   \n",
       "8                  6           1                    3                      4   \n",
       "10                 6           1                    3                     -1   \n",
       "16                 8           3                    5                      8   \n",
       "18                 8           3                    8                      7   \n",
       "...              ...         ...                  ...                    ...   \n",
       "99989             29           5                   33                     25   \n",
       "99992              7           2                   23                    NaN   \n",
       "99994              7           2                   20                      6   \n",
       "99995              7           2                   23                      7   \n",
       "99996              7           2                   18                      7   \n",
       "\n",
       "       Num_Credit_Inquiries Credit_Mix Outstanding_Debt  \\\n",
       "0                     4.000                      809.98   \n",
       "8                     2.000       Good           605.03   \n",
       "10                    2.000                      605.03   \n",
       "16                    3.000       Good          1303.01   \n",
       "18                      NaN       Good          1303.01   \n",
       "...                     ...        ...              ...   \n",
       "99989                 9.000        Bad           3571.7   \n",
       "99992                 3.000                      502.38   \n",
       "99994                 3.000                      502.38   \n",
       "99995                 3.000                      502.38   \n",
       "99996                 3.000                      502.38   \n",
       "\n",
       "       Credit_Utilization_Ratio      Credit_History_Age Payment_of_Min_Amount  \\\n",
       "0                        26.823   22 Years and 1 Months                    No   \n",
       "8                        24.464   26 Years and 7 Months                    No   \n",
       "10                       33.225   26 Years and 9 Months                    No   \n",
       "16                       28.617   17 Years and 9 Months                    No   \n",
       "18                       26.520  17 Years and 11 Months                    No   \n",
       "...                         ...                     ...                   ...   \n",
       "99989                    33.360    6 Years and 1 Months                   Yes   \n",
       "99992                    32.991   31 Years and 3 Months                    No   \n",
       "99994                    39.324   31 Years and 5 Months                    No   \n",
       "99995                    34.664   31 Years and 6 Months                    No   \n",
       "99996                    40.566   31 Years and 7 Months                    No   \n",
       "\n",
       "       Total_EMI_per_month Amount_invested_monthly  \\\n",
       "0                   49.575       80.41529543900253   \n",
       "8                   18.816        104.291825168246   \n",
       "10                  18.816       58.51597569589465   \n",
       "16                 246.992        168.413702679309   \n",
       "18                 246.992                   10000   \n",
       "...                    ...                     ...   \n",
       "99989               60.965       74.36660309585342   \n",
       "99992               35.104       401.1964806036356   \n",
       "99994               35.104      140.58140274528395   \n",
       "99995               35.104       60.97133255718485   \n",
       "99996               35.104       54.18595028760385   \n",
       "\n",
       "                  Payment_Behaviour     Monthly_Balance  Credit_Score  \n",
       "0       HighspentSmallvaluepayments  312.49408867943663             2  \n",
       "8        LowspentSmallvaluepayments  470.69062692529184             1  \n",
       "10      HighspentLargevaluepayments  466.46647639764313             1  \n",
       "16                           !@9#%8  1043.3159778669492             2  \n",
       "18      HighspentSmallvaluepayments    715.741367403555             2  \n",
       "...                             ...                 ...           ...  \n",
       "99989                        !@9#%8             307.659             1  \n",
       "99992    LowspentSmallvaluepayments             189.641             0  \n",
       "99994  HighspentMediumvaluepayments             410.256             0  \n",
       "99995   HighspentLargevaluepayments             479.866             0  \n",
       "99996  HighspentMediumvaluepayments             496.652             0  \n",
       "\n",
       "[25836 rows x 20 columns]"
      ]
     },
     "execution_count": 7,
     "metadata": {},
     "output_type": "execute_result"
    }
   ],
   "source": [
    "df = df.replace(\"_\", \"\", regex=True)\n",
    "df[df.eq('').any(axis=1)] "
   ]
  },
  {
   "cell_type": "code",
   "execution_count": 8,
   "metadata": {
    "execution": {
     "iopub.execute_input": "2024-04-20T17:04:12.762815Z",
     "iopub.status.busy": "2024-04-20T17:04:12.762505Z",
     "iopub.status.idle": "2024-04-20T17:04:13.096194Z",
     "shell.execute_reply": "2024-04-20T17:04:13.094793Z",
     "shell.execute_reply.started": "2024-04-20T17:04:12.762788Z"
    },
    "trusted": true
   },
   "outputs": [],
   "source": [
    "rows_with_empty_values = df[df.eq('').any(axis=1)]\n",
    "\n",
    "# Fill empty values with np.nan in selected rows\n",
    "df.loc[rows_with_empty_values.index] = df.loc[rows_with_empty_values.index].replace('', np.nan)"
   ]
  },
  {
   "cell_type": "code",
   "execution_count": 9,
   "metadata": {
    "execution": {
     "iopub.execute_input": "2024-04-20T17:04:13.098938Z",
     "iopub.status.busy": "2024-04-20T17:04:13.098453Z",
     "iopub.status.idle": "2024-04-20T17:04:13.125558Z",
     "shell.execute_reply": "2024-04-20T17:04:13.12434Z",
     "shell.execute_reply.started": "2024-04-20T17:04:13.098892Z"
    },
    "trusted": true
   },
   "outputs": [
    {
     "data": {
      "text/html": [
       "<div>\n",
       "<style scoped>\n",
       "    .dataframe tbody tr th:only-of-type {\n",
       "        vertical-align: middle;\n",
       "    }\n",
       "\n",
       "    .dataframe tbody tr th {\n",
       "        vertical-align: top;\n",
       "    }\n",
       "\n",
       "    .dataframe thead th {\n",
       "        text-align: right;\n",
       "    }\n",
       "</style>\n",
       "<table border=\"1\" class=\"dataframe\">\n",
       "  <thead>\n",
       "    <tr style=\"text-align: right;\">\n",
       "      <th></th>\n",
       "      <th>Age</th>\n",
       "      <th>Occupation</th>\n",
       "      <th>Annual_Income</th>\n",
       "      <th>Num_Bank_Accounts</th>\n",
       "      <th>Num_Credit_Card</th>\n",
       "      <th>Interest_Rate</th>\n",
       "      <th>Num_of_Loan</th>\n",
       "      <th>Delay_from_due_date</th>\n",
       "      <th>Num_of_Delayed_Payment</th>\n",
       "      <th>Num_Credit_Inquiries</th>\n",
       "      <th>Credit_Mix</th>\n",
       "      <th>Outstanding_Debt</th>\n",
       "      <th>Credit_Utilization_Ratio</th>\n",
       "      <th>Credit_History_Age</th>\n",
       "      <th>Payment_of_Min_Amount</th>\n",
       "      <th>Total_EMI_per_month</th>\n",
       "      <th>Amount_invested_monthly</th>\n",
       "      <th>Payment_Behaviour</th>\n",
       "      <th>Monthly_Balance</th>\n",
       "      <th>Credit_Score</th>\n",
       "    </tr>\n",
       "  </thead>\n",
       "  <tbody>\n",
       "    <tr>\n",
       "      <th>0</th>\n",
       "      <td>23</td>\n",
       "      <td>Scientist</td>\n",
       "      <td>19114.12</td>\n",
       "      <td>3</td>\n",
       "      <td>4</td>\n",
       "      <td>3</td>\n",
       "      <td>4</td>\n",
       "      <td>3</td>\n",
       "      <td>7</td>\n",
       "      <td>4.000</td>\n",
       "      <td>NaN</td>\n",
       "      <td>809.98</td>\n",
       "      <td>26.823</td>\n",
       "      <td>22 Years and 1 Months</td>\n",
       "      <td>No</td>\n",
       "      <td>49.575</td>\n",
       "      <td>80.41529543900253</td>\n",
       "      <td>HighspentSmallvaluepayments</td>\n",
       "      <td>312.49408867943663</td>\n",
       "      <td>2</td>\n",
       "    </tr>\n",
       "    <tr>\n",
       "      <th>1</th>\n",
       "      <td>23</td>\n",
       "      <td>Scientist</td>\n",
       "      <td>19114.12</td>\n",
       "      <td>3</td>\n",
       "      <td>4</td>\n",
       "      <td>3</td>\n",
       "      <td>4</td>\n",
       "      <td>-1</td>\n",
       "      <td>NaN</td>\n",
       "      <td>4.000</td>\n",
       "      <td>Good</td>\n",
       "      <td>809.98</td>\n",
       "      <td>31.945</td>\n",
       "      <td>NaN</td>\n",
       "      <td>No</td>\n",
       "      <td>49.575</td>\n",
       "      <td>118.28022162236736</td>\n",
       "      <td>LowspentLargevaluepayments</td>\n",
       "      <td>284.62916249607184</td>\n",
       "      <td>2</td>\n",
       "    </tr>\n",
       "    <tr>\n",
       "      <th>2</th>\n",
       "      <td>-500</td>\n",
       "      <td>Scientist</td>\n",
       "      <td>19114.12</td>\n",
       "      <td>3</td>\n",
       "      <td>4</td>\n",
       "      <td>3</td>\n",
       "      <td>4</td>\n",
       "      <td>3</td>\n",
       "      <td>7</td>\n",
       "      <td>4.000</td>\n",
       "      <td>Good</td>\n",
       "      <td>809.98</td>\n",
       "      <td>28.609</td>\n",
       "      <td>22 Years and 3 Months</td>\n",
       "      <td>No</td>\n",
       "      <td>49.575</td>\n",
       "      <td>81.699521264648</td>\n",
       "      <td>LowspentMediumvaluepayments</td>\n",
       "      <td>331.2098628537912</td>\n",
       "      <td>2</td>\n",
       "    </tr>\n",
       "    <tr>\n",
       "      <th>3</th>\n",
       "      <td>23</td>\n",
       "      <td>Scientist</td>\n",
       "      <td>19114.12</td>\n",
       "      <td>3</td>\n",
       "      <td>4</td>\n",
       "      <td>3</td>\n",
       "      <td>4</td>\n",
       "      <td>5</td>\n",
       "      <td>4</td>\n",
       "      <td>4.000</td>\n",
       "      <td>Good</td>\n",
       "      <td>809.98</td>\n",
       "      <td>31.378</td>\n",
       "      <td>22 Years and 4 Months</td>\n",
       "      <td>No</td>\n",
       "      <td>49.575</td>\n",
       "      <td>199.4580743910713</td>\n",
       "      <td>LowspentSmallvaluepayments</td>\n",
       "      <td>223.45130972736786</td>\n",
       "      <td>2</td>\n",
       "    </tr>\n",
       "    <tr>\n",
       "      <th>4</th>\n",
       "      <td>23</td>\n",
       "      <td>Scientist</td>\n",
       "      <td>19114.12</td>\n",
       "      <td>3</td>\n",
       "      <td>4</td>\n",
       "      <td>3</td>\n",
       "      <td>4</td>\n",
       "      <td>6</td>\n",
       "      <td>NaN</td>\n",
       "      <td>4.000</td>\n",
       "      <td>Good</td>\n",
       "      <td>809.98</td>\n",
       "      <td>24.797</td>\n",
       "      <td>22 Years and 5 Months</td>\n",
       "      <td>No</td>\n",
       "      <td>49.575</td>\n",
       "      <td>41.420153086217326</td>\n",
       "      <td>HighspentMediumvaluepayments</td>\n",
       "      <td>341.48923103222177</td>\n",
       "      <td>2</td>\n",
       "    </tr>\n",
       "  </tbody>\n",
       "</table>\n",
       "</div>"
      ],
      "text/plain": [
       "    Age Occupation Annual_Income  Num_Bank_Accounts  Num_Credit_Card  \\\n",
       "0    23  Scientist      19114.12                  3                4   \n",
       "1    23  Scientist      19114.12                  3                4   \n",
       "2  -500  Scientist      19114.12                  3                4   \n",
       "3    23  Scientist      19114.12                  3                4   \n",
       "4    23  Scientist      19114.12                  3                4   \n",
       "\n",
       "   Interest_Rate Num_of_Loan  Delay_from_due_date Num_of_Delayed_Payment  \\\n",
       "0              3           4                    3                      7   \n",
       "1              3           4                   -1                    NaN   \n",
       "2              3           4                    3                      7   \n",
       "3              3           4                    5                      4   \n",
       "4              3           4                    6                    NaN   \n",
       "\n",
       "   Num_Credit_Inquiries Credit_Mix Outstanding_Debt  Credit_Utilization_Ratio  \\\n",
       "0                 4.000        NaN           809.98                    26.823   \n",
       "1                 4.000       Good           809.98                    31.945   \n",
       "2                 4.000       Good           809.98                    28.609   \n",
       "3                 4.000       Good           809.98                    31.378   \n",
       "4                 4.000       Good           809.98                    24.797   \n",
       "\n",
       "      Credit_History_Age Payment_of_Min_Amount  Total_EMI_per_month  \\\n",
       "0  22 Years and 1 Months                    No               49.575   \n",
       "1                    NaN                    No               49.575   \n",
       "2  22 Years and 3 Months                    No               49.575   \n",
       "3  22 Years and 4 Months                    No               49.575   \n",
       "4  22 Years and 5 Months                    No               49.575   \n",
       "\n",
       "  Amount_invested_monthly             Payment_Behaviour     Monthly_Balance  \\\n",
       "0       80.41529543900253   HighspentSmallvaluepayments  312.49408867943663   \n",
       "1      118.28022162236736    LowspentLargevaluepayments  284.62916249607184   \n",
       "2         81.699521264648   LowspentMediumvaluepayments   331.2098628537912   \n",
       "3       199.4580743910713    LowspentSmallvaluepayments  223.45130972736786   \n",
       "4      41.420153086217326  HighspentMediumvaluepayments  341.48923103222177   \n",
       "\n",
       "   Credit_Score  \n",
       "0             2  \n",
       "1             2  \n",
       "2             2  \n",
       "3             2  \n",
       "4             2  "
      ]
     },
     "execution_count": 9,
     "metadata": {},
     "output_type": "execute_result"
    }
   ],
   "source": [
    "df.head()"
   ]
  },
  {
   "cell_type": "code",
   "execution_count": 10,
   "metadata": {
    "execution": {
     "iopub.execute_input": "2024-04-20T17:04:13.730825Z",
     "iopub.status.busy": "2024-04-20T17:04:13.730371Z",
     "iopub.status.idle": "2024-04-20T17:04:13.738172Z",
     "shell.execute_reply": "2024-04-20T17:04:13.736871Z",
     "shell.execute_reply.started": "2024-04-20T17:04:13.730787Z"
    },
    "trusted": true
   },
   "outputs": [
    {
     "data": {
      "text/plain": [
       "(100000, 20)"
      ]
     },
     "execution_count": 10,
     "metadata": {},
     "output_type": "execute_result"
    }
   ],
   "source": [
    "df.shape"
   ]
  },
  {
   "cell_type": "code",
   "execution_count": 11,
   "metadata": {
    "execution": {
     "iopub.execute_input": "2024-04-20T17:04:14.34343Z",
     "iopub.status.busy": "2024-04-20T17:04:14.34299Z",
     "iopub.status.idle": "2024-04-20T17:04:14.479539Z",
     "shell.execute_reply": "2024-04-20T17:04:14.478258Z",
     "shell.execute_reply.started": "2024-04-20T17:04:14.343397Z"
    },
    "trusted": true
   },
   "outputs": [
    {
     "data": {
      "text/plain": [
       "Age                             0\n",
       "Occupation                   7062\n",
       "Annual_Income                   0\n",
       "Num_Bank_Accounts               0\n",
       "Num_Credit_Card                 0\n",
       "Interest_Rate                   0\n",
       "Num_of_Loan                     0\n",
       "Delay_from_due_date             0\n",
       "Num_of_Delayed_Payment       7002\n",
       "Num_Credit_Inquiries         1965\n",
       "Credit_Mix                  20195\n",
       "Outstanding_Debt                0\n",
       "Credit_Utilization_Ratio        0\n",
       "Credit_History_Age           9030\n",
       "Payment_of_Min_Amount           0\n",
       "Total_EMI_per_month             0\n",
       "Amount_invested_monthly      4479\n",
       "Payment_Behaviour               0\n",
       "Monthly_Balance              1200\n",
       "Credit_Score                    0\n",
       "dtype: int64"
      ]
     },
     "execution_count": 11,
     "metadata": {},
     "output_type": "execute_result"
    }
   ],
   "source": [
    "df.isna().sum()"
   ]
  },
  {
   "cell_type": "code",
   "execution_count": 12,
   "metadata": {
    "execution": {
     "iopub.execute_input": "2024-04-20T17:04:14.886072Z",
     "iopub.status.busy": "2024-04-20T17:04:14.885677Z",
     "iopub.status.idle": "2024-04-20T17:04:14.950093Z",
     "shell.execute_reply": "2024-04-20T17:04:14.94883Z",
     "shell.execute_reply.started": "2024-04-20T17:04:14.886043Z"
    },
    "trusted": true
   },
   "outputs": [
    {
     "data": {
      "text/html": [
       "<div>\n",
       "<style scoped>\n",
       "    .dataframe tbody tr th:only-of-type {\n",
       "        vertical-align: middle;\n",
       "    }\n",
       "\n",
       "    .dataframe tbody tr th {\n",
       "        vertical-align: top;\n",
       "    }\n",
       "\n",
       "    .dataframe thead th {\n",
       "        text-align: right;\n",
       "    }\n",
       "</style>\n",
       "<table border=\"1\" class=\"dataframe\">\n",
       "  <thead>\n",
       "    <tr style=\"text-align: right;\">\n",
       "      <th></th>\n",
       "      <th>count</th>\n",
       "      <th>mean</th>\n",
       "      <th>std</th>\n",
       "      <th>min</th>\n",
       "      <th>25%</th>\n",
       "      <th>50%</th>\n",
       "      <th>75%</th>\n",
       "      <th>max</th>\n",
       "    </tr>\n",
       "  </thead>\n",
       "  <tbody>\n",
       "    <tr>\n",
       "      <th>Num_Bank_Accounts</th>\n",
       "      <td>100000.000</td>\n",
       "      <td>17.091</td>\n",
       "      <td>117.405</td>\n",
       "      <td>-1.000</td>\n",
       "      <td>3.000</td>\n",
       "      <td>6.000</td>\n",
       "      <td>7.000</td>\n",
       "      <td>1798.000</td>\n",
       "    </tr>\n",
       "    <tr>\n",
       "      <th>Num_Credit_Card</th>\n",
       "      <td>100000.000</td>\n",
       "      <td>22.474</td>\n",
       "      <td>129.057</td>\n",
       "      <td>0.000</td>\n",
       "      <td>4.000</td>\n",
       "      <td>5.000</td>\n",
       "      <td>7.000</td>\n",
       "      <td>1499.000</td>\n",
       "    </tr>\n",
       "    <tr>\n",
       "      <th>Interest_Rate</th>\n",
       "      <td>100000.000</td>\n",
       "      <td>72.466</td>\n",
       "      <td>466.423</td>\n",
       "      <td>1.000</td>\n",
       "      <td>8.000</td>\n",
       "      <td>13.000</td>\n",
       "      <td>20.000</td>\n",
       "      <td>5797.000</td>\n",
       "    </tr>\n",
       "    <tr>\n",
       "      <th>Delay_from_due_date</th>\n",
       "      <td>100000.000</td>\n",
       "      <td>21.069</td>\n",
       "      <td>14.860</td>\n",
       "      <td>-5.000</td>\n",
       "      <td>10.000</td>\n",
       "      <td>18.000</td>\n",
       "      <td>28.000</td>\n",
       "      <td>67.000</td>\n",
       "    </tr>\n",
       "    <tr>\n",
       "      <th>Num_Credit_Inquiries</th>\n",
       "      <td>98035.000</td>\n",
       "      <td>27.754</td>\n",
       "      <td>193.177</td>\n",
       "      <td>0.000</td>\n",
       "      <td>3.000</td>\n",
       "      <td>6.000</td>\n",
       "      <td>9.000</td>\n",
       "      <td>2597.000</td>\n",
       "    </tr>\n",
       "    <tr>\n",
       "      <th>Credit_Utilization_Ratio</th>\n",
       "      <td>100000.000</td>\n",
       "      <td>32.285</td>\n",
       "      <td>5.117</td>\n",
       "      <td>20.000</td>\n",
       "      <td>28.053</td>\n",
       "      <td>32.306</td>\n",
       "      <td>36.497</td>\n",
       "      <td>50.000</td>\n",
       "    </tr>\n",
       "    <tr>\n",
       "      <th>Total_EMI_per_month</th>\n",
       "      <td>100000.000</td>\n",
       "      <td>1403.118</td>\n",
       "      <td>8306.041</td>\n",
       "      <td>0.000</td>\n",
       "      <td>30.307</td>\n",
       "      <td>69.249</td>\n",
       "      <td>161.224</td>\n",
       "      <td>82331.000</td>\n",
       "    </tr>\n",
       "    <tr>\n",
       "      <th>Credit_Score</th>\n",
       "      <td>100000.000</td>\n",
       "      <td>0.888</td>\n",
       "      <td>0.675</td>\n",
       "      <td>0.000</td>\n",
       "      <td>0.000</td>\n",
       "      <td>1.000</td>\n",
       "      <td>1.000</td>\n",
       "      <td>2.000</td>\n",
       "    </tr>\n",
       "  </tbody>\n",
       "</table>\n",
       "</div>"
      ],
      "text/plain": [
       "                              count     mean      std    min    25%    50%  \\\n",
       "Num_Bank_Accounts        100000.000   17.091  117.405 -1.000  3.000  6.000   \n",
       "Num_Credit_Card          100000.000   22.474  129.057  0.000  4.000  5.000   \n",
       "Interest_Rate            100000.000   72.466  466.423  1.000  8.000 13.000   \n",
       "Delay_from_due_date      100000.000   21.069   14.860 -5.000 10.000 18.000   \n",
       "Num_Credit_Inquiries      98035.000   27.754  193.177  0.000  3.000  6.000   \n",
       "Credit_Utilization_Ratio 100000.000   32.285    5.117 20.000 28.053 32.306   \n",
       "Total_EMI_per_month      100000.000 1403.118 8306.041  0.000 30.307 69.249   \n",
       "Credit_Score             100000.000    0.888    0.675  0.000  0.000  1.000   \n",
       "\n",
       "                             75%       max  \n",
       "Num_Bank_Accounts          7.000  1798.000  \n",
       "Num_Credit_Card            7.000  1499.000  \n",
       "Interest_Rate             20.000  5797.000  \n",
       "Delay_from_due_date       28.000    67.000  \n",
       "Num_Credit_Inquiries       9.000  2597.000  \n",
       "Credit_Utilization_Ratio  36.497    50.000  \n",
       "Total_EMI_per_month      161.224 82331.000  \n",
       "Credit_Score               1.000     2.000  "
      ]
     },
     "execution_count": 12,
     "metadata": {},
     "output_type": "execute_result"
    }
   ],
   "source": [
    "df.describe().T"
   ]
  },
  {
   "cell_type": "code",
   "execution_count": 13,
   "metadata": {
    "execution": {
     "iopub.execute_input": "2024-04-20T17:04:15.495448Z",
     "iopub.status.busy": "2024-04-20T17:04:15.495055Z",
     "iopub.status.idle": "2024-04-20T17:04:16.013404Z",
     "shell.execute_reply": "2024-04-20T17:04:16.012237Z",
     "shell.execute_reply.started": "2024-04-20T17:04:15.495418Z"
    },
    "trusted": true
   },
   "outputs": [
    {
     "data": {
      "text/html": [
       "<div>\n",
       "<style scoped>\n",
       "    .dataframe tbody tr th:only-of-type {\n",
       "        vertical-align: middle;\n",
       "    }\n",
       "\n",
       "    .dataframe tbody tr th {\n",
       "        vertical-align: top;\n",
       "    }\n",
       "\n",
       "    .dataframe thead th {\n",
       "        text-align: right;\n",
       "    }\n",
       "</style>\n",
       "<table border=\"1\" class=\"dataframe\">\n",
       "  <thead>\n",
       "    <tr style=\"text-align: right;\">\n",
       "      <th></th>\n",
       "      <th>count</th>\n",
       "      <th>unique</th>\n",
       "      <th>top</th>\n",
       "      <th>freq</th>\n",
       "    </tr>\n",
       "  </thead>\n",
       "  <tbody>\n",
       "    <tr>\n",
       "      <th>Age</th>\n",
       "      <td>100000</td>\n",
       "      <td>1728</td>\n",
       "      <td>38</td>\n",
       "      <td>2994</td>\n",
       "    </tr>\n",
       "    <tr>\n",
       "      <th>Occupation</th>\n",
       "      <td>92938</td>\n",
       "      <td>15</td>\n",
       "      <td>Lawyer</td>\n",
       "      <td>6575</td>\n",
       "    </tr>\n",
       "    <tr>\n",
       "      <th>Annual_Income</th>\n",
       "      <td>100000</td>\n",
       "      <td>13487</td>\n",
       "      <td>17816.75</td>\n",
       "      <td>16</td>\n",
       "    </tr>\n",
       "    <tr>\n",
       "      <th>Num_of_Loan</th>\n",
       "      <td>100000</td>\n",
       "      <td>414</td>\n",
       "      <td>3</td>\n",
       "      <td>15104</td>\n",
       "    </tr>\n",
       "    <tr>\n",
       "      <th>Num_of_Delayed_Payment</th>\n",
       "      <td>92998</td>\n",
       "      <td>711</td>\n",
       "      <td>19</td>\n",
       "      <td>5481</td>\n",
       "    </tr>\n",
       "    <tr>\n",
       "      <th>Credit_Mix</th>\n",
       "      <td>79805</td>\n",
       "      <td>3</td>\n",
       "      <td>Standard</td>\n",
       "      <td>36479</td>\n",
       "    </tr>\n",
       "    <tr>\n",
       "      <th>Outstanding_Debt</th>\n",
       "      <td>100000</td>\n",
       "      <td>12203</td>\n",
       "      <td>1109.03</td>\n",
       "      <td>24</td>\n",
       "    </tr>\n",
       "    <tr>\n",
       "      <th>Credit_History_Age</th>\n",
       "      <td>90970</td>\n",
       "      <td>404</td>\n",
       "      <td>15 Years and 11 Months</td>\n",
       "      <td>446</td>\n",
       "    </tr>\n",
       "    <tr>\n",
       "      <th>Payment_of_Min_Amount</th>\n",
       "      <td>100000</td>\n",
       "      <td>3</td>\n",
       "      <td>Yes</td>\n",
       "      <td>52326</td>\n",
       "    </tr>\n",
       "    <tr>\n",
       "      <th>Amount_invested_monthly</th>\n",
       "      <td>95521</td>\n",
       "      <td>91049</td>\n",
       "      <td>10000</td>\n",
       "      <td>4305</td>\n",
       "    </tr>\n",
       "    <tr>\n",
       "      <th>Payment_Behaviour</th>\n",
       "      <td>100000</td>\n",
       "      <td>7</td>\n",
       "      <td>LowspentSmallvaluepayments</td>\n",
       "      <td>25513</td>\n",
       "    </tr>\n",
       "    <tr>\n",
       "      <th>Monthly_Balance</th>\n",
       "      <td>98800</td>\n",
       "      <td>98792</td>\n",
       "      <td>-333333333333333333333333333</td>\n",
       "      <td>9</td>\n",
       "    </tr>\n",
       "  </tbody>\n",
       "</table>\n",
       "</div>"
      ],
      "text/plain": [
       "                          count unique                           top   freq\n",
       "Age                      100000   1728                            38   2994\n",
       "Occupation                92938     15                        Lawyer   6575\n",
       "Annual_Income            100000  13487                      17816.75     16\n",
       "Num_of_Loan              100000    414                             3  15104\n",
       "Num_of_Delayed_Payment    92998    711                            19   5481\n",
       "Credit_Mix                79805      3                      Standard  36479\n",
       "Outstanding_Debt         100000  12203                       1109.03     24\n",
       "Credit_History_Age        90970    404        15 Years and 11 Months    446\n",
       "Payment_of_Min_Amount    100000      3                           Yes  52326\n",
       "Amount_invested_monthly   95521  91049                         10000   4305\n",
       "Payment_Behaviour        100000      7    LowspentSmallvaluepayments  25513\n",
       "Monthly_Balance           98800  98792  -333333333333333333333333333      9"
      ]
     },
     "execution_count": 13,
     "metadata": {},
     "output_type": "execute_result"
    }
   ],
   "source": [
    "df.describe(include='object').T"
   ]
  },
  {
   "cell_type": "markdown",
   "metadata": {},
   "source": [
    "## Find and Change wrong/missing values"
   ]
  },
  {
   "cell_type": "markdown",
   "metadata": {},
   "source": [
    "### Age"
   ]
  },
  {
   "cell_type": "code",
   "execution_count": 14,
   "metadata": {
    "execution": {
     "iopub.execute_input": "2024-04-20T17:04:17.383659Z",
     "iopub.status.busy": "2024-04-20T17:04:17.382873Z",
     "iopub.status.idle": "2024-04-20T17:04:17.402988Z",
     "shell.execute_reply": "2024-04-20T17:04:17.401624Z",
     "shell.execute_reply.started": "2024-04-20T17:04:17.383611Z"
    },
    "trusted": true
   },
   "outputs": [
    {
     "data": {
      "text/plain": [
       "1728"
      ]
     },
     "execution_count": 14,
     "metadata": {},
     "output_type": "execute_result"
    }
   ],
   "source": [
    "df.Age.nunique()"
   ]
  },
  {
   "cell_type": "code",
   "execution_count": 15,
   "metadata": {
    "execution": {
     "iopub.execute_input": "2024-04-20T17:04:18.134754Z",
     "iopub.status.busy": "2024-04-20T17:04:18.13433Z",
     "iopub.status.idle": "2024-04-20T17:04:18.161727Z",
     "shell.execute_reply": "2024-04-20T17:04:18.16059Z",
     "shell.execute_reply.started": "2024-04-20T17:04:18.134722Z"
    },
    "trusted": true
   },
   "outputs": [
    {
     "data": {
      "text/plain": [
       "Age\n",
       "38    2994\n",
       "28    2968\n",
       "31    2955\n",
       "26    2945\n",
       "32    2884\n",
       "36    2868\n",
       "35    2866\n",
       "25    2861\n",
       "27    2859\n",
       "39    2846\n",
       "Name: count, dtype: int64"
      ]
     },
     "execution_count": 15,
     "metadata": {},
     "output_type": "execute_result"
    }
   ],
   "source": [
    "df.Age.value_counts(ascending=False).head(10)"
   ]
  },
  {
   "cell_type": "code",
   "execution_count": 16,
   "metadata": {
    "execution": {
     "iopub.execute_input": "2024-04-20T17:04:18.785569Z",
     "iopub.status.busy": "2024-04-20T17:04:18.785174Z",
     "iopub.status.idle": "2024-04-20T17:04:19.074404Z",
     "shell.execute_reply": "2024-04-20T17:04:19.073215Z",
     "shell.execute_reply.started": "2024-04-20T17:04:18.785524Z"
    },
    "trusted": true
   },
   "outputs": [
    {
     "name": "stdout",
     "output_type": "stream",
     "text": [
      "{'-'}\n"
     ]
    }
   ],
   "source": [
    "import re\n",
    "\n",
    "def non_numeric_values(df, column_name):\n",
    "    # Define a regular expression pattern to match numeric characters\n",
    "    pattern = r'\\D+'\n",
    "    \n",
    "    # Find non-numeric values using regular expression\n",
    "    non_numeric_values = df[column_name].astype(str).str.findall(pattern)\n",
    "    \n",
    "    # Flatten the list of lists\n",
    "    non_numeric_values = [item for sublist in non_numeric_values for item in sublist]\n",
    "    \n",
    "    # Use set to ensure uniqueness\n",
    "    unique_non_numeric_values = set(non_numeric_values)\n",
    "    \n",
    "    return unique_non_numeric_values\n",
    "\n",
    "unique_non_numeric = non_numeric_values(df, 'Age')\n",
    "print(unique_non_numeric)\n"
   ]
  },
  {
   "cell_type": "code",
   "execution_count": 17,
   "metadata": {
    "execution": {
     "iopub.execute_input": "2024-04-20T17:04:19.372231Z",
     "iopub.status.busy": "2024-04-20T17:04:19.371474Z",
     "iopub.status.idle": "2024-04-20T17:04:19.48316Z",
     "shell.execute_reply": "2024-04-20T17:04:19.481915Z",
     "shell.execute_reply.started": "2024-04-20T17:04:19.372192Z"
    },
    "trusted": true
   },
   "outputs": [
    {
     "data": {
      "text/plain": [
       "array([-500], dtype=int64)"
      ]
     },
     "execution_count": 17,
     "metadata": {},
     "output_type": "execute_result"
    }
   ],
   "source": [
    "df['Age'] = pd.to_numeric(df['Age'], errors='coerce')\n",
    "df[df['Age'] < 0]['Age'].unique()"
   ]
  },
  {
   "cell_type": "code",
   "execution_count": 18,
   "metadata": {
    "execution": {
     "iopub.execute_input": "2024-04-20T17:04:20.185623Z",
     "iopub.status.busy": "2024-04-20T17:04:20.184778Z",
     "iopub.status.idle": "2024-04-20T17:04:20.200742Z",
     "shell.execute_reply": "2024-04-20T17:04:20.199578Z",
     "shell.execute_reply.started": "2024-04-20T17:04:20.185574Z"
    },
    "trusted": true
   },
   "outputs": [
    {
     "data": {
      "text/plain": [
       "array([7580,  181,  995, ..., 4808, 2263, 1342], dtype=int64)"
      ]
     },
     "execution_count": 18,
     "metadata": {},
     "output_type": "execute_result"
    }
   ],
   "source": [
    "df[df['Age'] > 100]['Age'].unique()"
   ]
  },
  {
   "cell_type": "code",
   "execution_count": 19,
   "metadata": {
    "execution": {
     "iopub.execute_input": "2024-04-20T17:04:20.813777Z",
     "iopub.status.busy": "2024-04-20T17:04:20.813296Z",
     "iopub.status.idle": "2024-04-20T17:04:20.881956Z",
     "shell.execute_reply": "2024-04-20T17:04:20.880848Z",
     "shell.execute_reply.started": "2024-04-20T17:04:20.813732Z"
    },
    "trusted": true
   },
   "outputs": [],
   "source": [
    "df.drop(df[df['Age'] > 100].index, inplace = True)\n",
    "df.drop(df[df['Age'] < 0].index, inplace = True)"
   ]
  },
  {
   "cell_type": "code",
   "execution_count": 20,
   "metadata": {
    "execution": {
     "iopub.execute_input": "2024-04-20T17:04:21.482089Z",
     "iopub.status.busy": "2024-04-20T17:04:21.481347Z",
     "iopub.status.idle": "2024-04-20T17:04:21.489344Z",
     "shell.execute_reply": "2024-04-20T17:04:21.48802Z",
     "shell.execute_reply.started": "2024-04-20T17:04:21.482048Z"
    },
    "trusted": true
   },
   "outputs": [
    {
     "data": {
      "text/plain": [
       "(97224, 20)"
      ]
     },
     "execution_count": 20,
     "metadata": {},
     "output_type": "execute_result"
    }
   ],
   "source": [
    "df.shape"
   ]
  },
  {
   "cell_type": "code",
   "execution_count": 21,
   "metadata": {
    "execution": {
     "iopub.execute_input": "2024-04-20T17:04:22.09988Z",
     "iopub.status.busy": "2024-04-20T17:04:22.098687Z",
     "iopub.status.idle": "2024-04-20T17:04:22.495236Z",
     "shell.execute_reply": "2024-04-20T17:04:22.493954Z",
     "shell.execute_reply.started": "2024-04-20T17:04:22.099838Z"
    },
    "trusted": true
   },
   "outputs": [
    {
     "data": {
      "image/png": "[encoded data removed]",
      "text/plain": [
       "<Figure size 1200x600 with 1 Axes>"
      ]
     },
     "metadata": {},
     "output_type": "display_data"
    }
   ],
   "source": [
    "sns.boxplot(data= df, x= df.Age);"
   ]
  },
  {
   "cell_type": "markdown",
   "metadata": {},
   "source": [
    "### Occupation"
   ]
  },
  {
   "cell_type": "code",
   "execution_count": 22,
   "metadata": {
    "execution": {
     "iopub.execute_input": "2024-04-20T17:04:23.529794Z",
     "iopub.status.busy": "2024-04-20T17:04:23.529356Z",
     "iopub.status.idle": "2024-04-20T17:04:23.554783Z",
     "shell.execute_reply": "2024-04-20T17:04:23.553861Z",
     "shell.execute_reply.started": "2024-04-20T17:04:23.529758Z"
    },
    "trusted": true
   },
   "outputs": [
    {
     "data": {
      "text/plain": [
       "Occupation\n",
       "Lawyer          6389\n",
       "Architect       6175\n",
       "Engineer        6172\n",
       "Scientist       6113\n",
       "Accountant      6110\n",
       "Mechanic        6099\n",
       "MediaManager    6068\n",
       "Teacher         6049\n",
       "Developer       6031\n",
       "Entrepreneur    6015\n",
       "Doctor          5916\n",
       "Journalist      5906\n",
       "Manager         5807\n",
       "Musician        5760\n",
       "Writer          5741\n",
       "Name: count, dtype: int64"
      ]
     },
     "execution_count": 22,
     "metadata": {},
     "output_type": "execute_result"
    }
   ],
   "source": [
    "df.Occupation.value_counts()"
   ]
  },
  {
   "cell_type": "code",
   "execution_count": 23,
   "metadata": {
    "execution": {
     "iopub.execute_input": "2024-04-20T17:04:24.160912Z",
     "iopub.status.busy": "2024-04-20T17:04:24.159445Z",
     "iopub.status.idle": "2024-04-20T17:04:24.18416Z",
     "shell.execute_reply": "2024-04-20T17:04:24.182319Z",
     "shell.execute_reply.started": "2024-04-20T17:04:24.160833Z"
    },
    "trusted": true
   },
   "outputs": [
    {
     "data": {
      "text/plain": [
       "6873"
      ]
     },
     "execution_count": 23,
     "metadata": {},
     "output_type": "execute_result"
    }
   ],
   "source": [
    "df.Occupation.isna().sum()"
   ]
  },
  {
   "cell_type": "code",
   "execution_count": 24,
   "metadata": {
    "execution": {
     "iopub.execute_input": "2024-04-20T17:04:24.769868Z",
     "iopub.status.busy": "2024-04-20T17:04:24.769412Z",
     "iopub.status.idle": "2024-04-20T17:04:24.789993Z",
     "shell.execute_reply": "2024-04-20T17:04:24.788926Z",
     "shell.execute_reply.started": "2024-04-20T17:04:24.769835Z"
    },
    "trusted": true
   },
   "outputs": [],
   "source": [
    "df.loc[pd.isna(df['Occupation']), 'Occupation'] = 'Other'"
   ]
  },
  {
   "cell_type": "code",
   "execution_count": 25,
   "metadata": {
    "execution": {
     "iopub.execute_input": "2024-04-20T17:04:25.358549Z",
     "iopub.status.busy": "2024-04-20T17:04:25.357529Z",
     "iopub.status.idle": "2024-04-20T17:04:26.339904Z",
     "shell.execute_reply": "2024-04-20T17:04:26.338735Z",
     "shell.execute_reply.started": "2024-04-20T17:04:25.358511Z"
    },
    "trusted": true
   },
   "outputs": [
    {
     "data": {
      "image/png": "[encoded data removed]",
      "text/plain": [
       "<Figure size 1200x600 with 1 Axes>"
      ]
     },
     "metadata": {},
     "output_type": "display_data"
    }
   ],
   "source": [
    "import seaborn as sns\n",
    "import matplotlib.pyplot as plt\n",
    "\n",
    "plt.figure(figsize=(12, 6))\n",
    "sns.countplot(x='Occupation', hue='Credit_Score', data=df)\n",
    "plt.xlabel('Occupation')\n",
    "plt.ylabel('Count')\n",
    "plt.title('Count of Another_Categorical_Variable by Occupation')\n",
    "plt.xticks(rotation=45)\n",
    "plt.legend(title='Another_Categorical_Variable')\n",
    "plt.grid(True)\n",
    "plt.tight_layout()\n",
    "plt.show()"
   ]
  },
  {
   "cell_type": "markdown",
   "metadata": {},
   "source": [
    "### Num_Bank_Accounts"
   ]
  },
  {
   "cell_type": "code",
   "execution_count": 26,
   "metadata": {
    "execution": {
     "iopub.execute_input": "2024-04-20T17:04:26.577262Z",
     "iopub.status.busy": "2024-04-20T17:04:26.576883Z",
     "iopub.status.idle": "2024-04-20T17:04:26.812451Z",
     "shell.execute_reply": "2024-04-20T17:04:26.811355Z",
     "shell.execute_reply.started": "2024-04-20T17:04:26.577233Z"
    },
    "trusted": true
   },
   "outputs": [
    {
     "data": {
      "text/plain": [
       "{'-'}"
      ]
     },
     "execution_count": 26,
     "metadata": {},
     "output_type": "execute_result"
    }
   ],
   "source": [
    "non_numeric_values(df, 'Num_Bank_Accounts')"
   ]
  },
  {
   "cell_type": "code",
   "execution_count": 27,
   "metadata": {
    "execution": {
     "iopub.execute_input": "2024-04-20T17:04:27.272394Z",
     "iopub.status.busy": "2024-04-20T17:04:27.272011Z",
     "iopub.status.idle": "2024-04-20T17:04:27.280479Z",
     "shell.execute_reply": "2024-04-20T17:04:27.279312Z",
     "shell.execute_reply.started": "2024-04-20T17:04:27.272363Z"
    },
    "trusted": true
   },
   "outputs": [
    {
     "data": {
      "text/plain": [
       "21"
      ]
     },
     "execution_count": 27,
     "metadata": {},
     "output_type": "execute_result"
    }
   ],
   "source": [
    "df[df.Num_Bank_Accounts < 0]['Num_Bank_Accounts'].count()"
   ]
  },
  {
   "cell_type": "code",
   "execution_count": 28,
   "metadata": {
    "execution": {
     "iopub.execute_input": "2024-04-20T17:04:27.853884Z",
     "iopub.status.busy": "2024-04-20T17:04:27.853458Z",
     "iopub.status.idle": "2024-04-20T17:04:27.888087Z",
     "shell.execute_reply": "2024-04-20T17:04:27.886899Z",
     "shell.execute_reply.started": "2024-04-20T17:04:27.85385Z"
    },
    "trusted": true
   },
   "outputs": [],
   "source": [
    "df.drop(df[df['Num_Bank_Accounts'] < 0].index, inplace=True)"
   ]
  },
  {
   "cell_type": "code",
   "execution_count": 29,
   "metadata": {
    "execution": {
     "iopub.execute_input": "2024-04-20T17:04:28.477029Z",
     "iopub.status.busy": "2024-04-20T17:04:28.47663Z",
     "iopub.status.idle": "2024-04-20T17:04:28.879783Z",
     "shell.execute_reply": "2024-04-20T17:04:28.878597Z",
     "shell.execute_reply.started": "2024-04-20T17:04:28.477Z"
    },
    "trusted": true
   },
   "outputs": [
    {
     "data": {
      "image/png": "[encoded data removed]",
      "text/plain": [
       "<Figure size 1200x600 with 1 Axes>"
      ]
     },
     "metadata": {},
     "output_type": "display_data"
    }
   ],
   "source": [
    "sns.boxplot(data= df, x = df.Num_Bank_Accounts);"
   ]
  },
  {
   "cell_type": "markdown",
   "metadata": {},
   "source": [
    "### Num_of_Loan"
   ]
  },
  {
   "cell_type": "code",
   "execution_count": 30,
   "metadata": {
    "execution": {
     "iopub.execute_input": "2024-04-20T17:04:29.718371Z",
     "iopub.status.busy": "2024-04-20T17:04:29.717985Z",
     "iopub.status.idle": "2024-04-20T17:04:29.901828Z",
     "shell.execute_reply": "2024-04-20T17:04:29.900682Z",
     "shell.execute_reply.started": "2024-04-20T17:04:29.718339Z"
    },
    "trusted": true
   },
   "outputs": [
    {
     "data": {
      "text/plain": [
       "{'-'}"
      ]
     },
     "execution_count": 30,
     "metadata": {},
     "output_type": "execute_result"
    }
   ],
   "source": [
    "non_numeric_values(df, 'Num_of_Loan')"
   ]
  },
  {
   "cell_type": "code",
   "execution_count": 31,
   "metadata": {
    "execution": {
     "iopub.execute_input": "2024-04-20T17:04:30.378539Z",
     "iopub.status.busy": "2024-04-20T17:04:30.377621Z",
     "iopub.status.idle": "2024-04-20T17:04:30.485727Z",
     "shell.execute_reply": "2024-04-20T17:04:30.484602Z",
     "shell.execute_reply.started": "2024-04-20T17:04:30.378491Z"
    },
    "trusted": true
   },
   "outputs": [
    {
     "data": {
      "text/plain": [
       "array([-100], dtype=int64)"
      ]
     },
     "execution_count": 31,
     "metadata": {},
     "output_type": "execute_result"
    }
   ],
   "source": [
    "df['Num_of_Loan'] = pd.to_numeric(df['Num_of_Loan'], errors='coerce')\n",
    "df[df['Num_of_Loan'] < 0]['Num_of_Loan'].unique()"
   ]
  },
  {
   "cell_type": "code",
   "execution_count": 32,
   "metadata": {
    "execution": {
     "iopub.execute_input": "2024-04-20T17:04:30.913315Z",
     "iopub.status.busy": "2024-04-20T17:04:30.912931Z",
     "iopub.status.idle": "2024-04-20T17:04:30.92305Z",
     "shell.execute_reply": "2024-04-20T17:04:30.921463Z",
     "shell.execute_reply.started": "2024-04-20T17:04:30.913286Z"
    },
    "trusted": true
   },
   "outputs": [
    {
     "data": {
      "text/plain": [
       "array([   4,    1,    3,  967, -100,    0,    2,    7,    5,    6,    8,\n",
       "          9, 1464,  622,  352, 1017,  945,  146,  563,  341,  720, 1485,\n",
       "         49,  737, 1106,  466,  728,  313,  597,  119,  663,  640,   92,\n",
       "       1019,  501, 1302,   39,  716,  848,  931, 1214,  186,  424, 1001,\n",
       "       1110, 1152,  457, 1433, 1187,   52, 1480, 1047, 1035, 1347,   33,\n",
       "        193,  699,  329, 1451,  484,  649,  995,  545,  684, 1135, 1094,\n",
       "       1204,  654,   58,  348,  614, 1363,  323, 1406, 1348,  430,  153,\n",
       "       1461,  905, 1312, 1424, 1154,   95, 1353, 1228,  819, 1006,  795,\n",
       "        359, 1209,  590,  696, 1185, 1465,  911,   70,  816, 1369,  143,\n",
       "       1416,  455,   55, 1096, 1474,  420,  904,   89, 1259,  527, 1241,\n",
       "        449,  983,  418,  319,   23,  238,  638,  138,  235,  280, 1070,\n",
       "       1484,  274,  494, 1459,  404, 1354, 1495, 1391,  601, 1313, 1319,\n",
       "        898,  231,  752,  174,  961, 1046,  834,  284,  438,  288, 1463,\n",
       "       1151,  719,  198, 1015,  855,  841,  392, 1444,  103, 1320,  745,\n",
       "        172,  252,  630,  241,   31,  405, 1217, 1030, 1257,  137,  157,\n",
       "        164, 1088, 1236,  777, 1048,  613,  330,  321,  952,  939,  562,\n",
       "       1202,  302,  943,  394,  955, 1318,  936,  781,  100, 1329, 1365,\n",
       "        860,  217,  191,   32,  282,  351, 1387,  757,  416,  833,  292,\n",
       "       1225, 1227,  639,  859,  243,  267,  510,  332,  996,  311,  492,\n",
       "        820,  336,  123,  540,  131, 1311, 1441,  895,  891,   50,  940,\n",
       "        935,  596,   29, 1182, 1129, 1014,  251,  365, 1447,  742, 1085,\n",
       "        148,  462,  832,  881, 1412,  785, 1127,  910,  538,  999,  733,\n",
       "        101,  237,   87,  659,  633,  387,  447,  629,  831, 1384,  621,\n",
       "       1419,  289,  285, 1393, 1131, 1359, 1482, 1189, 1294,  201,  579,\n",
       "        814,  141,  581, 1171,  295,  290, 1181,  433,  679, 1040, 1054,\n",
       "       1023, 1077, 1457, 1150,  701, 1382,  889,  437,  372, 1159,  868,\n",
       "         19, 1297,  227,  190,  809, 1216, 1074,  571,  520, 1274, 1340,\n",
       "        991,  316,  697,  926,  873, 1002,  378,   65,  875,  867,  548,\n",
       "        652, 1372,  606, 1036, 1300,   17, 1178,  802, 1219, 1271, 1137,\n",
       "       1496,  439,  196,  636,  192,  228, 1053,  229,  753, 1296,  773,\n",
       "       1371,  254,  863,  464,  515, 1160, 1289, 1298,  799,  182,  574,\n",
       "        242,  415,  869,   54, 1265,  656,  275,  778,  208,  147,  350,\n",
       "        507,  463,  497,  927,  653,  662,  529,  635, 1027,  897, 1345,\n",
       "        924, 1279,  546, 1210,  526,  300, 1103,  504,  136, 1400,   78,\n",
       "        686, 1091,  344,  215,   84,  628, 1470,  968, 1478,   83, 1196,\n",
       "       1307, 1132, 1008,  917,  657,   56,   18,   41,  801,  661,  978,\n",
       "        216,  349,  966], dtype=int64)"
      ]
     },
     "execution_count": 32,
     "metadata": {},
     "output_type": "execute_result"
    }
   ],
   "source": [
    "df['Num_of_Loan'].unique()"
   ]
  },
  {
   "cell_type": "code",
   "execution_count": 33,
   "metadata": {
    "execution": {
     "iopub.execute_input": "2024-04-20T17:04:31.536181Z",
     "iopub.status.busy": "2024-04-20T17:04:31.535732Z",
     "iopub.status.idle": "2024-04-20T17:04:31.549912Z",
     "shell.execute_reply": "2024-04-20T17:04:31.548833Z",
     "shell.execute_reply.started": "2024-04-20T17:04:31.536147Z"
    },
    "trusted": true
   },
   "outputs": [
    {
     "data": {
      "text/plain": [
       "3770"
      ]
     },
     "execution_count": 33,
     "metadata": {},
     "output_type": "execute_result"
    }
   ],
   "source": [
    "df[df['Num_of_Loan'] < 0]['Num_of_Loan'].count() # cannot be negative, dropping them"
   ]
  },
  {
   "cell_type": "code",
   "execution_count": 34,
   "metadata": {
    "execution": {
     "iopub.execute_input": "2024-04-20T17:04:32.165054Z",
     "iopub.status.busy": "2024-04-20T17:04:32.164671Z",
     "iopub.status.idle": "2024-04-20T17:04:32.204639Z",
     "shell.execute_reply": "2024-04-20T17:04:32.203499Z",
     "shell.execute_reply.started": "2024-04-20T17:04:32.165026Z"
    },
    "trusted": true
   },
   "outputs": [
    {
     "data": {
      "text/plain": [
       "(93433, 20)"
      ]
     },
     "execution_count": 34,
     "metadata": {},
     "output_type": "execute_result"
    }
   ],
   "source": [
    "df.drop(df[df['Num_of_Loan'] < 0].index, inplace=True)\n",
    "df.shape"
   ]
  },
  {
   "cell_type": "code",
   "execution_count": 35,
   "metadata": {
    "execution": {
     "iopub.execute_input": "2024-04-20T17:04:32.837022Z",
     "iopub.status.busy": "2024-04-20T17:04:32.836617Z",
     "iopub.status.idle": "2024-04-20T17:04:33.230135Z",
     "shell.execute_reply": "2024-04-20T17:04:33.228971Z",
     "shell.execute_reply.started": "2024-04-20T17:04:32.83699Z"
    },
    "trusted": true
   },
   "outputs": [
    {
     "data": {
      "image/png": "[encoded data removed]",
      "text/plain": [
       "<Figure size 1200x600 with 1 Axes>"
      ]
     },
     "metadata": {},
     "output_type": "display_data"
    }
   ],
   "source": [
    "sns.boxplot(data= df, x = df.Num_of_Loan);"
   ]
  },
  {
   "cell_type": "markdown",
   "metadata": {},
   "source": [
    "### Delay_from_due_date"
   ]
  },
  {
   "cell_type": "code",
   "execution_count": 36,
   "metadata": {
    "execution": {
     "iopub.execute_input": "2024-04-20T17:04:34.044367Z",
     "iopub.status.busy": "2024-04-20T17:04:34.043953Z",
     "iopub.status.idle": "2024-04-20T17:04:34.265577Z",
     "shell.execute_reply": "2024-04-20T17:04:34.264425Z",
     "shell.execute_reply.started": "2024-04-20T17:04:34.044335Z"
    },
    "trusted": true
   },
   "outputs": [
    {
     "data": {
      "text/plain": [
       "{'-'}"
      ]
     },
     "execution_count": 36,
     "metadata": {},
     "output_type": "execute_result"
    }
   ],
   "source": [
    "non_numeric_values(df, 'Delay_from_due_date')"
   ]
  },
  {
   "cell_type": "code",
   "execution_count": 37,
   "metadata": {
    "execution": {
     "iopub.execute_input": "2024-04-20T17:04:34.652041Z",
     "iopub.status.busy": "2024-04-20T17:04:34.651608Z",
     "iopub.status.idle": "2024-04-20T17:04:34.663618Z",
     "shell.execute_reply": "2024-04-20T17:04:34.662186Z",
     "shell.execute_reply.started": "2024-04-20T17:04:34.652006Z"
    },
    "trusted": true
   },
   "outputs": [
    {
     "data": {
      "text/plain": [
       "array([-1, -2, -3, -5, -4], dtype=int64)"
      ]
     },
     "execution_count": 37,
     "metadata": {},
     "output_type": "execute_result"
    }
   ],
   "source": [
    "df[df['Delay_from_due_date'] < 0]['Delay_from_due_date'].unique()  # not possible"
   ]
  },
  {
   "cell_type": "code",
   "execution_count": 38,
   "metadata": {
    "execution": {
     "iopub.execute_input": "2024-04-20T17:04:35.230442Z",
     "iopub.status.busy": "2024-04-20T17:04:35.230023Z",
     "iopub.status.idle": "2024-04-20T17:04:35.238826Z",
     "shell.execute_reply": "2024-04-20T17:04:35.237439Z",
     "shell.execute_reply.started": "2024-04-20T17:04:35.230406Z"
    },
    "trusted": true
   },
   "outputs": [
    {
     "data": {
      "text/plain": [
       "398"
      ]
     },
     "execution_count": 38,
     "metadata": {},
     "output_type": "execute_result"
    }
   ],
   "source": [
    "df['Num_of_Loan'].nunique()"
   ]
  },
  {
   "cell_type": "code",
   "execution_count": 39,
   "metadata": {
    "execution": {
     "iopub.execute_input": "2024-04-20T17:04:35.830525Z",
     "iopub.status.busy": "2024-04-20T17:04:35.8301Z",
     "iopub.status.idle": "2024-04-20T17:04:35.841804Z",
     "shell.execute_reply": "2024-04-20T17:04:35.840488Z",
     "shell.execute_reply.started": "2024-04-20T17:04:35.830492Z"
    },
    "trusted": true
   },
   "outputs": [
    {
     "data": {
      "text/plain": [
       "547"
      ]
     },
     "execution_count": 39,
     "metadata": {},
     "output_type": "execute_result"
    }
   ],
   "source": [
    "df[df['Delay_from_due_date'] < 0]['Delay_from_due_date'].count()"
   ]
  },
  {
   "cell_type": "code",
   "execution_count": 40,
   "metadata": {
    "execution": {
     "iopub.execute_input": "2024-04-20T17:04:36.522095Z",
     "iopub.status.busy": "2024-04-20T17:04:36.521102Z",
     "iopub.status.idle": "2024-04-20T17:04:36.564667Z",
     "shell.execute_reply": "2024-04-20T17:04:36.56351Z",
     "shell.execute_reply.started": "2024-04-20T17:04:36.522048Z"
    },
    "trusted": true
   },
   "outputs": [
    {
     "data": {
      "text/plain": [
       "(92886, 20)"
      ]
     },
     "execution_count": 40,
     "metadata": {},
     "output_type": "execute_result"
    }
   ],
   "source": [
    "df.drop(df[df['Delay_from_due_date'] < 0].index, inplace=True)\n",
    "df.shape"
   ]
  },
  {
   "cell_type": "code",
   "execution_count": 41,
   "metadata": {
    "execution": {
     "iopub.execute_input": "2024-04-20T17:04:37.146762Z",
     "iopub.status.busy": "2024-04-20T17:04:37.146116Z",
     "iopub.status.idle": "2024-04-20T17:04:37.563217Z",
     "shell.execute_reply": "2024-04-20T17:04:37.56173Z",
     "shell.execute_reply.started": "2024-04-20T17:04:37.146729Z"
    },
    "trusted": true
   },
   "outputs": [
    {
     "data": {
      "image/png": "[encoded data removed]",
      "text/plain": [
       "<Figure size 1200x600 with 1 Axes>"
      ]
     },
     "metadata": {},
     "output_type": "display_data"
    }
   ],
   "source": [
    "sns.boxplot(data= df, x = df.Delay_from_due_date);"
   ]
  },
  {
   "cell_type": "markdown",
   "metadata": {},
   "source": [
    "### Num_of_Delayed_Payment"
   ]
  },
  {
   "cell_type": "code",
   "execution_count": 42,
   "metadata": {
    "execution": {
     "iopub.execute_input": "2024-04-20T17:04:38.412984Z",
     "iopub.status.busy": "2024-04-20T17:04:38.412604Z",
     "iopub.status.idle": "2024-04-20T17:04:38.601442Z",
     "shell.execute_reply": "2024-04-20T17:04:38.600319Z",
     "shell.execute_reply.started": "2024-04-20T17:04:38.412954Z"
    },
    "trusted": true
   },
   "outputs": [
    {
     "data": {
      "text/plain": [
       "{'-', 'nan'}"
      ]
     },
     "execution_count": 42,
     "metadata": {},
     "output_type": "execute_result"
    }
   ],
   "source": [
    "non_numeric_values(df, 'Num_of_Delayed_Payment')"
   ]
  },
  {
   "cell_type": "code",
   "execution_count": 43,
   "metadata": {
    "execution": {
     "iopub.execute_input": "2024-04-20T17:04:39.067605Z",
     "iopub.status.busy": "2024-04-20T17:04:39.066857Z",
     "iopub.status.idle": "2024-04-20T17:04:39.161139Z",
     "shell.execute_reply": "2024-04-20T17:04:39.159935Z",
     "shell.execute_reply.started": "2024-04-20T17:04:39.067541Z"
    },
    "trusted": true
   },
   "outputs": [
    {
     "data": {
      "text/plain": [
       "array([-1., -3., -2.])"
      ]
     },
     "execution_count": 43,
     "metadata": {},
     "output_type": "execute_result"
    }
   ],
   "source": [
    "df['Num_of_Delayed_Payment'] = pd.to_numeric(df['Num_of_Delayed_Payment'], errors='coerce')\n",
    "df[df['Num_of_Delayed_Payment'] < 0]['Num_of_Delayed_Payment'].unique()"
   ]
  },
  {
   "cell_type": "code",
   "execution_count": 44,
   "metadata": {
    "execution": {
     "iopub.execute_input": "2024-04-20T17:04:39.828494Z",
     "iopub.status.busy": "2024-04-20T17:04:39.827815Z",
     "iopub.status.idle": "2024-04-20T17:04:39.837692Z",
     "shell.execute_reply": "2024-04-20T17:04:39.836557Z",
     "shell.execute_reply.started": "2024-04-20T17:04:39.828456Z"
    },
    "trusted": true
   },
   "outputs": [
    {
     "data": {
      "text/plain": [
       "592"
      ]
     },
     "execution_count": 44,
     "metadata": {},
     "output_type": "execute_result"
    }
   ],
   "source": [
    "df[df['Num_of_Delayed_Payment'] < 0]['Num_of_Delayed_Payment'].count()"
   ]
  },
  {
   "cell_type": "code",
   "execution_count": 45,
   "metadata": {
    "execution": {
     "iopub.execute_input": "2024-04-20T17:04:40.49437Z",
     "iopub.status.busy": "2024-04-20T17:04:40.493999Z",
     "iopub.status.idle": "2024-04-20T17:04:40.528166Z",
     "shell.execute_reply": "2024-04-20T17:04:40.526957Z",
     "shell.execute_reply.started": "2024-04-20T17:04:40.494341Z"
    },
    "trusted": true
   },
   "outputs": [
    {
     "data": {
      "text/plain": [
       "(92294, 20)"
      ]
     },
     "execution_count": 45,
     "metadata": {},
     "output_type": "execute_result"
    }
   ],
   "source": [
    "df.drop(df[df['Num_of_Delayed_Payment'] < 0].index, inplace=True)\n",
    "df.shape"
   ]
  },
  {
   "cell_type": "code",
   "execution_count": 46,
   "metadata": {
    "execution": {
     "iopub.execute_input": "2024-04-20T17:04:41.1843Z",
     "iopub.status.busy": "2024-04-20T17:04:41.183839Z",
     "iopub.status.idle": "2024-04-20T17:04:41.562659Z",
     "shell.execute_reply": "2024-04-20T17:04:41.561453Z",
     "shell.execute_reply.started": "2024-04-20T17:04:41.184262Z"
    },
    "trusted": true
   },
   "outputs": [
    {
     "data": {
      "image/png": "[encoded data removed]",
      "text/plain": [
       "<Figure size 1200x600 with 1 Axes>"
      ]
     },
     "metadata": {},
     "output_type": "display_data"
    }
   ],
   "source": [
    "sns.boxplot(data= df, x = df['Num_of_Delayed_Payment'].dropna());"
   ]
  },
  {
   "cell_type": "code",
   "execution_count": 47,
   "metadata": {
    "execution": {
     "iopub.execute_input": "2024-04-20T17:04:42.070991Z",
     "iopub.status.busy": "2024-04-20T17:04:42.070565Z",
     "iopub.status.idle": "2024-04-20T17:04:42.083775Z",
     "shell.execute_reply": "2024-04-20T17:04:42.082454Z",
     "shell.execute_reply.started": "2024-04-20T17:04:42.070953Z"
    },
    "trusted": true
   },
   "outputs": [
    {
     "data": {
      "text/plain": [
       "Num_of_Delayed_Payment\n",
       "17.000    5080\n",
       "19.000    5065\n",
       "16.000    4951\n",
       "10.000    4941\n",
       "15.000    4888\n",
       "18.000    4876\n",
       "20.000    4761\n",
       "12.000    4717\n",
       "9.000     4617\n",
       "8.000     4518\n",
       "Name: count, dtype: int64"
      ]
     },
     "execution_count": 47,
     "metadata": {},
     "output_type": "execute_result"
    }
   ],
   "source": [
    "df['Num_of_Delayed_Payment'].value_counts().head(10)"
   ]
  },
  {
   "cell_type": "code",
   "execution_count": 48,
   "metadata": {
    "execution": {
     "iopub.execute_input": "2024-04-20T17:04:42.918047Z",
     "iopub.status.busy": "2024-04-20T17:04:42.9176Z",
     "iopub.status.idle": "2024-04-20T17:04:43.41466Z",
     "shell.execute_reply": "2024-04-20T17:04:43.413327Z",
     "shell.execute_reply.started": "2024-04-20T17:04:42.918011Z"
    },
    "trusted": true
   },
   "outputs": [],
   "source": [
    "from sklearn.impute import KNNImputer\n",
    "\n",
    "def knn_impute_column(df, column_name, n_neighbors=5):\n",
    "    \"\"\"\n",
    "    Fill missing values in a specific column using KNN imputation.\n",
    "\n",
    "    Parameters:\n",
    "    df (DataFrame): The DataFrame containing the column to be imputed.\n",
    "    column_name (str): The name of the column to be imputed.\n",
    "    n_neighbors (int): Number of neighbors to consider for imputation. Default is 5.\n",
    "\n",
    "    Returns:\n",
    "    DataFrame: The DataFrame with missing values in the specified column imputed.\n",
    "    \"\"\"\n",
    "\n",
    "    # Extract the column to be imputed\n",
    "    column_to_impute = df[[column_name]]\n",
    "\n",
    "    # Create an instance of the KNNImputer class\n",
    "    imputer = KNNImputer(n_neighbors=n_neighbors)\n",
    "\n",
    "    # Fit and transform the imputer to fill missing values in the column\n",
    "    column_imputed = imputer.fit_transform(column_to_impute)\n",
    "\n",
    "    # Replace the original column with the imputed values\n",
    "    df[column_name] = column_imputed\n",
    "\n",
    "    return df\n"
   ]
  },
  {
   "cell_type": "code",
   "execution_count": 49,
   "metadata": {
    "execution": {
     "iopub.execute_input": "2024-04-20T17:04:43.875595Z",
     "iopub.status.busy": "2024-04-20T17:04:43.875146Z",
     "iopub.status.idle": "2024-04-20T17:05:07.894633Z",
     "shell.execute_reply": "2024-04-20T17:05:07.893428Z",
     "shell.execute_reply.started": "2024-04-20T17:04:43.875539Z"
    },
    "trusted": true
   },
   "outputs": [],
   "source": [
    "df = knn_impute_column(df, 'Num_of_Delayed_Payment')\n",
    "\n",
    "# to specify the number of neighbors:\n",
    "# df = knn_impute_column(df, 'Num_of_Delayed_Payment', n_neighbors=10)"
   ]
  },
  {
   "cell_type": "code",
   "execution_count": 50,
   "metadata": {
    "execution": {
     "iopub.execute_input": "2024-04-20T17:05:07.896939Z",
     "iopub.status.busy": "2024-04-20T17:05:07.896581Z",
     "iopub.status.idle": "2024-04-20T17:05:07.90532Z",
     "shell.execute_reply": "2024-04-20T17:05:07.904089Z",
     "shell.execute_reply.started": "2024-04-20T17:05:07.896906Z"
    },
    "trusted": true
   },
   "outputs": [
    {
     "data": {
      "text/plain": [
       "0"
      ]
     },
     "execution_count": 50,
     "metadata": {},
     "output_type": "execute_result"
    }
   ],
   "source": [
    "df['Num_of_Delayed_Payment'].isna().sum()"
   ]
  },
  {
   "cell_type": "code",
   "execution_count": 51,
   "metadata": {
    "execution": {
     "iopub.execute_input": "2024-04-20T17:05:07.907084Z",
     "iopub.status.busy": "2024-04-20T17:05:07.906731Z",
     "iopub.status.idle": "2024-04-20T17:05:08.31025Z",
     "shell.execute_reply": "2024-04-20T17:05:08.307954Z",
     "shell.execute_reply.started": "2024-04-20T17:05:07.907055Z"
    },
    "trusted": true
   },
   "outputs": [
    {
     "data": {
      "image/png": "[encoded data removed]",
      "text/plain": [
       "<Figure size 1200x600 with 1 Axes>"
      ]
     },
     "metadata": {},
     "output_type": "display_data"
    }
   ],
   "source": [
    "sns.boxplot(data= df, x = df['Num_of_Delayed_Payment']);"
   ]
  },
  {
   "cell_type": "markdown",
   "metadata": {},
   "source": [
    "### Num_Credit_Inquiries"
   ]
  },
  {
   "cell_type": "code",
   "execution_count": 52,
   "metadata": {
    "execution": {
     "iopub.execute_input": "2024-04-20T17:05:08.313306Z",
     "iopub.status.busy": "2024-04-20T17:05:08.31289Z",
     "iopub.status.idle": "2024-04-20T17:05:08.616967Z",
     "shell.execute_reply": "2024-04-20T17:05:08.615804Z",
     "shell.execute_reply.started": "2024-04-20T17:05:08.313272Z"
    },
    "trusted": true
   },
   "outputs": [
    {
     "data": {
      "text/plain": [
       "{'.', 'nan'}"
      ]
     },
     "execution_count": 52,
     "metadata": {},
     "output_type": "execute_result"
    }
   ],
   "source": [
    "non_numeric_values(df, 'Num_Credit_Inquiries')"
   ]
  },
  {
   "cell_type": "code",
   "execution_count": 53,
   "metadata": {
    "execution": {
     "iopub.execute_input": "2024-04-20T17:05:08.618734Z",
     "iopub.status.busy": "2024-04-20T17:05:08.618365Z",
     "iopub.status.idle": "2024-04-20T17:05:08.628149Z",
     "shell.execute_reply": "2024-04-20T17:05:08.626913Z",
     "shell.execute_reply.started": "2024-04-20T17:05:08.618705Z"
    },
    "trusted": true
   },
   "outputs": [
    {
     "data": {
      "text/plain": [
       "array([], dtype=float64)"
      ]
     },
     "execution_count": 53,
     "metadata": {},
     "output_type": "execute_result"
    }
   ],
   "source": [
    "df[df['Num_Credit_Inquiries'] < 0]['Num_Credit_Inquiries'].unique()"
   ]
  },
  {
   "cell_type": "code",
   "execution_count": 54,
   "metadata": {
    "execution": {
     "iopub.execute_input": "2024-04-20T17:06:43.146178Z",
     "iopub.status.busy": "2024-04-20T17:06:43.145687Z",
     "iopub.status.idle": "2024-04-20T17:06:43.543616Z",
     "shell.execute_reply": "2024-04-20T17:06:43.542423Z",
     "shell.execute_reply.started": "2024-04-20T17:06:43.146138Z"
    },
    "trusted": true
   },
   "outputs": [
    {
     "data": {
      "image/png": "[encoded data removed]",
      "text/plain": [
       "<Figure size 1200x600 with 1 Axes>"
      ]
     },
     "metadata": {},
     "output_type": "display_data"
    }
   ],
   "source": [
    "sns.boxplot(data= df, x = df['Num_Credit_Inquiries'].dropna());"
   ]
  },
  {
   "cell_type": "code",
   "execution_count": 55,
   "metadata": {
    "execution": {
     "iopub.execute_input": "2024-04-20T17:06:47.220484Z",
     "iopub.status.busy": "2024-04-20T17:06:47.220072Z",
     "iopub.status.idle": "2024-04-20T17:06:47.229252Z",
     "shell.execute_reply": "2024-04-20T17:06:47.227826Z",
     "shell.execute_reply.started": "2024-04-20T17:06:47.220455Z"
    },
    "trusted": true
   },
   "outputs": [
    {
     "data": {
      "text/plain": [
       "1810"
      ]
     },
     "execution_count": 55,
     "metadata": {},
     "output_type": "execute_result"
    }
   ],
   "source": [
    "df['Num_Credit_Inquiries'].isna().sum()"
   ]
  },
  {
   "cell_type": "code",
   "execution_count": 56,
   "metadata": {
    "execution": {
     "iopub.execute_input": "2024-04-20T17:06:47.8248Z",
     "iopub.status.busy": "2024-04-20T17:06:47.82439Z",
     "iopub.status.idle": "2024-04-20T17:06:47.832986Z",
     "shell.execute_reply": "2024-04-20T17:06:47.831884Z",
     "shell.execute_reply.started": "2024-04-20T17:06:47.824769Z"
    },
    "trusted": true
   },
   "outputs": [
    {
     "data": {
      "text/plain": [
       "1160"
      ]
     },
     "execution_count": 56,
     "metadata": {},
     "output_type": "execute_result"
    }
   ],
   "source": [
    "df['Num_Credit_Inquiries'].nunique()"
   ]
  },
  {
   "cell_type": "code",
   "execution_count": 57,
   "metadata": {
    "execution": {
     "iopub.execute_input": "2024-04-20T17:06:48.478715Z",
     "iopub.status.busy": "2024-04-20T17:06:48.478311Z",
     "iopub.status.idle": "2024-04-20T17:06:48.489203Z",
     "shell.execute_reply": "2024-04-20T17:06:48.487922Z",
     "shell.execute_reply.started": "2024-04-20T17:06:48.478684Z"
    },
    "trusted": true
   },
   "outputs": [
    {
     "data": {
      "text/plain": [
       "Num_Credit_Inquiries\n",
       "4.000    10314\n",
       "3.000     8103\n",
       "6.000     7560\n",
       "7.000     7516\n",
       "8.000     7311\n",
       "2.000     7290\n",
       "1.000     6889\n",
       "0.000     6364\n",
       "5.000     5277\n",
       "9.000     4932\n",
       "Name: count, dtype: int64"
      ]
     },
     "execution_count": 57,
     "metadata": {},
     "output_type": "execute_result"
    }
   ],
   "source": [
    "df['Num_Credit_Inquiries'].value_counts().head(10)"
   ]
  },
  {
   "cell_type": "code",
   "execution_count": 58,
   "metadata": {
    "execution": {
     "iopub.execute_input": "2024-04-20T17:06:49.119524Z",
     "iopub.status.busy": "2024-04-20T17:06:49.119042Z",
     "iopub.status.idle": "2024-04-20T17:06:55.814256Z",
     "shell.execute_reply": "2024-04-20T17:06:55.813143Z",
     "shell.execute_reply.started": "2024-04-20T17:06:49.119488Z"
    },
    "trusted": true
   },
   "outputs": [
    {
     "data": {
      "text/plain": [
       "0"
      ]
     },
     "execution_count": 58,
     "metadata": {},
     "output_type": "execute_result"
    }
   ],
   "source": [
    "df = knn_impute_column(df, 'Num_Credit_Inquiries')\n",
    "df['Num_Credit_Inquiries'].isna().sum()"
   ]
  },
  {
   "cell_type": "code",
   "execution_count": 59,
   "metadata": {
    "execution": {
     "iopub.execute_input": "2024-04-20T17:06:55.816948Z",
     "iopub.status.busy": "2024-04-20T17:06:55.816345Z",
     "iopub.status.idle": "2024-04-20T17:06:56.222588Z",
     "shell.execute_reply": "2024-04-20T17:06:56.221438Z",
     "shell.execute_reply.started": "2024-04-20T17:06:55.816909Z"
    },
    "trusted": true
   },
   "outputs": [
    {
     "data": {
      "image/png": "[encoded data removed]",
      "text/plain": [
       "<Figure size 1200x600 with 1 Axes>"
      ]
     },
     "metadata": {},
     "output_type": "display_data"
    }
   ],
   "source": [
    "sns.boxplot(data= df, x = df['Num_Credit_Inquiries']);"
   ]
  },
  {
   "cell_type": "markdown",
   "metadata": {},
   "source": [
    "### Credit_Mix"
   ]
  },
  {
   "cell_type": "code",
   "execution_count": 60,
   "metadata": {
    "execution": {
     "iopub.execute_input": "2024-04-20T17:11:01.568992Z",
     "iopub.status.busy": "2024-04-20T17:11:01.568433Z",
     "iopub.status.idle": "2024-04-20T17:11:01.59316Z",
     "shell.execute_reply": "2024-04-20T17:11:01.592003Z",
     "shell.execute_reply.started": "2024-04-20T17:11:01.56894Z"
    },
    "trusted": true
   },
   "outputs": [
    {
     "data": {
      "text/plain": [
       "Credit_Mix\n",
       "Standard    34131\n",
       "Good        21741\n",
       "Bad         17755\n",
       "Name: count, dtype: int64"
      ]
     },
     "execution_count": 60,
     "metadata": {},
     "output_type": "execute_result"
    }
   ],
   "source": [
    "df.Credit_Mix.value_counts()"
   ]
  },
  {
   "cell_type": "code",
   "execution_count": 61,
   "metadata": {
    "execution": {
     "iopub.execute_input": "2024-04-20T17:11:02.25415Z",
     "iopub.status.busy": "2024-04-20T17:11:02.253663Z",
     "iopub.status.idle": "2024-04-20T17:11:02.271219Z",
     "shell.execute_reply": "2024-04-20T17:11:02.270388Z",
     "shell.execute_reply.started": "2024-04-20T17:11:02.254114Z"
    },
    "trusted": true
   },
   "outputs": [
    {
     "data": {
      "text/plain": [
       "18667"
      ]
     },
     "execution_count": 61,
     "metadata": {},
     "output_type": "execute_result"
    }
   ],
   "source": [
    "df.Credit_Mix.isna().sum()"
   ]
  },
  {
   "cell_type": "code",
   "execution_count": 62,
   "metadata": {
    "execution": {
     "iopub.execute_input": "2024-04-20T17:11:02.845224Z",
     "iopub.status.busy": "2024-04-20T17:11:02.844842Z",
     "iopub.status.idle": "2024-04-20T17:11:02.867307Z",
     "shell.execute_reply": "2024-04-20T17:11:02.866054Z",
     "shell.execute_reply.started": "2024-04-20T17:11:02.845196Z"
    },
    "trusted": true
   },
   "outputs": [
    {
     "data": {
      "text/plain": [
       "0        Unknown\n",
       "3           Good\n",
       "4           Good\n",
       "5           Good\n",
       "6           Good\n",
       "          ...   \n",
       "99995    Unknown\n",
       "99996    Unknown\n",
       "99997       Good\n",
       "99998       Good\n",
       "99999       Good\n",
       "Name: Credit_Mix, Length: 92294, dtype: object"
      ]
     },
     "execution_count": 62,
     "metadata": {},
     "output_type": "execute_result"
    }
   ],
   "source": [
    "# Fill null values in 'Credit_Mix' with 'Unknown'\n",
    "df['Credit_Mix'].fillna('Unknown', inplace=True)\n",
    "\n",
    "df['Credit_Mix'].astype('object')"
   ]
  },
  {
   "cell_type": "code",
   "execution_count": 63,
   "metadata": {
    "execution": {
     "iopub.execute_input": "2024-04-20T17:11:03.448838Z",
     "iopub.status.busy": "2024-04-20T17:11:03.448176Z",
     "iopub.status.idle": "2024-04-20T17:11:03.473379Z",
     "shell.execute_reply": "2024-04-20T17:11:03.472079Z",
     "shell.execute_reply.started": "2024-04-20T17:11:03.448804Z"
    },
    "trusted": true
   },
   "outputs": [
    {
     "data": {
      "text/plain": [
       "Credit_Mix\n",
       "Standard    34131\n",
       "Good        21741\n",
       "Unknown     18667\n",
       "Bad         17755\n",
       "Name: count, dtype: int64"
      ]
     },
     "execution_count": 63,
     "metadata": {},
     "output_type": "execute_result"
    }
   ],
   "source": [
    "df.Credit_Mix.value_counts()"
   ]
  },
  {
   "cell_type": "markdown",
   "metadata": {},
   "source": [
    "### Credit_History_Age"
   ]
  },
  {
   "cell_type": "code",
   "execution_count": 64,
   "metadata": {
    "execution": {
     "iopub.execute_input": "2024-04-20T17:11:04.546311Z",
     "iopub.status.busy": "2024-04-20T17:11:04.545867Z",
     "iopub.status.idle": "2024-04-20T17:11:04.572664Z",
     "shell.execute_reply": "2024-04-20T17:11:04.571399Z",
     "shell.execute_reply.started": "2024-04-20T17:11:04.546276Z"
    },
    "trusted": true
   },
   "outputs": [
    {
     "data": {
      "text/plain": [
       "Credit_History_Age\n",
       "15 Years and 11 Months    414\n",
       "19 Years and 5 Months     408\n",
       "19 Years and 3 Months     407\n",
       "17 Years and 9 Months     407\n",
       "15 Years and 9 Months     406\n",
       "                         ... \n",
       "0 Years and 3 Months       19\n",
       "33 Years and 7 Months      14\n",
       "0 Years and 2 Months       13\n",
       "33 Years and 8 Months      10\n",
       "0 Years and 1 Months        1\n",
       "Name: count, Length: 404, dtype: int64"
      ]
     },
     "execution_count": 64,
     "metadata": {},
     "output_type": "execute_result"
    }
   ],
   "source": [
    "df['Credit_History_Age'].value_counts()"
   ]
  },
  {
   "cell_type": "code",
   "execution_count": 65,
   "metadata": {
    "execution": {
     "iopub.execute_input": "2024-04-20T17:11:05.119478Z",
     "iopub.status.busy": "2024-04-20T17:11:05.119089Z",
     "iopub.status.idle": "2024-04-20T17:11:05.138608Z",
     "shell.execute_reply": "2024-04-20T17:11:05.137484Z",
     "shell.execute_reply.started": "2024-04-20T17:11:05.119449Z"
    },
    "trusted": true
   },
   "outputs": [
    {
     "data": {
      "text/plain": [
       "8356"
      ]
     },
     "execution_count": 65,
     "metadata": {},
     "output_type": "execute_result"
    }
   ],
   "source": [
    "df['Credit_History_Age'].isna().sum()"
   ]
  },
  {
   "cell_type": "code",
   "execution_count": 66,
   "metadata": {
    "execution": {
     "iopub.execute_input": "2024-04-20T17:11:05.630569Z",
     "iopub.status.busy": "2024-04-20T17:11:05.630148Z",
     "iopub.status.idle": "2024-04-20T17:11:05.692868Z",
     "shell.execute_reply": "2024-04-20T17:11:05.691441Z",
     "shell.execute_reply.started": "2024-04-20T17:11:05.630519Z"
    },
    "trusted": true
   },
   "outputs": [],
   "source": [
    "# Group by 'Credit_Mix' and calculate mode for 'Credit_History_Age' within each group\n",
    "mode_by_credit_mix = df.groupby('Credit_Mix')['Credit_History_Age'].transform(lambda x: x.mode()[0])\n",
    "\n",
    "# Fill NaN values in 'Credit_History_Age' with the mode for each group\n",
    "df['Credit_History_Age'].fillna(mode_by_credit_mix, inplace=True)\n"
   ]
  },
  {
   "cell_type": "code",
   "execution_count": 67,
   "metadata": {
    "execution": {
     "iopub.execute_input": "2024-04-20T17:11:06.204237Z",
     "iopub.status.busy": "2024-04-20T17:11:06.203374Z",
     "iopub.status.idle": "2024-04-20T17:11:06.222798Z",
     "shell.execute_reply": "2024-04-20T17:11:06.221633Z",
     "shell.execute_reply.started": "2024-04-20T17:11:06.204195Z"
    },
    "trusted": true
   },
   "outputs": [
    {
     "data": {
      "text/plain": [
       "0"
      ]
     },
     "execution_count": 67,
     "metadata": {},
     "output_type": "execute_result"
    }
   ],
   "source": [
    "df['Credit_History_Age'].isna().sum()"
   ]
  },
  {
   "cell_type": "code",
   "execution_count": 68,
   "metadata": {
    "execution": {
     "iopub.execute_input": "2024-04-20T17:11:06.754417Z",
     "iopub.status.busy": "2024-04-20T17:11:06.75401Z",
     "iopub.status.idle": "2024-04-20T17:11:06.780518Z",
     "shell.execute_reply": "2024-04-20T17:11:06.779125Z",
     "shell.execute_reply.started": "2024-04-20T17:11:06.754388Z"
    },
    "trusted": true
   },
   "outputs": [
    {
     "data": {
      "text/plain": [
       "Credit_History_Age\n",
       "19 Years and 5 Months     3525\n",
       "30 Years and 2 Months     2203\n",
       "15 Years and 9 Months     2102\n",
       "8 Years and 10 Months     1828\n",
       "15 Years and 11 Months     414\n",
       "                          ... \n",
       "0 Years and 3 Months        19\n",
       "33 Years and 7 Months       14\n",
       "0 Years and 2 Months        13\n",
       "33 Years and 8 Months       10\n",
       "0 Years and 1 Months         1\n",
       "Name: count, Length: 404, dtype: int64"
      ]
     },
     "execution_count": 68,
     "metadata": {},
     "output_type": "execute_result"
    }
   ],
   "source": [
    "df['Credit_History_Age'].value_counts()"
   ]
  },
  {
   "cell_type": "code",
   "execution_count": 69,
   "metadata": {
    "execution": {
     "iopub.execute_input": "2024-04-20T17:11:07.242824Z",
     "iopub.status.busy": "2024-04-20T17:11:07.242388Z",
     "iopub.status.idle": "2024-04-20T17:11:08.00604Z",
     "shell.execute_reply": "2024-04-20T17:11:08.004816Z",
     "shell.execute_reply.started": "2024-04-20T17:11:07.242795Z"
    },
    "trusted": true
   },
   "outputs": [
    {
     "data": {
      "text/html": [
       "<div>\n",
       "<style scoped>\n",
       "    .dataframe tbody tr th:only-of-type {\n",
       "        vertical-align: middle;\n",
       "    }\n",
       "\n",
       "    .dataframe tbody tr th {\n",
       "        vertical-align: top;\n",
       "    }\n",
       "\n",
       "    .dataframe thead th {\n",
       "        text-align: right;\n",
       "    }\n",
       "</style>\n",
       "<table border=\"1\" class=\"dataframe\">\n",
       "  <thead>\n",
       "    <tr style=\"text-align: right;\">\n",
       "      <th></th>\n",
       "      <th>Age</th>\n",
       "      <th>Occupation</th>\n",
       "      <th>Annual_Income</th>\n",
       "      <th>Num_Bank_Accounts</th>\n",
       "      <th>Num_Credit_Card</th>\n",
       "      <th>Interest_Rate</th>\n",
       "      <th>Num_of_Loan</th>\n",
       "      <th>Delay_from_due_date</th>\n",
       "      <th>Num_of_Delayed_Payment</th>\n",
       "      <th>Num_Credit_Inquiries</th>\n",
       "      <th>...</th>\n",
       "      <th>Outstanding_Debt</th>\n",
       "      <th>Credit_Utilization_Ratio</th>\n",
       "      <th>Payment_of_Min_Amount</th>\n",
       "      <th>Total_EMI_per_month</th>\n",
       "      <th>Amount_invested_monthly</th>\n",
       "      <th>Payment_Behaviour</th>\n",
       "      <th>Monthly_Balance</th>\n",
       "      <th>Credit_Score</th>\n",
       "      <th>Credit_History_Years</th>\n",
       "      <th>Credit_History_Months</th>\n",
       "    </tr>\n",
       "  </thead>\n",
       "  <tbody>\n",
       "    <tr>\n",
       "      <th>0</th>\n",
       "      <td>23</td>\n",
       "      <td>Scientist</td>\n",
       "      <td>19114.12</td>\n",
       "      <td>3</td>\n",
       "      <td>4</td>\n",
       "      <td>3</td>\n",
       "      <td>4</td>\n",
       "      <td>3</td>\n",
       "      <td>7.000</td>\n",
       "      <td>4.000</td>\n",
       "      <td>...</td>\n",
       "      <td>809.98</td>\n",
       "      <td>26.823</td>\n",
       "      <td>No</td>\n",
       "      <td>49.575</td>\n",
       "      <td>80.41529543900253</td>\n",
       "      <td>HighspentSmallvaluepayments</td>\n",
       "      <td>312.49408867943663</td>\n",
       "      <td>2</td>\n",
       "      <td>22</td>\n",
       "      <td>1</td>\n",
       "    </tr>\n",
       "    <tr>\n",
       "      <th>3</th>\n",
       "      <td>23</td>\n",
       "      <td>Scientist</td>\n",
       "      <td>19114.12</td>\n",
       "      <td>3</td>\n",
       "      <td>4</td>\n",
       "      <td>3</td>\n",
       "      <td>4</td>\n",
       "      <td>5</td>\n",
       "      <td>4.000</td>\n",
       "      <td>4.000</td>\n",
       "      <td>...</td>\n",
       "      <td>809.98</td>\n",
       "      <td>31.378</td>\n",
       "      <td>No</td>\n",
       "      <td>49.575</td>\n",
       "      <td>199.4580743910713</td>\n",
       "      <td>LowspentSmallvaluepayments</td>\n",
       "      <td>223.45130972736786</td>\n",
       "      <td>2</td>\n",
       "      <td>22</td>\n",
       "      <td>4</td>\n",
       "    </tr>\n",
       "    <tr>\n",
       "      <th>4</th>\n",
       "      <td>23</td>\n",
       "      <td>Scientist</td>\n",
       "      <td>19114.12</td>\n",
       "      <td>3</td>\n",
       "      <td>4</td>\n",
       "      <td>3</td>\n",
       "      <td>4</td>\n",
       "      <td>6</td>\n",
       "      <td>31.203</td>\n",
       "      <td>4.000</td>\n",
       "      <td>...</td>\n",
       "      <td>809.98</td>\n",
       "      <td>24.797</td>\n",
       "      <td>No</td>\n",
       "      <td>49.575</td>\n",
       "      <td>41.420153086217326</td>\n",
       "      <td>HighspentMediumvaluepayments</td>\n",
       "      <td>341.48923103222177</td>\n",
       "      <td>2</td>\n",
       "      <td>22</td>\n",
       "      <td>5</td>\n",
       "    </tr>\n",
       "    <tr>\n",
       "      <th>5</th>\n",
       "      <td>23</td>\n",
       "      <td>Scientist</td>\n",
       "      <td>19114.12</td>\n",
       "      <td>3</td>\n",
       "      <td>4</td>\n",
       "      <td>3</td>\n",
       "      <td>4</td>\n",
       "      <td>8</td>\n",
       "      <td>4.000</td>\n",
       "      <td>4.000</td>\n",
       "      <td>...</td>\n",
       "      <td>809.98</td>\n",
       "      <td>27.262</td>\n",
       "      <td>No</td>\n",
       "      <td>49.575</td>\n",
       "      <td>62.430172331195294</td>\n",
       "      <td>!@9#%8</td>\n",
       "      <td>340.4792117872438</td>\n",
       "      <td>2</td>\n",
       "      <td>22</td>\n",
       "      <td>6</td>\n",
       "    </tr>\n",
       "    <tr>\n",
       "      <th>6</th>\n",
       "      <td>23</td>\n",
       "      <td>Scientist</td>\n",
       "      <td>19114.12</td>\n",
       "      <td>3</td>\n",
       "      <td>4</td>\n",
       "      <td>3</td>\n",
       "      <td>4</td>\n",
       "      <td>3</td>\n",
       "      <td>8.000</td>\n",
       "      <td>4.000</td>\n",
       "      <td>...</td>\n",
       "      <td>809.98</td>\n",
       "      <td>22.538</td>\n",
       "      <td>No</td>\n",
       "      <td>49.575</td>\n",
       "      <td>178.3440674122349</td>\n",
       "      <td>LowspentSmallvaluepayments</td>\n",
       "      <td>244.5653167062043</td>\n",
       "      <td>2</td>\n",
       "      <td>22</td>\n",
       "      <td>7</td>\n",
       "    </tr>\n",
       "  </tbody>\n",
       "</table>\n",
       "<p>5 rows × 21 columns</p>\n",
       "</div>"
      ],
      "text/plain": [
       "   Age Occupation Annual_Income  Num_Bank_Accounts  Num_Credit_Card  \\\n",
       "0   23  Scientist      19114.12                  3                4   \n",
       "3   23  Scientist      19114.12                  3                4   \n",
       "4   23  Scientist      19114.12                  3                4   \n",
       "5   23  Scientist      19114.12                  3                4   \n",
       "6   23  Scientist      19114.12                  3                4   \n",
       "\n",
       "   Interest_Rate  Num_of_Loan  Delay_from_due_date  Num_of_Delayed_Payment  \\\n",
       "0              3            4                    3                   7.000   \n",
       "3              3            4                    5                   4.000   \n",
       "4              3            4                    6                  31.203   \n",
       "5              3            4                    8                   4.000   \n",
       "6              3            4                    3                   8.000   \n",
       "\n",
       "   Num_Credit_Inquiries  ... Outstanding_Debt Credit_Utilization_Ratio  \\\n",
       "0                 4.000  ...           809.98                   26.823   \n",
       "3                 4.000  ...           809.98                   31.378   \n",
       "4                 4.000  ...           809.98                   24.797   \n",
       "5                 4.000  ...           809.98                   27.262   \n",
       "6                 4.000  ...           809.98                   22.538   \n",
       "\n",
       "   Payment_of_Min_Amount Total_EMI_per_month  Amount_invested_monthly  \\\n",
       "0                     No              49.575        80.41529543900253   \n",
       "3                     No              49.575        199.4580743910713   \n",
       "4                     No              49.575       41.420153086217326   \n",
       "5                     No              49.575       62.430172331195294   \n",
       "6                     No              49.575        178.3440674122349   \n",
       "\n",
       "              Payment_Behaviour     Monthly_Balance Credit_Score  \\\n",
       "0   HighspentSmallvaluepayments  312.49408867943663            2   \n",
       "3    LowspentSmallvaluepayments  223.45130972736786            2   \n",
       "4  HighspentMediumvaluepayments  341.48923103222177            2   \n",
       "5                        !@9#%8   340.4792117872438            2   \n",
       "6    LowspentSmallvaluepayments   244.5653167062043            2   \n",
       "\n",
       "   Credit_History_Years  Credit_History_Months  \n",
       "0                    22                      1  \n",
       "3                    22                      4  \n",
       "4                    22                      5  \n",
       "5                    22                      6  \n",
       "6                    22                      7  \n",
       "\n",
       "[5 rows x 21 columns]"
      ]
     },
     "execution_count": 69,
     "metadata": {},
     "output_type": "execute_result"
    }
   ],
   "source": [
    "# Extract years and months from 'Credit_History_Age' column\n",
    "df['Credit_History_Years'] = df['Credit_History_Age'].str.extract(r'(\\d+) Years').astype(int)\n",
    "df['Credit_History_Months'] = df['Credit_History_Age'].str.extract(r'(\\d+) Months').astype(int)\n",
    "\n",
    "df.drop(columns=['Credit_History_Age'], inplace=True)\n",
    "\n",
    "df.head()"
   ]
  },
  {
   "cell_type": "code",
   "execution_count": 70,
   "metadata": {
    "execution": {
     "iopub.execute_input": "2024-04-20T17:11:08.008755Z",
     "iopub.status.busy": "2024-04-20T17:11:08.008255Z",
     "iopub.status.idle": "2024-04-20T17:11:08.044811Z",
     "shell.execute_reply": "2024-04-20T17:11:08.043625Z",
     "shell.execute_reply.started": "2024-04-20T17:11:08.008711Z"
    },
    "trusted": true
   },
   "outputs": [
    {
     "data": {
      "text/html": [
       "<div>\n",
       "<style scoped>\n",
       "    .dataframe tbody tr th:only-of-type {\n",
       "        vertical-align: middle;\n",
       "    }\n",
       "\n",
       "    .dataframe tbody tr th {\n",
       "        vertical-align: top;\n",
       "    }\n",
       "\n",
       "    .dataframe thead th {\n",
       "        text-align: right;\n",
       "    }\n",
       "</style>\n",
       "<table border=\"1\" class=\"dataframe\">\n",
       "  <thead>\n",
       "    <tr style=\"text-align: right;\">\n",
       "      <th></th>\n",
       "      <th>Age</th>\n",
       "      <th>Occupation</th>\n",
       "      <th>Annual_Income</th>\n",
       "      <th>Num_Bank_Accounts</th>\n",
       "      <th>Num_Credit_Card</th>\n",
       "      <th>Interest_Rate</th>\n",
       "      <th>Num_of_Loan</th>\n",
       "      <th>Delay_from_due_date</th>\n",
       "      <th>Num_of_Delayed_Payment</th>\n",
       "      <th>Num_Credit_Inquiries</th>\n",
       "      <th>Credit_Mix</th>\n",
       "      <th>Outstanding_Debt</th>\n",
       "      <th>Credit_Utilization_Ratio</th>\n",
       "      <th>Payment_of_Min_Amount</th>\n",
       "      <th>Total_EMI_per_month</th>\n",
       "      <th>Amount_invested_monthly</th>\n",
       "      <th>Payment_Behaviour</th>\n",
       "      <th>Monthly_Balance</th>\n",
       "      <th>Credit_Score</th>\n",
       "      <th>Credit_History_Age_Months</th>\n",
       "    </tr>\n",
       "  </thead>\n",
       "  <tbody>\n",
       "    <tr>\n",
       "      <th>0</th>\n",
       "      <td>23</td>\n",
       "      <td>Scientist</td>\n",
       "      <td>19114.12</td>\n",
       "      <td>3</td>\n",
       "      <td>4</td>\n",
       "      <td>3</td>\n",
       "      <td>4</td>\n",
       "      <td>3</td>\n",
       "      <td>7.000</td>\n",
       "      <td>4.000</td>\n",
       "      <td>Unknown</td>\n",
       "      <td>809.98</td>\n",
       "      <td>26.823</td>\n",
       "      <td>No</td>\n",
       "      <td>49.575</td>\n",
       "      <td>80.41529543900253</td>\n",
       "      <td>HighspentSmallvaluepayments</td>\n",
       "      <td>312.49408867943663</td>\n",
       "      <td>2</td>\n",
       "      <td>265</td>\n",
       "    </tr>\n",
       "    <tr>\n",
       "      <th>3</th>\n",
       "      <td>23</td>\n",
       "      <td>Scientist</td>\n",
       "      <td>19114.12</td>\n",
       "      <td>3</td>\n",
       "      <td>4</td>\n",
       "      <td>3</td>\n",
       "      <td>4</td>\n",
       "      <td>5</td>\n",
       "      <td>4.000</td>\n",
       "      <td>4.000</td>\n",
       "      <td>Good</td>\n",
       "      <td>809.98</td>\n",
       "      <td>31.378</td>\n",
       "      <td>No</td>\n",
       "      <td>49.575</td>\n",
       "      <td>199.4580743910713</td>\n",
       "      <td>LowspentSmallvaluepayments</td>\n",
       "      <td>223.45130972736786</td>\n",
       "      <td>2</td>\n",
       "      <td>268</td>\n",
       "    </tr>\n",
       "    <tr>\n",
       "      <th>4</th>\n",
       "      <td>23</td>\n",
       "      <td>Scientist</td>\n",
       "      <td>19114.12</td>\n",
       "      <td>3</td>\n",
       "      <td>4</td>\n",
       "      <td>3</td>\n",
       "      <td>4</td>\n",
       "      <td>6</td>\n",
       "      <td>31.203</td>\n",
       "      <td>4.000</td>\n",
       "      <td>Good</td>\n",
       "      <td>809.98</td>\n",
       "      <td>24.797</td>\n",
       "      <td>No</td>\n",
       "      <td>49.575</td>\n",
       "      <td>41.420153086217326</td>\n",
       "      <td>HighspentMediumvaluepayments</td>\n",
       "      <td>341.48923103222177</td>\n",
       "      <td>2</td>\n",
       "      <td>269</td>\n",
       "    </tr>\n",
       "    <tr>\n",
       "      <th>5</th>\n",
       "      <td>23</td>\n",
       "      <td>Scientist</td>\n",
       "      <td>19114.12</td>\n",
       "      <td>3</td>\n",
       "      <td>4</td>\n",
       "      <td>3</td>\n",
       "      <td>4</td>\n",
       "      <td>8</td>\n",
       "      <td>4.000</td>\n",
       "      <td>4.000</td>\n",
       "      <td>Good</td>\n",
       "      <td>809.98</td>\n",
       "      <td>27.262</td>\n",
       "      <td>No</td>\n",
       "      <td>49.575</td>\n",
       "      <td>62.430172331195294</td>\n",
       "      <td>!@9#%8</td>\n",
       "      <td>340.4792117872438</td>\n",
       "      <td>2</td>\n",
       "      <td>270</td>\n",
       "    </tr>\n",
       "    <tr>\n",
       "      <th>6</th>\n",
       "      <td>23</td>\n",
       "      <td>Scientist</td>\n",
       "      <td>19114.12</td>\n",
       "      <td>3</td>\n",
       "      <td>4</td>\n",
       "      <td>3</td>\n",
       "      <td>4</td>\n",
       "      <td>3</td>\n",
       "      <td>8.000</td>\n",
       "      <td>4.000</td>\n",
       "      <td>Good</td>\n",
       "      <td>809.98</td>\n",
       "      <td>22.538</td>\n",
       "      <td>No</td>\n",
       "      <td>49.575</td>\n",
       "      <td>178.3440674122349</td>\n",
       "      <td>LowspentSmallvaluepayments</td>\n",
       "      <td>244.5653167062043</td>\n",
       "      <td>2</td>\n",
       "      <td>271</td>\n",
       "    </tr>\n",
       "  </tbody>\n",
       "</table>\n",
       "</div>"
      ],
      "text/plain": [
       "   Age Occupation Annual_Income  Num_Bank_Accounts  Num_Credit_Card  \\\n",
       "0   23  Scientist      19114.12                  3                4   \n",
       "3   23  Scientist      19114.12                  3                4   \n",
       "4   23  Scientist      19114.12                  3                4   \n",
       "5   23  Scientist      19114.12                  3                4   \n",
       "6   23  Scientist      19114.12                  3                4   \n",
       "\n",
       "   Interest_Rate  Num_of_Loan  Delay_from_due_date  Num_of_Delayed_Payment  \\\n",
       "0              3            4                    3                   7.000   \n",
       "3              3            4                    5                   4.000   \n",
       "4              3            4                    6                  31.203   \n",
       "5              3            4                    8                   4.000   \n",
       "6              3            4                    3                   8.000   \n",
       "\n",
       "   Num_Credit_Inquiries Credit_Mix Outstanding_Debt  Credit_Utilization_Ratio  \\\n",
       "0                 4.000    Unknown           809.98                    26.823   \n",
       "3                 4.000       Good           809.98                    31.378   \n",
       "4                 4.000       Good           809.98                    24.797   \n",
       "5                 4.000       Good           809.98                    27.262   \n",
       "6                 4.000       Good           809.98                    22.538   \n",
       "\n",
       "  Payment_of_Min_Amount  Total_EMI_per_month Amount_invested_monthly  \\\n",
       "0                    No               49.575       80.41529543900253   \n",
       "3                    No               49.575       199.4580743910713   \n",
       "4                    No               49.575      41.420153086217326   \n",
       "5                    No               49.575      62.430172331195294   \n",
       "6                    No               49.575       178.3440674122349   \n",
       "\n",
       "              Payment_Behaviour     Monthly_Balance  Credit_Score  \\\n",
       "0   HighspentSmallvaluepayments  312.49408867943663             2   \n",
       "3    LowspentSmallvaluepayments  223.45130972736786             2   \n",
       "4  HighspentMediumvaluepayments  341.48923103222177             2   \n",
       "5                        !@9#%8   340.4792117872438             2   \n",
       "6    LowspentSmallvaluepayments   244.5653167062043             2   \n",
       "\n",
       "   Credit_History_Age_Months  \n",
       "0                        265  \n",
       "3                        268  \n",
       "4                        269  \n",
       "5                        270  \n",
       "6                        271  "
      ]
     },
     "execution_count": 70,
     "metadata": {},
     "output_type": "execute_result"
    }
   ],
   "source": [
    "# Convert years to months and add with months to get total months\n",
    "df['Credit_History_Age_Months'] = df['Credit_History_Years'] * 12 + df['Credit_History_Months']\n",
    "\n",
    "# Drop the 'Credit_History_Years' and 'Credit_History_Months' columns\n",
    "df.drop(columns=['Credit_History_Years', 'Credit_History_Months'], inplace=True)\n",
    "\n",
    "df.head()"
   ]
  },
  {
   "cell_type": "markdown",
   "metadata": {},
   "source": [
    "### Payment_of_Min_Amount"
   ]
  },
  {
   "cell_type": "code",
   "execution_count": 71,
   "metadata": {
    "execution": {
     "iopub.execute_input": "2024-04-20T17:11:09.012951Z",
     "iopub.status.busy": "2024-04-20T17:11:09.011779Z",
     "iopub.status.idle": "2024-04-20T17:11:09.039053Z",
     "shell.execute_reply": "2024-04-20T17:11:09.037402Z",
     "shell.execute_reply.started": "2024-04-20T17:11:09.012907Z"
    },
    "trusted": true
   },
   "outputs": [
    {
     "data": {
      "text/plain": [
       "Payment_of_Min_Amount\n",
       "Yes    48966\n",
       "No     32262\n",
       "NM     11066\n",
       "Name: count, dtype: int64"
      ]
     },
     "execution_count": 71,
     "metadata": {},
     "output_type": "execute_result"
    }
   ],
   "source": [
    "df.Payment_of_Min_Amount.value_counts()"
   ]
  },
  {
   "cell_type": "code",
   "execution_count": 72,
   "metadata": {
    "execution": {
     "iopub.execute_input": "2024-04-20T17:11:09.642674Z",
     "iopub.status.busy": "2024-04-20T17:11:09.641935Z",
     "iopub.status.idle": "2024-04-20T17:11:10.130563Z",
     "shell.execute_reply": "2024-04-20T17:11:10.129345Z",
     "shell.execute_reply.started": "2024-04-20T17:11:09.642638Z"
    },
    "trusted": true
   },
   "outputs": [
    {
     "data": {
      "image/png": "[encoded data removed]",
      "text/plain": [
       "<Figure size 1200x600 with 1 Axes>"
      ]
     },
     "metadata": {},
     "output_type": "display_data"
    }
   ],
   "source": [
    "plt.figure(figsize=(12, 6))\n",
    "sns.countplot(x='Payment_of_Min_Amount', hue='Credit_Score', data=df)\n",
    "plt.xlabel('Payment_of_Min_Amount')\n",
    "plt.ylabel('Count')\n",
    "plt.xticks(rotation=45)\n",
    "plt.legend(title='Another_Categorical_Variable')\n",
    "plt.grid(True)\n",
    "plt.tight_layout()\n",
    "plt.show()"
   ]
  },
  {
   "cell_type": "markdown",
   "metadata": {},
   "source": [
    "### Amount_invested_monthly"
   ]
  },
  {
   "cell_type": "code",
   "execution_count": 73,
   "metadata": {
    "execution": {
     "iopub.execute_input": "2024-04-20T17:11:10.837053Z",
     "iopub.status.busy": "2024-04-20T17:11:10.836286Z",
     "iopub.status.idle": "2024-04-20T17:11:10.875332Z",
     "shell.execute_reply": "2024-04-20T17:11:10.874131Z",
     "shell.execute_reply.started": "2024-04-20T17:11:10.837006Z"
    },
    "trusted": true
   },
   "outputs": [
    {
     "data": {
      "text/plain": [
       "84073"
      ]
     },
     "execution_count": 73,
     "metadata": {},
     "output_type": "execute_result"
    }
   ],
   "source": [
    "df.Amount_invested_monthly.nunique()"
   ]
  },
  {
   "cell_type": "code",
   "execution_count": 74,
   "metadata": {
    "execution": {
     "iopub.execute_input": "2024-04-20T17:11:11.449394Z",
     "iopub.status.busy": "2024-04-20T17:11:11.448351Z",
     "iopub.status.idle": "2024-04-20T17:11:11.720535Z",
     "shell.execute_reply": "2024-04-20T17:11:11.719268Z",
     "shell.execute_reply.started": "2024-04-20T17:11:11.44935Z"
    },
    "trusted": true
   },
   "outputs": [
    {
     "data": {
      "text/plain": [
       "{'.', 'nan'}"
      ]
     },
     "execution_count": 74,
     "metadata": {},
     "output_type": "execute_result"
    }
   ],
   "source": [
    "non_numeric_values(df, 'Amount_invested_monthly')"
   ]
  },
  {
   "cell_type": "code",
   "execution_count": 75,
   "metadata": {
    "execution": {
     "iopub.execute_input": "2024-04-20T17:11:12.148603Z",
     "iopub.status.busy": "2024-04-20T17:11:12.148141Z",
     "iopub.status.idle": "2024-04-20T17:11:12.223219Z",
     "shell.execute_reply": "2024-04-20T17:11:12.222141Z",
     "shell.execute_reply.started": "2024-04-20T17:11:12.148562Z"
    },
    "trusted": true
   },
   "outputs": [
    {
     "data": {
      "text/plain": [
       "array([], dtype=float64)"
      ]
     },
     "execution_count": 75,
     "metadata": {},
     "output_type": "execute_result"
    }
   ],
   "source": [
    "df['Amount_invested_monthly'] = pd.to_numeric(df['Amount_invested_monthly'], errors='coerce')\n",
    "df[df['Amount_invested_monthly'] < 0]['Amount_invested_monthly'].unique()"
   ]
  },
  {
   "cell_type": "code",
   "execution_count": 76,
   "metadata": {
    "execution": {
     "iopub.execute_input": "2024-04-20T17:11:13.300014Z",
     "iopub.status.busy": "2024-04-20T17:11:13.299602Z",
     "iopub.status.idle": "2024-04-20T17:11:13.32202Z",
     "shell.execute_reply": "2024-04-20T17:11:13.320566Z",
     "shell.execute_reply.started": "2024-04-20T17:11:13.299983Z"
    },
    "trusted": true
   },
   "outputs": [
    {
     "data": {
      "text/plain": [
       "Amount_invested_monthly\n",
       "10000.000    3941\n",
       "0.000         154\n",
       "80.415          1\n",
       "82.081          1\n",
       "145.409         1\n",
       "96.327          1\n",
       "157.643         1\n",
       "89.570          1\n",
       "51.802          1\n",
       "98.026          1\n",
       "145.016         1\n",
       "129.361         1\n",
       "119.764         1\n",
       "323.629         1\n",
       "108.036         1\n",
       "Name: count, dtype: int64"
      ]
     },
     "execution_count": 76,
     "metadata": {},
     "output_type": "execute_result"
    }
   ],
   "source": [
    "df.Amount_invested_monthly.value_counts().head(15)"
   ]
  },
  {
   "cell_type": "code",
   "execution_count": 77,
   "metadata": {
    "execution": {
     "iopub.execute_input": "2024-04-20T17:11:13.912695Z",
     "iopub.status.busy": "2024-04-20T17:11:13.912263Z",
     "iopub.status.idle": "2024-04-20T17:11:13.946594Z",
     "shell.execute_reply": "2024-04-20T17:11:13.945075Z",
     "shell.execute_reply.started": "2024-04-20T17:11:13.912661Z"
    },
    "trusted": true
   },
   "outputs": [
    {
     "data": {
      "text/html": [
       "<div>\n",
       "<style scoped>\n",
       "    .dataframe tbody tr th:only-of-type {\n",
       "        vertical-align: middle;\n",
       "    }\n",
       "\n",
       "    .dataframe tbody tr th {\n",
       "        vertical-align: top;\n",
       "    }\n",
       "\n",
       "    .dataframe thead th {\n",
       "        text-align: right;\n",
       "    }\n",
       "</style>\n",
       "<table border=\"1\" class=\"dataframe\">\n",
       "  <thead>\n",
       "    <tr style=\"text-align: right;\">\n",
       "      <th></th>\n",
       "      <th>Age</th>\n",
       "      <th>Occupation</th>\n",
       "      <th>Annual_Income</th>\n",
       "      <th>Num_Bank_Accounts</th>\n",
       "      <th>Num_Credit_Card</th>\n",
       "      <th>Interest_Rate</th>\n",
       "      <th>Num_of_Loan</th>\n",
       "      <th>Delay_from_due_date</th>\n",
       "      <th>Num_of_Delayed_Payment</th>\n",
       "      <th>Num_Credit_Inquiries</th>\n",
       "      <th>Credit_Mix</th>\n",
       "      <th>Outstanding_Debt</th>\n",
       "      <th>Credit_Utilization_Ratio</th>\n",
       "      <th>Payment_of_Min_Amount</th>\n",
       "      <th>Total_EMI_per_month</th>\n",
       "      <th>Amount_invested_monthly</th>\n",
       "      <th>Payment_Behaviour</th>\n",
       "      <th>Monthly_Balance</th>\n",
       "      <th>Credit_Score</th>\n",
       "      <th>Credit_History_Age_Months</th>\n",
       "    </tr>\n",
       "  </thead>\n",
       "  <tbody>\n",
       "    <tr>\n",
       "      <th>82474</th>\n",
       "      <td>17</td>\n",
       "      <td>Mechanic</td>\n",
       "      <td>61533.36</td>\n",
       "      <td>8</td>\n",
       "      <td>1265</td>\n",
       "      <td>9</td>\n",
       "      <td>5</td>\n",
       "      <td>22</td>\n",
       "      <td>18.000</td>\n",
       "      <td>6.000</td>\n",
       "      <td>Unknown</td>\n",
       "      <td>1029.35</td>\n",
       "      <td>34.383</td>\n",
       "      <td>Yes</td>\n",
       "      <td>251.523</td>\n",
       "      <td>NaN</td>\n",
       "      <td>HighspentMediumvaluepayments</td>\n",
       "      <td>311.77559567051264</td>\n",
       "      <td>1</td>\n",
       "      <td>175</td>\n",
       "    </tr>\n",
       "    <tr>\n",
       "      <th>40184</th>\n",
       "      <td>39</td>\n",
       "      <td>Mechanic</td>\n",
       "      <td>37421.88</td>\n",
       "      <td>2</td>\n",
       "      <td>4</td>\n",
       "      <td>9</td>\n",
       "      <td>3</td>\n",
       "      <td>6</td>\n",
       "      <td>14.000</td>\n",
       "      <td>2.000</td>\n",
       "      <td>Good</td>\n",
       "      <td>1083.06</td>\n",
       "      <td>23.114</td>\n",
       "      <td>No</td>\n",
       "      <td>59.189</td>\n",
       "      <td>NaN</td>\n",
       "      <td>HighspentMediumvaluepayments</td>\n",
       "      <td>408.1250582039864</td>\n",
       "      <td>1</td>\n",
       "      <td>359</td>\n",
       "    </tr>\n",
       "    <tr>\n",
       "      <th>66820</th>\n",
       "      <td>39</td>\n",
       "      <td>Scientist</td>\n",
       "      <td>20886.73</td>\n",
       "      <td>5</td>\n",
       "      <td>5</td>\n",
       "      <td>12</td>\n",
       "      <td>4</td>\n",
       "      <td>13</td>\n",
       "      <td>8.000</td>\n",
       "      <td>0.000</td>\n",
       "      <td>Good</td>\n",
       "      <td>769.43</td>\n",
       "      <td>32.790</td>\n",
       "      <td>No</td>\n",
       "      <td>39.690</td>\n",
       "      <td>NaN</td>\n",
       "      <td>HighspentMediumvaluepayments</td>\n",
       "      <td>337.4899334576363</td>\n",
       "      <td>1</td>\n",
       "      <td>392</td>\n",
       "    </tr>\n",
       "    <tr>\n",
       "      <th>10736</th>\n",
       "      <td>42</td>\n",
       "      <td>Other</td>\n",
       "      <td>36690.32</td>\n",
       "      <td>3</td>\n",
       "      <td>3</td>\n",
       "      <td>9</td>\n",
       "      <td>6</td>\n",
       "      <td>10</td>\n",
       "      <td>17.000</td>\n",
       "      <td>4.000</td>\n",
       "      <td>Standard</td>\n",
       "      <td>874.85</td>\n",
       "      <td>34.024</td>\n",
       "      <td>Yes</td>\n",
       "      <td>134.088</td>\n",
       "      <td>NaN</td>\n",
       "      <td>HighspentLargevaluepayments</td>\n",
       "      <td>349.37446555202035</td>\n",
       "      <td>1</td>\n",
       "      <td>195</td>\n",
       "    </tr>\n",
       "    <tr>\n",
       "      <th>42967</th>\n",
       "      <td>34</td>\n",
       "      <td>Manager</td>\n",
       "      <td>36068.94</td>\n",
       "      <td>8</td>\n",
       "      <td>5</td>\n",
       "      <td>13</td>\n",
       "      <td>4</td>\n",
       "      <td>30</td>\n",
       "      <td>17.000</td>\n",
       "      <td>10.000</td>\n",
       "      <td>Standard</td>\n",
       "      <td>2208.99</td>\n",
       "      <td>36.477</td>\n",
       "      <td>Yes</td>\n",
       "      <td>89.067</td>\n",
       "      <td>NaN</td>\n",
       "      <td>HighspentMediumvaluepayments</td>\n",
       "      <td>349.46587477841746</td>\n",
       "      <td>1</td>\n",
       "      <td>231</td>\n",
       "    </tr>\n",
       "    <tr>\n",
       "      <th>69403</th>\n",
       "      <td>43</td>\n",
       "      <td>MediaManager</td>\n",
       "      <td>14535.49</td>\n",
       "      <td>7</td>\n",
       "      <td>10</td>\n",
       "      <td>22</td>\n",
       "      <td>8</td>\n",
       "      <td>57</td>\n",
       "      <td>16.000</td>\n",
       "      <td>13.000</td>\n",
       "      <td>Bad</td>\n",
       "      <td>3607.6</td>\n",
       "      <td>30.535</td>\n",
       "      <td>Yes</td>\n",
       "      <td>53.039</td>\n",
       "      <td>NaN</td>\n",
       "      <td>LowspentMediumvaluepayments</td>\n",
       "      <td>292.51498017145593</td>\n",
       "      <td>0</td>\n",
       "      <td>47</td>\n",
       "    </tr>\n",
       "    <tr>\n",
       "      <th>98131</th>\n",
       "      <td>35</td>\n",
       "      <td>Musician</td>\n",
       "      <td>30619.56</td>\n",
       "      <td>5</td>\n",
       "      <td>7</td>\n",
       "      <td>16</td>\n",
       "      <td>6</td>\n",
       "      <td>9</td>\n",
       "      <td>20.000</td>\n",
       "      <td>6.000</td>\n",
       "      <td>Standard</td>\n",
       "      <td>711.08</td>\n",
       "      <td>40.227</td>\n",
       "      <td>Yes</td>\n",
       "      <td>137.793</td>\n",
       "      <td>NaN</td>\n",
       "      <td>LowspentSmallvaluepayments</td>\n",
       "      <td>111.68820974383738</td>\n",
       "      <td>0</td>\n",
       "      <td>151</td>\n",
       "    </tr>\n",
       "    <tr>\n",
       "      <th>29275</th>\n",
       "      <td>36</td>\n",
       "      <td>Musician</td>\n",
       "      <td>64173.56</td>\n",
       "      <td>7</td>\n",
       "      <td>4</td>\n",
       "      <td>11</td>\n",
       "      <td>2</td>\n",
       "      <td>12</td>\n",
       "      <td>17.000</td>\n",
       "      <td>2.000</td>\n",
       "      <td>Standard</td>\n",
       "      <td>497.23</td>\n",
       "      <td>39.446</td>\n",
       "      <td>No</td>\n",
       "      <td>68.349</td>\n",
       "      <td>NaN</td>\n",
       "      <td>LowspentSmallvaluepayments</td>\n",
       "      <td>301.1574294685698</td>\n",
       "      <td>1</td>\n",
       "      <td>360</td>\n",
       "    </tr>\n",
       "    <tr>\n",
       "      <th>69831</th>\n",
       "      <td>39</td>\n",
       "      <td>Journalist</td>\n",
       "      <td>17698.23</td>\n",
       "      <td>6</td>\n",
       "      <td>9</td>\n",
       "      <td>18</td>\n",
       "      <td>7</td>\n",
       "      <td>31</td>\n",
       "      <td>22.000</td>\n",
       "      <td>14.000</td>\n",
       "      <td>Bad</td>\n",
       "      <td>4603.45</td>\n",
       "      <td>35.811</td>\n",
       "      <td>Yes</td>\n",
       "      <td>73.666</td>\n",
       "      <td>NaN</td>\n",
       "      <td>LowspentMediumvaluepayments</td>\n",
       "      <td>295.910196057608</td>\n",
       "      <td>0</td>\n",
       "      <td>66</td>\n",
       "    </tr>\n",
       "    <tr>\n",
       "      <th>83030</th>\n",
       "      <td>38</td>\n",
       "      <td>Writer</td>\n",
       "      <td>47032.8</td>\n",
       "      <td>8</td>\n",
       "      <td>3</td>\n",
       "      <td>16</td>\n",
       "      <td>3</td>\n",
       "      <td>19</td>\n",
       "      <td>8.000</td>\n",
       "      <td>7.000</td>\n",
       "      <td>Standard</td>\n",
       "      <td>1901.62</td>\n",
       "      <td>32.304</td>\n",
       "      <td>Yes</td>\n",
       "      <td>103.379</td>\n",
       "      <td>NaN</td>\n",
       "      <td>LowspentLargevaluepayments</td>\n",
       "      <td>207.66570503847854</td>\n",
       "      <td>1</td>\n",
       "      <td>211</td>\n",
       "    </tr>\n",
       "    <tr>\n",
       "      <th>63288</th>\n",
       "      <td>29</td>\n",
       "      <td>Developer</td>\n",
       "      <td>29375.68</td>\n",
       "      <td>4</td>\n",
       "      <td>8</td>\n",
       "      <td>27</td>\n",
       "      <td>6</td>\n",
       "      <td>5</td>\n",
       "      <td>11.000</td>\n",
       "      <td>11.000</td>\n",
       "      <td>Standard</td>\n",
       "      <td>1985.59</td>\n",
       "      <td>39.142</td>\n",
       "      <td>Yes</td>\n",
       "      <td>90.861</td>\n",
       "      <td>NaN</td>\n",
       "      <td>LowspentMediumvaluepayments</td>\n",
       "      <td>285.00340631084634</td>\n",
       "      <td>0</td>\n",
       "      <td>225</td>\n",
       "    </tr>\n",
       "    <tr>\n",
       "      <th>37825</th>\n",
       "      <td>54</td>\n",
       "      <td>Doctor</td>\n",
       "      <td>61236.86</td>\n",
       "      <td>3</td>\n",
       "      <td>2</td>\n",
       "      <td>8</td>\n",
       "      <td>1</td>\n",
       "      <td>5</td>\n",
       "      <td>6.000</td>\n",
       "      <td>4.000</td>\n",
       "      <td>Good</td>\n",
       "      <td>1460.07</td>\n",
       "      <td>41.349</td>\n",
       "      <td>No</td>\n",
       "      <td>32.217</td>\n",
       "      <td>NaN</td>\n",
       "      <td>HighspentLargevaluepayments</td>\n",
       "      <td>672.1767288953722</td>\n",
       "      <td>2</td>\n",
       "      <td>306</td>\n",
       "    </tr>\n",
       "    <tr>\n",
       "      <th>92905</th>\n",
       "      <td>16</td>\n",
       "      <td>Lawyer</td>\n",
       "      <td>63928.95</td>\n",
       "      <td>6</td>\n",
       "      <td>6</td>\n",
       "      <td>8</td>\n",
       "      <td>4</td>\n",
       "      <td>7</td>\n",
       "      <td>17.000</td>\n",
       "      <td>6.000</td>\n",
       "      <td>Unknown</td>\n",
       "      <td>1290.64</td>\n",
       "      <td>36.098</td>\n",
       "      <td>Yes</td>\n",
       "      <td>184.027</td>\n",
       "      <td>NaN</td>\n",
       "      <td>HighspentMediumvaluepayments</td>\n",
       "      <td>487.3972164261437</td>\n",
       "      <td>1</td>\n",
       "      <td>226</td>\n",
       "    </tr>\n",
       "    <tr>\n",
       "      <th>36467</th>\n",
       "      <td>28</td>\n",
       "      <td>Engineer</td>\n",
       "      <td>39700.24</td>\n",
       "      <td>10</td>\n",
       "      <td>5</td>\n",
       "      <td>24</td>\n",
       "      <td>5</td>\n",
       "      <td>61</td>\n",
       "      <td>19.000</td>\n",
       "      <td>7.000</td>\n",
       "      <td>Bad</td>\n",
       "      <td>2558.7</td>\n",
       "      <td>28.814</td>\n",
       "      <td>Yes</td>\n",
       "      <td>136.576</td>\n",
       "      <td>NaN</td>\n",
       "      <td>LowspentMediumvaluepayments</td>\n",
       "      <td>219.21746071455087</td>\n",
       "      <td>0</td>\n",
       "      <td>145</td>\n",
       "    </tr>\n",
       "    <tr>\n",
       "      <th>32836</th>\n",
       "      <td>43</td>\n",
       "      <td>Architect</td>\n",
       "      <td>33191.11</td>\n",
       "      <td>7</td>\n",
       "      <td>5</td>\n",
       "      <td>17</td>\n",
       "      <td>0</td>\n",
       "      <td>11</td>\n",
       "      <td>13.000</td>\n",
       "      <td>1.000</td>\n",
       "      <td>Standard</td>\n",
       "      <td>908.33</td>\n",
       "      <td>30.808</td>\n",
       "      <td>Yes</td>\n",
       "      <td>0.000</td>\n",
       "      <td>NaN</td>\n",
       "      <td>LowspentSmallvaluepayments</td>\n",
       "      <td>383.98488677180586</td>\n",
       "      <td>0</td>\n",
       "      <td>282</td>\n",
       "    </tr>\n",
       "  </tbody>\n",
       "</table>\n",
       "</div>"
      ],
      "text/plain": [
       "       Age    Occupation Annual_Income  Num_Bank_Accounts  Num_Credit_Card  \\\n",
       "82474   17      Mechanic      61533.36                  8             1265   \n",
       "40184   39      Mechanic      37421.88                  2                4   \n",
       "66820   39     Scientist      20886.73                  5                5   \n",
       "10736   42         Other      36690.32                  3                3   \n",
       "42967   34       Manager      36068.94                  8                5   \n",
       "69403   43  MediaManager      14535.49                  7               10   \n",
       "98131   35      Musician      30619.56                  5                7   \n",
       "29275   36      Musician      64173.56                  7                4   \n",
       "69831   39    Journalist      17698.23                  6                9   \n",
       "83030   38        Writer       47032.8                  8                3   \n",
       "63288   29     Developer      29375.68                  4                8   \n",
       "37825   54        Doctor      61236.86                  3                2   \n",
       "92905   16        Lawyer      63928.95                  6                6   \n",
       "36467   28      Engineer      39700.24                 10                5   \n",
       "32836   43     Architect      33191.11                  7                5   \n",
       "\n",
       "       Interest_Rate  Num_of_Loan  Delay_from_due_date  \\\n",
       "82474              9            5                   22   \n",
       "40184              9            3                    6   \n",
       "66820             12            4                   13   \n",
       "10736              9            6                   10   \n",
       "42967             13            4                   30   \n",
       "69403             22            8                   57   \n",
       "98131             16            6                    9   \n",
       "29275             11            2                   12   \n",
       "69831             18            7                   31   \n",
       "83030             16            3                   19   \n",
       "63288             27            6                    5   \n",
       "37825              8            1                    5   \n",
       "92905              8            4                    7   \n",
       "36467             24            5                   61   \n",
       "32836             17            0                   11   \n",
       "\n",
       "       Num_of_Delayed_Payment  Num_Credit_Inquiries Credit_Mix  \\\n",
       "82474                  18.000                 6.000    Unknown   \n",
       "40184                  14.000                 2.000       Good   \n",
       "66820                   8.000                 0.000       Good   \n",
       "10736                  17.000                 4.000   Standard   \n",
       "42967                  17.000                10.000   Standard   \n",
       "69403                  16.000                13.000        Bad   \n",
       "98131                  20.000                 6.000   Standard   \n",
       "29275                  17.000                 2.000   Standard   \n",
       "69831                  22.000                14.000        Bad   \n",
       "83030                   8.000                 7.000   Standard   \n",
       "63288                  11.000                11.000   Standard   \n",
       "37825                   6.000                 4.000       Good   \n",
       "92905                  17.000                 6.000    Unknown   \n",
       "36467                  19.000                 7.000        Bad   \n",
       "32836                  13.000                 1.000   Standard   \n",
       "\n",
       "      Outstanding_Debt  Credit_Utilization_Ratio Payment_of_Min_Amount  \\\n",
       "82474          1029.35                    34.383                   Yes   \n",
       "40184          1083.06                    23.114                    No   \n",
       "66820           769.43                    32.790                    No   \n",
       "10736           874.85                    34.024                   Yes   \n",
       "42967          2208.99                    36.477                   Yes   \n",
       "69403           3607.6                    30.535                   Yes   \n",
       "98131           711.08                    40.227                   Yes   \n",
       "29275           497.23                    39.446                    No   \n",
       "69831          4603.45                    35.811                   Yes   \n",
       "83030          1901.62                    32.304                   Yes   \n",
       "63288          1985.59                    39.142                   Yes   \n",
       "37825          1460.07                    41.349                    No   \n",
       "92905          1290.64                    36.098                   Yes   \n",
       "36467           2558.7                    28.814                   Yes   \n",
       "32836           908.33                    30.808                   Yes   \n",
       "\n",
       "       Total_EMI_per_month  Amount_invested_monthly  \\\n",
       "82474              251.523                      NaN   \n",
       "40184               59.189                      NaN   \n",
       "66820               39.690                      NaN   \n",
       "10736              134.088                      NaN   \n",
       "42967               89.067                      NaN   \n",
       "69403               53.039                      NaN   \n",
       "98131              137.793                      NaN   \n",
       "29275               68.349                      NaN   \n",
       "69831               73.666                      NaN   \n",
       "83030              103.379                      NaN   \n",
       "63288               90.861                      NaN   \n",
       "37825               32.217                      NaN   \n",
       "92905              184.027                      NaN   \n",
       "36467              136.576                      NaN   \n",
       "32836                0.000                      NaN   \n",
       "\n",
       "                  Payment_Behaviour     Monthly_Balance  Credit_Score  \\\n",
       "82474  HighspentMediumvaluepayments  311.77559567051264             1   \n",
       "40184  HighspentMediumvaluepayments   408.1250582039864             1   \n",
       "66820  HighspentMediumvaluepayments   337.4899334576363             1   \n",
       "10736   HighspentLargevaluepayments  349.37446555202035             1   \n",
       "42967  HighspentMediumvaluepayments  349.46587477841746             1   \n",
       "69403   LowspentMediumvaluepayments  292.51498017145593             0   \n",
       "98131    LowspentSmallvaluepayments  111.68820974383738             0   \n",
       "29275    LowspentSmallvaluepayments   301.1574294685698             1   \n",
       "69831   LowspentMediumvaluepayments    295.910196057608             0   \n",
       "83030    LowspentLargevaluepayments  207.66570503847854             1   \n",
       "63288   LowspentMediumvaluepayments  285.00340631084634             0   \n",
       "37825   HighspentLargevaluepayments   672.1767288953722             2   \n",
       "92905  HighspentMediumvaluepayments   487.3972164261437             1   \n",
       "36467   LowspentMediumvaluepayments  219.21746071455087             0   \n",
       "32836    LowspentSmallvaluepayments  383.98488677180586             0   \n",
       "\n",
       "       Credit_History_Age_Months  \n",
       "82474                        175  \n",
       "40184                        359  \n",
       "66820                        392  \n",
       "10736                        195  \n",
       "42967                        231  \n",
       "69403                         47  \n",
       "98131                        151  \n",
       "29275                        360  \n",
       "69831                         66  \n",
       "83030                        211  \n",
       "63288                        225  \n",
       "37825                        306  \n",
       "92905                        226  \n",
       "36467                        145  \n",
       "32836                        282  "
      ]
     },
     "execution_count": 77,
     "metadata": {},
     "output_type": "execute_result"
    }
   ],
   "source": [
    "df[df.Amount_invested_monthly.isna()].sample(15)"
   ]
  },
  {
   "cell_type": "code",
   "execution_count": 78,
   "metadata": {
    "execution": {
     "iopub.execute_input": "2024-04-20T17:11:14.494913Z",
     "iopub.status.busy": "2024-04-20T17:11:14.493374Z",
     "iopub.status.idle": "2024-04-20T17:11:29.535476Z",
     "shell.execute_reply": "2024-04-20T17:11:29.534133Z",
     "shell.execute_reply.started": "2024-04-20T17:11:14.494863Z"
    },
    "trusted": true
   },
   "outputs": [],
   "source": [
    "df = knn_impute_column(df, 'Amount_invested_monthly')"
   ]
  },
  {
   "cell_type": "code",
   "execution_count": 79,
   "metadata": {
    "execution": {
     "iopub.execute_input": "2024-04-20T17:11:29.537807Z",
     "iopub.status.busy": "2024-04-20T17:11:29.537424Z",
     "iopub.status.idle": "2024-04-20T17:11:29.545788Z",
     "shell.execute_reply": "2024-04-20T17:11:29.544397Z",
     "shell.execute_reply.started": "2024-04-20T17:11:29.537775Z"
    },
    "trusted": true
   },
   "outputs": [
    {
     "data": {
      "text/plain": [
       "0"
      ]
     },
     "execution_count": 79,
     "metadata": {},
     "output_type": "execute_result"
    }
   ],
   "source": [
    "df.Amount_invested_monthly.isna().sum()"
   ]
  },
  {
   "cell_type": "code",
   "execution_count": 80,
   "metadata": {
    "execution": {
     "iopub.execute_input": "2024-04-20T17:11:29.549983Z",
     "iopub.status.busy": "2024-04-20T17:11:29.549585Z",
     "iopub.status.idle": "2024-04-20T17:11:29.570736Z",
     "shell.execute_reply": "2024-04-20T17:11:29.569618Z",
     "shell.execute_reply.started": "2024-04-20T17:11:29.549951Z"
    },
    "trusted": true
   },
   "outputs": [
    {
     "data": {
      "text/plain": [
       "Amount_invested_monthly\n",
       "633.430      4128\n",
       "10000.000    3941\n",
       "0.000         154\n",
       "80.415          1\n",
       "82.081          1\n",
       "145.409         1\n",
       "96.327          1\n",
       "157.643         1\n",
       "89.570          1\n",
       "51.802          1\n",
       "Name: count, dtype: int64"
      ]
     },
     "execution_count": 80,
     "metadata": {},
     "output_type": "execute_result"
    }
   ],
   "source": [
    "df.Amount_invested_monthly.value_counts().head(10)"
   ]
  },
  {
   "cell_type": "code",
   "execution_count": 81,
   "metadata": {
    "execution": {
     "iopub.execute_input": "2024-04-20T17:11:29.574523Z",
     "iopub.status.busy": "2024-04-20T17:11:29.573111Z",
     "iopub.status.idle": "2024-04-20T17:11:29.941685Z",
     "shell.execute_reply": "2024-04-20T17:11:29.940511Z",
     "shell.execute_reply.started": "2024-04-20T17:11:29.574485Z"
    },
    "trusted": true
   },
   "outputs": [
    {
     "data": {
      "image/png": "[encoded data removed]",
      "text/plain": [
       "<Figure size 1200x600 with 1 Axes>"
      ]
     },
     "metadata": {},
     "output_type": "display_data"
    }
   ],
   "source": [
    "sns.boxplot(data= df, x = df['Amount_invested_monthly']);"
   ]
  },
  {
   "cell_type": "code",
   "execution_count": 82,
   "metadata": {
    "execution": {
     "iopub.execute_input": "2024-04-20T17:11:29.943991Z",
     "iopub.status.busy": "2024-04-20T17:11:29.94354Z",
     "iopub.status.idle": "2024-04-20T17:11:29.958901Z",
     "shell.execute_reply": "2024-04-20T17:11:29.957648Z",
     "shell.execute_reply.started": "2024-04-20T17:11:29.94395Z"
    },
    "trusted": true
   },
   "outputs": [
    {
     "data": {
      "text/plain": [
       "3941"
      ]
     },
     "execution_count": 82,
     "metadata": {},
     "output_type": "execute_result"
    }
   ],
   "source": [
    "df[df['Amount_invested_monthly'] == 10000]['Amount_invested_monthly'].count()"
   ]
  },
  {
   "cell_type": "markdown",
   "metadata": {},
   "source": [
    "### Payment_Behaviour"
   ]
  },
  {
   "cell_type": "code",
   "execution_count": 83,
   "metadata": {
    "execution": {
     "iopub.execute_input": "2024-04-20T17:11:29.961305Z",
     "iopub.status.busy": "2024-04-20T17:11:29.960262Z",
     "iopub.status.idle": "2024-04-20T17:11:29.987866Z",
     "shell.execute_reply": "2024-04-20T17:11:29.98691Z",
     "shell.execute_reply.started": "2024-04-20T17:11:29.96127Z"
    },
    "trusted": true
   },
   "outputs": [
    {
     "data": {
      "text/plain": [
       "Payment_Behaviour\n",
       "LowspentSmallvaluepayments      23661\n",
       "HighspentMediumvaluepayments    16179\n",
       "LowspentMediumvaluepayments     12777\n",
       "HighspentLargevaluepayments     12569\n",
       "HighspentSmallvaluepayments     10468\n",
       "LowspentLargevaluepayments       9646\n",
       "!@9#%8                           6994\n",
       "Name: count, dtype: int64"
      ]
     },
     "execution_count": 83,
     "metadata": {},
     "output_type": "execute_result"
    }
   ],
   "source": [
    "df.Payment_Behaviour.value_counts()"
   ]
  },
  {
   "cell_type": "code",
   "execution_count": 84,
   "metadata": {
    "execution": {
     "iopub.execute_input": "2024-04-20T17:11:29.989506Z",
     "iopub.status.busy": "2024-04-20T17:11:29.989185Z",
     "iopub.status.idle": "2024-04-20T17:11:30.603858Z",
     "shell.execute_reply": "2024-04-20T17:11:30.602722Z",
     "shell.execute_reply.started": "2024-04-20T17:11:29.989479Z"
    },
    "trusted": true
   },
   "outputs": [
    {
     "data": {
      "image/png": "[encoded data removed]",
      "text/plain": [
       "<Figure size 1200x600 with 1 Axes>"
      ]
     },
     "metadata": {},
     "output_type": "display_data"
    }
   ],
   "source": [
    "plt.figure(figsize=(12, 6))\n",
    "sns.countplot(x='Payment_Behaviour', hue='Credit_Score', data=df)\n",
    "plt.xlabel('Payment_Behaviour')\n",
    "plt.ylabel('Count')\n",
    "plt.xticks(rotation=45)\n",
    "plt.legend(title='Another_Categorical_Variable')\n",
    "plt.grid(True)\n",
    "plt.tight_layout()\n",
    "plt.show()"
   ]
  },
  {
   "cell_type": "code",
   "execution_count": 85,
   "metadata": {
    "execution": {
     "iopub.execute_input": "2024-04-20T17:11:30.605825Z",
     "iopub.status.busy": "2024-04-20T17:11:30.605394Z",
     "iopub.status.idle": "2024-04-20T17:11:30.660909Z",
     "shell.execute_reply": "2024-04-20T17:11:30.659703Z",
     "shell.execute_reply.started": "2024-04-20T17:11:30.605783Z"
    },
    "trusted": true
   },
   "outputs": [],
   "source": [
    "# Replace '!@9#%8' with NaN\n",
    "df['Payment_Behaviour'].replace('!@9#%8', pd.NA, inplace=True)\n",
    "\n",
    "# Impute missing values with mode\n",
    "mode_value = df['Payment_Behaviour'].mode()[0]\n",
    "df['Payment_Behaviour'].fillna(mode_value, inplace=True)\n"
   ]
  },
  {
   "cell_type": "code",
   "execution_count": 86,
   "metadata": {
    "execution": {
     "iopub.execute_input": "2024-04-20T17:11:30.665424Z",
     "iopub.status.busy": "2024-04-20T17:11:30.665057Z",
     "iopub.status.idle": "2024-04-20T17:11:30.691898Z",
     "shell.execute_reply": "2024-04-20T17:11:30.690777Z",
     "shell.execute_reply.started": "2024-04-20T17:11:30.665391Z"
    },
    "trusted": true
   },
   "outputs": [
    {
     "data": {
      "text/plain": [
       "Payment_Behaviour\n",
       "LowspentSmallvaluepayments      30655\n",
       "HighspentMediumvaluepayments    16179\n",
       "LowspentMediumvaluepayments     12777\n",
       "HighspentLargevaluepayments     12569\n",
       "HighspentSmallvaluepayments     10468\n",
       "LowspentLargevaluepayments       9646\n",
       "Name: count, dtype: int64"
      ]
     },
     "execution_count": 86,
     "metadata": {},
     "output_type": "execute_result"
    }
   ],
   "source": [
    "df.Payment_Behaviour.value_counts()"
   ]
  },
  {
   "cell_type": "code",
   "execution_count": 87,
   "metadata": {
    "execution": {
     "iopub.execute_input": "2024-04-20T17:11:30.695379Z",
     "iopub.status.busy": "2024-04-20T17:11:30.695014Z",
     "iopub.status.idle": "2024-04-20T17:11:31.019635Z",
     "shell.execute_reply": "2024-04-20T17:11:31.018496Z",
     "shell.execute_reply.started": "2024-04-20T17:11:30.69534Z"
    },
    "trusted": true
   },
   "outputs": [
    {
     "data": {
      "text/plain": [
       "Payment_Behaviour\n",
       "Low_spent_Small_value_payments      30655\n",
       "High_spent_Medium_value_payments    16179\n",
       "Low_spent_Medium_value_payments     12777\n",
       "High_spent_Large_value_payments     12569\n",
       "High_spent_Small_value_payments     10468\n",
       "Low_spent_Large_value_payments       9646\n",
       "Name: count, dtype: int64"
      ]
     },
     "execution_count": 87,
     "metadata": {},
     "output_type": "execute_result"
    }
   ],
   "source": [
    "df['Payment_Behaviour'] = df['Payment_Behaviour'].str.replace('Lowspent', 'Low_spent_')\n",
    "df['Payment_Behaviour'] = df['Payment_Behaviour'].str.replace('Highspent', 'High_spent_')\n",
    "df['Payment_Behaviour'] = df['Payment_Behaviour'].str.replace('Highspent', 'High_spent_')\n",
    "\n",
    "df['Payment_Behaviour'] = df['Payment_Behaviour'].str.replace('Smallvalue', 'Small_value_')\n",
    "df['Payment_Behaviour'] = df['Payment_Behaviour'].str.replace('Largevalue', 'Large_value_')\n",
    "df['Payment_Behaviour'] = df['Payment_Behaviour'].str.replace('Mediumvalue', 'Medium_value_')\n",
    "\n",
    "df['Payment_Behaviour'].value_counts()"
   ]
  },
  {
   "cell_type": "markdown",
   "metadata": {},
   "source": [
    "### Monthly_Balance"
   ]
  },
  {
   "cell_type": "code",
   "execution_count": 88,
   "metadata": {
    "execution": {
     "iopub.execute_input": "2024-04-20T17:11:36.157351Z",
     "iopub.status.busy": "2024-04-20T17:11:36.156599Z",
     "iopub.status.idle": "2024-04-20T17:11:36.178132Z",
     "shell.execute_reply": "2024-04-20T17:11:36.177006Z",
     "shell.execute_reply.started": "2024-04-20T17:11:36.157298Z"
    },
    "trusted": true
   },
   "outputs": [
    {
     "data": {
      "text/plain": [
       "1123"
      ]
     },
     "execution_count": 88,
     "metadata": {},
     "output_type": "execute_result"
    }
   ],
   "source": [
    "df.Monthly_Balance.isna().sum()"
   ]
  },
  {
   "cell_type": "code",
   "execution_count": 89,
   "metadata": {
    "execution": {
     "iopub.execute_input": "2024-04-20T17:11:36.852828Z",
     "iopub.status.busy": "2024-04-20T17:11:36.851925Z",
     "iopub.status.idle": "2024-04-20T17:11:37.146766Z",
     "shell.execute_reply": "2024-04-20T17:11:37.145641Z",
     "shell.execute_reply.started": "2024-04-20T17:11:36.852792Z"
    },
    "trusted": true
   },
   "outputs": [
    {
     "data": {
      "text/plain": [
       "{'-', '.', 'nan'}"
      ]
     },
     "execution_count": 89,
     "metadata": {},
     "output_type": "execute_result"
    }
   ],
   "source": [
    "non_numeric_values(df, 'Monthly_Balance')"
   ]
  },
  {
   "cell_type": "code",
   "execution_count": 90,
   "metadata": {
    "execution": {
     "iopub.execute_input": "2024-04-20T17:11:37.534064Z",
     "iopub.status.busy": "2024-04-20T17:11:37.533592Z",
     "iopub.status.idle": "2024-04-20T17:11:37.606956Z",
     "shell.execute_reply": "2024-04-20T17:11:37.605727Z",
     "shell.execute_reply.started": "2024-04-20T17:11:37.534028Z"
    },
    "trusted": true
   },
   "outputs": [
    {
     "data": {
      "text/plain": [
       "9"
      ]
     },
     "execution_count": 90,
     "metadata": {},
     "output_type": "execute_result"
    }
   ],
   "source": [
    "df['Monthly_Balance'] = pd.to_numeric(df['Monthly_Balance'], errors='coerce')\n",
    "df[df['Monthly_Balance'] < 0]['Monthly_Balance'].count()"
   ]
  },
  {
   "cell_type": "code",
   "execution_count": 91,
   "metadata": {
    "execution": {
     "iopub.execute_input": "2024-04-20T17:11:38.320597Z",
     "iopub.status.busy": "2024-04-20T17:11:38.319651Z",
     "iopub.status.idle": "2024-04-20T17:11:38.345873Z",
     "shell.execute_reply": "2024-04-20T17:11:38.344887Z",
     "shell.execute_reply.started": "2024-04-20T17:11:38.320518Z"
    },
    "trusted": true
   },
   "outputs": [],
   "source": [
    "df.drop(df[df['Monthly_Balance'] < 0].index, inplace = True)"
   ]
  },
  {
   "cell_type": "code",
   "execution_count": 92,
   "metadata": {
    "execution": {
     "iopub.execute_input": "2024-04-20T17:11:39.050953Z",
     "iopub.status.busy": "2024-04-20T17:11:39.050527Z",
     "iopub.status.idle": "2024-04-20T17:11:39.073934Z",
     "shell.execute_reply": "2024-04-20T17:11:39.072617Z",
     "shell.execute_reply.started": "2024-04-20T17:11:39.05092Z"
    },
    "trusted": true
   },
   "outputs": [
    {
     "data": {
      "text/plain": [
       "Monthly_Balance\n",
       "312.494    1\n",
       "286.520    1\n",
       "395.106    1\n",
       "440.468    1\n",
       "411.910    1\n",
       "397.622    1\n",
       "327.670    1\n",
       "399.045    1\n",
       "355.826    1\n",
       "199.857    1\n",
       "304.184    1\n",
       "539.684    1\n",
       "614.241    1\n",
       "519.046    1\n",
       "494.545    1\n",
       "Name: count, dtype: int64"
      ]
     },
     "execution_count": 92,
     "metadata": {},
     "output_type": "execute_result"
    }
   ],
   "source": [
    "df['Monthly_Balance'].value_counts().head(15)"
   ]
  },
  {
   "cell_type": "code",
   "execution_count": 93,
   "metadata": {
    "execution": {
     "iopub.execute_input": "2024-04-20T17:11:39.890171Z",
     "iopub.status.busy": "2024-04-20T17:11:39.889756Z",
     "iopub.status.idle": "2024-04-20T17:11:39.898643Z",
     "shell.execute_reply": "2024-04-20T17:11:39.897493Z",
     "shell.execute_reply.started": "2024-04-20T17:11:39.89014Z"
    },
    "trusted": true
   },
   "outputs": [
    {
     "data": {
      "text/plain": [
       "1602.0405189622518"
      ]
     },
     "execution_count": 93,
     "metadata": {},
     "output_type": "execute_result"
    }
   ],
   "source": [
    "df['Monthly_Balance'].max()"
   ]
  },
  {
   "cell_type": "code",
   "execution_count": 94,
   "metadata": {
    "execution": {
     "iopub.execute_input": "2024-04-20T17:11:40.657051Z",
     "iopub.status.busy": "2024-04-20T17:11:40.656506Z",
     "iopub.status.idle": "2024-04-20T17:11:40.665635Z",
     "shell.execute_reply": "2024-04-20T17:11:40.664495Z",
     "shell.execute_reply.started": "2024-04-20T17:11:40.657014Z"
    },
    "trusted": true
   },
   "outputs": [
    {
     "data": {
      "text/plain": [
       "0.0077596647753352"
      ]
     },
     "execution_count": 94,
     "metadata": {},
     "output_type": "execute_result"
    }
   ],
   "source": [
    "df['Monthly_Balance'].min()"
   ]
  },
  {
   "cell_type": "code",
   "execution_count": 95,
   "metadata": {
    "execution": {
     "iopub.execute_input": "2024-04-20T17:11:41.486879Z",
     "iopub.status.busy": "2024-04-20T17:11:41.486438Z",
     "iopub.status.idle": "2024-04-20T17:11:41.495644Z",
     "shell.execute_reply": "2024-04-20T17:11:41.494475Z",
     "shell.execute_reply.started": "2024-04-20T17:11:41.486845Z"
    },
    "trusted": true
   },
   "outputs": [
    {
     "data": {
      "text/plain": [
       "401.10228551214993"
      ]
     },
     "execution_count": 95,
     "metadata": {},
     "output_type": "execute_result"
    }
   ],
   "source": [
    "df['Monthly_Balance'].mean()"
   ]
  },
  {
   "cell_type": "code",
   "execution_count": 96,
   "metadata": {
    "execution": {
     "iopub.execute_input": "2024-04-20T17:11:42.266656Z",
     "iopub.status.busy": "2024-04-20T17:11:42.2662Z",
     "iopub.status.idle": "2024-04-20T17:11:46.476652Z",
     "shell.execute_reply": "2024-04-20T17:11:46.475314Z",
     "shell.execute_reply.started": "2024-04-20T17:11:42.26662Z"
    },
    "trusted": true
   },
   "outputs": [
    {
     "data": {
      "text/plain": [
       "0"
      ]
     },
     "execution_count": 96,
     "metadata": {},
     "output_type": "execute_result"
    }
   ],
   "source": [
    "df = knn_impute_column(df, 'Monthly_Balance')\n",
    "df.Monthly_Balance.isna().sum()"
   ]
  },
  {
   "cell_type": "code",
   "execution_count": 97,
   "metadata": {
    "execution": {
     "iopub.execute_input": "2024-04-20T17:11:46.478711Z",
     "iopub.status.busy": "2024-04-20T17:11:46.478347Z",
     "iopub.status.idle": "2024-04-20T17:11:47.05437Z",
     "shell.execute_reply": "2024-04-20T17:11:47.05323Z",
     "shell.execute_reply.started": "2024-04-20T17:11:46.478682Z"
    },
    "trusted": true
   },
   "outputs": [
    {
     "data": {
      "image/png": "[encoded data removed]",
      "text/plain": [
       "<Figure size 1200x600 with 1 Axes>"
      ]
     },
     "metadata": {},
     "output_type": "display_data"
    }
   ],
   "source": [
    "sns.boxplot(df, x= df['Monthly_Balance']);"
   ]
  },
  {
   "cell_type": "code",
   "execution_count": 98,
   "metadata": {
    "execution": {
     "iopub.execute_input": "2024-04-20T17:11:47.056311Z",
     "iopub.status.busy": "2024-04-20T17:11:47.055979Z",
     "iopub.status.idle": "2024-04-20T17:11:47.151683Z",
     "shell.execute_reply": "2024-04-20T17:11:47.149486Z",
     "shell.execute_reply.started": "2024-04-20T17:11:47.056283Z"
    },
    "trusted": true
   },
   "outputs": [
    {
     "name": "stdout",
     "output_type": "stream",
     "text": [
      "<class 'pandas.core.frame.DataFrame'>\n",
      "Index: 92285 entries, 0 to 99999\n",
      "Data columns (total 20 columns):\n",
      " #   Column                     Non-Null Count  Dtype  \n",
      "---  ------                     --------------  -----  \n",
      " 0   Age                        92285 non-null  int64  \n",
      " 1   Occupation                 92285 non-null  object \n",
      " 2   Annual_Income              92285 non-null  float64\n",
      " 3   Num_Bank_Accounts          92285 non-null  int64  \n",
      " 4   Num_Credit_Card            92285 non-null  int64  \n",
      " 5   Interest_Rate              92285 non-null  int64  \n",
      " 6   Num_of_Loan                92285 non-null  int64  \n",
      " 7   Delay_from_due_date        92285 non-null  int64  \n",
      " 8   Num_of_Delayed_Payment     92285 non-null  float64\n",
      " 9   Num_Credit_Inquiries       92285 non-null  float64\n",
      " 10  Credit_Mix                 92285 non-null  object \n",
      " 11  Outstanding_Debt           92285 non-null  float64\n",
      " 12  Credit_Utilization_Ratio   92285 non-null  float64\n",
      " 13  Payment_of_Min_Amount      92285 non-null  object \n",
      " 14  Total_EMI_per_month        92285 non-null  float64\n",
      " 15  Amount_invested_monthly    92285 non-null  float64\n",
      " 16  Payment_Behaviour          92285 non-null  object \n",
      " 17  Monthly_Balance            92285 non-null  float64\n",
      " 18  Credit_Score               92285 non-null  int64  \n",
      " 19  Credit_History_Age_Months  92285 non-null  int32  \n",
      "dtypes: float64(8), int32(1), int64(7), object(4)\n",
      "memory usage: 14.4+ MB\n"
     ]
    }
   ],
   "source": [
    "# lastly change wrong dtypes..\n",
    "df['Annual_Income'] = df['Annual_Income'].astype(float)\n",
    "df['Outstanding_Debt'] = df['Outstanding_Debt'].astype(float)\n",
    "\n",
    "df.info()"
   ]
  },
  {
   "cell_type": "markdown",
   "metadata": {},
   "source": [
    "### Monthly expenses"
   ]
  },
  {
   "cell_type": "code",
   "execution_count": 99,
   "metadata": {},
   "outputs": [
    {
     "data": {
      "text/html": [
       "<div>\n",
       "<style scoped>\n",
       "    .dataframe tbody tr th:only-of-type {\n",
       "        vertical-align: middle;\n",
       "    }\n",
       "\n",
       "    .dataframe tbody tr th {\n",
       "        vertical-align: top;\n",
       "    }\n",
       "\n",
       "    .dataframe thead th {\n",
       "        text-align: right;\n",
       "    }\n",
       "</style>\n",
       "<table border=\"1\" class=\"dataframe\">\n",
       "  <thead>\n",
       "    <tr style=\"text-align: right;\">\n",
       "      <th></th>\n",
       "      <th>Age</th>\n",
       "      <th>Occupation</th>\n",
       "      <th>Annual_Income</th>\n",
       "      <th>Num_Bank_Accounts</th>\n",
       "      <th>Num_Credit_Card</th>\n",
       "      <th>Interest_Rate</th>\n",
       "      <th>Num_of_Loan</th>\n",
       "      <th>Delay_from_due_date</th>\n",
       "      <th>Num_of_Delayed_Payment</th>\n",
       "      <th>Num_Credit_Inquiries</th>\n",
       "      <th>...</th>\n",
       "      <th>Outstanding_Debt</th>\n",
       "      <th>Credit_Utilization_Ratio</th>\n",
       "      <th>Payment_of_Min_Amount</th>\n",
       "      <th>Total_EMI_per_month</th>\n",
       "      <th>Amount_invested_monthly</th>\n",
       "      <th>Payment_Behaviour</th>\n",
       "      <th>Monthly_Balance</th>\n",
       "      <th>Credit_Score</th>\n",
       "      <th>Credit_History_Age_Months</th>\n",
       "      <th>Monthly_expense</th>\n",
       "    </tr>\n",
       "  </thead>\n",
       "  <tbody>\n",
       "    <tr>\n",
       "      <th>0</th>\n",
       "      <td>23</td>\n",
       "      <td>Scientist</td>\n",
       "      <td>19114.120</td>\n",
       "      <td>3</td>\n",
       "      <td>4</td>\n",
       "      <td>3</td>\n",
       "      <td>4</td>\n",
       "      <td>3</td>\n",
       "      <td>7.000</td>\n",
       "      <td>4.000</td>\n",
       "      <td>...</td>\n",
       "      <td>809.980</td>\n",
       "      <td>26.823</td>\n",
       "      <td>No</td>\n",
       "      <td>49.575</td>\n",
       "      <td>80.415</td>\n",
       "      <td>High_spent_Small_value_payments</td>\n",
       "      <td>312.494</td>\n",
       "      <td>2</td>\n",
       "      <td>265</td>\n",
       "      <td>1280.349</td>\n",
       "    </tr>\n",
       "    <tr>\n",
       "      <th>3</th>\n",
       "      <td>23</td>\n",
       "      <td>Scientist</td>\n",
       "      <td>19114.120</td>\n",
       "      <td>3</td>\n",
       "      <td>4</td>\n",
       "      <td>3</td>\n",
       "      <td>4</td>\n",
       "      <td>5</td>\n",
       "      <td>4.000</td>\n",
       "      <td>4.000</td>\n",
       "      <td>...</td>\n",
       "      <td>809.980</td>\n",
       "      <td>31.378</td>\n",
       "      <td>No</td>\n",
       "      <td>49.575</td>\n",
       "      <td>199.458</td>\n",
       "      <td>Low_spent_Small_value_payments</td>\n",
       "      <td>223.451</td>\n",
       "      <td>2</td>\n",
       "      <td>268</td>\n",
       "      <td>1369.392</td>\n",
       "    </tr>\n",
       "    <tr>\n",
       "      <th>4</th>\n",
       "      <td>23</td>\n",
       "      <td>Scientist</td>\n",
       "      <td>19114.120</td>\n",
       "      <td>3</td>\n",
       "      <td>4</td>\n",
       "      <td>3</td>\n",
       "      <td>4</td>\n",
       "      <td>6</td>\n",
       "      <td>31.203</td>\n",
       "      <td>4.000</td>\n",
       "      <td>...</td>\n",
       "      <td>809.980</td>\n",
       "      <td>24.797</td>\n",
       "      <td>No</td>\n",
       "      <td>49.575</td>\n",
       "      <td>41.420</td>\n",
       "      <td>High_spent_Medium_value_payments</td>\n",
       "      <td>341.489</td>\n",
       "      <td>2</td>\n",
       "      <td>269</td>\n",
       "      <td>1251.354</td>\n",
       "    </tr>\n",
       "    <tr>\n",
       "      <th>5</th>\n",
       "      <td>23</td>\n",
       "      <td>Scientist</td>\n",
       "      <td>19114.120</td>\n",
       "      <td>3</td>\n",
       "      <td>4</td>\n",
       "      <td>3</td>\n",
       "      <td>4</td>\n",
       "      <td>8</td>\n",
       "      <td>4.000</td>\n",
       "      <td>4.000</td>\n",
       "      <td>...</td>\n",
       "      <td>809.980</td>\n",
       "      <td>27.262</td>\n",
       "      <td>No</td>\n",
       "      <td>49.575</td>\n",
       "      <td>62.430</td>\n",
       "      <td>Low_spent_Small_value_payments</td>\n",
       "      <td>340.479</td>\n",
       "      <td>2</td>\n",
       "      <td>270</td>\n",
       "      <td>1252.364</td>\n",
       "    </tr>\n",
       "    <tr>\n",
       "      <th>6</th>\n",
       "      <td>23</td>\n",
       "      <td>Scientist</td>\n",
       "      <td>19114.120</td>\n",
       "      <td>3</td>\n",
       "      <td>4</td>\n",
       "      <td>3</td>\n",
       "      <td>4</td>\n",
       "      <td>3</td>\n",
       "      <td>8.000</td>\n",
       "      <td>4.000</td>\n",
       "      <td>...</td>\n",
       "      <td>809.980</td>\n",
       "      <td>22.538</td>\n",
       "      <td>No</td>\n",
       "      <td>49.575</td>\n",
       "      <td>178.344</td>\n",
       "      <td>Low_spent_Small_value_payments</td>\n",
       "      <td>244.565</td>\n",
       "      <td>2</td>\n",
       "      <td>271</td>\n",
       "      <td>1348.278</td>\n",
       "    </tr>\n",
       "  </tbody>\n",
       "</table>\n",
       "<p>5 rows × 21 columns</p>\n",
       "</div>"
      ],
      "text/plain": [
       "   Age Occupation  Annual_Income  Num_Bank_Accounts  Num_Credit_Card  \\\n",
       "0   23  Scientist      19114.120                  3                4   \n",
       "3   23  Scientist      19114.120                  3                4   \n",
       "4   23  Scientist      19114.120                  3                4   \n",
       "5   23  Scientist      19114.120                  3                4   \n",
       "6   23  Scientist      19114.120                  3                4   \n",
       "\n",
       "   Interest_Rate  Num_of_Loan  Delay_from_due_date  Num_of_Delayed_Payment  \\\n",
       "0              3            4                    3                   7.000   \n",
       "3              3            4                    5                   4.000   \n",
       "4              3            4                    6                  31.203   \n",
       "5              3            4                    8                   4.000   \n",
       "6              3            4                    3                   8.000   \n",
       "\n",
       "   Num_Credit_Inquiries  ... Outstanding_Debt  Credit_Utilization_Ratio  \\\n",
       "0                 4.000  ...          809.980                    26.823   \n",
       "3                 4.000  ...          809.980                    31.378   \n",
       "4                 4.000  ...          809.980                    24.797   \n",
       "5                 4.000  ...          809.980                    27.262   \n",
       "6                 4.000  ...          809.980                    22.538   \n",
       "\n",
       "   Payment_of_Min_Amount Total_EMI_per_month  Amount_invested_monthly  \\\n",
       "0                     No              49.575                   80.415   \n",
       "3                     No              49.575                  199.458   \n",
       "4                     No              49.575                   41.420   \n",
       "5                     No              49.575                   62.430   \n",
       "6                     No              49.575                  178.344   \n",
       "\n",
       "                  Payment_Behaviour Monthly_Balance  Credit_Score  \\\n",
       "0   High_spent_Small_value_payments         312.494             2   \n",
       "3    Low_spent_Small_value_payments         223.451             2   \n",
       "4  High_spent_Medium_value_payments         341.489             2   \n",
       "5    Low_spent_Small_value_payments         340.479             2   \n",
       "6    Low_spent_Small_value_payments         244.565             2   \n",
       "\n",
       "   Credit_History_Age_Months  Monthly_expense  \n",
       "0                        265         1280.349  \n",
       "3                        268         1369.392  \n",
       "4                        269         1251.354  \n",
       "5                        270         1252.364  \n",
       "6                        271         1348.278  \n",
       "\n",
       "[5 rows x 21 columns]"
      ]
     },
     "execution_count": 99,
     "metadata": {},
     "output_type": "execute_result"
    }
   ],
   "source": [
    "df['Monthly_expense'] = df['Annual_Income'] / 12 - df['Monthly_Balance']\n",
    "df[df['Monthly_expense'] < 0]['Monthly_expense'].count()\n",
    "df['Monthly_expense'] = df['Monthly_expense'].astype(float)\n",
    "\n",
    "df.head()\n"
   ]
  },
  {
   "cell_type": "markdown",
   "metadata": {},
   "source": [
    "# Visualisations"
   ]
  },
  {
   "cell_type": "code",
   "execution_count": 100,
   "metadata": {
    "execution": {
     "iopub.execute_input": "2024-04-20T17:11:48.630862Z",
     "iopub.status.busy": "2024-04-20T17:11:48.630434Z",
     "iopub.status.idle": "2024-04-20T17:11:50.370577Z",
     "shell.execute_reply": "2024-04-20T17:11:50.369283Z",
     "shell.execute_reply.started": "2024-04-20T17:11:48.63083Z"
    },
    "trusted": true
   },
   "outputs": [
    {
     "data": {
      "image/png": "[encoded data removed]",
      "text/plain": [
       "<Figure size 1800x1000 with 2 Axes>"
      ]
     },
     "metadata": {},
     "output_type": "display_data"
    }
   ],
   "source": [
    "plt.figure(figsize=(18, 10))\n",
    "sns.heatmap(df.select_dtypes(include='number').corr(), annot = True);"
   ]
  },
  {
   "cell_type": "code",
   "execution_count": 101,
   "metadata": {
    "execution": {
     "iopub.execute_input": "2024-04-20T17:11:50.373484Z",
     "iopub.status.busy": "2024-04-20T17:11:50.373001Z",
     "iopub.status.idle": "2024-04-20T17:16:25.310697Z",
     "shell.execute_reply": "2024-04-20T17:16:25.307062Z",
     "shell.execute_reply.started": "2024-04-20T17:11:50.373438Z"
    },
    "trusted": true
   },
   "outputs": [],
   "source": [
    "# sns.pairplot(df, corner=True);"
   ]
  },
  {
   "cell_type": "markdown",
   "metadata": {},
   "source": [
    "# Save and read clean data"
   ]
  },
  {
   "cell_type": "code",
   "execution_count": 102,
   "metadata": {},
   "outputs": [],
   "source": [
    "df.to_csv(\"Creditscore_train_cleaned.csv\", index=False)"
   ]
  },
  {
   "cell_type": "code",
   "execution_count": 103,
   "metadata": {},
   "outputs": [
    {
     "data": {
      "text/html": [
       "<div>\n",
       "<style scoped>\n",
       "    .dataframe tbody tr th:only-of-type {\n",
       "        vertical-align: middle;\n",
       "    }\n",
       "\n",
       "    .dataframe tbody tr th {\n",
       "        vertical-align: top;\n",
       "    }\n",
       "\n",
       "    .dataframe thead th {\n",
       "        text-align: right;\n",
       "    }\n",
       "</style>\n",
       "<table border=\"1\" class=\"dataframe\">\n",
       "  <thead>\n",
       "    <tr style=\"text-align: right;\">\n",
       "      <th></th>\n",
       "      <th>Age</th>\n",
       "      <th>Occupation</th>\n",
       "      <th>Annual_Income</th>\n",
       "      <th>Num_Bank_Accounts</th>\n",
       "      <th>Num_Credit_Card</th>\n",
       "      <th>Interest_Rate</th>\n",
       "      <th>Num_of_Loan</th>\n",
       "      <th>Delay_from_due_date</th>\n",
       "      <th>Num_of_Delayed_Payment</th>\n",
       "      <th>Num_Credit_Inquiries</th>\n",
       "      <th>...</th>\n",
       "      <th>Outstanding_Debt</th>\n",
       "      <th>Credit_Utilization_Ratio</th>\n",
       "      <th>Payment_of_Min_Amount</th>\n",
       "      <th>Total_EMI_per_month</th>\n",
       "      <th>Amount_invested_monthly</th>\n",
       "      <th>Payment_Behaviour</th>\n",
       "      <th>Monthly_Balance</th>\n",
       "      <th>Credit_Score</th>\n",
       "      <th>Credit_History_Age_Months</th>\n",
       "      <th>Monthly_expense</th>\n",
       "    </tr>\n",
       "  </thead>\n",
       "  <tbody>\n",
       "    <tr>\n",
       "      <th>0</th>\n",
       "      <td>23</td>\n",
       "      <td>Scientist</td>\n",
       "      <td>19114.120</td>\n",
       "      <td>3</td>\n",
       "      <td>4</td>\n",
       "      <td>3</td>\n",
       "      <td>4</td>\n",
       "      <td>3</td>\n",
       "      <td>7.000</td>\n",
       "      <td>4.000</td>\n",
       "      <td>...</td>\n",
       "      <td>809.980</td>\n",
       "      <td>26.823</td>\n",
       "      <td>No</td>\n",
       "      <td>49.575</td>\n",
       "      <td>80.415</td>\n",
       "      <td>High_spent_Small_value_payments</td>\n",
       "      <td>312.494</td>\n",
       "      <td>2</td>\n",
       "      <td>265</td>\n",
       "      <td>1280.349</td>\n",
       "    </tr>\n",
       "    <tr>\n",
       "      <th>1</th>\n",
       "      <td>23</td>\n",
       "      <td>Scientist</td>\n",
       "      <td>19114.120</td>\n",
       "      <td>3</td>\n",
       "      <td>4</td>\n",
       "      <td>3</td>\n",
       "      <td>4</td>\n",
       "      <td>5</td>\n",
       "      <td>4.000</td>\n",
       "      <td>4.000</td>\n",
       "      <td>...</td>\n",
       "      <td>809.980</td>\n",
       "      <td>31.378</td>\n",
       "      <td>No</td>\n",
       "      <td>49.575</td>\n",
       "      <td>199.458</td>\n",
       "      <td>Low_spent_Small_value_payments</td>\n",
       "      <td>223.451</td>\n",
       "      <td>2</td>\n",
       "      <td>268</td>\n",
       "      <td>1369.392</td>\n",
       "    </tr>\n",
       "    <tr>\n",
       "      <th>2</th>\n",
       "      <td>23</td>\n",
       "      <td>Scientist</td>\n",
       "      <td>19114.120</td>\n",
       "      <td>3</td>\n",
       "      <td>4</td>\n",
       "      <td>3</td>\n",
       "      <td>4</td>\n",
       "      <td>6</td>\n",
       "      <td>31.203</td>\n",
       "      <td>4.000</td>\n",
       "      <td>...</td>\n",
       "      <td>809.980</td>\n",
       "      <td>24.797</td>\n",
       "      <td>No</td>\n",
       "      <td>49.575</td>\n",
       "      <td>41.420</td>\n",
       "      <td>High_spent_Medium_value_payments</td>\n",
       "      <td>341.489</td>\n",
       "      <td>2</td>\n",
       "      <td>269</td>\n",
       "      <td>1251.354</td>\n",
       "    </tr>\n",
       "    <tr>\n",
       "      <th>3</th>\n",
       "      <td>23</td>\n",
       "      <td>Scientist</td>\n",
       "      <td>19114.120</td>\n",
       "      <td>3</td>\n",
       "      <td>4</td>\n",
       "      <td>3</td>\n",
       "      <td>4</td>\n",
       "      <td>8</td>\n",
       "      <td>4.000</td>\n",
       "      <td>4.000</td>\n",
       "      <td>...</td>\n",
       "      <td>809.980</td>\n",
       "      <td>27.262</td>\n",
       "      <td>No</td>\n",
       "      <td>49.575</td>\n",
       "      <td>62.430</td>\n",
       "      <td>Low_spent_Small_value_payments</td>\n",
       "      <td>340.479</td>\n",
       "      <td>2</td>\n",
       "      <td>270</td>\n",
       "      <td>1252.364</td>\n",
       "    </tr>\n",
       "    <tr>\n",
       "      <th>4</th>\n",
       "      <td>23</td>\n",
       "      <td>Scientist</td>\n",
       "      <td>19114.120</td>\n",
       "      <td>3</td>\n",
       "      <td>4</td>\n",
       "      <td>3</td>\n",
       "      <td>4</td>\n",
       "      <td>3</td>\n",
       "      <td>8.000</td>\n",
       "      <td>4.000</td>\n",
       "      <td>...</td>\n",
       "      <td>809.980</td>\n",
       "      <td>22.538</td>\n",
       "      <td>No</td>\n",
       "      <td>49.575</td>\n",
       "      <td>178.344</td>\n",
       "      <td>Low_spent_Small_value_payments</td>\n",
       "      <td>244.565</td>\n",
       "      <td>2</td>\n",
       "      <td>271</td>\n",
       "      <td>1348.278</td>\n",
       "    </tr>\n",
       "  </tbody>\n",
       "</table>\n",
       "<p>5 rows × 21 columns</p>\n",
       "</div>"
      ],
      "text/plain": [
       "   Age Occupation  Annual_Income  Num_Bank_Accounts  Num_Credit_Card  \\\n",
       "0   23  Scientist      19114.120                  3                4   \n",
       "1   23  Scientist      19114.120                  3                4   \n",
       "2   23  Scientist      19114.120                  3                4   \n",
       "3   23  Scientist      19114.120                  3                4   \n",
       "4   23  Scientist      19114.120                  3                4   \n",
       "\n",
       "   Interest_Rate  Num_of_Loan  Delay_from_due_date  Num_of_Delayed_Payment  \\\n",
       "0              3            4                    3                   7.000   \n",
       "1              3            4                    5                   4.000   \n",
       "2              3            4                    6                  31.203   \n",
       "3              3            4                    8                   4.000   \n",
       "4              3            4                    3                   8.000   \n",
       "\n",
       "   Num_Credit_Inquiries  ... Outstanding_Debt  Credit_Utilization_Ratio  \\\n",
       "0                 4.000  ...          809.980                    26.823   \n",
       "1                 4.000  ...          809.980                    31.378   \n",
       "2                 4.000  ...          809.980                    24.797   \n",
       "3                 4.000  ...          809.980                    27.262   \n",
       "4                 4.000  ...          809.980                    22.538   \n",
       "\n",
       "   Payment_of_Min_Amount Total_EMI_per_month  Amount_invested_monthly  \\\n",
       "0                     No              49.575                   80.415   \n",
       "1                     No              49.575                  199.458   \n",
       "2                     No              49.575                   41.420   \n",
       "3                     No              49.575                   62.430   \n",
       "4                     No              49.575                  178.344   \n",
       "\n",
       "                  Payment_Behaviour Monthly_Balance  Credit_Score  \\\n",
       "0   High_spent_Small_value_payments         312.494             2   \n",
       "1    Low_spent_Small_value_payments         223.451             2   \n",
       "2  High_spent_Medium_value_payments         341.489             2   \n",
       "3    Low_spent_Small_value_payments         340.479             2   \n",
       "4    Low_spent_Small_value_payments         244.565             2   \n",
       "\n",
       "   Credit_History_Age_Months  Monthly_expense  \n",
       "0                        265         1280.349  \n",
       "1                        268         1369.392  \n",
       "2                        269         1251.354  \n",
       "3                        270         1252.364  \n",
       "4                        271         1348.278  \n",
       "\n",
       "[5 rows x 21 columns]"
      ]
     },
     "execution_count": 103,
     "metadata": {},
     "output_type": "execute_result"
    }
   ],
   "source": [
    "df = pd.read_csv(r\"Creditscore_train_cleaned.csv\")\n",
    "df.head()"
   ]
  },
  {
   "cell_type": "code",
   "execution_count": null,
   "metadata": {},
   "outputs": [],
   "source": []
  }
 ],
 "metadata": {
  "kaggle": {
   "accelerator": "none",
   "dataSources": [
    {
     "datasetId": 2289007,
     "sourceId": 3846912,
     "sourceType": "datasetVersion"
    }
   ],
   "dockerImageVersionId": 30673,
   "isGpuEnabled": false,
   "isInternetEnabled": true,
   "language": "python",
   "sourceType": "notebook"
  },
  "kernelspec": {
   "display_name": "Python 3",
   "language": "python",
   "name": "python3"
  },
  "language_info": {
   "codemirror_mode": {
    "name": "ipython",
    "version": 3
   },
   "file_extension": ".py",
   "mimetype": "text/x-python",
   "name": "python",
   "nbconvert_exporter": "python",
   "pygments_lexer": "ipython3",
   "version": "3.10.11"
  }
 },
 "nbformat": 4,
 "nbformat_minor": 4
}
