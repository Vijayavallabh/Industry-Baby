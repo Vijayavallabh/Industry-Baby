{
 "cells": [
  {
   "cell_type": "markdown",
   "metadata": {},
   "source": [
    "# Import Libraries"
   ]
  },
  {
   "cell_type": "code",
   "execution_count": 294,
   "metadata": {
    "execution": {
     "iopub.execute_input": "2024-04-20T17:03:06.713795Z",
     "iopub.status.busy": "2024-04-20T17:03:06.712706Z",
     "iopub.status.idle": "2024-04-20T17:03:09.735457Z",
     "shell.execute_reply": "2024-04-20T17:03:09.73446Z",
     "shell.execute_reply.started": "2024-04-20T17:03:06.713749Z"
    },
    "trusted": true
   },
   "outputs": [],
   "source": [
    "import numpy as np\n",
    "import pandas as pd\n",
    "import seaborn as sns\n",
    "import matplotlib.pyplot as plt\n",
    "\n",
    "%matplotlib inline\n",
    "# %matplotlib notebook\n",
    "plt.rcParams[\"figure.figsize\"] = (12, 6)\n",
    "# plt.rcParams['figure.dpi'] = 100\n",
    "sns.set_style(\"whitegrid\")\n",
    "import warnings\n",
    "\n",
    "warnings.filterwarnings(\"ignore\")\n",
    "warnings.warn(\"this will not show\")\n",
    "pd.set_option('display.float_format', lambda x: '%.3f' % x)"
   ]
  },
  {
   "cell_type": "markdown",
   "metadata": {},
   "source": [
    "# Data Cleaning"
   ]
  },
  {
   "cell_type": "code",
   "execution_count": 295,
   "metadata": {
    "execution": {
     "iopub.execute_input": "2024-04-20T17:04:04.72831Z",
     "iopub.status.busy": "2024-04-20T17:04:04.727426Z",
     "iopub.status.idle": "2024-04-20T17:04:06.151297Z",
     "shell.execute_reply": "2024-04-20T17:04:06.149213Z",
     "shell.execute_reply.started": "2024-04-20T17:04:04.728269Z"
    },
    "trusted": true
   },
   "outputs": [
    {
     "data": {
      "text/html": [
       "<div>\n",
       "<style scoped>\n",
       "    .dataframe tbody tr th:only-of-type {\n",
       "        vertical-align: middle;\n",
       "    }\n",
       "\n",
       "    .dataframe tbody tr th {\n",
       "        vertical-align: top;\n",
       "    }\n",
       "\n",
       "    .dataframe thead th {\n",
       "        text-align: right;\n",
       "    }\n",
       "</style>\n",
       "<table border=\"1\" class=\"dataframe\">\n",
       "  <thead>\n",
       "    <tr style=\"text-align: right;\">\n",
       "      <th></th>\n",
       "      <th>ID</th>\n",
       "      <th>Customer_ID</th>\n",
       "      <th>Month</th>\n",
       "      <th>Name</th>\n",
       "      <th>Age</th>\n",
       "      <th>SSN</th>\n",
       "      <th>Occupation</th>\n",
       "      <th>Annual_Income</th>\n",
       "      <th>Monthly_Inhand_Salary</th>\n",
       "      <th>Num_Bank_Accounts</th>\n",
       "      <th>...</th>\n",
       "      <th>Num_Credit_Inquiries</th>\n",
       "      <th>Credit_Mix</th>\n",
       "      <th>Outstanding_Debt</th>\n",
       "      <th>Credit_Utilization_Ratio</th>\n",
       "      <th>Credit_History_Age</th>\n",
       "      <th>Payment_of_Min_Amount</th>\n",
       "      <th>Total_EMI_per_month</th>\n",
       "      <th>Amount_invested_monthly</th>\n",
       "      <th>Payment_Behaviour</th>\n",
       "      <th>Monthly_Balance</th>\n",
       "    </tr>\n",
       "  </thead>\n",
       "  <tbody>\n",
       "    <tr>\n",
       "      <th>0</th>\n",
       "      <td>0x160a</td>\n",
       "      <td>CUS_0xd40</td>\n",
       "      <td>September</td>\n",
       "      <td>Aaron Maashoh</td>\n",
       "      <td>23</td>\n",
       "      <td>821-00-0265</td>\n",
       "      <td>Scientist</td>\n",
       "      <td>19114.12</td>\n",
       "      <td>1824.843</td>\n",
       "      <td>3</td>\n",
       "      <td>...</td>\n",
       "      <td>2022.000</td>\n",
       "      <td>Good</td>\n",
       "      <td>809.98</td>\n",
       "      <td>35.030</td>\n",
       "      <td>22 Years and 9 Months</td>\n",
       "      <td>No</td>\n",
       "      <td>49.575</td>\n",
       "      <td>236.64268203272135</td>\n",
       "      <td>Low_spent_Small_value_payments</td>\n",
       "      <td>186.26670208571772</td>\n",
       "    </tr>\n",
       "    <tr>\n",
       "      <th>1</th>\n",
       "      <td>0x160b</td>\n",
       "      <td>CUS_0xd40</td>\n",
       "      <td>October</td>\n",
       "      <td>Aaron Maashoh</td>\n",
       "      <td>24</td>\n",
       "      <td>821-00-0265</td>\n",
       "      <td>Scientist</td>\n",
       "      <td>19114.12</td>\n",
       "      <td>1824.843</td>\n",
       "      <td>3</td>\n",
       "      <td>...</td>\n",
       "      <td>4.000</td>\n",
       "      <td>Good</td>\n",
       "      <td>809.98</td>\n",
       "      <td>33.053</td>\n",
       "      <td>22 Years and 10 Months</td>\n",
       "      <td>No</td>\n",
       "      <td>49.575</td>\n",
       "      <td>21.465380264657146</td>\n",
       "      <td>High_spent_Medium_value_payments</td>\n",
       "      <td>361.44400385378196</td>\n",
       "    </tr>\n",
       "    <tr>\n",
       "      <th>2</th>\n",
       "      <td>0x160c</td>\n",
       "      <td>CUS_0xd40</td>\n",
       "      <td>November</td>\n",
       "      <td>Aaron Maashoh</td>\n",
       "      <td>24</td>\n",
       "      <td>821-00-0265</td>\n",
       "      <td>Scientist</td>\n",
       "      <td>19114.12</td>\n",
       "      <td>1824.843</td>\n",
       "      <td>3</td>\n",
       "      <td>...</td>\n",
       "      <td>4.000</td>\n",
       "      <td>Good</td>\n",
       "      <td>809.98</td>\n",
       "      <td>33.812</td>\n",
       "      <td>NaN</td>\n",
       "      <td>No</td>\n",
       "      <td>49.575</td>\n",
       "      <td>148.23393788500925</td>\n",
       "      <td>Low_spent_Medium_value_payments</td>\n",
       "      <td>264.67544623342997</td>\n",
       "    </tr>\n",
       "    <tr>\n",
       "      <th>3</th>\n",
       "      <td>0x160d</td>\n",
       "      <td>CUS_0xd40</td>\n",
       "      <td>December</td>\n",
       "      <td>Aaron Maashoh</td>\n",
       "      <td>24_</td>\n",
       "      <td>821-00-0265</td>\n",
       "      <td>Scientist</td>\n",
       "      <td>19114.12</td>\n",
       "      <td>NaN</td>\n",
       "      <td>3</td>\n",
       "      <td>...</td>\n",
       "      <td>4.000</td>\n",
       "      <td>Good</td>\n",
       "      <td>809.98</td>\n",
       "      <td>32.431</td>\n",
       "      <td>23 Years and 0 Months</td>\n",
       "      <td>No</td>\n",
       "      <td>49.575</td>\n",
       "      <td>39.08251089460281</td>\n",
       "      <td>High_spent_Medium_value_payments</td>\n",
       "      <td>343.82687322383634</td>\n",
       "    </tr>\n",
       "    <tr>\n",
       "      <th>4</th>\n",
       "      <td>0x1616</td>\n",
       "      <td>CUS_0x21b1</td>\n",
       "      <td>September</td>\n",
       "      <td>Rick Rothackerj</td>\n",
       "      <td>28</td>\n",
       "      <td>004-07-5839</td>\n",
       "      <td>_______</td>\n",
       "      <td>34847.84</td>\n",
       "      <td>3037.987</td>\n",
       "      <td>2</td>\n",
       "      <td>...</td>\n",
       "      <td>5.000</td>\n",
       "      <td>Good</td>\n",
       "      <td>605.03</td>\n",
       "      <td>25.927</td>\n",
       "      <td>27 Years and 3 Months</td>\n",
       "      <td>No</td>\n",
       "      <td>18.816</td>\n",
       "      <td>39.684018417945296</td>\n",
       "      <td>High_spent_Large_value_payments</td>\n",
       "      <td>485.2984336755923</td>\n",
       "    </tr>\n",
       "  </tbody>\n",
       "</table>\n",
       "<p>5 rows × 27 columns</p>\n",
       "</div>"
      ],
      "text/plain": [
       "       ID Customer_ID      Month             Name  Age          SSN  \\\n",
       "0  0x160a   CUS_0xd40  September    Aaron Maashoh   23  821-00-0265   \n",
       "1  0x160b   CUS_0xd40    October    Aaron Maashoh   24  821-00-0265   \n",
       "2  0x160c   CUS_0xd40   November    Aaron Maashoh   24  821-00-0265   \n",
       "3  0x160d   CUS_0xd40   December    Aaron Maashoh  24_  821-00-0265   \n",
       "4  0x1616  CUS_0x21b1  September  Rick Rothackerj   28  004-07-5839   \n",
       "\n",
       "  Occupation Annual_Income  Monthly_Inhand_Salary  Num_Bank_Accounts  ...  \\\n",
       "0  Scientist      19114.12               1824.843                  3  ...   \n",
       "1  Scientist      19114.12               1824.843                  3  ...   \n",
       "2  Scientist      19114.12               1824.843                  3  ...   \n",
       "3  Scientist      19114.12                    NaN                  3  ...   \n",
       "4    _______      34847.84               3037.987                  2  ...   \n",
       "\n",
       "   Num_Credit_Inquiries  Credit_Mix Outstanding_Debt Credit_Utilization_Ratio  \\\n",
       "0              2022.000        Good           809.98                   35.030   \n",
       "1                 4.000        Good           809.98                   33.053   \n",
       "2                 4.000        Good           809.98                   33.812   \n",
       "3                 4.000        Good           809.98                   32.431   \n",
       "4                 5.000        Good           605.03                   25.927   \n",
       "\n",
       "       Credit_History_Age Payment_of_Min_Amount Total_EMI_per_month  \\\n",
       "0   22 Years and 9 Months                    No              49.575   \n",
       "1  22 Years and 10 Months                    No              49.575   \n",
       "2                     NaN                    No              49.575   \n",
       "3   23 Years and 0 Months                    No              49.575   \n",
       "4   27 Years and 3 Months                    No              18.816   \n",
       "\n",
       "   Amount_invested_monthly                 Payment_Behaviour  \\\n",
       "0       236.64268203272135    Low_spent_Small_value_payments   \n",
       "1       21.465380264657146  High_spent_Medium_value_payments   \n",
       "2       148.23393788500925   Low_spent_Medium_value_payments   \n",
       "3        39.08251089460281  High_spent_Medium_value_payments   \n",
       "4       39.684018417945296   High_spent_Large_value_payments   \n",
       "\n",
       "      Monthly_Balance  \n",
       "0  186.26670208571772  \n",
       "1  361.44400385378196  \n",
       "2  264.67544623342997  \n",
       "3  343.82687322383634  \n",
       "4   485.2984336755923  \n",
       "\n",
       "[5 rows x 27 columns]"
      ]
     },
     "execution_count": 295,
     "metadata": {},
     "output_type": "execute_result"
    }
   ],
   "source": [
    "df = pd.read_csv(r\"C:\\Users\\rahul\\OneDrive\\Documents\\Hackathon\\IndustriAI\\Industry-Baby\\archive\\test.csv\").copy()\n",
    "df.head()"
   ]
  },
  {
   "cell_type": "code",
   "execution_count": 296,
   "metadata": {
    "execution": {
     "iopub.execute_input": "2024-04-20T17:04:07.277736Z",
     "iopub.status.busy": "2024-04-20T17:04:07.276684Z",
     "iopub.status.idle": "2024-04-20T17:04:07.519414Z",
     "shell.execute_reply": "2024-04-20T17:04:07.518296Z",
     "shell.execute_reply.started": "2024-04-20T17:04:07.277699Z"
    },
    "trusted": true
   },
   "outputs": [
    {
     "name": "stdout",
     "output_type": "stream",
     "text": [
      "<class 'pandas.core.frame.DataFrame'>\n",
      "RangeIndex: 50000 entries, 0 to 49999\n",
      "Data columns (total 27 columns):\n",
      " #   Column                    Non-Null Count  Dtype  \n",
      "---  ------                    --------------  -----  \n",
      " 0   ID                        50000 non-null  object \n",
      " 1   Customer_ID               50000 non-null  object \n",
      " 2   Month                     50000 non-null  object \n",
      " 3   Name                      44985 non-null  object \n",
      " 4   Age                       50000 non-null  object \n",
      " 5   SSN                       50000 non-null  object \n",
      " 6   Occupation                50000 non-null  object \n",
      " 7   Annual_Income             50000 non-null  object \n",
      " 8   Monthly_Inhand_Salary     42502 non-null  float64\n",
      " 9   Num_Bank_Accounts         50000 non-null  int64  \n",
      " 10  Num_Credit_Card           50000 non-null  int64  \n",
      " 11  Interest_Rate             50000 non-null  int64  \n",
      " 12  Num_of_Loan               50000 non-null  object \n",
      " 13  Type_of_Loan              44296 non-null  object \n",
      " 14  Delay_from_due_date       50000 non-null  int64  \n",
      " 15  Num_of_Delayed_Payment    46502 non-null  object \n",
      " 16  Changed_Credit_Limit      50000 non-null  object \n",
      " 17  Num_Credit_Inquiries      48965 non-null  float64\n",
      " 18  Credit_Mix                50000 non-null  object \n",
      " 19  Outstanding_Debt          50000 non-null  object \n",
      " 20  Credit_Utilization_Ratio  50000 non-null  float64\n",
      " 21  Credit_History_Age        45530 non-null  object \n",
      " 22  Payment_of_Min_Amount     50000 non-null  object \n",
      " 23  Total_EMI_per_month       50000 non-null  float64\n",
      " 24  Amount_invested_monthly   47729 non-null  object \n",
      " 25  Payment_Behaviour         50000 non-null  object \n",
      " 26  Monthly_Balance           49438 non-null  object \n",
      "dtypes: float64(4), int64(4), object(19)\n",
      "memory usage: 10.3+ MB\n"
     ]
    }
   ],
   "source": [
    "df.info()"
   ]
  },
  {
   "cell_type": "code",
   "execution_count": 297,
   "metadata": {
    "execution": {
     "iopub.execute_input": "2024-04-20T17:04:08.053114Z",
     "iopub.status.busy": "2024-04-20T17:04:08.052034Z",
     "iopub.status.idle": "2024-04-20T17:04:08.395405Z",
     "shell.execute_reply": "2024-04-20T17:04:08.394245Z",
     "shell.execute_reply.started": "2024-04-20T17:04:08.053051Z"
    },
    "trusted": true
   },
   "outputs": [
    {
     "name": "stdout",
     "output_type": "stream",
     "text": [
      "Duplicate check...\n",
      "There are no duplicated observations in the dataset.\n"
     ]
    }
   ],
   "source": [
    "# Duplicate check\n",
    "def duplicate_values(df):\n",
    "    print(\"Duplicate check...\")\n",
    "    num_duplicates = df.duplicated(subset=None, keep='first').sum()\n",
    "    if num_duplicates > 0:\n",
    "        print(\"There are\", num_duplicates, \"duplicated observations in the dataset.\")\n",
    "        df.drop_duplicates(keep='first', inplace=True)\n",
    "        print(num_duplicates, \"duplicates were dropped!\")\n",
    "        print(\"No more duplicate rows!\")\n",
    "    else:\n",
    "        print(\"There are no duplicated observations in the dataset.\")\n",
    "        \n",
    "duplicate_values(df)"
   ]
  },
  {
   "cell_type": "code",
   "execution_count": 298,
   "metadata": {
    "execution": {
     "iopub.execute_input": "2024-04-20T17:04:09.624949Z",
     "iopub.status.busy": "2024-04-20T17:04:09.624524Z",
     "iopub.status.idle": "2024-04-20T17:04:09.64403Z",
     "shell.execute_reply": "2024-04-20T17:04:09.642953Z",
     "shell.execute_reply.started": "2024-04-20T17:04:09.624919Z"
    },
    "trusted": true
   },
   "outputs": [],
   "source": [
    "# dropping unnecessary columns for modelling\n",
    "df = df.drop(['ID','Customer_ID','Month','Name','SSN', 'Type_of_Loan', 'Changed_Credit_Limit', 'Monthly_Inhand_Salary'], axis = 1)"
   ]
  },
  {
   "cell_type": "code",
   "execution_count": 299,
   "metadata": {
    "execution": {
     "iopub.execute_input": "2024-04-20T17:04:10.50736Z",
     "iopub.status.busy": "2024-04-20T17:04:10.506949Z",
     "iopub.status.idle": "2024-04-20T17:04:10.525884Z",
     "shell.execute_reply": "2024-04-20T17:04:10.524796Z",
     "shell.execute_reply.started": "2024-04-20T17:04:10.507328Z"
    },
    "trusted": true
   },
   "outputs": [],
   "source": [
    "# target_mapping = {'Poor': 0, 'Standard': 1, 'Good': 2}\n",
    "\n",
    "# # Map the target variable using the defined mapping\n",
    "# df['Credit_Score'] = df['Credit_Score'].map(target_mapping)"
   ]
  },
  {
   "cell_type": "code",
   "execution_count": 300,
   "metadata": {
    "execution": {
     "iopub.execute_input": "2024-04-20T17:04:11.369586Z",
     "iopub.status.busy": "2024-04-20T17:04:11.368634Z",
     "iopub.status.idle": "2024-04-20T17:04:12.760885Z",
     "shell.execute_reply": "2024-04-20T17:04:12.759669Z",
     "shell.execute_reply.started": "2024-04-20T17:04:11.369515Z"
    },
    "trusted": true
   },
   "outputs": [
    {
     "data": {
      "text/html": [
       "<div>\n",
       "<style scoped>\n",
       "    .dataframe tbody tr th:only-of-type {\n",
       "        vertical-align: middle;\n",
       "    }\n",
       "\n",
       "    .dataframe tbody tr th {\n",
       "        vertical-align: top;\n",
       "    }\n",
       "\n",
       "    .dataframe thead th {\n",
       "        text-align: right;\n",
       "    }\n",
       "</style>\n",
       "<table border=\"1\" class=\"dataframe\">\n",
       "  <thead>\n",
       "    <tr style=\"text-align: right;\">\n",
       "      <th></th>\n",
       "      <th>Age</th>\n",
       "      <th>Occupation</th>\n",
       "      <th>Annual_Income</th>\n",
       "      <th>Num_Bank_Accounts</th>\n",
       "      <th>Num_Credit_Card</th>\n",
       "      <th>Interest_Rate</th>\n",
       "      <th>Num_of_Loan</th>\n",
       "      <th>Delay_from_due_date</th>\n",
       "      <th>Num_of_Delayed_Payment</th>\n",
       "      <th>Num_Credit_Inquiries</th>\n",
       "      <th>Credit_Mix</th>\n",
       "      <th>Outstanding_Debt</th>\n",
       "      <th>Credit_Utilization_Ratio</th>\n",
       "      <th>Credit_History_Age</th>\n",
       "      <th>Payment_of_Min_Amount</th>\n",
       "      <th>Total_EMI_per_month</th>\n",
       "      <th>Amount_invested_monthly</th>\n",
       "      <th>Payment_Behaviour</th>\n",
       "      <th>Monthly_Balance</th>\n",
       "    </tr>\n",
       "  </thead>\n",
       "  <tbody>\n",
       "    <tr>\n",
       "      <th>4</th>\n",
       "      <td>28</td>\n",
       "      <td></td>\n",
       "      <td>34847.84</td>\n",
       "      <td>2</td>\n",
       "      <td>4</td>\n",
       "      <td>6</td>\n",
       "      <td>1</td>\n",
       "      <td>3</td>\n",
       "      <td>1</td>\n",
       "      <td>5.000</td>\n",
       "      <td>Good</td>\n",
       "      <td>605.03</td>\n",
       "      <td>25.927</td>\n",
       "      <td>27 Years and 3 Months</td>\n",
       "      <td>No</td>\n",
       "      <td>18.816</td>\n",
       "      <td>39.684018417945296</td>\n",
       "      <td>HighspentLargevaluepayments</td>\n",
       "      <td>485.2984336755923</td>\n",
       "    </tr>\n",
       "    <tr>\n",
       "      <th>6</th>\n",
       "      <td>28</td>\n",
       "      <td>Teacher</td>\n",
       "      <td>34847.84</td>\n",
       "      <td>2</td>\n",
       "      <td>4</td>\n",
       "      <td>6</td>\n",
       "      <td>1</td>\n",
       "      <td>3</td>\n",
       "      <td>NaN</td>\n",
       "      <td>5.000</td>\n",
       "      <td></td>\n",
       "      <td>605.03</td>\n",
       "      <td>30.996</td>\n",
       "      <td>27 Years and 5 Months</td>\n",
       "      <td>No</td>\n",
       "      <td>18.816</td>\n",
       "      <td>72.68014533363515</td>\n",
       "      <td>HighspentLargevaluepayments</td>\n",
       "      <td>452.30230675990265</td>\n",
       "    </tr>\n",
       "    <tr>\n",
       "      <th>7</th>\n",
       "      <td>28</td>\n",
       "      <td>Teacher</td>\n",
       "      <td>34847.84</td>\n",
       "      <td>2</td>\n",
       "      <td>4</td>\n",
       "      <td>6</td>\n",
       "      <td>1</td>\n",
       "      <td>3</td>\n",
       "      <td>2</td>\n",
       "      <td>5.000</td>\n",
       "      <td></td>\n",
       "      <td>605.03</td>\n",
       "      <td>33.875</td>\n",
       "      <td>27 Years and 6 Months</td>\n",
       "      <td>No</td>\n",
       "      <td>18.816</td>\n",
       "      <td>153.53448761392985</td>\n",
       "      <td>!@9#%8</td>\n",
       "      <td>421.44796447960783</td>\n",
       "    </tr>\n",
       "    <tr>\n",
       "      <th>13</th>\n",
       "      <td>55</td>\n",
       "      <td>Entrepreneur</td>\n",
       "      <td>30689.89</td>\n",
       "      <td>2</td>\n",
       "      <td>5</td>\n",
       "      <td>4</td>\n",
       "      <td>-100</td>\n",
       "      <td>5</td>\n",
       "      <td>8</td>\n",
       "      <td>4.000</td>\n",
       "      <td></td>\n",
       "      <td>632.46</td>\n",
       "      <td>36.280</td>\n",
       "      <td>18 Years and 0 Months</td>\n",
       "      <td>No</td>\n",
       "      <td>16.415</td>\n",
       "      <td>29.393311428984493</td>\n",
       "      <td>HighspentLargevaluepayments</td>\n",
       "      <td>455.440320244524</td>\n",
       "    </tr>\n",
       "    <tr>\n",
       "      <th>16</th>\n",
       "      <td>22</td>\n",
       "      <td>Developer</td>\n",
       "      <td>35547.71</td>\n",
       "      <td>7</td>\n",
       "      <td>5</td>\n",
       "      <td>5</td>\n",
       "      <td>0</td>\n",
       "      <td>5</td>\n",
       "      <td>15</td>\n",
       "      <td>4.000</td>\n",
       "      <td></td>\n",
       "      <td>943.86</td>\n",
       "      <td>34.730</td>\n",
       "      <td>31 Years and 4 Months</td>\n",
       "      <td>Yes</td>\n",
       "      <td>0.000</td>\n",
       "      <td>59.36605764456292</td>\n",
       "      <td>HighspentMediumvaluepayments</td>\n",
       "      <td>475.96485902210367</td>\n",
       "    </tr>\n",
       "    <tr>\n",
       "      <th>...</th>\n",
       "      <td>...</td>\n",
       "      <td>...</td>\n",
       "      <td>...</td>\n",
       "      <td>...</td>\n",
       "      <td>...</td>\n",
       "      <td>...</td>\n",
       "      <td>...</td>\n",
       "      <td>...</td>\n",
       "      <td>...</td>\n",
       "      <td>...</td>\n",
       "      <td>...</td>\n",
       "      <td>...</td>\n",
       "      <td>...</td>\n",
       "      <td>...</td>\n",
       "      <td>...</td>\n",
       "      <td>...</td>\n",
       "      <td>...</td>\n",
       "      <td>...</td>\n",
       "      <td>...</td>\n",
       "    </tr>\n",
       "    <tr>\n",
       "      <th>49987</th>\n",
       "      <td>45</td>\n",
       "      <td>MediaManager</td>\n",
       "      <td>16680.35</td>\n",
       "      <td>1</td>\n",
       "      <td>1</td>\n",
       "      <td>5</td>\n",
       "      <td>4</td>\n",
       "      <td>1</td>\n",
       "      <td>0</td>\n",
       "      <td>8.000</td>\n",
       "      <td></td>\n",
       "      <td>897.16</td>\n",
       "      <td>25.793</td>\n",
       "      <td>22 Years and 0 Months</td>\n",
       "      <td>NM</td>\n",
       "      <td>41.114</td>\n",
       "      <td>40.89305193681736</td>\n",
       "      <td>LowspentLargevaluepayments</td>\n",
       "      <td>340.79630413992334</td>\n",
       "    </tr>\n",
       "    <tr>\n",
       "      <th>49991</th>\n",
       "      <td>50</td>\n",
       "      <td>Writer</td>\n",
       "      <td>37188.1</td>\n",
       "      <td>1</td>\n",
       "      <td>4</td>\n",
       "      <td>5</td>\n",
       "      <td>3</td>\n",
       "      <td>3</td>\n",
       "      <td>12</td>\n",
       "      <td>3.000</td>\n",
       "      <td></td>\n",
       "      <td>620.64</td>\n",
       "      <td>36.498</td>\n",
       "      <td>30 Years and 8 Months</td>\n",
       "      <td>No</td>\n",
       "      <td>33013.000</td>\n",
       "      <td>238.3993828976901</td>\n",
       "      <td>LowspentLargevaluepayments</td>\n",
       "      <td>257.095501010799</td>\n",
       "    </tr>\n",
       "    <tr>\n",
       "      <th>49994</th>\n",
       "      <td>29</td>\n",
       "      <td></td>\n",
       "      <td>20002.88</td>\n",
       "      <td>10</td>\n",
       "      <td>8</td>\n",
       "      <td>29</td>\n",
       "      <td>5</td>\n",
       "      <td>33</td>\n",
       "      <td>22</td>\n",
       "      <td>12.000</td>\n",
       "      <td>Bad</td>\n",
       "      <td>3571.7</td>\n",
       "      <td>27.028</td>\n",
       "      <td>6 Years and 6 Months</td>\n",
       "      <td>Yes</td>\n",
       "      <td>60.965</td>\n",
       "      <td>50.84684680498023</td>\n",
       "      <td>HighspentSmallvaluepayments</td>\n",
       "      <td>341.179047488264</td>\n",
       "    </tr>\n",
       "    <tr>\n",
       "      <th>49995</th>\n",
       "      <td>4975</td>\n",
       "      <td>Architect</td>\n",
       "      <td>20002.88</td>\n",
       "      <td>10</td>\n",
       "      <td>8</td>\n",
       "      <td>29</td>\n",
       "      <td>5</td>\n",
       "      <td>33</td>\n",
       "      <td>25</td>\n",
       "      <td>12.000</td>\n",
       "      <td></td>\n",
       "      <td>3571.7</td>\n",
       "      <td>34.781</td>\n",
       "      <td>NaN</td>\n",
       "      <td>Yes</td>\n",
       "      <td>60.965</td>\n",
       "      <td>146.48632477751087</td>\n",
       "      <td>LowspentSmallvaluepayments</td>\n",
       "      <td>275.53956951573343</td>\n",
       "    </tr>\n",
       "    <tr>\n",
       "      <th>49999</th>\n",
       "      <td>25</td>\n",
       "      <td>Mechanic</td>\n",
       "      <td>39628.99</td>\n",
       "      <td>4</td>\n",
       "      <td>6</td>\n",
       "      <td>7</td>\n",
       "      <td>2</td>\n",
       "      <td>22</td>\n",
       "      <td>5</td>\n",
       "      <td>7.000</td>\n",
       "      <td></td>\n",
       "      <td>502.38</td>\n",
       "      <td>34.109</td>\n",
       "      <td>32 Years and 2 Months</td>\n",
       "      <td>No</td>\n",
       "      <td>35.104</td>\n",
       "      <td>220.45787812168732</td>\n",
       "      <td>LowspentMediumvaluepayments</td>\n",
       "      <td>360.37968260123847</td>\n",
       "    </tr>\n",
       "  </tbody>\n",
       "</table>\n",
       "<p>12596 rows × 19 columns</p>\n",
       "</div>"
      ],
      "text/plain": [
       "        Age    Occupation Annual_Income  Num_Bank_Accounts  Num_Credit_Card  \\\n",
       "4        28                    34847.84                  2                4   \n",
       "6        28       Teacher      34847.84                  2                4   \n",
       "7        28       Teacher      34847.84                  2                4   \n",
       "13       55  Entrepreneur      30689.89                  2                5   \n",
       "16       22     Developer      35547.71                  7                5   \n",
       "...     ...           ...           ...                ...              ...   \n",
       "49987    45  MediaManager      16680.35                  1                1   \n",
       "49991    50        Writer       37188.1                  1                4   \n",
       "49994    29                    20002.88                 10                8   \n",
       "49995  4975     Architect      20002.88                 10                8   \n",
       "49999    25      Mechanic      39628.99                  4                6   \n",
       "\n",
       "       Interest_Rate Num_of_Loan  Delay_from_due_date Num_of_Delayed_Payment  \\\n",
       "4                  6           1                    3                      1   \n",
       "6                  6           1                    3                    NaN   \n",
       "7                  6           1                    3                      2   \n",
       "13                 4        -100                    5                      8   \n",
       "16                 5           0                    5                     15   \n",
       "...              ...         ...                  ...                    ...   \n",
       "49987              5           4                    1                      0   \n",
       "49991              5           3                    3                     12   \n",
       "49994             29           5                   33                     22   \n",
       "49995             29           5                   33                     25   \n",
       "49999              7           2                   22                      5   \n",
       "\n",
       "       Num_Credit_Inquiries Credit_Mix Outstanding_Debt  \\\n",
       "4                     5.000       Good           605.03   \n",
       "6                     5.000                      605.03   \n",
       "7                     5.000                      605.03   \n",
       "13                    4.000                      632.46   \n",
       "16                    4.000                      943.86   \n",
       "...                     ...        ...              ...   \n",
       "49987                 8.000                      897.16   \n",
       "49991                 3.000                      620.64   \n",
       "49994                12.000        Bad           3571.7   \n",
       "49995                12.000                      3571.7   \n",
       "49999                 7.000                      502.38   \n",
       "\n",
       "       Credit_Utilization_Ratio     Credit_History_Age Payment_of_Min_Amount  \\\n",
       "4                        25.927  27 Years and 3 Months                    No   \n",
       "6                        30.996  27 Years and 5 Months                    No   \n",
       "7                        33.875  27 Years and 6 Months                    No   \n",
       "13                       36.280  18 Years and 0 Months                    No   \n",
       "16                       34.730  31 Years and 4 Months                   Yes   \n",
       "...                         ...                    ...                   ...   \n",
       "49987                    25.793  22 Years and 0 Months                    NM   \n",
       "49991                    36.498  30 Years and 8 Months                    No   \n",
       "49994                    27.028   6 Years and 6 Months                   Yes   \n",
       "49995                    34.781                    NaN                   Yes   \n",
       "49999                    34.109  32 Years and 2 Months                    No   \n",
       "\n",
       "       Total_EMI_per_month Amount_invested_monthly  \\\n",
       "4                   18.816      39.684018417945296   \n",
       "6                   18.816       72.68014533363515   \n",
       "7                   18.816      153.53448761392985   \n",
       "13                  16.415      29.393311428984493   \n",
       "16                   0.000       59.36605764456292   \n",
       "...                    ...                     ...   \n",
       "49987               41.114       40.89305193681736   \n",
       "49991            33013.000       238.3993828976901   \n",
       "49994               60.965       50.84684680498023   \n",
       "49995               60.965      146.48632477751087   \n",
       "49999               35.104      220.45787812168732   \n",
       "\n",
       "                  Payment_Behaviour     Monthly_Balance  \n",
       "4       HighspentLargevaluepayments   485.2984336755923  \n",
       "6       HighspentLargevaluepayments  452.30230675990265  \n",
       "7                            !@9#%8  421.44796447960783  \n",
       "13      HighspentLargevaluepayments    455.440320244524  \n",
       "16     HighspentMediumvaluepayments  475.96485902210367  \n",
       "...                             ...                 ...  \n",
       "49987    LowspentLargevaluepayments  340.79630413992334  \n",
       "49991    LowspentLargevaluepayments    257.095501010799  \n",
       "49994   HighspentSmallvaluepayments    341.179047488264  \n",
       "49995    LowspentSmallvaluepayments  275.53956951573343  \n",
       "49999   LowspentMediumvaluepayments  360.37968260123847  \n",
       "\n",
       "[12596 rows x 19 columns]"
      ]
     },
     "execution_count": 300,
     "metadata": {},
     "output_type": "execute_result"
    }
   ],
   "source": [
    "df = df.replace(\"_\", \"\", regex=True)\n",
    "df[df.eq('').any(axis=1)] "
   ]
  },
  {
   "cell_type": "code",
   "execution_count": 301,
   "metadata": {
    "execution": {
     "iopub.execute_input": "2024-04-20T17:04:12.762815Z",
     "iopub.status.busy": "2024-04-20T17:04:12.762505Z",
     "iopub.status.idle": "2024-04-20T17:04:13.096194Z",
     "shell.execute_reply": "2024-04-20T17:04:13.094793Z",
     "shell.execute_reply.started": "2024-04-20T17:04:12.762788Z"
    },
    "trusted": true
   },
   "outputs": [],
   "source": [
    "rows_with_empty_values = df[df.eq('').any(axis=1)]\n",
    "\n",
    "# Fill empty values with np.nan in selected rows\n",
    "df.loc[rows_with_empty_values.index] = df.loc[rows_with_empty_values.index].replace('', np.nan)"
   ]
  },
  {
   "cell_type": "code",
   "execution_count": 302,
   "metadata": {
    "execution": {
     "iopub.execute_input": "2024-04-20T17:04:13.098938Z",
     "iopub.status.busy": "2024-04-20T17:04:13.098453Z",
     "iopub.status.idle": "2024-04-20T17:04:13.125558Z",
     "shell.execute_reply": "2024-04-20T17:04:13.12434Z",
     "shell.execute_reply.started": "2024-04-20T17:04:13.098892Z"
    },
    "trusted": true
   },
   "outputs": [
    {
     "data": {
      "text/html": [
       "<div>\n",
       "<style scoped>\n",
       "    .dataframe tbody tr th:only-of-type {\n",
       "        vertical-align: middle;\n",
       "    }\n",
       "\n",
       "    .dataframe tbody tr th {\n",
       "        vertical-align: top;\n",
       "    }\n",
       "\n",
       "    .dataframe thead th {\n",
       "        text-align: right;\n",
       "    }\n",
       "</style>\n",
       "<table border=\"1\" class=\"dataframe\">\n",
       "  <thead>\n",
       "    <tr style=\"text-align: right;\">\n",
       "      <th></th>\n",
       "      <th>Age</th>\n",
       "      <th>Occupation</th>\n",
       "      <th>Annual_Income</th>\n",
       "      <th>Num_Bank_Accounts</th>\n",
       "      <th>Num_Credit_Card</th>\n",
       "      <th>Interest_Rate</th>\n",
       "      <th>Num_of_Loan</th>\n",
       "      <th>Delay_from_due_date</th>\n",
       "      <th>Num_of_Delayed_Payment</th>\n",
       "      <th>Num_Credit_Inquiries</th>\n",
       "      <th>Credit_Mix</th>\n",
       "      <th>Outstanding_Debt</th>\n",
       "      <th>Credit_Utilization_Ratio</th>\n",
       "      <th>Credit_History_Age</th>\n",
       "      <th>Payment_of_Min_Amount</th>\n",
       "      <th>Total_EMI_per_month</th>\n",
       "      <th>Amount_invested_monthly</th>\n",
       "      <th>Payment_Behaviour</th>\n",
       "      <th>Monthly_Balance</th>\n",
       "    </tr>\n",
       "  </thead>\n",
       "  <tbody>\n",
       "    <tr>\n",
       "      <th>0</th>\n",
       "      <td>23</td>\n",
       "      <td>Scientist</td>\n",
       "      <td>19114.12</td>\n",
       "      <td>3</td>\n",
       "      <td>4</td>\n",
       "      <td>3</td>\n",
       "      <td>4</td>\n",
       "      <td>3</td>\n",
       "      <td>7</td>\n",
       "      <td>2022.000</td>\n",
       "      <td>Good</td>\n",
       "      <td>809.98</td>\n",
       "      <td>35.030</td>\n",
       "      <td>22 Years and 9 Months</td>\n",
       "      <td>No</td>\n",
       "      <td>49.575</td>\n",
       "      <td>236.64268203272135</td>\n",
       "      <td>LowspentSmallvaluepayments</td>\n",
       "      <td>186.26670208571772</td>\n",
       "    </tr>\n",
       "    <tr>\n",
       "      <th>1</th>\n",
       "      <td>24</td>\n",
       "      <td>Scientist</td>\n",
       "      <td>19114.12</td>\n",
       "      <td>3</td>\n",
       "      <td>4</td>\n",
       "      <td>3</td>\n",
       "      <td>4</td>\n",
       "      <td>3</td>\n",
       "      <td>9</td>\n",
       "      <td>4.000</td>\n",
       "      <td>Good</td>\n",
       "      <td>809.98</td>\n",
       "      <td>33.053</td>\n",
       "      <td>22 Years and 10 Months</td>\n",
       "      <td>No</td>\n",
       "      <td>49.575</td>\n",
       "      <td>21.465380264657146</td>\n",
       "      <td>HighspentMediumvaluepayments</td>\n",
       "      <td>361.44400385378196</td>\n",
       "    </tr>\n",
       "    <tr>\n",
       "      <th>2</th>\n",
       "      <td>24</td>\n",
       "      <td>Scientist</td>\n",
       "      <td>19114.12</td>\n",
       "      <td>3</td>\n",
       "      <td>4</td>\n",
       "      <td>3</td>\n",
       "      <td>4</td>\n",
       "      <td>-1</td>\n",
       "      <td>4</td>\n",
       "      <td>4.000</td>\n",
       "      <td>Good</td>\n",
       "      <td>809.98</td>\n",
       "      <td>33.812</td>\n",
       "      <td>NaN</td>\n",
       "      <td>No</td>\n",
       "      <td>49.575</td>\n",
       "      <td>148.23393788500925</td>\n",
       "      <td>LowspentMediumvaluepayments</td>\n",
       "      <td>264.67544623342997</td>\n",
       "    </tr>\n",
       "    <tr>\n",
       "      <th>3</th>\n",
       "      <td>24</td>\n",
       "      <td>Scientist</td>\n",
       "      <td>19114.12</td>\n",
       "      <td>3</td>\n",
       "      <td>4</td>\n",
       "      <td>3</td>\n",
       "      <td>4</td>\n",
       "      <td>4</td>\n",
       "      <td>5</td>\n",
       "      <td>4.000</td>\n",
       "      <td>Good</td>\n",
       "      <td>809.98</td>\n",
       "      <td>32.431</td>\n",
       "      <td>23 Years and 0 Months</td>\n",
       "      <td>No</td>\n",
       "      <td>49.575</td>\n",
       "      <td>39.08251089460281</td>\n",
       "      <td>HighspentMediumvaluepayments</td>\n",
       "      <td>343.82687322383634</td>\n",
       "    </tr>\n",
       "    <tr>\n",
       "      <th>4</th>\n",
       "      <td>28</td>\n",
       "      <td>NaN</td>\n",
       "      <td>34847.84</td>\n",
       "      <td>2</td>\n",
       "      <td>4</td>\n",
       "      <td>6</td>\n",
       "      <td>1</td>\n",
       "      <td>3</td>\n",
       "      <td>1</td>\n",
       "      <td>5.000</td>\n",
       "      <td>Good</td>\n",
       "      <td>605.03</td>\n",
       "      <td>25.927</td>\n",
       "      <td>27 Years and 3 Months</td>\n",
       "      <td>No</td>\n",
       "      <td>18.816</td>\n",
       "      <td>39.684018417945296</td>\n",
       "      <td>HighspentLargevaluepayments</td>\n",
       "      <td>485.2984336755923</td>\n",
       "    </tr>\n",
       "  </tbody>\n",
       "</table>\n",
       "</div>"
      ],
      "text/plain": [
       "  Age Occupation Annual_Income  Num_Bank_Accounts  Num_Credit_Card  \\\n",
       "0  23  Scientist      19114.12                  3                4   \n",
       "1  24  Scientist      19114.12                  3                4   \n",
       "2  24  Scientist      19114.12                  3                4   \n",
       "3  24  Scientist      19114.12                  3                4   \n",
       "4  28        NaN      34847.84                  2                4   \n",
       "\n",
       "   Interest_Rate Num_of_Loan  Delay_from_due_date Num_of_Delayed_Payment  \\\n",
       "0              3           4                    3                      7   \n",
       "1              3           4                    3                      9   \n",
       "2              3           4                   -1                      4   \n",
       "3              3           4                    4                      5   \n",
       "4              6           1                    3                      1   \n",
       "\n",
       "   Num_Credit_Inquiries Credit_Mix Outstanding_Debt  Credit_Utilization_Ratio  \\\n",
       "0              2022.000       Good           809.98                    35.030   \n",
       "1                 4.000       Good           809.98                    33.053   \n",
       "2                 4.000       Good           809.98                    33.812   \n",
       "3                 4.000       Good           809.98                    32.431   \n",
       "4                 5.000       Good           605.03                    25.927   \n",
       "\n",
       "       Credit_History_Age Payment_of_Min_Amount  Total_EMI_per_month  \\\n",
       "0   22 Years and 9 Months                    No               49.575   \n",
       "1  22 Years and 10 Months                    No               49.575   \n",
       "2                     NaN                    No               49.575   \n",
       "3   23 Years and 0 Months                    No               49.575   \n",
       "4   27 Years and 3 Months                    No               18.816   \n",
       "\n",
       "  Amount_invested_monthly             Payment_Behaviour     Monthly_Balance  \n",
       "0      236.64268203272135    LowspentSmallvaluepayments  186.26670208571772  \n",
       "1      21.465380264657146  HighspentMediumvaluepayments  361.44400385378196  \n",
       "2      148.23393788500925   LowspentMediumvaluepayments  264.67544623342997  \n",
       "3       39.08251089460281  HighspentMediumvaluepayments  343.82687322383634  \n",
       "4      39.684018417945296   HighspentLargevaluepayments   485.2984336755923  "
      ]
     },
     "execution_count": 302,
     "metadata": {},
     "output_type": "execute_result"
    }
   ],
   "source": [
    "df.head()"
   ]
  },
  {
   "cell_type": "code",
   "execution_count": 303,
   "metadata": {
    "execution": {
     "iopub.execute_input": "2024-04-20T17:04:13.730825Z",
     "iopub.status.busy": "2024-04-20T17:04:13.730371Z",
     "iopub.status.idle": "2024-04-20T17:04:13.738172Z",
     "shell.execute_reply": "2024-04-20T17:04:13.736871Z",
     "shell.execute_reply.started": "2024-04-20T17:04:13.730787Z"
    },
    "trusted": true
   },
   "outputs": [
    {
     "data": {
      "text/plain": [
       "(50000, 19)"
      ]
     },
     "execution_count": 303,
     "metadata": {},
     "output_type": "execute_result"
    }
   ],
   "source": [
    "df.shape"
   ]
  },
  {
   "cell_type": "code",
   "execution_count": 304,
   "metadata": {
    "execution": {
     "iopub.execute_input": "2024-04-20T17:04:14.34343Z",
     "iopub.status.busy": "2024-04-20T17:04:14.34299Z",
     "iopub.status.idle": "2024-04-20T17:04:14.479539Z",
     "shell.execute_reply": "2024-04-20T17:04:14.478258Z",
     "shell.execute_reply.started": "2024-04-20T17:04:14.343397Z"
    },
    "trusted": true
   },
   "outputs": [
    {
     "data": {
      "text/plain": [
       "Age                            0\n",
       "Occupation                  3438\n",
       "Annual_Income                  0\n",
       "Num_Bank_Accounts              0\n",
       "Num_Credit_Card                0\n",
       "Interest_Rate                  0\n",
       "Num_of_Loan                    0\n",
       "Delay_from_due_date            0\n",
       "Num_of_Delayed_Payment      3498\n",
       "Num_Credit_Inquiries        1035\n",
       "Credit_Mix                  9805\n",
       "Outstanding_Debt               0\n",
       "Credit_Utilization_Ratio       0\n",
       "Credit_History_Age          4470\n",
       "Payment_of_Min_Amount          0\n",
       "Total_EMI_per_month            0\n",
       "Amount_invested_monthly     2271\n",
       "Payment_Behaviour              0\n",
       "Monthly_Balance              562\n",
       "dtype: int64"
      ]
     },
     "execution_count": 304,
     "metadata": {},
     "output_type": "execute_result"
    }
   ],
   "source": [
    "df.isna().sum()"
   ]
  },
  {
   "cell_type": "code",
   "execution_count": 305,
   "metadata": {
    "execution": {
     "iopub.execute_input": "2024-04-20T17:04:14.886072Z",
     "iopub.status.busy": "2024-04-20T17:04:14.885677Z",
     "iopub.status.idle": "2024-04-20T17:04:14.950093Z",
     "shell.execute_reply": "2024-04-20T17:04:14.94883Z",
     "shell.execute_reply.started": "2024-04-20T17:04:14.886043Z"
    },
    "trusted": true
   },
   "outputs": [
    {
     "data": {
      "text/html": [
       "<div>\n",
       "<style scoped>\n",
       "    .dataframe tbody tr th:only-of-type {\n",
       "        vertical-align: middle;\n",
       "    }\n",
       "\n",
       "    .dataframe tbody tr th {\n",
       "        vertical-align: top;\n",
       "    }\n",
       "\n",
       "    .dataframe thead th {\n",
       "        text-align: right;\n",
       "    }\n",
       "</style>\n",
       "<table border=\"1\" class=\"dataframe\">\n",
       "  <thead>\n",
       "    <tr style=\"text-align: right;\">\n",
       "      <th></th>\n",
       "      <th>count</th>\n",
       "      <th>mean</th>\n",
       "      <th>std</th>\n",
       "      <th>min</th>\n",
       "      <th>25%</th>\n",
       "      <th>50%</th>\n",
       "      <th>75%</th>\n",
       "      <th>max</th>\n",
       "    </tr>\n",
       "  </thead>\n",
       "  <tbody>\n",
       "    <tr>\n",
       "      <th>Num_Bank_Accounts</th>\n",
       "      <td>50000.000</td>\n",
       "      <td>16.838</td>\n",
       "      <td>116.397</td>\n",
       "      <td>-1.000</td>\n",
       "      <td>3.000</td>\n",
       "      <td>6.000</td>\n",
       "      <td>7.000</td>\n",
       "      <td>1798.000</td>\n",
       "    </tr>\n",
       "    <tr>\n",
       "      <th>Num_Credit_Card</th>\n",
       "      <td>50000.000</td>\n",
       "      <td>22.921</td>\n",
       "      <td>129.315</td>\n",
       "      <td>0.000</td>\n",
       "      <td>4.000</td>\n",
       "      <td>5.000</td>\n",
       "      <td>7.000</td>\n",
       "      <td>1499.000</td>\n",
       "    </tr>\n",
       "    <tr>\n",
       "      <th>Interest_Rate</th>\n",
       "      <td>50000.000</td>\n",
       "      <td>68.773</td>\n",
       "      <td>451.602</td>\n",
       "      <td>1.000</td>\n",
       "      <td>8.000</td>\n",
       "      <td>13.000</td>\n",
       "      <td>20.000</td>\n",
       "      <td>5799.000</td>\n",
       "    </tr>\n",
       "    <tr>\n",
       "      <th>Delay_from_due_date</th>\n",
       "      <td>50000.000</td>\n",
       "      <td>21.053</td>\n",
       "      <td>14.860</td>\n",
       "      <td>-5.000</td>\n",
       "      <td>10.000</td>\n",
       "      <td>18.000</td>\n",
       "      <td>28.000</td>\n",
       "      <td>67.000</td>\n",
       "    </tr>\n",
       "    <tr>\n",
       "      <th>Num_Credit_Inquiries</th>\n",
       "      <td>48965.000</td>\n",
       "      <td>30.080</td>\n",
       "      <td>196.984</td>\n",
       "      <td>0.000</td>\n",
       "      <td>4.000</td>\n",
       "      <td>7.000</td>\n",
       "      <td>10.000</td>\n",
       "      <td>2593.000</td>\n",
       "    </tr>\n",
       "    <tr>\n",
       "      <th>Credit_Utilization_Ratio</th>\n",
       "      <td>50000.000</td>\n",
       "      <td>32.280</td>\n",
       "      <td>5.106</td>\n",
       "      <td>20.510</td>\n",
       "      <td>28.061</td>\n",
       "      <td>32.280</td>\n",
       "      <td>36.469</td>\n",
       "      <td>48.541</td>\n",
       "    </tr>\n",
       "    <tr>\n",
       "      <th>Total_EMI_per_month</th>\n",
       "      <td>50000.000</td>\n",
       "      <td>1491.304</td>\n",
       "      <td>8595.648</td>\n",
       "      <td>0.000</td>\n",
       "      <td>32.222</td>\n",
       "      <td>74.733</td>\n",
       "      <td>176.157</td>\n",
       "      <td>82398.000</td>\n",
       "    </tr>\n",
       "  </tbody>\n",
       "</table>\n",
       "</div>"
      ],
      "text/plain": [
       "                             count     mean      std    min    25%    50%  \\\n",
       "Num_Bank_Accounts        50000.000   16.838  116.397 -1.000  3.000  6.000   \n",
       "Num_Credit_Card          50000.000   22.921  129.315  0.000  4.000  5.000   \n",
       "Interest_Rate            50000.000   68.773  451.602  1.000  8.000 13.000   \n",
       "Delay_from_due_date      50000.000   21.053   14.860 -5.000 10.000 18.000   \n",
       "Num_Credit_Inquiries     48965.000   30.080  196.984  0.000  4.000  7.000   \n",
       "Credit_Utilization_Ratio 50000.000   32.280    5.106 20.510 28.061 32.280   \n",
       "Total_EMI_per_month      50000.000 1491.304 8595.648  0.000 32.222 74.733   \n",
       "\n",
       "                             75%       max  \n",
       "Num_Bank_Accounts          7.000  1798.000  \n",
       "Num_Credit_Card            7.000  1499.000  \n",
       "Interest_Rate             20.000  5799.000  \n",
       "Delay_from_due_date       28.000    67.000  \n",
       "Num_Credit_Inquiries      10.000  2593.000  \n",
       "Credit_Utilization_Ratio  36.469    48.541  \n",
       "Total_EMI_per_month      176.157 82398.000  "
      ]
     },
     "execution_count": 305,
     "metadata": {},
     "output_type": "execute_result"
    }
   ],
   "source": [
    "df.describe().T"
   ]
  },
  {
   "cell_type": "code",
   "execution_count": 306,
   "metadata": {
    "execution": {
     "iopub.execute_input": "2024-04-20T17:04:15.495448Z",
     "iopub.status.busy": "2024-04-20T17:04:15.495055Z",
     "iopub.status.idle": "2024-04-20T17:04:16.013404Z",
     "shell.execute_reply": "2024-04-20T17:04:16.012237Z",
     "shell.execute_reply.started": "2024-04-20T17:04:15.495418Z"
    },
    "trusted": true
   },
   "outputs": [
    {
     "data": {
      "text/html": [
       "<div>\n",
       "<style scoped>\n",
       "    .dataframe tbody tr th:only-of-type {\n",
       "        vertical-align: middle;\n",
       "    }\n",
       "\n",
       "    .dataframe tbody tr th {\n",
       "        vertical-align: top;\n",
       "    }\n",
       "\n",
       "    .dataframe thead th {\n",
       "        text-align: right;\n",
       "    }\n",
       "</style>\n",
       "<table border=\"1\" class=\"dataframe\">\n",
       "  <thead>\n",
       "    <tr style=\"text-align: right;\">\n",
       "      <th></th>\n",
       "      <th>count</th>\n",
       "      <th>unique</th>\n",
       "      <th>top</th>\n",
       "      <th>freq</th>\n",
       "    </tr>\n",
       "  </thead>\n",
       "  <tbody>\n",
       "    <tr>\n",
       "      <th>Age</th>\n",
       "      <td>50000</td>\n",
       "      <td>928</td>\n",
       "      <td>39</td>\n",
       "      <td>1570</td>\n",
       "    </tr>\n",
       "    <tr>\n",
       "      <th>Occupation</th>\n",
       "      <td>46562</td>\n",
       "      <td>15</td>\n",
       "      <td>Lawyer</td>\n",
       "      <td>3324</td>\n",
       "    </tr>\n",
       "    <tr>\n",
       "      <th>Annual_Income</th>\n",
       "      <td>50000</td>\n",
       "      <td>12989</td>\n",
       "      <td>17273.83</td>\n",
       "      <td>8</td>\n",
       "    </tr>\n",
       "    <tr>\n",
       "      <th>Num_of_Loan</th>\n",
       "      <td>50000</td>\n",
       "      <td>252</td>\n",
       "      <td>2</td>\n",
       "      <td>7515</td>\n",
       "    </tr>\n",
       "    <tr>\n",
       "      <th>Num_of_Delayed_Payment</th>\n",
       "      <td>46502</td>\n",
       "      <td>411</td>\n",
       "      <td>19</td>\n",
       "      <td>2707</td>\n",
       "    </tr>\n",
       "    <tr>\n",
       "      <th>Credit_Mix</th>\n",
       "      <td>40195</td>\n",
       "      <td>3</td>\n",
       "      <td>Standard</td>\n",
       "      <td>18379</td>\n",
       "    </tr>\n",
       "    <tr>\n",
       "      <th>Outstanding_Debt</th>\n",
       "      <td>50000</td>\n",
       "      <td>12203</td>\n",
       "      <td>1109.03</td>\n",
       "      <td>12</td>\n",
       "    </tr>\n",
       "    <tr>\n",
       "      <th>Credit_History_Age</th>\n",
       "      <td>45530</td>\n",
       "      <td>399</td>\n",
       "      <td>20 Years and 1 Months</td>\n",
       "      <td>254</td>\n",
       "    </tr>\n",
       "    <tr>\n",
       "      <th>Payment_of_Min_Amount</th>\n",
       "      <td>50000</td>\n",
       "      <td>3</td>\n",
       "      <td>Yes</td>\n",
       "      <td>26158</td>\n",
       "    </tr>\n",
       "    <tr>\n",
       "      <th>Amount_invested_monthly</th>\n",
       "      <td>47729</td>\n",
       "      <td>45450</td>\n",
       "      <td>10000</td>\n",
       "      <td>2175</td>\n",
       "    </tr>\n",
       "    <tr>\n",
       "      <th>Payment_Behaviour</th>\n",
       "      <td>50000</td>\n",
       "      <td>7</td>\n",
       "      <td>LowspentSmallvaluepayments</td>\n",
       "      <td>12694</td>\n",
       "    </tr>\n",
       "    <tr>\n",
       "      <th>Monthly_Balance</th>\n",
       "      <td>49438</td>\n",
       "      <td>49433</td>\n",
       "      <td>-333333333333333333333333333</td>\n",
       "      <td>6</td>\n",
       "    </tr>\n",
       "  </tbody>\n",
       "</table>\n",
       "</div>"
      ],
      "text/plain": [
       "                         count unique                           top   freq\n",
       "Age                      50000    928                            39   1570\n",
       "Occupation               46562     15                        Lawyer   3324\n",
       "Annual_Income            50000  12989                      17273.83      8\n",
       "Num_of_Loan              50000    252                             2   7515\n",
       "Num_of_Delayed_Payment   46502    411                            19   2707\n",
       "Credit_Mix               40195      3                      Standard  18379\n",
       "Outstanding_Debt         50000  12203                       1109.03     12\n",
       "Credit_History_Age       45530    399         20 Years and 1 Months    254\n",
       "Payment_of_Min_Amount    50000      3                           Yes  26158\n",
       "Amount_invested_monthly  47729  45450                         10000   2175\n",
       "Payment_Behaviour        50000      7    LowspentSmallvaluepayments  12694\n",
       "Monthly_Balance          49438  49433  -333333333333333333333333333      6"
      ]
     },
     "execution_count": 306,
     "metadata": {},
     "output_type": "execute_result"
    }
   ],
   "source": [
    "df.describe(include='object').T"
   ]
  },
  {
   "cell_type": "markdown",
   "metadata": {},
   "source": [
    "## Find and Change wrong/missing values"
   ]
  },
  {
   "cell_type": "markdown",
   "metadata": {},
   "source": [
    "### Age"
   ]
  },
  {
   "cell_type": "code",
   "execution_count": 307,
   "metadata": {
    "execution": {
     "iopub.execute_input": "2024-04-20T17:04:17.383659Z",
     "iopub.status.busy": "2024-04-20T17:04:17.382873Z",
     "iopub.status.idle": "2024-04-20T17:04:17.402988Z",
     "shell.execute_reply": "2024-04-20T17:04:17.401624Z",
     "shell.execute_reply.started": "2024-04-20T17:04:17.383611Z"
    },
    "trusted": true
   },
   "outputs": [
    {
     "data": {
      "text/plain": [
       "928"
      ]
     },
     "execution_count": 307,
     "metadata": {},
     "output_type": "execute_result"
    }
   ],
   "source": [
    "df.Age.nunique()"
   ]
  },
  {
   "cell_type": "code",
   "execution_count": 308,
   "metadata": {
    "execution": {
     "iopub.execute_input": "2024-04-20T17:04:18.134754Z",
     "iopub.status.busy": "2024-04-20T17:04:18.13433Z",
     "iopub.status.idle": "2024-04-20T17:04:18.161727Z",
     "shell.execute_reply": "2024-04-20T17:04:18.16059Z",
     "shell.execute_reply.started": "2024-04-20T17:04:18.134722Z"
    },
    "trusted": true
   },
   "outputs": [
    {
     "data": {
      "text/plain": [
       "Age\n",
       "39    1570\n",
       "32    1529\n",
       "44    1500\n",
       "22    1493\n",
       "35    1483\n",
       "37    1461\n",
       "27    1457\n",
       "29    1441\n",
       "20    1432\n",
       "26    1421\n",
       "Name: count, dtype: int64"
      ]
     },
     "execution_count": 308,
     "metadata": {},
     "output_type": "execute_result"
    }
   ],
   "source": [
    "df.Age.value_counts(ascending=False).head(10)"
   ]
  },
  {
   "cell_type": "code",
   "execution_count": 309,
   "metadata": {
    "execution": {
     "iopub.execute_input": "2024-04-20T17:04:18.785569Z",
     "iopub.status.busy": "2024-04-20T17:04:18.785174Z",
     "iopub.status.idle": "2024-04-20T17:04:19.074404Z",
     "shell.execute_reply": "2024-04-20T17:04:19.073215Z",
     "shell.execute_reply.started": "2024-04-20T17:04:18.785524Z"
    },
    "trusted": true
   },
   "outputs": [
    {
     "name": "stdout",
     "output_type": "stream",
     "text": [
      "{'-'}\n"
     ]
    }
   ],
   "source": [
    "import re\n",
    "\n",
    "def non_numeric_values(df, column_name):\n",
    "    # Define a regular expression pattern to match numeric characters\n",
    "    pattern = r'\\D+'\n",
    "    \n",
    "    # Find non-numeric values using regular expression\n",
    "    non_numeric_values = df[column_name].astype(str).str.findall(pattern)\n",
    "    \n",
    "    # Flatten the list of lists\n",
    "    non_numeric_values = [item for sublist in non_numeric_values for item in sublist]\n",
    "    \n",
    "    # Use set to ensure uniqueness\n",
    "    unique_non_numeric_values = set(non_numeric_values)\n",
    "    \n",
    "    return unique_non_numeric_values\n",
    "\n",
    "unique_non_numeric = non_numeric_values(df, 'Age')\n",
    "print(unique_non_numeric)\n"
   ]
  },
  {
   "cell_type": "code",
   "execution_count": 310,
   "metadata": {
    "execution": {
     "iopub.execute_input": "2024-04-20T17:04:19.372231Z",
     "iopub.status.busy": "2024-04-20T17:04:19.371474Z",
     "iopub.status.idle": "2024-04-20T17:04:19.48316Z",
     "shell.execute_reply": "2024-04-20T17:04:19.481915Z",
     "shell.execute_reply.started": "2024-04-20T17:04:19.372192Z"
    },
    "trusted": true
   },
   "outputs": [
    {
     "data": {
      "text/plain": [
       "array([-500], dtype=int64)"
      ]
     },
     "execution_count": 310,
     "metadata": {},
     "output_type": "execute_result"
    }
   ],
   "source": [
    "df['Age'] = pd.to_numeric(df['Age'], errors='coerce')\n",
    "df[df['Age'] < 0]['Age'].unique()"
   ]
  },
  {
   "cell_type": "code",
   "execution_count": 311,
   "metadata": {
    "execution": {
     "iopub.execute_input": "2024-04-20T17:04:20.185623Z",
     "iopub.status.busy": "2024-04-20T17:04:20.184778Z",
     "iopub.status.idle": "2024-04-20T17:04:20.200742Z",
     "shell.execute_reply": "2024-04-20T17:04:20.199578Z",
     "shell.execute_reply.started": "2024-04-20T17:04:20.185574Z"
    },
    "trusted": true
   },
   "outputs": [
    {
     "data": {
      "text/plain": [
       "array([1694,  914, 3193,  339, 1203, 2823, 1643, 8327, 6586, 7014, 3391,\n",
       "       3765, 4472, 4022, 4576, 3355, 8034, 4610, 7860, 2526, 3263, 4885,\n",
       "        694, 8288, 8404,  451, 3168, 5172, 8214, 4946, 3127, 7018, 2950,\n",
       "       7676, 5502, 4133, 2083, 3752, 2970, 7721, 4806, 5426, 4787, 4390,\n",
       "       3218, 6000,  538, 7319, 5530, 6838, 2069, 8337, 2532, 1587, 7749,\n",
       "       5255, 5532, 7045, 1950, 5333, 2077, 1844, 2954, 4329, 1919, 8449,\n",
       "       7237, 5061, 2695, 3287, 7507, 4556, 5092, 6978, 8497, 3712,  693,\n",
       "       3922, 6097, 3527, 7836, 5165, 7849,  327, 6317, 3930, 2193, 7222,\n",
       "        505, 7261, 6205,  942, 7260, 2002, 3984, 6678, 4763, 4954, 5720,\n",
       "       6965, 3482, 6099, 5029, 1804, 7470,  676, 5733, 7005, 1631, 4204,\n",
       "        835, 2585,  492, 1193, 3759, 2485, 4305, 2902, 2082, 6798, 5488,\n",
       "       5546, 8001, 8641, 6439, 8481, 6558, 6866, 2049, 3981, 6659,  171,\n",
       "       7461, 5410, 2383, 4873, 2231, 4741, 5205, 6248, 6966, 3485,  536,\n",
       "       5760, 5104, 3876, 5621, 2104, 5549, 2404, 4943,  225, 3600, 2750,\n",
       "        601, 1566, 2969, 5018, 3993, 6744, 4385, 4949, 3731, 3528, 6296,\n",
       "       1705, 8427, 5203, 5609, 7340, 7978, 4520, 3277, 7084, 6924, 4446,\n",
       "       6546, 4687, 6473, 8439, 6401, 1167, 2087, 7437, 2739, 3576, 3207,\n",
       "       7964, 4265, 6409, 1417, 6841, 7052,  452, 1330, 6437,  619, 1956,\n",
       "        133, 4851,  830, 2511, 7904, 1342, 3452, 5619, 3030, 2582, 6080,\n",
       "       7563, 7424, 3842, 2870, 6290, 1659, 6647, 7389, 1046, 1793, 3797,\n",
       "       2815, 4066, 6394, 3211, 3822, 8450,  927, 4435, 6282, 3516, 1750,\n",
       "       6718, 7449, 2905, 6760, 1913, 8639,  458, 2569, 1660, 2257, 3369,\n",
       "       1882, 8198, 2443, 3072, 2563, 5264, 2812, 5548, 8086, 6076, 6792,\n",
       "       5026, 4202, 3412, 1147, 3868, 3553,  453, 8629, 7702, 5863, 8502,\n",
       "       2320, 6807, 8536, 2341, 4451, 6535, 2811, 1542, 8245,  782, 7104,\n",
       "       4654, 6804, 5456, 2848,  415, 7184, 7754, 3007, 7774, 5316, 7409,\n",
       "       2336, 8263, 3062, 2587, 2926, 3044, 1472, 8200, 4114, 5113, 7021,\n",
       "       8213, 3577, 6125, 7408, 1916,  368, 7533, 2831, 8500, 4304, 6868,\n",
       "       6695,  281, 5994, 5254, 3744, 7832, 4934, 2059,  437, 1419,  120,\n",
       "       2552, 2698,  410, 4955, 4399, 7043, 5227, 4968, 3837,  727, 1900,\n",
       "       5296, 7590, 3020, 7190, 1986, 1672, 5700, 1473, 6447,  527, 3883,\n",
       "       8019, 8631, 6400, 4079, 1530, 8590, 2216, 5084, 7234, 5145, 8118,\n",
       "       6445, 2413, 3803,  182,  863, 2367, 4179, 1141, 2436, 6137, 1187,\n",
       "       4938, 7554, 6126, 3423, 8464, 4521, 5148, 5036, 8432, 4287, 6470,\n",
       "       4807, 2544, 7707, 3601, 1186, 7106, 6225, 1776, 7550, 3271, 2042,\n",
       "       4443,  141, 7825, 1258,  615, 2856, 5935, 8342, 2322, 5552, 2929,\n",
       "        948, 3342, 2299, 6754, 2461, 2389, 7028,  895, 5469,  744, 6693,\n",
       "        644, 7946, 7148, 6174, 5576, 7753, 3046, 6286, 1195, 1104, 5885,\n",
       "       4993, 8625, 8332, 3216, 6175, 8600, 8524, 5559, 7667,  829,  551,\n",
       "       6453, 6385,  985, 4473, 1855, 7282, 5759, 3286, 3974, 2785, 4142,\n",
       "       5987, 6900, 5592, 8311, 2816, 3212, 2607, 6392, 3118, 7044, 2836,\n",
       "        516, 1583, 5129, 1379,  232, 4554, 5012, 4242, 1261, 7685, 8083,\n",
       "       7961, 4223, 5238, 3376, 2319, 4694, 6153, 2711,  501,  925,  842,\n",
       "       1238, 3108, 7183, 6986, 2053, 1153, 6026, 2787,  730, 7391, 7909,\n",
       "       1977, 6967, 5309, 6141, 7542, 1845, 3904, 2362, 1018,  455, 3877,\n",
       "       2036, 2117, 5447, 8188, 5236, 6150,  188, 3487,  331, 3891, 5850,\n",
       "       2789, 8304, 4891, 6001, 2096, 1833, 7435, 7878, 2458, 8589, 1662,\n",
       "       6957,  941, 6653, 1081, 7495, 6272, 8232, 3817, 7171, 1263, 8254,\n",
       "       1734, 1124, 8647, 4187, 1222,  751, 1144, 5596, 6848, 7981, 4575,\n",
       "       5744, 7431, 5890, 2583, 5784, 3085, 5078, 4426, 3122, 7144, 1841,\n",
       "       3357, 8487, 7625, 4682, 8557, 4184, 7700,  679, 2286, 3136, 3052,\n",
       "       3433,  498, 2211, 6424,  136, 8054, 2507, 4768, 7058, 7503, 4817,\n",
       "       6197,  681, 4525, 3903, 2038, 2210, 5650, 1485, 5714, 5854, 1034,\n",
       "       2022, 8395, 3089, 6384, 5159, 4927, 1667, 7525, 6515, 8688, 2604,\n",
       "       6809, 4549, 3295, 8217, 5111, 1765, 8068, 8140, 3942, 5034, 1857,\n",
       "       2928, 6411, 4698,  755, 7468, 6213, 1118, 7168,  358, 1218, 4543,\n",
       "        996, 8302, 5731,  868, 1746, 2850,  165, 5133, 2599, 8305,  771,\n",
       "       7780,  474, 3001,  997, 3908,  447, 4344, 7355, 2701, 5551, 1614,\n",
       "       2472,  975, 4603,  557, 1210, 8049, 6037, 8055, 1676, 8632, 8065,\n",
       "       6354,  321, 4986, 4936, 4636, 1782,  287, 8419, 7333,  775, 3582,\n",
       "       6222, 6421, 6612, 3823, 2411, 4920,  270, 5883, 8071, 8271, 1988,\n",
       "        402, 3474, 7926, 1952, 6873, 3076, 2663, 1197, 6243, 6475, 6937,\n",
       "       2403, 2819,  413, 3080, 1315, 6654, 4321, 4340, 1058, 6621, 8326,\n",
       "       2359, 2310, 7864, 3191, 1955, 4033, 8334, 3382, 7876, 5856, 3513,\n",
       "       1220, 3915, 6667, 7334, 1415, 1445,  128, 7196, 7228,  425, 5679,\n",
       "       6278,  274, 5471,  866, 8256, 5220, 5607, 2116, 3737, 2974, 6083,\n",
       "        517, 6484, 3936, 5710, 7527, 1465, 4929, 4498, 2572,  743, 7559,\n",
       "       2894,  319, 3362, 3252,  285, 1336, 3468, 3371, 5288, 5612, 3084,\n",
       "        993, 6903, 3592, 2693, 5044,  243, 7114, 4595, 5892,  167,  580,\n",
       "       5282, 3919, 2057, 7929, 7288, 4591, 2735,  155, 5780, 4561,  989,\n",
       "       3360, 7229,  930, 7406,  299, 7958, 4790, 8596, 3291,  144, 6031,\n",
       "       2678, 3093, 4781, 3858, 4531, 6732, 2753, 7351, 1949,  909, 3339,\n",
       "       6715, 2616, 1764, 8300, 2314, 4453, 3056, 6391, 4013, 1395, 8426,\n",
       "       4888, 6330, 3706, 4718, 2797, 7120, 5667,  542, 7300, 3573, 4722,\n",
       "       1007, 7342,  831, 1953, 5501, 2934, 4373, 1499,  595, 1522, 5797,\n",
       "       6176, 7265, 5428, 4697, 6094, 2166, 7314, 4024, 7520, 6133, 3324,\n",
       "       6856, 6633, 3545, 7116, 6999, 1305, 6349, 5009, 3508, 4216, 2849,\n",
       "       4896, 6188,  217,  707, 2298, 7239, 3814, 3728, 2779, 5213, 6884,\n",
       "       7810, 5269, 1544, 4899, 7850, 7421, 8340, 3524,  470, 5038, 6262,\n",
       "       7868, 3155, 1365, 6652, 2200, 1401, 8361,  459, 3054, 5586,  326,\n",
       "       7910, 5826, 4975], dtype=int64)"
      ]
     },
     "execution_count": 311,
     "metadata": {},
     "output_type": "execute_result"
    }
   ],
   "source": [
    "df[df['Age'] > 100]['Age'].unique()"
   ]
  },
  {
   "cell_type": "code",
   "execution_count": 312,
   "metadata": {
    "execution": {
     "iopub.execute_input": "2024-04-20T17:04:20.813777Z",
     "iopub.status.busy": "2024-04-20T17:04:20.813296Z",
     "iopub.status.idle": "2024-04-20T17:04:20.881956Z",
     "shell.execute_reply": "2024-04-20T17:04:20.880848Z",
     "shell.execute_reply.started": "2024-04-20T17:04:20.813732Z"
    },
    "trusted": true
   },
   "outputs": [],
   "source": [
    "df.drop(df[df['Age'] > 100].index, inplace = True)\n",
    "df.drop(df[df['Age'] < 0].index, inplace = True)"
   ]
  },
  {
   "cell_type": "code",
   "execution_count": 313,
   "metadata": {
    "execution": {
     "iopub.execute_input": "2024-04-20T17:04:21.482089Z",
     "iopub.status.busy": "2024-04-20T17:04:21.481347Z",
     "iopub.status.idle": "2024-04-20T17:04:21.489344Z",
     "shell.execute_reply": "2024-04-20T17:04:21.48802Z",
     "shell.execute_reply.started": "2024-04-20T17:04:21.482048Z"
    },
    "trusted": true
   },
   "outputs": [
    {
     "data": {
      "text/plain": [
       "(48599, 19)"
      ]
     },
     "execution_count": 313,
     "metadata": {},
     "output_type": "execute_result"
    }
   ],
   "source": [
    "df.shape"
   ]
  },
  {
   "cell_type": "code",
   "execution_count": 314,
   "metadata": {
    "execution": {
     "iopub.execute_input": "2024-04-20T17:04:22.09988Z",
     "iopub.status.busy": "2024-04-20T17:04:22.098687Z",
     "iopub.status.idle": "2024-04-20T17:04:22.495236Z",
     "shell.execute_reply": "2024-04-20T17:04:22.493954Z",
     "shell.execute_reply.started": "2024-04-20T17:04:22.099838Z"
    },
    "trusted": true
   },
   "outputs": [
    {
     "data": {
      "image/png": "[encoded data removed]",
      "text/plain": [
       "<Figure size 1200x600 with 1 Axes>"
      ]
     },
     "metadata": {},
     "output_type": "display_data"
    }
   ],
   "source": [
    "sns.boxplot(data= df, x= df.Age);"
   ]
  },
  {
   "cell_type": "markdown",
   "metadata": {},
   "source": [
    "### Occupation"
   ]
  },
  {
   "cell_type": "code",
   "execution_count": 315,
   "metadata": {
    "execution": {
     "iopub.execute_input": "2024-04-20T17:04:23.529794Z",
     "iopub.status.busy": "2024-04-20T17:04:23.529356Z",
     "iopub.status.idle": "2024-04-20T17:04:23.554783Z",
     "shell.execute_reply": "2024-04-20T17:04:23.553861Z",
     "shell.execute_reply.started": "2024-04-20T17:04:23.529758Z"
    },
    "trusted": true
   },
   "outputs": [
    {
     "data": {
      "text/plain": [
       "Occupation\n",
       "Lawyer          3245\n",
       "Engineer        3118\n",
       "Architect       3104\n",
       "Mechanic        3089\n",
       "MediaManager    3050\n",
       "Developer       3042\n",
       "Accountant      3042\n",
       "Scientist       3017\n",
       "Teacher         3009\n",
       "Entrepreneur    3007\n",
       "Journalist      2957\n",
       "Doctor          2955\n",
       "Manager         2906\n",
       "Musician        2860\n",
       "Writer          2852\n",
       "Name: count, dtype: int64"
      ]
     },
     "execution_count": 315,
     "metadata": {},
     "output_type": "execute_result"
    }
   ],
   "source": [
    "df.Occupation.value_counts()"
   ]
  },
  {
   "cell_type": "code",
   "execution_count": 316,
   "metadata": {
    "execution": {
     "iopub.execute_input": "2024-04-20T17:04:24.160912Z",
     "iopub.status.busy": "2024-04-20T17:04:24.159445Z",
     "iopub.status.idle": "2024-04-20T17:04:24.18416Z",
     "shell.execute_reply": "2024-04-20T17:04:24.182319Z",
     "shell.execute_reply.started": "2024-04-20T17:04:24.160833Z"
    },
    "trusted": true
   },
   "outputs": [
    {
     "data": {
      "text/plain": [
       "3346"
      ]
     },
     "execution_count": 316,
     "metadata": {},
     "output_type": "execute_result"
    }
   ],
   "source": [
    "df.Occupation.isna().sum()"
   ]
  },
  {
   "cell_type": "code",
   "execution_count": 317,
   "metadata": {
    "execution": {
     "iopub.execute_input": "2024-04-20T17:04:24.769868Z",
     "iopub.status.busy": "2024-04-20T17:04:24.769412Z",
     "iopub.status.idle": "2024-04-20T17:04:24.789993Z",
     "shell.execute_reply": "2024-04-20T17:04:24.788926Z",
     "shell.execute_reply.started": "2024-04-20T17:04:24.769835Z"
    },
    "trusted": true
   },
   "outputs": [],
   "source": [
    "df.loc[pd.isna(df['Occupation']), 'Occupation'] = 'Other'"
   ]
  },
  {
   "cell_type": "code",
   "execution_count": 318,
   "metadata": {
    "execution": {
     "iopub.execute_input": "2024-04-20T17:04:25.358549Z",
     "iopub.status.busy": "2024-04-20T17:04:25.357529Z",
     "iopub.status.idle": "2024-04-20T17:04:26.339904Z",
     "shell.execute_reply": "2024-04-20T17:04:26.338735Z",
     "shell.execute_reply.started": "2024-04-20T17:04:25.358511Z"
    },
    "trusted": true
   },
   "outputs": [
    {
     "data": {
      "image/png": "[encoded data removed]",
      "text/plain": [
       "<Figure size 1200x600 with 1 Axes>"
      ]
     },
     "metadata": {},
     "output_type": "display_data"
    }
   ],
   "source": [
    "import seaborn as sns\n",
    "import matplotlib.pyplot as plt\n",
    "\n",
    "plt.figure(figsize=(12, 6))\n",
    "sns.countplot(x='Occupation', data=df)\n",
    "plt.xlabel('Occupation')\n",
    "plt.ylabel('Count')\n",
    "plt.title('Count of Another_Categorical_Variable by Occupation')\n",
    "plt.xticks(rotation=45)\n",
    "plt.legend(title='Another_Categorical_Variable')\n",
    "plt.grid(True)\n",
    "plt.tight_layout()\n",
    "plt.show()"
   ]
  },
  {
   "cell_type": "markdown",
   "metadata": {},
   "source": [
    "### Num_Bank_Accounts"
   ]
  },
  {
   "cell_type": "code",
   "execution_count": 319,
   "metadata": {
    "execution": {
     "iopub.execute_input": "2024-04-20T17:04:26.577262Z",
     "iopub.status.busy": "2024-04-20T17:04:26.576883Z",
     "iopub.status.idle": "2024-04-20T17:04:26.812451Z",
     "shell.execute_reply": "2024-04-20T17:04:26.811355Z",
     "shell.execute_reply.started": "2024-04-20T17:04:26.577233Z"
    },
    "trusted": true
   },
   "outputs": [
    {
     "data": {
      "text/plain": [
       "{'-'}"
      ]
     },
     "execution_count": 319,
     "metadata": {},
     "output_type": "execute_result"
    }
   ],
   "source": [
    "non_numeric_values(df, 'Num_Bank_Accounts')"
   ]
  },
  {
   "cell_type": "code",
   "execution_count": 320,
   "metadata": {
    "execution": {
     "iopub.execute_input": "2024-04-20T17:04:27.272394Z",
     "iopub.status.busy": "2024-04-20T17:04:27.272011Z",
     "iopub.status.idle": "2024-04-20T17:04:27.280479Z",
     "shell.execute_reply": "2024-04-20T17:04:27.279312Z",
     "shell.execute_reply.started": "2024-04-20T17:04:27.272363Z"
    },
    "trusted": true
   },
   "outputs": [
    {
     "data": {
      "text/plain": [
       "16"
      ]
     },
     "execution_count": 320,
     "metadata": {},
     "output_type": "execute_result"
    }
   ],
   "source": [
    "df[df.Num_Bank_Accounts < 0]['Num_Bank_Accounts'].count()"
   ]
  },
  {
   "cell_type": "code",
   "execution_count": 321,
   "metadata": {
    "execution": {
     "iopub.execute_input": "2024-04-20T17:04:27.853884Z",
     "iopub.status.busy": "2024-04-20T17:04:27.853458Z",
     "iopub.status.idle": "2024-04-20T17:04:27.888087Z",
     "shell.execute_reply": "2024-04-20T17:04:27.886899Z",
     "shell.execute_reply.started": "2024-04-20T17:04:27.85385Z"
    },
    "trusted": true
   },
   "outputs": [],
   "source": [
    "df.drop(df[df['Num_Bank_Accounts'] < 0].index, inplace=True)"
   ]
  },
  {
   "cell_type": "code",
   "execution_count": 322,
   "metadata": {
    "execution": {
     "iopub.execute_input": "2024-04-20T17:04:28.477029Z",
     "iopub.status.busy": "2024-04-20T17:04:28.47663Z",
     "iopub.status.idle": "2024-04-20T17:04:28.879783Z",
     "shell.execute_reply": "2024-04-20T17:04:28.878597Z",
     "shell.execute_reply.started": "2024-04-20T17:04:28.477Z"
    },
    "trusted": true
   },
   "outputs": [
    {
     "data": {
      "image/png": "[encoded data removed]",
      "text/plain": [
       "<Figure size 1200x600 with 1 Axes>"
      ]
     },
     "metadata": {},
     "output_type": "display_data"
    }
   ],
   "source": [
    "sns.boxplot(data= df, x = df.Num_Bank_Accounts);"
   ]
  },
  {
   "cell_type": "markdown",
   "metadata": {},
   "source": [
    "### Num_of_Loan"
   ]
  },
  {
   "cell_type": "code",
   "execution_count": 323,
   "metadata": {
    "execution": {
     "iopub.execute_input": "2024-04-20T17:04:29.718371Z",
     "iopub.status.busy": "2024-04-20T17:04:29.717985Z",
     "iopub.status.idle": "2024-04-20T17:04:29.901828Z",
     "shell.execute_reply": "2024-04-20T17:04:29.900682Z",
     "shell.execute_reply.started": "2024-04-20T17:04:29.718339Z"
    },
    "trusted": true
   },
   "outputs": [
    {
     "data": {
      "text/plain": [
       "{'-'}"
      ]
     },
     "execution_count": 323,
     "metadata": {},
     "output_type": "execute_result"
    }
   ],
   "source": [
    "non_numeric_values(df, 'Num_of_Loan')"
   ]
  },
  {
   "cell_type": "code",
   "execution_count": 324,
   "metadata": {
    "execution": {
     "iopub.execute_input": "2024-04-20T17:04:30.378539Z",
     "iopub.status.busy": "2024-04-20T17:04:30.377621Z",
     "iopub.status.idle": "2024-04-20T17:04:30.485727Z",
     "shell.execute_reply": "2024-04-20T17:04:30.484602Z",
     "shell.execute_reply.started": "2024-04-20T17:04:30.378491Z"
    },
    "trusted": true
   },
   "outputs": [
    {
     "data": {
      "text/plain": [
       "array([-100], dtype=int64)"
      ]
     },
     "execution_count": 324,
     "metadata": {},
     "output_type": "execute_result"
    }
   ],
   "source": [
    "df['Num_of_Loan'] = pd.to_numeric(df['Num_of_Loan'], errors='coerce')\n",
    "df[df['Num_of_Loan'] < 0]['Num_of_Loan'].unique()"
   ]
  },
  {
   "cell_type": "code",
   "execution_count": 325,
   "metadata": {
    "execution": {
     "iopub.execute_input": "2024-04-20T17:04:30.913315Z",
     "iopub.status.busy": "2024-04-20T17:04:30.912931Z",
     "iopub.status.idle": "2024-04-20T17:04:30.92305Z",
     "shell.execute_reply": "2024-04-20T17:04:30.921463Z",
     "shell.execute_reply.started": "2024-04-20T17:04:30.913286Z"
    },
    "trusted": true
   },
   "outputs": [
    {
     "data": {
      "text/plain": [
       "array([   4,    1,    3, 1381, -100,    0,    2,    7,    5,    6,    8,\n",
       "          9,  965,  428,   50,  256,  495, 1018,  548, 1470, 1021,  744,\n",
       "        238,  481,  617, 1237,  602,  582, 1225,  717, 1316, 1146, 1009,\n",
       "        660,  505,  335, 1161,  765,  463,  864,  696,   95,  949,  720,\n",
       "        181, 1090, 1048,   42,  385,  814, 1019,  452,  434,   77,  639,\n",
       "        336,  249,  106,  498, 1073, 1259,  899,  769, 1292, 1266, 1365,\n",
       "        114,  810,  994,  992,  828, 1248,  543, 1318, 1416,  919, 1391,\n",
       "         58,  799, 1374,  746, 1487,  731,  445,  286, 1325, 1147,  808,\n",
       "        511,  198, 1445, 1140,  876, 1304,  569,  350, 1221,  608,  621,\n",
       "       1040, 1496,  570, 1063,  741,  230, 1428, 1361,  232, 1475,  653,\n",
       "       1448,  523, 1414,  426, 1308,  647, 1068,  954, 1283,  909,  977,\n",
       "       1333,  700,  486, 1027,  170,  359, 1108,  628, 1284, 1489, 1446,\n",
       "         35,  483,  265,  928,  838, 1109, 1429, 1300,  547, 1385,  950,\n",
       "       1153,  539, 1240,  376,  393,  610,  725, 1481, 1287,  325,   72,\n",
       "       1024, 1072,  220,  478,   53,  368,  551, 1231, 1244,  734,  140,\n",
       "       1329,  255, 1207,  257,  326,  273, 1187,   99, 1149, 1148,  464,\n",
       "        961,  142,  453,  641,   97,  441, 1114,  631,  295,  465,  960,\n",
       "        790,  624,   55,  370,  659,  361,  105, 1189,  813, 1095,  508,\n",
       "        879, 1373,  615,  997,  561,  161,  612,  488,  263,  282,  324,\n",
       "        531,  339, 1057,  757,  343, 1041,  738, 1399,  414,  395, 1175,\n",
       "        663,  135,  910, 1447,  620,  354, 1263,  477,  544, 1134,  770,\n",
       "        204, 1369,  656,  534,  870,  418, 1436, 1352,  594,   25, 1442,\n",
       "        939,  172, 1296], dtype=int64)"
      ]
     },
     "execution_count": 325,
     "metadata": {},
     "output_type": "execute_result"
    }
   ],
   "source": [
    "df['Num_of_Loan'].unique()"
   ]
  },
  {
   "cell_type": "code",
   "execution_count": 326,
   "metadata": {
    "execution": {
     "iopub.execute_input": "2024-04-20T17:04:31.536181Z",
     "iopub.status.busy": "2024-04-20T17:04:31.535732Z",
     "iopub.status.idle": "2024-04-20T17:04:31.549912Z",
     "shell.execute_reply": "2024-04-20T17:04:31.548833Z",
     "shell.execute_reply.started": "2024-04-20T17:04:31.536147Z"
    },
    "trusted": true
   },
   "outputs": [
    {
     "data": {
      "text/plain": [
       "1920"
      ]
     },
     "execution_count": 326,
     "metadata": {},
     "output_type": "execute_result"
    }
   ],
   "source": [
    "df[df['Num_of_Loan'] < 0]['Num_of_Loan'].count() # cannot be negative, dropping them"
   ]
  },
  {
   "cell_type": "code",
   "execution_count": 327,
   "metadata": {
    "execution": {
     "iopub.execute_input": "2024-04-20T17:04:32.165054Z",
     "iopub.status.busy": "2024-04-20T17:04:32.164671Z",
     "iopub.status.idle": "2024-04-20T17:04:32.204639Z",
     "shell.execute_reply": "2024-04-20T17:04:32.203499Z",
     "shell.execute_reply.started": "2024-04-20T17:04:32.165026Z"
    },
    "trusted": true
   },
   "outputs": [
    {
     "data": {
      "text/plain": [
       "(46663, 19)"
      ]
     },
     "execution_count": 327,
     "metadata": {},
     "output_type": "execute_result"
    }
   ],
   "source": [
    "df.drop(df[df['Num_of_Loan'] < 0].index, inplace=True)\n",
    "df.shape"
   ]
  },
  {
   "cell_type": "code",
   "execution_count": 328,
   "metadata": {
    "execution": {
     "iopub.execute_input": "2024-04-20T17:04:32.837022Z",
     "iopub.status.busy": "2024-04-20T17:04:32.836617Z",
     "iopub.status.idle": "2024-04-20T17:04:33.230135Z",
     "shell.execute_reply": "2024-04-20T17:04:33.228971Z",
     "shell.execute_reply.started": "2024-04-20T17:04:32.83699Z"
    },
    "trusted": true
   },
   "outputs": [
    {
     "data": {
      "image/png": "[encoded data removed]",
      "text/plain": [
       "<Figure size 1200x600 with 1 Axes>"
      ]
     },
     "metadata": {},
     "output_type": "display_data"
    }
   ],
   "source": [
    "sns.boxplot(data= df, x = df.Num_of_Loan);"
   ]
  },
  {
   "cell_type": "markdown",
   "metadata": {},
   "source": [
    "### Delay_from_due_date"
   ]
  },
  {
   "cell_type": "code",
   "execution_count": 329,
   "metadata": {
    "execution": {
     "iopub.execute_input": "2024-04-20T17:04:34.044367Z",
     "iopub.status.busy": "2024-04-20T17:04:34.043953Z",
     "iopub.status.idle": "2024-04-20T17:04:34.265577Z",
     "shell.execute_reply": "2024-04-20T17:04:34.264425Z",
     "shell.execute_reply.started": "2024-04-20T17:04:34.044335Z"
    },
    "trusted": true
   },
   "outputs": [
    {
     "data": {
      "text/plain": [
       "{'-'}"
      ]
     },
     "execution_count": 329,
     "metadata": {},
     "output_type": "execute_result"
    }
   ],
   "source": [
    "non_numeric_values(df, 'Delay_from_due_date')"
   ]
  },
  {
   "cell_type": "code",
   "execution_count": 330,
   "metadata": {
    "execution": {
     "iopub.execute_input": "2024-04-20T17:04:34.652041Z",
     "iopub.status.busy": "2024-04-20T17:04:34.651608Z",
     "iopub.status.idle": "2024-04-20T17:04:34.663618Z",
     "shell.execute_reply": "2024-04-20T17:04:34.662186Z",
     "shell.execute_reply.started": "2024-04-20T17:04:34.652006Z"
    },
    "trusted": true
   },
   "outputs": [
    {
     "data": {
      "text/plain": [
       "array([-1, -2, -4, -3, -5], dtype=int64)"
      ]
     },
     "execution_count": 330,
     "metadata": {},
     "output_type": "execute_result"
    }
   ],
   "source": [
    "df[df['Delay_from_due_date'] < 0]['Delay_from_due_date'].unique()  # not possible"
   ]
  },
  {
   "cell_type": "code",
   "execution_count": 331,
   "metadata": {
    "execution": {
     "iopub.execute_input": "2024-04-20T17:04:35.230442Z",
     "iopub.status.busy": "2024-04-20T17:04:35.230023Z",
     "iopub.status.idle": "2024-04-20T17:04:35.238826Z",
     "shell.execute_reply": "2024-04-20T17:04:35.237439Z",
     "shell.execute_reply.started": "2024-04-20T17:04:35.230406Z"
    },
    "trusted": true
   },
   "outputs": [
    {
     "data": {
      "text/plain": [
       "244"
      ]
     },
     "execution_count": 331,
     "metadata": {},
     "output_type": "execute_result"
    }
   ],
   "source": [
    "df['Num_of_Loan'].nunique()"
   ]
  },
  {
   "cell_type": "code",
   "execution_count": 332,
   "metadata": {
    "execution": {
     "iopub.execute_input": "2024-04-20T17:04:35.830525Z",
     "iopub.status.busy": "2024-04-20T17:04:35.8301Z",
     "iopub.status.idle": "2024-04-20T17:04:35.841804Z",
     "shell.execute_reply": "2024-04-20T17:04:35.840488Z",
     "shell.execute_reply.started": "2024-04-20T17:04:35.830492Z"
    },
    "trusted": true
   },
   "outputs": [
    {
     "data": {
      "text/plain": [
       "275"
      ]
     },
     "execution_count": 332,
     "metadata": {},
     "output_type": "execute_result"
    }
   ],
   "source": [
    "df[df['Delay_from_due_date'] < 0]['Delay_from_due_date'].count()"
   ]
  },
  {
   "cell_type": "code",
   "execution_count": 333,
   "metadata": {
    "execution": {
     "iopub.execute_input": "2024-04-20T17:04:36.522095Z",
     "iopub.status.busy": "2024-04-20T17:04:36.521102Z",
     "iopub.status.idle": "2024-04-20T17:04:36.564667Z",
     "shell.execute_reply": "2024-04-20T17:04:36.56351Z",
     "shell.execute_reply.started": "2024-04-20T17:04:36.522048Z"
    },
    "trusted": true
   },
   "outputs": [
    {
     "data": {
      "text/plain": [
       "(46388, 19)"
      ]
     },
     "execution_count": 333,
     "metadata": {},
     "output_type": "execute_result"
    }
   ],
   "source": [
    "df.drop(df[df['Delay_from_due_date'] < 0].index, inplace=True)\n",
    "df.shape"
   ]
  },
  {
   "cell_type": "code",
   "execution_count": 334,
   "metadata": {
    "execution": {
     "iopub.execute_input": "2024-04-20T17:04:37.146762Z",
     "iopub.status.busy": "2024-04-20T17:04:37.146116Z",
     "iopub.status.idle": "2024-04-20T17:04:37.563217Z",
     "shell.execute_reply": "2024-04-20T17:04:37.56173Z",
     "shell.execute_reply.started": "2024-04-20T17:04:37.146729Z"
    },
    "trusted": true
   },
   "outputs": [
    {
     "data": {
      "image/png": "[encoded data removed]",
      "text/plain": [
       "<Figure size 1200x600 with 1 Axes>"
      ]
     },
     "metadata": {},
     "output_type": "display_data"
    }
   ],
   "source": [
    "sns.boxplot(data= df, x = df.Delay_from_due_date);"
   ]
  },
  {
   "cell_type": "markdown",
   "metadata": {},
   "source": [
    "### Num_of_Delayed_Payment"
   ]
  },
  {
   "cell_type": "code",
   "execution_count": 335,
   "metadata": {
    "execution": {
     "iopub.execute_input": "2024-04-20T17:04:38.412984Z",
     "iopub.status.busy": "2024-04-20T17:04:38.412604Z",
     "iopub.status.idle": "2024-04-20T17:04:38.601442Z",
     "shell.execute_reply": "2024-04-20T17:04:38.600319Z",
     "shell.execute_reply.started": "2024-04-20T17:04:38.412954Z"
    },
    "trusted": true
   },
   "outputs": [
    {
     "data": {
      "text/plain": [
       "{'-', 'nan'}"
      ]
     },
     "execution_count": 335,
     "metadata": {},
     "output_type": "execute_result"
    }
   ],
   "source": [
    "non_numeric_values(df, 'Num_of_Delayed_Payment')"
   ]
  },
  {
   "cell_type": "code",
   "execution_count": 336,
   "metadata": {
    "execution": {
     "iopub.execute_input": "2024-04-20T17:04:39.067605Z",
     "iopub.status.busy": "2024-04-20T17:04:39.066857Z",
     "iopub.status.idle": "2024-04-20T17:04:39.161139Z",
     "shell.execute_reply": "2024-04-20T17:04:39.159935Z",
     "shell.execute_reply.started": "2024-04-20T17:04:39.067541Z"
    },
    "trusted": true
   },
   "outputs": [
    {
     "data": {
      "text/plain": [
       "array([-2., -1., -3.])"
      ]
     },
     "execution_count": 336,
     "metadata": {},
     "output_type": "execute_result"
    }
   ],
   "source": [
    "df['Num_of_Delayed_Payment'] = pd.to_numeric(df['Num_of_Delayed_Payment'], errors='coerce')\n",
    "df[df['Num_of_Delayed_Payment'] < 0]['Num_of_Delayed_Payment'].unique()"
   ]
  },
  {
   "cell_type": "code",
   "execution_count": 337,
   "metadata": {
    "execution": {
     "iopub.execute_input": "2024-04-20T17:04:39.828494Z",
     "iopub.status.busy": "2024-04-20T17:04:39.827815Z",
     "iopub.status.idle": "2024-04-20T17:04:39.837692Z",
     "shell.execute_reply": "2024-04-20T17:04:39.836557Z",
     "shell.execute_reply.started": "2024-04-20T17:04:39.828456Z"
    },
    "trusted": true
   },
   "outputs": [
    {
     "data": {
      "text/plain": [
       "262"
      ]
     },
     "execution_count": 337,
     "metadata": {},
     "output_type": "execute_result"
    }
   ],
   "source": [
    "df[df['Num_of_Delayed_Payment'] < 0]['Num_of_Delayed_Payment'].count()"
   ]
  },
  {
   "cell_type": "code",
   "execution_count": 338,
   "metadata": {
    "execution": {
     "iopub.execute_input": "2024-04-20T17:04:40.49437Z",
     "iopub.status.busy": "2024-04-20T17:04:40.493999Z",
     "iopub.status.idle": "2024-04-20T17:04:40.528166Z",
     "shell.execute_reply": "2024-04-20T17:04:40.526957Z",
     "shell.execute_reply.started": "2024-04-20T17:04:40.494341Z"
    },
    "trusted": true
   },
   "outputs": [
    {
     "data": {
      "text/plain": [
       "(46126, 19)"
      ]
     },
     "execution_count": 338,
     "metadata": {},
     "output_type": "execute_result"
    }
   ],
   "source": [
    "df.drop(df[df['Num_of_Delayed_Payment'] < 0].index, inplace=True)\n",
    "df.shape"
   ]
  },
  {
   "cell_type": "code",
   "execution_count": 339,
   "metadata": {
    "execution": {
     "iopub.execute_input": "2024-04-20T17:04:41.1843Z",
     "iopub.status.busy": "2024-04-20T17:04:41.183839Z",
     "iopub.status.idle": "2024-04-20T17:04:41.562659Z",
     "shell.execute_reply": "2024-04-20T17:04:41.561453Z",
     "shell.execute_reply.started": "2024-04-20T17:04:41.184262Z"
    },
    "trusted": true
   },
   "outputs": [
    {
     "data": {
      "image/png": "[encoded data removed]",
      "text/plain": [
       "<Figure size 1200x600 with 1 Axes>"
      ]
     },
     "metadata": {},
     "output_type": "display_data"
    }
   ],
   "source": [
    "sns.boxplot(data= df, x = df['Num_of_Delayed_Payment'].dropna());"
   ]
  },
  {
   "cell_type": "code",
   "execution_count": 340,
   "metadata": {
    "execution": {
     "iopub.execute_input": "2024-04-20T17:04:42.070991Z",
     "iopub.status.busy": "2024-04-20T17:04:42.070565Z",
     "iopub.status.idle": "2024-04-20T17:04:42.083775Z",
     "shell.execute_reply": "2024-04-20T17:04:42.082454Z",
     "shell.execute_reply.started": "2024-04-20T17:04:42.070953Z"
    },
    "trusted": true
   },
   "outputs": [
    {
     "data": {
      "text/plain": [
       "Num_of_Delayed_Payment\n",
       "19.000    2542\n",
       "15.000    2512\n",
       "16.000    2466\n",
       "18.000    2462\n",
       "17.000    2423\n",
       "10.000    2410\n",
       "12.000    2376\n",
       "20.000    2368\n",
       "11.000    2304\n",
       "8.000     2241\n",
       "Name: count, dtype: int64"
      ]
     },
     "execution_count": 340,
     "metadata": {},
     "output_type": "execute_result"
    }
   ],
   "source": [
    "df['Num_of_Delayed_Payment'].value_counts().head(10)"
   ]
  },
  {
   "cell_type": "code",
   "execution_count": 341,
   "metadata": {
    "execution": {
     "iopub.execute_input": "2024-04-20T17:04:42.918047Z",
     "iopub.status.busy": "2024-04-20T17:04:42.9176Z",
     "iopub.status.idle": "2024-04-20T17:04:43.41466Z",
     "shell.execute_reply": "2024-04-20T17:04:43.413327Z",
     "shell.execute_reply.started": "2024-04-20T17:04:42.918011Z"
    },
    "trusted": true
   },
   "outputs": [],
   "source": [
    "from sklearn.impute import KNNImputer\n",
    "\n",
    "def knn_impute_column(df, column_name, n_neighbors=5):\n",
    "    \"\"\"\n",
    "    Fill missing values in a specific column using KNN imputation.\n",
    "\n",
    "    Parameters:\n",
    "    df (DataFrame): The DataFrame containing the column to be imputed.\n",
    "    column_name (str): The name of the column to be imputed.\n",
    "    n_neighbors (int): Number of neighbors to consider for imputation. Default is 5.\n",
    "\n",
    "    Returns:\n",
    "    DataFrame: The DataFrame with missing values in the specified column imputed.\n",
    "    \"\"\"\n",
    "\n",
    "    # Extract the column to be imputed\n",
    "    column_to_impute = df[[column_name]]\n",
    "\n",
    "    # Create an instance of the KNNImputer class\n",
    "    imputer = KNNImputer(n_neighbors=n_neighbors)\n",
    "\n",
    "    # Fit and transform the imputer to fill missing values in the column\n",
    "    column_imputed = imputer.fit_transform(column_to_impute)\n",
    "\n",
    "    # Replace the original column with the imputed values\n",
    "    df[column_name] = column_imputed\n",
    "\n",
    "    return df\n"
   ]
  },
  {
   "cell_type": "code",
   "execution_count": 342,
   "metadata": {
    "execution": {
     "iopub.execute_input": "2024-04-20T17:04:43.875595Z",
     "iopub.status.busy": "2024-04-20T17:04:43.875146Z",
     "iopub.status.idle": "2024-04-20T17:05:07.894633Z",
     "shell.execute_reply": "2024-04-20T17:05:07.893428Z",
     "shell.execute_reply.started": "2024-04-20T17:04:43.875539Z"
    },
    "trusted": true
   },
   "outputs": [],
   "source": [
    "df = knn_impute_column(df, 'Num_of_Delayed_Payment')\n",
    "\n",
    "# to specify the number of neighbors:\n",
    "# df = knn_impute_column(df, 'Num_of_Delayed_Payment', n_neighbors=10)"
   ]
  },
  {
   "cell_type": "code",
   "execution_count": 343,
   "metadata": {
    "execution": {
     "iopub.execute_input": "2024-04-20T17:05:07.896939Z",
     "iopub.status.busy": "2024-04-20T17:05:07.896581Z",
     "iopub.status.idle": "2024-04-20T17:05:07.90532Z",
     "shell.execute_reply": "2024-04-20T17:05:07.904089Z",
     "shell.execute_reply.started": "2024-04-20T17:05:07.896906Z"
    },
    "trusted": true
   },
   "outputs": [
    {
     "data": {
      "text/plain": [
       "0"
      ]
     },
     "execution_count": 343,
     "metadata": {},
     "output_type": "execute_result"
    }
   ],
   "source": [
    "df['Num_of_Delayed_Payment'].isna().sum()"
   ]
  },
  {
   "cell_type": "code",
   "execution_count": 344,
   "metadata": {
    "execution": {
     "iopub.execute_input": "2024-04-20T17:05:07.907084Z",
     "iopub.status.busy": "2024-04-20T17:05:07.906731Z",
     "iopub.status.idle": "2024-04-20T17:05:08.31025Z",
     "shell.execute_reply": "2024-04-20T17:05:08.307954Z",
     "shell.execute_reply.started": "2024-04-20T17:05:07.907055Z"
    },
    "trusted": true
   },
   "outputs": [
    {
     "data": {
      "image/png": "[encoded data removed]",
      "text/plain": [
       "<Figure size 1200x600 with 1 Axes>"
      ]
     },
     "metadata": {},
     "output_type": "display_data"
    }
   ],
   "source": [
    "sns.boxplot(data= df, x = df['Num_of_Delayed_Payment']);"
   ]
  },
  {
   "cell_type": "markdown",
   "metadata": {},
   "source": [
    "### Num_Credit_Inquiries"
   ]
  },
  {
   "cell_type": "code",
   "execution_count": 345,
   "metadata": {
    "execution": {
     "iopub.execute_input": "2024-04-20T17:05:08.313306Z",
     "iopub.status.busy": "2024-04-20T17:05:08.31289Z",
     "iopub.status.idle": "2024-04-20T17:05:08.616967Z",
     "shell.execute_reply": "2024-04-20T17:05:08.615804Z",
     "shell.execute_reply.started": "2024-04-20T17:05:08.313272Z"
    },
    "trusted": true
   },
   "outputs": [
    {
     "data": {
      "text/plain": [
       "{'.', 'nan'}"
      ]
     },
     "execution_count": 345,
     "metadata": {},
     "output_type": "execute_result"
    }
   ],
   "source": [
    "non_numeric_values(df, 'Num_Credit_Inquiries')"
   ]
  },
  {
   "cell_type": "code",
   "execution_count": 346,
   "metadata": {
    "execution": {
     "iopub.execute_input": "2024-04-20T17:05:08.618734Z",
     "iopub.status.busy": "2024-04-20T17:05:08.618365Z",
     "iopub.status.idle": "2024-04-20T17:05:08.628149Z",
     "shell.execute_reply": "2024-04-20T17:05:08.626913Z",
     "shell.execute_reply.started": "2024-04-20T17:05:08.618705Z"
    },
    "trusted": true
   },
   "outputs": [
    {
     "data": {
      "text/plain": [
       "array([], dtype=float64)"
      ]
     },
     "execution_count": 346,
     "metadata": {},
     "output_type": "execute_result"
    }
   ],
   "source": [
    "df[df['Num_Credit_Inquiries'] < 0]['Num_Credit_Inquiries'].unique()"
   ]
  },
  {
   "cell_type": "code",
   "execution_count": 347,
   "metadata": {
    "execution": {
     "iopub.execute_input": "2024-04-20T17:06:43.146178Z",
     "iopub.status.busy": "2024-04-20T17:06:43.145687Z",
     "iopub.status.idle": "2024-04-20T17:06:43.543616Z",
     "shell.execute_reply": "2024-04-20T17:06:43.542423Z",
     "shell.execute_reply.started": "2024-04-20T17:06:43.146138Z"
    },
    "trusted": true
   },
   "outputs": [
    {
     "data": {
      "image/png": "[encoded data removed]",
      "text/plain": [
       "<Figure size 1200x600 with 1 Axes>"
      ]
     },
     "metadata": {},
     "output_type": "display_data"
    }
   ],
   "source": [
    "sns.boxplot(data= df, x = df['Num_Credit_Inquiries'].dropna());"
   ]
  },
  {
   "cell_type": "code",
   "execution_count": 348,
   "metadata": {
    "execution": {
     "iopub.execute_input": "2024-04-20T17:06:47.220484Z",
     "iopub.status.busy": "2024-04-20T17:06:47.220072Z",
     "iopub.status.idle": "2024-04-20T17:06:47.229252Z",
     "shell.execute_reply": "2024-04-20T17:06:47.227826Z",
     "shell.execute_reply.started": "2024-04-20T17:06:47.220455Z"
    },
    "trusted": true
   },
   "outputs": [
    {
     "data": {
      "text/plain": [
       "964"
      ]
     },
     "execution_count": 348,
     "metadata": {},
     "output_type": "execute_result"
    }
   ],
   "source": [
    "df['Num_Credit_Inquiries'].isna().sum()"
   ]
  },
  {
   "cell_type": "code",
   "execution_count": 349,
   "metadata": {
    "execution": {
     "iopub.execute_input": "2024-04-20T17:06:47.8248Z",
     "iopub.status.busy": "2024-04-20T17:06:47.82439Z",
     "iopub.status.idle": "2024-04-20T17:06:47.832986Z",
     "shell.execute_reply": "2024-04-20T17:06:47.831884Z",
     "shell.execute_reply.started": "2024-04-20T17:06:47.824769Z"
    },
    "trusted": true
   },
   "outputs": [
    {
     "data": {
      "text/plain": [
       "700"
      ]
     },
     "execution_count": 349,
     "metadata": {},
     "output_type": "execute_result"
    }
   ],
   "source": [
    "df['Num_Credit_Inquiries'].nunique()"
   ]
  },
  {
   "cell_type": "code",
   "execution_count": 350,
   "metadata": {
    "execution": {
     "iopub.execute_input": "2024-04-20T17:06:48.478715Z",
     "iopub.status.busy": "2024-04-20T17:06:48.478311Z",
     "iopub.status.idle": "2024-04-20T17:06:48.489203Z",
     "shell.execute_reply": "2024-04-20T17:06:48.487922Z",
     "shell.execute_reply.started": "2024-04-20T17:06:48.478684Z"
    },
    "trusted": true
   },
   "outputs": [
    {
     "data": {
      "text/plain": [
       "Num_Credit_Inquiries\n",
       "5.000     4310\n",
       "6.000     4072\n",
       "4.000     4022\n",
       "7.000     3972\n",
       "8.000     3613\n",
       "9.000     3288\n",
       "3.000     3131\n",
       "11.000    2784\n",
       "10.000    2765\n",
       "12.000    2426\n",
       "Name: count, dtype: int64"
      ]
     },
     "execution_count": 350,
     "metadata": {},
     "output_type": "execute_result"
    }
   ],
   "source": [
    "df['Num_Credit_Inquiries'].value_counts().head(10)"
   ]
  },
  {
   "cell_type": "code",
   "execution_count": 351,
   "metadata": {
    "execution": {
     "iopub.execute_input": "2024-04-20T17:06:49.119524Z",
     "iopub.status.busy": "2024-04-20T17:06:49.119042Z",
     "iopub.status.idle": "2024-04-20T17:06:55.814256Z",
     "shell.execute_reply": "2024-04-20T17:06:55.813143Z",
     "shell.execute_reply.started": "2024-04-20T17:06:49.119488Z"
    },
    "trusted": true
   },
   "outputs": [
    {
     "data": {
      "text/plain": [
       "0"
      ]
     },
     "execution_count": 351,
     "metadata": {},
     "output_type": "execute_result"
    }
   ],
   "source": [
    "df = knn_impute_column(df, 'Num_Credit_Inquiries')\n",
    "df['Num_Credit_Inquiries'].isna().sum()"
   ]
  },
  {
   "cell_type": "code",
   "execution_count": 352,
   "metadata": {
    "execution": {
     "iopub.execute_input": "2024-04-20T17:06:55.816948Z",
     "iopub.status.busy": "2024-04-20T17:06:55.816345Z",
     "iopub.status.idle": "2024-04-20T17:06:56.222588Z",
     "shell.execute_reply": "2024-04-20T17:06:56.221438Z",
     "shell.execute_reply.started": "2024-04-20T17:06:55.816909Z"
    },
    "trusted": true
   },
   "outputs": [
    {
     "data": {
      "image/png": "[encoded data removed]",
      "text/plain": [
       "<Figure size 1200x600 with 1 Axes>"
      ]
     },
     "metadata": {},
     "output_type": "display_data"
    }
   ],
   "source": [
    "sns.boxplot(data= df, x = df['Num_Credit_Inquiries']);"
   ]
  },
  {
   "cell_type": "markdown",
   "metadata": {},
   "source": [
    "### Credit_Mix"
   ]
  },
  {
   "cell_type": "code",
   "execution_count": 353,
   "metadata": {
    "execution": {
     "iopub.execute_input": "2024-04-20T17:11:01.568992Z",
     "iopub.status.busy": "2024-04-20T17:11:01.568433Z",
     "iopub.status.idle": "2024-04-20T17:11:01.59316Z",
     "shell.execute_reply": "2024-04-20T17:11:01.592003Z",
     "shell.execute_reply.started": "2024-04-20T17:11:01.56894Z"
    },
    "trusted": true
   },
   "outputs": [
    {
     "data": {
      "text/plain": [
       "Credit_Mix\n",
       "Standard    17143\n",
       "Good        11020\n",
       "Bad          8900\n",
       "Name: count, dtype: int64"
      ]
     },
     "execution_count": 353,
     "metadata": {},
     "output_type": "execute_result"
    }
   ],
   "source": [
    "df.Credit_Mix.value_counts()"
   ]
  },
  {
   "cell_type": "code",
   "execution_count": 354,
   "metadata": {
    "execution": {
     "iopub.execute_input": "2024-04-20T17:11:02.25415Z",
     "iopub.status.busy": "2024-04-20T17:11:02.253663Z",
     "iopub.status.idle": "2024-04-20T17:11:02.271219Z",
     "shell.execute_reply": "2024-04-20T17:11:02.270388Z",
     "shell.execute_reply.started": "2024-04-20T17:11:02.254114Z"
    },
    "trusted": true
   },
   "outputs": [
    {
     "data": {
      "text/plain": [
       "9063"
      ]
     },
     "execution_count": 354,
     "metadata": {},
     "output_type": "execute_result"
    }
   ],
   "source": [
    "df.Credit_Mix.isna().sum()"
   ]
  },
  {
   "cell_type": "code",
   "execution_count": 355,
   "metadata": {
    "execution": {
     "iopub.execute_input": "2024-04-20T17:11:02.845224Z",
     "iopub.status.busy": "2024-04-20T17:11:02.844842Z",
     "iopub.status.idle": "2024-04-20T17:11:02.867307Z",
     "shell.execute_reply": "2024-04-20T17:11:02.866054Z",
     "shell.execute_reply.started": "2024-04-20T17:11:02.845196Z"
    },
    "trusted": true
   },
   "outputs": [
    {
     "data": {
      "text/plain": [
       "0           Good\n",
       "1           Good\n",
       "3           Good\n",
       "4           Good\n",
       "5           Good\n",
       "          ...   \n",
       "49994        Bad\n",
       "49996       Good\n",
       "49997       Good\n",
       "49998       Good\n",
       "49999    Unknown\n",
       "Name: Credit_Mix, Length: 46126, dtype: object"
      ]
     },
     "execution_count": 355,
     "metadata": {},
     "output_type": "execute_result"
    }
   ],
   "source": [
    "# Fill null values in 'Credit_Mix' with 'Unknown'\n",
    "df['Credit_Mix'].fillna('Unknown', inplace=True)\n",
    "\n",
    "df['Credit_Mix'].astype('object')"
   ]
  },
  {
   "cell_type": "code",
   "execution_count": 356,
   "metadata": {
    "execution": {
     "iopub.execute_input": "2024-04-20T17:11:03.448838Z",
     "iopub.status.busy": "2024-04-20T17:11:03.448176Z",
     "iopub.status.idle": "2024-04-20T17:11:03.473379Z",
     "shell.execute_reply": "2024-04-20T17:11:03.472079Z",
     "shell.execute_reply.started": "2024-04-20T17:11:03.448804Z"
    },
    "trusted": true
   },
   "outputs": [
    {
     "data": {
      "text/plain": [
       "Credit_Mix\n",
       "Standard    17143\n",
       "Good        11020\n",
       "Unknown      9063\n",
       "Bad          8900\n",
       "Name: count, dtype: int64"
      ]
     },
     "execution_count": 356,
     "metadata": {},
     "output_type": "execute_result"
    }
   ],
   "source": [
    "df.Credit_Mix.value_counts()"
   ]
  },
  {
   "cell_type": "markdown",
   "metadata": {},
   "source": [
    "### Credit_History_Age"
   ]
  },
  {
   "cell_type": "code",
   "execution_count": 357,
   "metadata": {
    "execution": {
     "iopub.execute_input": "2024-04-20T17:11:04.546311Z",
     "iopub.status.busy": "2024-04-20T17:11:04.545867Z",
     "iopub.status.idle": "2024-04-20T17:11:04.572664Z",
     "shell.execute_reply": "2024-04-20T17:11:04.571399Z",
     "shell.execute_reply.started": "2024-04-20T17:11:04.546276Z"
    },
    "trusted": true
   },
   "outputs": [
    {
     "data": {
      "text/plain": [
       "Credit_History_Age\n",
       "20 Years and 1 Months     241\n",
       "18 Years and 6 Months     232\n",
       "19 Years and 7 Months     231\n",
       "16 Years and 6 Months     231\n",
       "16 Years and 1 Months     231\n",
       "                         ... \n",
       "4 Years and 5 Months       19\n",
       "0 Years and 11 Months      15\n",
       "33 Years and 11 Months     14\n",
       "34 Years and 0 Months      13\n",
       "0 Years and 10 Months      11\n",
       "Name: count, Length: 399, dtype: int64"
      ]
     },
     "execution_count": 357,
     "metadata": {},
     "output_type": "execute_result"
    }
   ],
   "source": [
    "df['Credit_History_Age'].value_counts()"
   ]
  },
  {
   "cell_type": "code",
   "execution_count": 358,
   "metadata": {
    "execution": {
     "iopub.execute_input": "2024-04-20T17:11:05.119478Z",
     "iopub.status.busy": "2024-04-20T17:11:05.119089Z",
     "iopub.status.idle": "2024-04-20T17:11:05.138608Z",
     "shell.execute_reply": "2024-04-20T17:11:05.137484Z",
     "shell.execute_reply.started": "2024-04-20T17:11:05.119449Z"
    },
    "trusted": true
   },
   "outputs": [
    {
     "data": {
      "text/plain": [
       "4135"
      ]
     },
     "execution_count": 358,
     "metadata": {},
     "output_type": "execute_result"
    }
   ],
   "source": [
    "df['Credit_History_Age'].isna().sum()"
   ]
  },
  {
   "cell_type": "code",
   "execution_count": 359,
   "metadata": {
    "execution": {
     "iopub.execute_input": "2024-04-20T17:11:05.630569Z",
     "iopub.status.busy": "2024-04-20T17:11:05.630148Z",
     "iopub.status.idle": "2024-04-20T17:11:05.692868Z",
     "shell.execute_reply": "2024-04-20T17:11:05.691441Z",
     "shell.execute_reply.started": "2024-04-20T17:11:05.630519Z"
    },
    "trusted": true
   },
   "outputs": [],
   "source": [
    "# Group by 'Credit_Mix' and calculate mode for 'Credit_History_Age' within each group\n",
    "mode_by_credit_mix = df.groupby('Credit_Mix')['Credit_History_Age'].transform(lambda x: x.mode()[0])\n",
    "\n",
    "# Fill NaN values in 'Credit_History_Age' with the mode for each group\n",
    "df['Credit_History_Age'].fillna(mode_by_credit_mix, inplace=True)\n"
   ]
  },
  {
   "cell_type": "code",
   "execution_count": 360,
   "metadata": {
    "execution": {
     "iopub.execute_input": "2024-04-20T17:11:06.204237Z",
     "iopub.status.busy": "2024-04-20T17:11:06.203374Z",
     "iopub.status.idle": "2024-04-20T17:11:06.222798Z",
     "shell.execute_reply": "2024-04-20T17:11:06.221633Z",
     "shell.execute_reply.started": "2024-04-20T17:11:06.204195Z"
    },
    "trusted": true
   },
   "outputs": [
    {
     "data": {
      "text/plain": [
       "0"
      ]
     },
     "execution_count": 360,
     "metadata": {},
     "output_type": "execute_result"
    }
   ],
   "source": [
    "df['Credit_History_Age'].isna().sum()"
   ]
  },
  {
   "cell_type": "code",
   "execution_count": 361,
   "metadata": {
    "execution": {
     "iopub.execute_input": "2024-04-20T17:11:06.754417Z",
     "iopub.status.busy": "2024-04-20T17:11:06.75401Z",
     "iopub.status.idle": "2024-04-20T17:11:06.780518Z",
     "shell.execute_reply": "2024-04-20T17:11:06.779125Z",
     "shell.execute_reply.started": "2024-04-20T17:11:06.754388Z"
    },
    "trusted": true
   },
   "outputs": [
    {
     "data": {
      "text/plain": [
       "Credit_History_Age\n",
       "19 Years and 1 Months     1739\n",
       "18 Years and 7 Months     1190\n",
       "19 Years and 7 Months     1061\n",
       "14 Years and 1 Months      986\n",
       "20 Years and 1 Months      241\n",
       "                          ... \n",
       "4 Years and 5 Months        19\n",
       "0 Years and 11 Months       15\n",
       "33 Years and 11 Months      14\n",
       "34 Years and 0 Months       13\n",
       "0 Years and 10 Months       11\n",
       "Name: count, Length: 399, dtype: int64"
      ]
     },
     "execution_count": 361,
     "metadata": {},
     "output_type": "execute_result"
    }
   ],
   "source": [
    "df['Credit_History_Age'].value_counts()"
   ]
  },
  {
   "cell_type": "code",
   "execution_count": 362,
   "metadata": {
    "execution": {
     "iopub.execute_input": "2024-04-20T17:11:07.242824Z",
     "iopub.status.busy": "2024-04-20T17:11:07.242388Z",
     "iopub.status.idle": "2024-04-20T17:11:08.00604Z",
     "shell.execute_reply": "2024-04-20T17:11:08.004816Z",
     "shell.execute_reply.started": "2024-04-20T17:11:07.242795Z"
    },
    "trusted": true
   },
   "outputs": [
    {
     "data": {
      "text/html": [
       "<div>\n",
       "<style scoped>\n",
       "    .dataframe tbody tr th:only-of-type {\n",
       "        vertical-align: middle;\n",
       "    }\n",
       "\n",
       "    .dataframe tbody tr th {\n",
       "        vertical-align: top;\n",
       "    }\n",
       "\n",
       "    .dataframe thead th {\n",
       "        text-align: right;\n",
       "    }\n",
       "</style>\n",
       "<table border=\"1\" class=\"dataframe\">\n",
       "  <thead>\n",
       "    <tr style=\"text-align: right;\">\n",
       "      <th></th>\n",
       "      <th>Age</th>\n",
       "      <th>Occupation</th>\n",
       "      <th>Annual_Income</th>\n",
       "      <th>Num_Bank_Accounts</th>\n",
       "      <th>Num_Credit_Card</th>\n",
       "      <th>Interest_Rate</th>\n",
       "      <th>Num_of_Loan</th>\n",
       "      <th>Delay_from_due_date</th>\n",
       "      <th>Num_of_Delayed_Payment</th>\n",
       "      <th>Num_Credit_Inquiries</th>\n",
       "      <th>Credit_Mix</th>\n",
       "      <th>Outstanding_Debt</th>\n",
       "      <th>Credit_Utilization_Ratio</th>\n",
       "      <th>Payment_of_Min_Amount</th>\n",
       "      <th>Total_EMI_per_month</th>\n",
       "      <th>Amount_invested_monthly</th>\n",
       "      <th>Payment_Behaviour</th>\n",
       "      <th>Monthly_Balance</th>\n",
       "      <th>Credit_History_Years</th>\n",
       "      <th>Credit_History_Months</th>\n",
       "    </tr>\n",
       "  </thead>\n",
       "  <tbody>\n",
       "    <tr>\n",
       "      <th>0</th>\n",
       "      <td>23</td>\n",
       "      <td>Scientist</td>\n",
       "      <td>19114.12</td>\n",
       "      <td>3</td>\n",
       "      <td>4</td>\n",
       "      <td>3</td>\n",
       "      <td>4</td>\n",
       "      <td>3</td>\n",
       "      <td>7.000</td>\n",
       "      <td>2022.000</td>\n",
       "      <td>Good</td>\n",
       "      <td>809.98</td>\n",
       "      <td>35.030</td>\n",
       "      <td>No</td>\n",
       "      <td>49.575</td>\n",
       "      <td>236.64268203272135</td>\n",
       "      <td>LowspentSmallvaluepayments</td>\n",
       "      <td>186.26670208571772</td>\n",
       "      <td>22</td>\n",
       "      <td>9</td>\n",
       "    </tr>\n",
       "    <tr>\n",
       "      <th>1</th>\n",
       "      <td>24</td>\n",
       "      <td>Scientist</td>\n",
       "      <td>19114.12</td>\n",
       "      <td>3</td>\n",
       "      <td>4</td>\n",
       "      <td>3</td>\n",
       "      <td>4</td>\n",
       "      <td>3</td>\n",
       "      <td>9.000</td>\n",
       "      <td>4.000</td>\n",
       "      <td>Good</td>\n",
       "      <td>809.98</td>\n",
       "      <td>33.053</td>\n",
       "      <td>No</td>\n",
       "      <td>49.575</td>\n",
       "      <td>21.465380264657146</td>\n",
       "      <td>HighspentMediumvaluepayments</td>\n",
       "      <td>361.44400385378196</td>\n",
       "      <td>22</td>\n",
       "      <td>10</td>\n",
       "    </tr>\n",
       "    <tr>\n",
       "      <th>3</th>\n",
       "      <td>24</td>\n",
       "      <td>Scientist</td>\n",
       "      <td>19114.12</td>\n",
       "      <td>3</td>\n",
       "      <td>4</td>\n",
       "      <td>3</td>\n",
       "      <td>4</td>\n",
       "      <td>4</td>\n",
       "      <td>5.000</td>\n",
       "      <td>4.000</td>\n",
       "      <td>Good</td>\n",
       "      <td>809.98</td>\n",
       "      <td>32.431</td>\n",
       "      <td>No</td>\n",
       "      <td>49.575</td>\n",
       "      <td>39.08251089460281</td>\n",
       "      <td>HighspentMediumvaluepayments</td>\n",
       "      <td>343.82687322383634</td>\n",
       "      <td>23</td>\n",
       "      <td>0</td>\n",
       "    </tr>\n",
       "    <tr>\n",
       "      <th>4</th>\n",
       "      <td>28</td>\n",
       "      <td>Other</td>\n",
       "      <td>34847.84</td>\n",
       "      <td>2</td>\n",
       "      <td>4</td>\n",
       "      <td>6</td>\n",
       "      <td>1</td>\n",
       "      <td>3</td>\n",
       "      <td>1.000</td>\n",
       "      <td>5.000</td>\n",
       "      <td>Good</td>\n",
       "      <td>605.03</td>\n",
       "      <td>25.927</td>\n",
       "      <td>No</td>\n",
       "      <td>18.816</td>\n",
       "      <td>39.684018417945296</td>\n",
       "      <td>HighspentLargevaluepayments</td>\n",
       "      <td>485.2984336755923</td>\n",
       "      <td>27</td>\n",
       "      <td>3</td>\n",
       "    </tr>\n",
       "    <tr>\n",
       "      <th>5</th>\n",
       "      <td>28</td>\n",
       "      <td>Teacher</td>\n",
       "      <td>34847.84</td>\n",
       "      <td>2</td>\n",
       "      <td>4</td>\n",
       "      <td>6</td>\n",
       "      <td>1</td>\n",
       "      <td>3</td>\n",
       "      <td>3.000</td>\n",
       "      <td>5.000</td>\n",
       "      <td>Good</td>\n",
       "      <td>605.03</td>\n",
       "      <td>30.117</td>\n",
       "      <td>No</td>\n",
       "      <td>18.816</td>\n",
       "      <td>251.62736875017606</td>\n",
       "      <td>LowspentLargevaluepayments</td>\n",
       "      <td>303.3550833433617</td>\n",
       "      <td>27</td>\n",
       "      <td>4</td>\n",
       "    </tr>\n",
       "  </tbody>\n",
       "</table>\n",
       "</div>"
      ],
      "text/plain": [
       "   Age Occupation Annual_Income  Num_Bank_Accounts  Num_Credit_Card  \\\n",
       "0   23  Scientist      19114.12                  3                4   \n",
       "1   24  Scientist      19114.12                  3                4   \n",
       "3   24  Scientist      19114.12                  3                4   \n",
       "4   28      Other      34847.84                  2                4   \n",
       "5   28    Teacher      34847.84                  2                4   \n",
       "\n",
       "   Interest_Rate  Num_of_Loan  Delay_from_due_date  Num_of_Delayed_Payment  \\\n",
       "0              3            4                    3                   7.000   \n",
       "1              3            4                    3                   9.000   \n",
       "3              3            4                    4                   5.000   \n",
       "4              6            1                    3                   1.000   \n",
       "5              6            1                    3                   3.000   \n",
       "\n",
       "   Num_Credit_Inquiries Credit_Mix Outstanding_Debt  Credit_Utilization_Ratio  \\\n",
       "0              2022.000       Good           809.98                    35.030   \n",
       "1                 4.000       Good           809.98                    33.053   \n",
       "3                 4.000       Good           809.98                    32.431   \n",
       "4                 5.000       Good           605.03                    25.927   \n",
       "5                 5.000       Good           605.03                    30.117   \n",
       "\n",
       "  Payment_of_Min_Amount  Total_EMI_per_month Amount_invested_monthly  \\\n",
       "0                    No               49.575      236.64268203272135   \n",
       "1                    No               49.575      21.465380264657146   \n",
       "3                    No               49.575       39.08251089460281   \n",
       "4                    No               18.816      39.684018417945296   \n",
       "5                    No               18.816      251.62736875017606   \n",
       "\n",
       "              Payment_Behaviour     Monthly_Balance  Credit_History_Years  \\\n",
       "0    LowspentSmallvaluepayments  186.26670208571772                    22   \n",
       "1  HighspentMediumvaluepayments  361.44400385378196                    22   \n",
       "3  HighspentMediumvaluepayments  343.82687322383634                    23   \n",
       "4   HighspentLargevaluepayments   485.2984336755923                    27   \n",
       "5    LowspentLargevaluepayments   303.3550833433617                    27   \n",
       "\n",
       "   Credit_History_Months  \n",
       "0                      9  \n",
       "1                     10  \n",
       "3                      0  \n",
       "4                      3  \n",
       "5                      4  "
      ]
     },
     "execution_count": 362,
     "metadata": {},
     "output_type": "execute_result"
    }
   ],
   "source": [
    "# Extract years and months from 'Credit_History_Age' column\n",
    "df['Credit_History_Years'] = df['Credit_History_Age'].str.extract(r'(\\d+) Years').astype(int)\n",
    "df['Credit_History_Months'] = df['Credit_History_Age'].str.extract(r'(\\d+) Months').astype(int)\n",
    "\n",
    "df.drop(columns=['Credit_History_Age'], inplace=True)\n",
    "\n",
    "df.head()"
   ]
  },
  {
   "cell_type": "code",
   "execution_count": 363,
   "metadata": {
    "execution": {
     "iopub.execute_input": "2024-04-20T17:11:08.008755Z",
     "iopub.status.busy": "2024-04-20T17:11:08.008255Z",
     "iopub.status.idle": "2024-04-20T17:11:08.044811Z",
     "shell.execute_reply": "2024-04-20T17:11:08.043625Z",
     "shell.execute_reply.started": "2024-04-20T17:11:08.008711Z"
    },
    "trusted": true
   },
   "outputs": [
    {
     "data": {
      "text/html": [
       "<div>\n",
       "<style scoped>\n",
       "    .dataframe tbody tr th:only-of-type {\n",
       "        vertical-align: middle;\n",
       "    }\n",
       "\n",
       "    .dataframe tbody tr th {\n",
       "        vertical-align: top;\n",
       "    }\n",
       "\n",
       "    .dataframe thead th {\n",
       "        text-align: right;\n",
       "    }\n",
       "</style>\n",
       "<table border=\"1\" class=\"dataframe\">\n",
       "  <thead>\n",
       "    <tr style=\"text-align: right;\">\n",
       "      <th></th>\n",
       "      <th>Age</th>\n",
       "      <th>Occupation</th>\n",
       "      <th>Annual_Income</th>\n",
       "      <th>Num_Bank_Accounts</th>\n",
       "      <th>Num_Credit_Card</th>\n",
       "      <th>Interest_Rate</th>\n",
       "      <th>Num_of_Loan</th>\n",
       "      <th>Delay_from_due_date</th>\n",
       "      <th>Num_of_Delayed_Payment</th>\n",
       "      <th>Num_Credit_Inquiries</th>\n",
       "      <th>Credit_Mix</th>\n",
       "      <th>Outstanding_Debt</th>\n",
       "      <th>Credit_Utilization_Ratio</th>\n",
       "      <th>Payment_of_Min_Amount</th>\n",
       "      <th>Total_EMI_per_month</th>\n",
       "      <th>Amount_invested_monthly</th>\n",
       "      <th>Payment_Behaviour</th>\n",
       "      <th>Monthly_Balance</th>\n",
       "      <th>Credit_History_Age_Months</th>\n",
       "    </tr>\n",
       "  </thead>\n",
       "  <tbody>\n",
       "    <tr>\n",
       "      <th>0</th>\n",
       "      <td>23</td>\n",
       "      <td>Scientist</td>\n",
       "      <td>19114.12</td>\n",
       "      <td>3</td>\n",
       "      <td>4</td>\n",
       "      <td>3</td>\n",
       "      <td>4</td>\n",
       "      <td>3</td>\n",
       "      <td>7.000</td>\n",
       "      <td>2022.000</td>\n",
       "      <td>Good</td>\n",
       "      <td>809.98</td>\n",
       "      <td>35.030</td>\n",
       "      <td>No</td>\n",
       "      <td>49.575</td>\n",
       "      <td>236.64268203272135</td>\n",
       "      <td>LowspentSmallvaluepayments</td>\n",
       "      <td>186.26670208571772</td>\n",
       "      <td>273</td>\n",
       "    </tr>\n",
       "    <tr>\n",
       "      <th>1</th>\n",
       "      <td>24</td>\n",
       "      <td>Scientist</td>\n",
       "      <td>19114.12</td>\n",
       "      <td>3</td>\n",
       "      <td>4</td>\n",
       "      <td>3</td>\n",
       "      <td>4</td>\n",
       "      <td>3</td>\n",
       "      <td>9.000</td>\n",
       "      <td>4.000</td>\n",
       "      <td>Good</td>\n",
       "      <td>809.98</td>\n",
       "      <td>33.053</td>\n",
       "      <td>No</td>\n",
       "      <td>49.575</td>\n",
       "      <td>21.465380264657146</td>\n",
       "      <td>HighspentMediumvaluepayments</td>\n",
       "      <td>361.44400385378196</td>\n",
       "      <td>274</td>\n",
       "    </tr>\n",
       "    <tr>\n",
       "      <th>3</th>\n",
       "      <td>24</td>\n",
       "      <td>Scientist</td>\n",
       "      <td>19114.12</td>\n",
       "      <td>3</td>\n",
       "      <td>4</td>\n",
       "      <td>3</td>\n",
       "      <td>4</td>\n",
       "      <td>4</td>\n",
       "      <td>5.000</td>\n",
       "      <td>4.000</td>\n",
       "      <td>Good</td>\n",
       "      <td>809.98</td>\n",
       "      <td>32.431</td>\n",
       "      <td>No</td>\n",
       "      <td>49.575</td>\n",
       "      <td>39.08251089460281</td>\n",
       "      <td>HighspentMediumvaluepayments</td>\n",
       "      <td>343.82687322383634</td>\n",
       "      <td>276</td>\n",
       "    </tr>\n",
       "    <tr>\n",
       "      <th>4</th>\n",
       "      <td>28</td>\n",
       "      <td>Other</td>\n",
       "      <td>34847.84</td>\n",
       "      <td>2</td>\n",
       "      <td>4</td>\n",
       "      <td>6</td>\n",
       "      <td>1</td>\n",
       "      <td>3</td>\n",
       "      <td>1.000</td>\n",
       "      <td>5.000</td>\n",
       "      <td>Good</td>\n",
       "      <td>605.03</td>\n",
       "      <td>25.927</td>\n",
       "      <td>No</td>\n",
       "      <td>18.816</td>\n",
       "      <td>39.684018417945296</td>\n",
       "      <td>HighspentLargevaluepayments</td>\n",
       "      <td>485.2984336755923</td>\n",
       "      <td>327</td>\n",
       "    </tr>\n",
       "    <tr>\n",
       "      <th>5</th>\n",
       "      <td>28</td>\n",
       "      <td>Teacher</td>\n",
       "      <td>34847.84</td>\n",
       "      <td>2</td>\n",
       "      <td>4</td>\n",
       "      <td>6</td>\n",
       "      <td>1</td>\n",
       "      <td>3</td>\n",
       "      <td>3.000</td>\n",
       "      <td>5.000</td>\n",
       "      <td>Good</td>\n",
       "      <td>605.03</td>\n",
       "      <td>30.117</td>\n",
       "      <td>No</td>\n",
       "      <td>18.816</td>\n",
       "      <td>251.62736875017606</td>\n",
       "      <td>LowspentLargevaluepayments</td>\n",
       "      <td>303.3550833433617</td>\n",
       "      <td>328</td>\n",
       "    </tr>\n",
       "  </tbody>\n",
       "</table>\n",
       "</div>"
      ],
      "text/plain": [
       "   Age Occupation Annual_Income  Num_Bank_Accounts  Num_Credit_Card  \\\n",
       "0   23  Scientist      19114.12                  3                4   \n",
       "1   24  Scientist      19114.12                  3                4   \n",
       "3   24  Scientist      19114.12                  3                4   \n",
       "4   28      Other      34847.84                  2                4   \n",
       "5   28    Teacher      34847.84                  2                4   \n",
       "\n",
       "   Interest_Rate  Num_of_Loan  Delay_from_due_date  Num_of_Delayed_Payment  \\\n",
       "0              3            4                    3                   7.000   \n",
       "1              3            4                    3                   9.000   \n",
       "3              3            4                    4                   5.000   \n",
       "4              6            1                    3                   1.000   \n",
       "5              6            1                    3                   3.000   \n",
       "\n",
       "   Num_Credit_Inquiries Credit_Mix Outstanding_Debt  Credit_Utilization_Ratio  \\\n",
       "0              2022.000       Good           809.98                    35.030   \n",
       "1                 4.000       Good           809.98                    33.053   \n",
       "3                 4.000       Good           809.98                    32.431   \n",
       "4                 5.000       Good           605.03                    25.927   \n",
       "5                 5.000       Good           605.03                    30.117   \n",
       "\n",
       "  Payment_of_Min_Amount  Total_EMI_per_month Amount_invested_monthly  \\\n",
       "0                    No               49.575      236.64268203272135   \n",
       "1                    No               49.575      21.465380264657146   \n",
       "3                    No               49.575       39.08251089460281   \n",
       "4                    No               18.816      39.684018417945296   \n",
       "5                    No               18.816      251.62736875017606   \n",
       "\n",
       "              Payment_Behaviour     Monthly_Balance  Credit_History_Age_Months  \n",
       "0    LowspentSmallvaluepayments  186.26670208571772                        273  \n",
       "1  HighspentMediumvaluepayments  361.44400385378196                        274  \n",
       "3  HighspentMediumvaluepayments  343.82687322383634                        276  \n",
       "4   HighspentLargevaluepayments   485.2984336755923                        327  \n",
       "5    LowspentLargevaluepayments   303.3550833433617                        328  "
      ]
     },
     "execution_count": 363,
     "metadata": {},
     "output_type": "execute_result"
    }
   ],
   "source": [
    "# Convert years to months and add with months to get total months\n",
    "df['Credit_History_Age_Months'] = df['Credit_History_Years'] * 12 + df['Credit_History_Months']\n",
    "\n",
    "# Drop the 'Credit_History_Years' and 'Credit_History_Months' columns\n",
    "df.drop(columns=['Credit_History_Years', 'Credit_History_Months'], inplace=True)\n",
    "\n",
    "df.head()"
   ]
  },
  {
   "cell_type": "markdown",
   "metadata": {},
   "source": [
    "### Payment_of_Min_Amount"
   ]
  },
  {
   "cell_type": "code",
   "execution_count": 364,
   "metadata": {
    "execution": {
     "iopub.execute_input": "2024-04-20T17:11:09.012951Z",
     "iopub.status.busy": "2024-04-20T17:11:09.011779Z",
     "iopub.status.idle": "2024-04-20T17:11:09.039053Z",
     "shell.execute_reply": "2024-04-20T17:11:09.037402Z",
     "shell.execute_reply.started": "2024-04-20T17:11:09.012907Z"
    },
    "trusted": true
   },
   "outputs": [
    {
     "data": {
      "text/plain": [
       "Payment_of_Min_Amount\n",
       "Yes    24373\n",
       "No     16188\n",
       "NM      5565\n",
       "Name: count, dtype: int64"
      ]
     },
     "execution_count": 364,
     "metadata": {},
     "output_type": "execute_result"
    }
   ],
   "source": [
    "df.Payment_of_Min_Amount.value_counts()"
   ]
  },
  {
   "cell_type": "code",
   "execution_count": 365,
   "metadata": {
    "execution": {
     "iopub.execute_input": "2024-04-20T17:11:09.642674Z",
     "iopub.status.busy": "2024-04-20T17:11:09.641935Z",
     "iopub.status.idle": "2024-04-20T17:11:10.130563Z",
     "shell.execute_reply": "2024-04-20T17:11:10.129345Z",
     "shell.execute_reply.started": "2024-04-20T17:11:09.642638Z"
    },
    "trusted": true
   },
   "outputs": [
    {
     "data": {
      "image/png": "[encoded data removed]",
      "text/plain": [
       "<Figure size 1200x600 with 1 Axes>"
      ]
     },
     "metadata": {},
     "output_type": "display_data"
    }
   ],
   "source": [
    "plt.figure(figsize=(12, 6))\n",
    "sns.countplot(x='Payment_of_Min_Amount', data=df)\n",
    "plt.xlabel('Payment_of_Min_Amount')\n",
    "plt.ylabel('Count')\n",
    "plt.xticks(rotation=45)\n",
    "plt.legend(title='Another_Categorical_Variable')\n",
    "plt.grid(True)\n",
    "plt.tight_layout()\n",
    "plt.show()"
   ]
  },
  {
   "cell_type": "markdown",
   "metadata": {},
   "source": [
    "### Amount_invested_monthly"
   ]
  },
  {
   "cell_type": "code",
   "execution_count": 366,
   "metadata": {
    "execution": {
     "iopub.execute_input": "2024-04-20T17:11:10.837053Z",
     "iopub.status.busy": "2024-04-20T17:11:10.836286Z",
     "iopub.status.idle": "2024-04-20T17:11:10.875332Z",
     "shell.execute_reply": "2024-04-20T17:11:10.874131Z",
     "shell.execute_reply.started": "2024-04-20T17:11:10.837006Z"
    },
    "trusted": true
   },
   "outputs": [
    {
     "data": {
      "text/plain": [
       "41928"
      ]
     },
     "execution_count": 366,
     "metadata": {},
     "output_type": "execute_result"
    }
   ],
   "source": [
    "df.Amount_invested_monthly.nunique()"
   ]
  },
  {
   "cell_type": "code",
   "execution_count": 367,
   "metadata": {
    "execution": {
     "iopub.execute_input": "2024-04-20T17:11:11.449394Z",
     "iopub.status.busy": "2024-04-20T17:11:11.448351Z",
     "iopub.status.idle": "2024-04-20T17:11:11.720535Z",
     "shell.execute_reply": "2024-04-20T17:11:11.719268Z",
     "shell.execute_reply.started": "2024-04-20T17:11:11.44935Z"
    },
    "trusted": true
   },
   "outputs": [
    {
     "data": {
      "text/plain": [
       "{'.', 'nan'}"
      ]
     },
     "execution_count": 367,
     "metadata": {},
     "output_type": "execute_result"
    }
   ],
   "source": [
    "non_numeric_values(df, 'Amount_invested_monthly')"
   ]
  },
  {
   "cell_type": "code",
   "execution_count": 368,
   "metadata": {
    "execution": {
     "iopub.execute_input": "2024-04-20T17:11:12.148603Z",
     "iopub.status.busy": "2024-04-20T17:11:12.148141Z",
     "iopub.status.idle": "2024-04-20T17:11:12.223219Z",
     "shell.execute_reply": "2024-04-20T17:11:12.222141Z",
     "shell.execute_reply.started": "2024-04-20T17:11:12.148562Z"
    },
    "trusted": true
   },
   "outputs": [
    {
     "data": {
      "text/plain": [
       "array([], dtype=float64)"
      ]
     },
     "execution_count": 368,
     "metadata": {},
     "output_type": "execute_result"
    }
   ],
   "source": [
    "df['Amount_invested_monthly'] = pd.to_numeric(df['Amount_invested_monthly'], errors='coerce')\n",
    "df[df['Amount_invested_monthly'] < 0]['Amount_invested_monthly'].unique()"
   ]
  },
  {
   "cell_type": "code",
   "execution_count": 369,
   "metadata": {
    "execution": {
     "iopub.execute_input": "2024-04-20T17:11:13.300014Z",
     "iopub.status.busy": "2024-04-20T17:11:13.299602Z",
     "iopub.status.idle": "2024-04-20T17:11:13.32202Z",
     "shell.execute_reply": "2024-04-20T17:11:13.320566Z",
     "shell.execute_reply.started": "2024-04-20T17:11:13.299983Z"
    },
    "trusted": true
   },
   "outputs": [
    {
     "data": {
      "text/plain": [
       "Amount_invested_monthly\n",
       "10000.000    1990\n",
       "0.000          98\n",
       "236.643         1\n",
       "74.765          1\n",
       "131.505         1\n",
       "42.516          1\n",
       "13.824          1\n",
       "13.570          1\n",
       "64.270          1\n",
       "93.279          1\n",
       "42.651          1\n",
       "57.042          1\n",
       "85.461          1\n",
       "86.311          1\n",
       "395.140         1\n",
       "Name: count, dtype: int64"
      ]
     },
     "execution_count": 369,
     "metadata": {},
     "output_type": "execute_result"
    }
   ],
   "source": [
    "df.Amount_invested_monthly.value_counts().head(15)"
   ]
  },
  {
   "cell_type": "code",
   "execution_count": 370,
   "metadata": {
    "execution": {
     "iopub.execute_input": "2024-04-20T17:11:13.912695Z",
     "iopub.status.busy": "2024-04-20T17:11:13.912263Z",
     "iopub.status.idle": "2024-04-20T17:11:13.946594Z",
     "shell.execute_reply": "2024-04-20T17:11:13.945075Z",
     "shell.execute_reply.started": "2024-04-20T17:11:13.912661Z"
    },
    "trusted": true
   },
   "outputs": [
    {
     "data": {
      "text/html": [
       "<div>\n",
       "<style scoped>\n",
       "    .dataframe tbody tr th:only-of-type {\n",
       "        vertical-align: middle;\n",
       "    }\n",
       "\n",
       "    .dataframe tbody tr th {\n",
       "        vertical-align: top;\n",
       "    }\n",
       "\n",
       "    .dataframe thead th {\n",
       "        text-align: right;\n",
       "    }\n",
       "</style>\n",
       "<table border=\"1\" class=\"dataframe\">\n",
       "  <thead>\n",
       "    <tr style=\"text-align: right;\">\n",
       "      <th></th>\n",
       "      <th>Age</th>\n",
       "      <th>Occupation</th>\n",
       "      <th>Annual_Income</th>\n",
       "      <th>Num_Bank_Accounts</th>\n",
       "      <th>Num_Credit_Card</th>\n",
       "      <th>Interest_Rate</th>\n",
       "      <th>Num_of_Loan</th>\n",
       "      <th>Delay_from_due_date</th>\n",
       "      <th>Num_of_Delayed_Payment</th>\n",
       "      <th>Num_Credit_Inquiries</th>\n",
       "      <th>Credit_Mix</th>\n",
       "      <th>Outstanding_Debt</th>\n",
       "      <th>Credit_Utilization_Ratio</th>\n",
       "      <th>Payment_of_Min_Amount</th>\n",
       "      <th>Total_EMI_per_month</th>\n",
       "      <th>Amount_invested_monthly</th>\n",
       "      <th>Payment_Behaviour</th>\n",
       "      <th>Monthly_Balance</th>\n",
       "      <th>Credit_History_Age_Months</th>\n",
       "    </tr>\n",
       "  </thead>\n",
       "  <tbody>\n",
       "    <tr>\n",
       "      <th>33159</th>\n",
       "      <td>27</td>\n",
       "      <td>Architect</td>\n",
       "      <td>33042.48</td>\n",
       "      <td>4</td>\n",
       "      <td>4</td>\n",
       "      <td>3</td>\n",
       "      <td>2</td>\n",
       "      <td>14</td>\n",
       "      <td>15.000</td>\n",
       "      <td>2.000</td>\n",
       "      <td>Good</td>\n",
       "      <td>226.72</td>\n",
       "      <td>39.564</td>\n",
       "      <td>No</td>\n",
       "      <td>54.988</td>\n",
       "      <td>NaN</td>\n",
       "      <td>LowspentSmallvaluepayments</td>\n",
       "      <td>139.80136305556923</td>\n",
       "      <td>284</td>\n",
       "    </tr>\n",
       "    <tr>\n",
       "      <th>40502</th>\n",
       "      <td>34</td>\n",
       "      <td>Other</td>\n",
       "      <td>53671.92</td>\n",
       "      <td>6</td>\n",
       "      <td>8</td>\n",
       "      <td>33</td>\n",
       "      <td>6</td>\n",
       "      <td>61</td>\n",
       "      <td>24.000</td>\n",
       "      <td>9.000</td>\n",
       "      <td>Unknown</td>\n",
       "      <td>3420.99</td>\n",
       "      <td>22.107</td>\n",
       "      <td>Yes</td>\n",
       "      <td>153.316</td>\n",
       "      <td>NaN</td>\n",
       "      <td>LowspentMediumvaluepayments</td>\n",
       "      <td>210.9304795293153</td>\n",
       "      <td>97</td>\n",
       "    </tr>\n",
       "    <tr>\n",
       "      <th>29463</th>\n",
       "      <td>25</td>\n",
       "      <td>Journalist</td>\n",
       "      <td>38721.44</td>\n",
       "      <td>6</td>\n",
       "      <td>6</td>\n",
       "      <td>19</td>\n",
       "      <td>5</td>\n",
       "      <td>24</td>\n",
       "      <td>23.000</td>\n",
       "      <td>9.000</td>\n",
       "      <td>Bad</td>\n",
       "      <td>3467.82</td>\n",
       "      <td>32.275</td>\n",
       "      <td>Yes</td>\n",
       "      <td>87.269</td>\n",
       "      <td>NaN</td>\n",
       "      <td>HighspentMediumvaluepayments</td>\n",
       "      <td>409.8595765092726</td>\n",
       "      <td>169</td>\n",
       "    </tr>\n",
       "    <tr>\n",
       "      <th>5781</th>\n",
       "      <td>42</td>\n",
       "      <td>Journalist</td>\n",
       "      <td>71695.68</td>\n",
       "      <td>3</td>\n",
       "      <td>6</td>\n",
       "      <td>19</td>\n",
       "      <td>2</td>\n",
       "      <td>5</td>\n",
       "      <td>8.000</td>\n",
       "      <td>3.000</td>\n",
       "      <td>Standard</td>\n",
       "      <td>529.91</td>\n",
       "      <td>24.095</td>\n",
       "      <td>Yes</td>\n",
       "      <td>94.633</td>\n",
       "      <td>NaN</td>\n",
       "      <td>LowspentMediumvaluepayments</td>\n",
       "      <td>229.67486650234986</td>\n",
       "      <td>296</td>\n",
       "    </tr>\n",
       "    <tr>\n",
       "      <th>29074</th>\n",
       "      <td>21</td>\n",
       "      <td>Writer</td>\n",
       "      <td>32412.72</td>\n",
       "      <td>9</td>\n",
       "      <td>6</td>\n",
       "      <td>32</td>\n",
       "      <td>9</td>\n",
       "      <td>40</td>\n",
       "      <td>23.000</td>\n",
       "      <td>12.000</td>\n",
       "      <td>Bad</td>\n",
       "      <td>3632.05</td>\n",
       "      <td>30.432</td>\n",
       "      <td>Yes</td>\n",
       "      <td>163.068</td>\n",
       "      <td>NaN</td>\n",
       "      <td>LowspentLargevaluepayments</td>\n",
       "      <td>219.00247509384846</td>\n",
       "      <td>128</td>\n",
       "    </tr>\n",
       "    <tr>\n",
       "      <th>37240</th>\n",
       "      <td>54</td>\n",
       "      <td>Developer</td>\n",
       "      <td>12741.58</td>\n",
       "      <td>5</td>\n",
       "      <td>7</td>\n",
       "      <td>9</td>\n",
       "      <td>3</td>\n",
       "      <td>24</td>\n",
       "      <td>19.000</td>\n",
       "      <td>2.000</td>\n",
       "      <td>Unknown</td>\n",
       "      <td>530.93</td>\n",
       "      <td>32.105</td>\n",
       "      <td>No</td>\n",
       "      <td>28.732</td>\n",
       "      <td>NaN</td>\n",
       "      <td>LowspentSmallvaluepayments</td>\n",
       "      <td>332.27251136966066</td>\n",
       "      <td>347</td>\n",
       "    </tr>\n",
       "    <tr>\n",
       "      <th>22470</th>\n",
       "      <td>21</td>\n",
       "      <td>Architect</td>\n",
       "      <td>18214.08</td>\n",
       "      <td>4</td>\n",
       "      <td>7</td>\n",
       "      <td>5</td>\n",
       "      <td>5</td>\n",
       "      <td>9</td>\n",
       "      <td>21.000</td>\n",
       "      <td>7.000</td>\n",
       "      <td>Standard</td>\n",
       "      <td>1581.51</td>\n",
       "      <td>28.956</td>\n",
       "      <td>Yes</td>\n",
       "      <td>45.838</td>\n",
       "      <td>NaN</td>\n",
       "      <td>HighspentMediumvaluepayments</td>\n",
       "      <td>335.1298719836356</td>\n",
       "      <td>155</td>\n",
       "    </tr>\n",
       "    <tr>\n",
       "      <th>34949</th>\n",
       "      <td>24</td>\n",
       "      <td>Other</td>\n",
       "      <td>83521.24</td>\n",
       "      <td>4</td>\n",
       "      <td>4</td>\n",
       "      <td>14</td>\n",
       "      <td>2</td>\n",
       "      <td>9</td>\n",
       "      <td>11.000</td>\n",
       "      <td>13.000</td>\n",
       "      <td>Standard</td>\n",
       "      <td>555.44</td>\n",
       "      <td>26.589</td>\n",
       "      <td>Yes</td>\n",
       "      <td>121.273</td>\n",
       "      <td>NaN</td>\n",
       "      <td>HighspentLargevaluepayments</td>\n",
       "      <td>655.3805582031583</td>\n",
       "      <td>260</td>\n",
       "    </tr>\n",
       "    <tr>\n",
       "      <th>34542</th>\n",
       "      <td>41</td>\n",
       "      <td>Writer</td>\n",
       "      <td>29715.16</td>\n",
       "      <td>4</td>\n",
       "      <td>6</td>\n",
       "      <td>16</td>\n",
       "      <td>5</td>\n",
       "      <td>18</td>\n",
       "      <td>9.000</td>\n",
       "      <td>8.000</td>\n",
       "      <td>Standard</td>\n",
       "      <td>1036.03</td>\n",
       "      <td>35.211</td>\n",
       "      <td>Yes</td>\n",
       "      <td>349.455</td>\n",
       "      <td>NaN</td>\n",
       "      <td>HighspentMediumvaluepayments</td>\n",
       "      <td>349.0667422342504</td>\n",
       "      <td>229</td>\n",
       "    </tr>\n",
       "    <tr>\n",
       "      <th>34297</th>\n",
       "      <td>30</td>\n",
       "      <td>Entrepreneur</td>\n",
       "      <td>30652.38</td>\n",
       "      <td>3</td>\n",
       "      <td>7</td>\n",
       "      <td>7</td>\n",
       "      <td>4</td>\n",
       "      <td>13</td>\n",
       "      <td>30.924</td>\n",
       "      <td>4.000</td>\n",
       "      <td>Good</td>\n",
       "      <td>267.45</td>\n",
       "      <td>31.983</td>\n",
       "      <td>No</td>\n",
       "      <td>55.084</td>\n",
       "      <td>NaN</td>\n",
       "      <td>HighspentMediumvaluepayments</td>\n",
       "      <td>439.49800124496886</td>\n",
       "      <td>372</td>\n",
       "    </tr>\n",
       "    <tr>\n",
       "      <th>2826</th>\n",
       "      <td>30</td>\n",
       "      <td>Mechanic</td>\n",
       "      <td>52595.46</td>\n",
       "      <td>9</td>\n",
       "      <td>1052</td>\n",
       "      <td>28</td>\n",
       "      <td>6</td>\n",
       "      <td>41</td>\n",
       "      <td>30.924</td>\n",
       "      <td>1889.000</td>\n",
       "      <td>Unknown</td>\n",
       "      <td>1394.29</td>\n",
       "      <td>39.415</td>\n",
       "      <td>Yes</td>\n",
       "      <td>244.397</td>\n",
       "      <td>NaN</td>\n",
       "      <td>HighspentMediumvaluepayments</td>\n",
       "      <td>396.9306118262583</td>\n",
       "      <td>236</td>\n",
       "    </tr>\n",
       "    <tr>\n",
       "      <th>40745</th>\n",
       "      <td>32</td>\n",
       "      <td>MediaManager</td>\n",
       "      <td>10484.96</td>\n",
       "      <td>10</td>\n",
       "      <td>6</td>\n",
       "      <td>23</td>\n",
       "      <td>9</td>\n",
       "      <td>51</td>\n",
       "      <td>12.000</td>\n",
       "      <td>13.000</td>\n",
       "      <td>Bad</td>\n",
       "      <td>3345.76</td>\n",
       "      <td>31.584</td>\n",
       "      <td>Yes</td>\n",
       "      <td>59.780</td>\n",
       "      <td>NaN</td>\n",
       "      <td>LowspentLargevaluepayments</td>\n",
       "      <td>248.4124548941243</td>\n",
       "      <td>73</td>\n",
       "    </tr>\n",
       "    <tr>\n",
       "      <th>43655</th>\n",
       "      <td>19</td>\n",
       "      <td>Scientist</td>\n",
       "      <td>56570.22</td>\n",
       "      <td>3</td>\n",
       "      <td>6</td>\n",
       "      <td>16</td>\n",
       "      <td>3</td>\n",
       "      <td>15</td>\n",
       "      <td>20.000</td>\n",
       "      <td>10.000</td>\n",
       "      <td>Unknown</td>\n",
       "      <td>806.5</td>\n",
       "      <td>34.877</td>\n",
       "      <td>Yes</td>\n",
       "      <td>403.821</td>\n",
       "      <td>NaN</td>\n",
       "      <td>LowspentSmallvaluepayments</td>\n",
       "      <td>385.34465951445094</td>\n",
       "      <td>195</td>\n",
       "    </tr>\n",
       "    <tr>\n",
       "      <th>24848</th>\n",
       "      <td>55</td>\n",
       "      <td>Journalist</td>\n",
       "      <td>30412.85</td>\n",
       "      <td>3</td>\n",
       "      <td>4</td>\n",
       "      <td>14</td>\n",
       "      <td>0</td>\n",
       "      <td>13</td>\n",
       "      <td>30.924</td>\n",
       "      <td>2.000</td>\n",
       "      <td>Standard</td>\n",
       "      <td>1220.51</td>\n",
       "      <td>40.465</td>\n",
       "      <td>NM</td>\n",
       "      <td>0.000</td>\n",
       "      <td>NaN</td>\n",
       "      <td>HighspentMediumvaluepayments</td>\n",
       "      <td>485.8221113644393</td>\n",
       "      <td>331</td>\n",
       "    </tr>\n",
       "    <tr>\n",
       "      <th>15483</th>\n",
       "      <td>42</td>\n",
       "      <td>Accountant</td>\n",
       "      <td>48072.27</td>\n",
       "      <td>7</td>\n",
       "      <td>5</td>\n",
       "      <td>15</td>\n",
       "      <td>9</td>\n",
       "      <td>59</td>\n",
       "      <td>15.000</td>\n",
       "      <td>15.000</td>\n",
       "      <td>Bad</td>\n",
       "      <td>1434.39</td>\n",
       "      <td>24.882</td>\n",
       "      <td>NM</td>\n",
       "      <td>305.059</td>\n",
       "      <td>NaN</td>\n",
       "      <td>LowspentLargevaluepayments</td>\n",
       "      <td>213.90173884739346</td>\n",
       "      <td>91</td>\n",
       "    </tr>\n",
       "  </tbody>\n",
       "</table>\n",
       "</div>"
      ],
      "text/plain": [
       "       Age    Occupation Annual_Income  Num_Bank_Accounts  Num_Credit_Card  \\\n",
       "33159   27     Architect      33042.48                  4                4   \n",
       "40502   34         Other      53671.92                  6                8   \n",
       "29463   25    Journalist      38721.44                  6                6   \n",
       "5781    42    Journalist      71695.68                  3                6   \n",
       "29074   21        Writer      32412.72                  9                6   \n",
       "37240   54     Developer      12741.58                  5                7   \n",
       "22470   21     Architect      18214.08                  4                7   \n",
       "34949   24         Other      83521.24                  4                4   \n",
       "34542   41        Writer      29715.16                  4                6   \n",
       "34297   30  Entrepreneur      30652.38                  3                7   \n",
       "2826    30      Mechanic      52595.46                  9             1052   \n",
       "40745   32  MediaManager      10484.96                 10                6   \n",
       "43655   19     Scientist      56570.22                  3                6   \n",
       "24848   55    Journalist      30412.85                  3                4   \n",
       "15483   42    Accountant      48072.27                  7                5   \n",
       "\n",
       "       Interest_Rate  Num_of_Loan  Delay_from_due_date  \\\n",
       "33159              3            2                   14   \n",
       "40502             33            6                   61   \n",
       "29463             19            5                   24   \n",
       "5781              19            2                    5   \n",
       "29074             32            9                   40   \n",
       "37240              9            3                   24   \n",
       "22470              5            5                    9   \n",
       "34949             14            2                    9   \n",
       "34542             16            5                   18   \n",
       "34297              7            4                   13   \n",
       "2826              28            6                   41   \n",
       "40745             23            9                   51   \n",
       "43655             16            3                   15   \n",
       "24848             14            0                   13   \n",
       "15483             15            9                   59   \n",
       "\n",
       "       Num_of_Delayed_Payment  Num_Credit_Inquiries Credit_Mix  \\\n",
       "33159                  15.000                 2.000       Good   \n",
       "40502                  24.000                 9.000    Unknown   \n",
       "29463                  23.000                 9.000        Bad   \n",
       "5781                    8.000                 3.000   Standard   \n",
       "29074                  23.000                12.000        Bad   \n",
       "37240                  19.000                 2.000    Unknown   \n",
       "22470                  21.000                 7.000   Standard   \n",
       "34949                  11.000                13.000   Standard   \n",
       "34542                   9.000                 8.000   Standard   \n",
       "34297                  30.924                 4.000       Good   \n",
       "2826                   30.924              1889.000    Unknown   \n",
       "40745                  12.000                13.000        Bad   \n",
       "43655                  20.000                10.000    Unknown   \n",
       "24848                  30.924                 2.000   Standard   \n",
       "15483                  15.000                15.000        Bad   \n",
       "\n",
       "      Outstanding_Debt  Credit_Utilization_Ratio Payment_of_Min_Amount  \\\n",
       "33159           226.72                    39.564                    No   \n",
       "40502          3420.99                    22.107                   Yes   \n",
       "29463          3467.82                    32.275                   Yes   \n",
       "5781            529.91                    24.095                   Yes   \n",
       "29074          3632.05                    30.432                   Yes   \n",
       "37240           530.93                    32.105                    No   \n",
       "22470          1581.51                    28.956                   Yes   \n",
       "34949           555.44                    26.589                   Yes   \n",
       "34542          1036.03                    35.211                   Yes   \n",
       "34297           267.45                    31.983                    No   \n",
       "2826           1394.29                    39.415                   Yes   \n",
       "40745          3345.76                    31.584                   Yes   \n",
       "43655            806.5                    34.877                   Yes   \n",
       "24848          1220.51                    40.465                    NM   \n",
       "15483          1434.39                    24.882                    NM   \n",
       "\n",
       "       Total_EMI_per_month  Amount_invested_monthly  \\\n",
       "33159               54.988                      NaN   \n",
       "40502              153.316                      NaN   \n",
       "29463               87.269                      NaN   \n",
       "5781                94.633                      NaN   \n",
       "29074              163.068                      NaN   \n",
       "37240               28.732                      NaN   \n",
       "22470               45.838                      NaN   \n",
       "34949              121.273                      NaN   \n",
       "34542              349.455                      NaN   \n",
       "34297               55.084                      NaN   \n",
       "2826               244.397                      NaN   \n",
       "40745               59.780                      NaN   \n",
       "43655              403.821                      NaN   \n",
       "24848                0.000                      NaN   \n",
       "15483              305.059                      NaN   \n",
       "\n",
       "                  Payment_Behaviour     Monthly_Balance  \\\n",
       "33159    LowspentSmallvaluepayments  139.80136305556923   \n",
       "40502   LowspentMediumvaluepayments   210.9304795293153   \n",
       "29463  HighspentMediumvaluepayments   409.8595765092726   \n",
       "5781    LowspentMediumvaluepayments  229.67486650234986   \n",
       "29074    LowspentLargevaluepayments  219.00247509384846   \n",
       "37240    LowspentSmallvaluepayments  332.27251136966066   \n",
       "22470  HighspentMediumvaluepayments   335.1298719836356   \n",
       "34949   HighspentLargevaluepayments   655.3805582031583   \n",
       "34542  HighspentMediumvaluepayments   349.0667422342504   \n",
       "34297  HighspentMediumvaluepayments  439.49800124496886   \n",
       "2826   HighspentMediumvaluepayments   396.9306118262583   \n",
       "40745    LowspentLargevaluepayments   248.4124548941243   \n",
       "43655    LowspentSmallvaluepayments  385.34465951445094   \n",
       "24848  HighspentMediumvaluepayments   485.8221113644393   \n",
       "15483    LowspentLargevaluepayments  213.90173884739346   \n",
       "\n",
       "       Credit_History_Age_Months  \n",
       "33159                        284  \n",
       "40502                         97  \n",
       "29463                        169  \n",
       "5781                         296  \n",
       "29074                        128  \n",
       "37240                        347  \n",
       "22470                        155  \n",
       "34949                        260  \n",
       "34542                        229  \n",
       "34297                        372  \n",
       "2826                         236  \n",
       "40745                         73  \n",
       "43655                        195  \n",
       "24848                        331  \n",
       "15483                         91  "
      ]
     },
     "execution_count": 370,
     "metadata": {},
     "output_type": "execute_result"
    }
   ],
   "source": [
    "df[df.Amount_invested_monthly.isna()].sample(15)"
   ]
  },
  {
   "cell_type": "code",
   "execution_count": 371,
   "metadata": {
    "execution": {
     "iopub.execute_input": "2024-04-20T17:11:14.494913Z",
     "iopub.status.busy": "2024-04-20T17:11:14.493374Z",
     "iopub.status.idle": "2024-04-20T17:11:29.535476Z",
     "shell.execute_reply": "2024-04-20T17:11:29.534133Z",
     "shell.execute_reply.started": "2024-04-20T17:11:14.494863Z"
    },
    "trusted": true
   },
   "outputs": [],
   "source": [
    "df = knn_impute_column(df, 'Amount_invested_monthly')"
   ]
  },
  {
   "cell_type": "code",
   "execution_count": 372,
   "metadata": {
    "execution": {
     "iopub.execute_input": "2024-04-20T17:11:29.537807Z",
     "iopub.status.busy": "2024-04-20T17:11:29.537424Z",
     "iopub.status.idle": "2024-04-20T17:11:29.545788Z",
     "shell.execute_reply": "2024-04-20T17:11:29.544397Z",
     "shell.execute_reply.started": "2024-04-20T17:11:29.537775Z"
    },
    "trusted": true
   },
   "outputs": [
    {
     "data": {
      "text/plain": [
       "0"
      ]
     },
     "execution_count": 372,
     "metadata": {},
     "output_type": "execute_result"
    }
   ],
   "source": [
    "df.Amount_invested_monthly.isna().sum()"
   ]
  },
  {
   "cell_type": "code",
   "execution_count": 373,
   "metadata": {
    "execution": {
     "iopub.execute_input": "2024-04-20T17:11:29.549983Z",
     "iopub.status.busy": "2024-04-20T17:11:29.549585Z",
     "iopub.status.idle": "2024-04-20T17:11:29.570736Z",
     "shell.execute_reply": "2024-04-20T17:11:29.569618Z",
     "shell.execute_reply.started": "2024-04-20T17:11:29.549951Z"
    },
    "trusted": true
   },
   "outputs": [
    {
     "data": {
      "text/plain": [
       "Amount_invested_monthly\n",
       "637.648      2112\n",
       "10000.000    1990\n",
       "0.000          98\n",
       "236.643         1\n",
       "74.765          1\n",
       "131.505         1\n",
       "42.516          1\n",
       "13.824          1\n",
       "13.570          1\n",
       "64.270          1\n",
       "Name: count, dtype: int64"
      ]
     },
     "execution_count": 373,
     "metadata": {},
     "output_type": "execute_result"
    }
   ],
   "source": [
    "df.Amount_invested_monthly.value_counts().head(10)"
   ]
  },
  {
   "cell_type": "code",
   "execution_count": 374,
   "metadata": {
    "execution": {
     "iopub.execute_input": "2024-04-20T17:11:29.574523Z",
     "iopub.status.busy": "2024-04-20T17:11:29.573111Z",
     "iopub.status.idle": "2024-04-20T17:11:29.941685Z",
     "shell.execute_reply": "2024-04-20T17:11:29.940511Z",
     "shell.execute_reply.started": "2024-04-20T17:11:29.574485Z"
    },
    "trusted": true
   },
   "outputs": [
    {
     "data": {
      "image/png": "[encoded data removed]",
      "text/plain": [
       "<Figure size 1200x600 with 1 Axes>"
      ]
     },
     "metadata": {},
     "output_type": "display_data"
    }
   ],
   "source": [
    "sns.boxplot(data= df, x = df['Amount_invested_monthly']);"
   ]
  },
  {
   "cell_type": "code",
   "execution_count": 375,
   "metadata": {
    "execution": {
     "iopub.execute_input": "2024-04-20T17:11:29.943991Z",
     "iopub.status.busy": "2024-04-20T17:11:29.94354Z",
     "iopub.status.idle": "2024-04-20T17:11:29.958901Z",
     "shell.execute_reply": "2024-04-20T17:11:29.957648Z",
     "shell.execute_reply.started": "2024-04-20T17:11:29.94395Z"
    },
    "trusted": true
   },
   "outputs": [
    {
     "data": {
      "text/plain": [
       "1990"
      ]
     },
     "execution_count": 375,
     "metadata": {},
     "output_type": "execute_result"
    }
   ],
   "source": [
    "df[df['Amount_invested_monthly'] == 10000]['Amount_invested_monthly'].count()"
   ]
  },
  {
   "cell_type": "markdown",
   "metadata": {},
   "source": [
    "### Payment_Behaviour"
   ]
  },
  {
   "cell_type": "code",
   "execution_count": 376,
   "metadata": {
    "execution": {
     "iopub.execute_input": "2024-04-20T17:11:29.961305Z",
     "iopub.status.busy": "2024-04-20T17:11:29.960262Z",
     "iopub.status.idle": "2024-04-20T17:11:29.987866Z",
     "shell.execute_reply": "2024-04-20T17:11:29.98691Z",
     "shell.execute_reply.started": "2024-04-20T17:11:29.96127Z"
    },
    "trusted": true
   },
   "outputs": [
    {
     "data": {
      "text/plain": [
       "Payment_Behaviour\n",
       "LowspentSmallvaluepayments      11758\n",
       "HighspentMediumvaluepayments     8191\n",
       "LowspentMediumvaluepayments      6300\n",
       "HighspentLargevaluepayments      6282\n",
       "HighspentSmallvaluepayments      5235\n",
       "LowspentLargevaluepayments       4866\n",
       "!@9#%8                           3494\n",
       "Name: count, dtype: int64"
      ]
     },
     "execution_count": 376,
     "metadata": {},
     "output_type": "execute_result"
    }
   ],
   "source": [
    "df.Payment_Behaviour.value_counts()"
   ]
  },
  {
   "cell_type": "code",
   "execution_count": 377,
   "metadata": {
    "execution": {
     "iopub.execute_input": "2024-04-20T17:11:29.989506Z",
     "iopub.status.busy": "2024-04-20T17:11:29.989185Z",
     "iopub.status.idle": "2024-04-20T17:11:30.603858Z",
     "shell.execute_reply": "2024-04-20T17:11:30.602722Z",
     "shell.execute_reply.started": "2024-04-20T17:11:29.989479Z"
    },
    "trusted": true
   },
   "outputs": [
    {
     "data": {
      "image/png": "[encoded data removed]",
      "text/plain": [
       "<Figure size 1200x600 with 1 Axes>"
      ]
     },
     "metadata": {},
     "output_type": "display_data"
    }
   ],
   "source": [
    "plt.figure(figsize=(12, 6))\n",
    "sns.countplot(x='Payment_Behaviour', data=df)\n",
    "plt.xlabel('Payment_Behaviour')\n",
    "plt.ylabel('Count')\n",
    "plt.xticks(rotation=45)\n",
    "plt.legend(title='Another_Categorical_Variable')\n",
    "plt.grid(True)\n",
    "plt.tight_layout()\n",
    "plt.show()"
   ]
  },
  {
   "cell_type": "code",
   "execution_count": 378,
   "metadata": {
    "execution": {
     "iopub.execute_input": "2024-04-20T17:11:30.605825Z",
     "iopub.status.busy": "2024-04-20T17:11:30.605394Z",
     "iopub.status.idle": "2024-04-20T17:11:30.660909Z",
     "shell.execute_reply": "2024-04-20T17:11:30.659703Z",
     "shell.execute_reply.started": "2024-04-20T17:11:30.605783Z"
    },
    "trusted": true
   },
   "outputs": [],
   "source": [
    "# Replace '!@9#%8' with NaN\n",
    "df['Payment_Behaviour'].replace('!@9#%8', pd.NA, inplace=True)\n",
    "\n",
    "# Impute missing values with mode\n",
    "mode_value = df['Payment_Behaviour'].mode()[0]\n",
    "df['Payment_Behaviour'].fillna(mode_value, inplace=True)\n"
   ]
  },
  {
   "cell_type": "code",
   "execution_count": 379,
   "metadata": {
    "execution": {
     "iopub.execute_input": "2024-04-20T17:11:30.665424Z",
     "iopub.status.busy": "2024-04-20T17:11:30.665057Z",
     "iopub.status.idle": "2024-04-20T17:11:30.691898Z",
     "shell.execute_reply": "2024-04-20T17:11:30.690777Z",
     "shell.execute_reply.started": "2024-04-20T17:11:30.665391Z"
    },
    "trusted": true
   },
   "outputs": [
    {
     "data": {
      "text/plain": [
       "Payment_Behaviour\n",
       "LowspentSmallvaluepayments      15252\n",
       "HighspentMediumvaluepayments     8191\n",
       "LowspentMediumvaluepayments      6300\n",
       "HighspentLargevaluepayments      6282\n",
       "HighspentSmallvaluepayments      5235\n",
       "LowspentLargevaluepayments       4866\n",
       "Name: count, dtype: int64"
      ]
     },
     "execution_count": 379,
     "metadata": {},
     "output_type": "execute_result"
    }
   ],
   "source": [
    "df.Payment_Behaviour.value_counts()"
   ]
  },
  {
   "cell_type": "code",
   "execution_count": 380,
   "metadata": {
    "execution": {
     "iopub.execute_input": "2024-04-20T17:11:30.695379Z",
     "iopub.status.busy": "2024-04-20T17:11:30.695014Z",
     "iopub.status.idle": "2024-04-20T17:11:31.019635Z",
     "shell.execute_reply": "2024-04-20T17:11:31.018496Z",
     "shell.execute_reply.started": "2024-04-20T17:11:30.69534Z"
    },
    "trusted": true
   },
   "outputs": [
    {
     "data": {
      "text/plain": [
       "Payment_Behaviour\n",
       "Low_spent_Small_value_payments      15252\n",
       "High_spent_Medium_value_payments     8191\n",
       "Low_spent_Medium_value_payments      6300\n",
       "High_spent_Large_value_payments      6282\n",
       "High_spent_Small_value_payments      5235\n",
       "Low_spent_Large_value_payments       4866\n",
       "Name: count, dtype: int64"
      ]
     },
     "execution_count": 380,
     "metadata": {},
     "output_type": "execute_result"
    }
   ],
   "source": [
    "df['Payment_Behaviour'] = df['Payment_Behaviour'].str.replace('Lowspent', 'Low_spent_')\n",
    "df['Payment_Behaviour'] = df['Payment_Behaviour'].str.replace('Highspent', 'High_spent_')\n",
    "df['Payment_Behaviour'] = df['Payment_Behaviour'].str.replace('Highspent', 'High_spent_')\n",
    "\n",
    "df['Payment_Behaviour'] = df['Payment_Behaviour'].str.replace('Smallvalue', 'Small_value_')\n",
    "df['Payment_Behaviour'] = df['Payment_Behaviour'].str.replace('Largevalue', 'Large_value_')\n",
    "df['Payment_Behaviour'] = df['Payment_Behaviour'].str.replace('Mediumvalue', 'Medium_value_')\n",
    "\n",
    "df['Payment_Behaviour'].value_counts()"
   ]
  },
  {
   "cell_type": "markdown",
   "metadata": {},
   "source": [
    "### Monthly_Balance"
   ]
  },
  {
   "cell_type": "code",
   "execution_count": 381,
   "metadata": {
    "execution": {
     "iopub.execute_input": "2024-04-20T17:11:36.157351Z",
     "iopub.status.busy": "2024-04-20T17:11:36.156599Z",
     "iopub.status.idle": "2024-04-20T17:11:36.178132Z",
     "shell.execute_reply": "2024-04-20T17:11:36.177006Z",
     "shell.execute_reply.started": "2024-04-20T17:11:36.157298Z"
    },
    "trusted": true
   },
   "outputs": [
    {
     "data": {
      "text/plain": [
       "518"
      ]
     },
     "execution_count": 381,
     "metadata": {},
     "output_type": "execute_result"
    }
   ],
   "source": [
    "df.Monthly_Balance.isna().sum()"
   ]
  },
  {
   "cell_type": "code",
   "execution_count": 382,
   "metadata": {
    "execution": {
     "iopub.execute_input": "2024-04-20T17:11:36.852828Z",
     "iopub.status.busy": "2024-04-20T17:11:36.851925Z",
     "iopub.status.idle": "2024-04-20T17:11:37.146766Z",
     "shell.execute_reply": "2024-04-20T17:11:37.145641Z",
     "shell.execute_reply.started": "2024-04-20T17:11:36.852792Z"
    },
    "trusted": true
   },
   "outputs": [
    {
     "data": {
      "text/plain": [
       "{'-', '.', 'nan'}"
      ]
     },
     "execution_count": 382,
     "metadata": {},
     "output_type": "execute_result"
    }
   ],
   "source": [
    "non_numeric_values(df, 'Monthly_Balance')"
   ]
  },
  {
   "cell_type": "code",
   "execution_count": 383,
   "metadata": {
    "execution": {
     "iopub.execute_input": "2024-04-20T17:11:37.534064Z",
     "iopub.status.busy": "2024-04-20T17:11:37.533592Z",
     "iopub.status.idle": "2024-04-20T17:11:37.606956Z",
     "shell.execute_reply": "2024-04-20T17:11:37.605727Z",
     "shell.execute_reply.started": "2024-04-20T17:11:37.534028Z"
    },
    "trusted": true
   },
   "outputs": [
    {
     "data": {
      "text/plain": [
       "6"
      ]
     },
     "execution_count": 383,
     "metadata": {},
     "output_type": "execute_result"
    }
   ],
   "source": [
    "df['Monthly_Balance'] = pd.to_numeric(df['Monthly_Balance'], errors='coerce')\n",
    "df[df['Monthly_Balance'] < 0]['Monthly_Balance'].count()"
   ]
  },
  {
   "cell_type": "code",
   "execution_count": 384,
   "metadata": {
    "execution": {
     "iopub.execute_input": "2024-04-20T17:11:38.320597Z",
     "iopub.status.busy": "2024-04-20T17:11:38.319651Z",
     "iopub.status.idle": "2024-04-20T17:11:38.345873Z",
     "shell.execute_reply": "2024-04-20T17:11:38.344887Z",
     "shell.execute_reply.started": "2024-04-20T17:11:38.320518Z"
    },
    "trusted": true
   },
   "outputs": [],
   "source": [
    "df.drop(df[df['Monthly_Balance'] < 0].index, inplace = True)"
   ]
  },
  {
   "cell_type": "code",
   "execution_count": 385,
   "metadata": {
    "execution": {
     "iopub.execute_input": "2024-04-20T17:11:39.050953Z",
     "iopub.status.busy": "2024-04-20T17:11:39.050527Z",
     "iopub.status.idle": "2024-04-20T17:11:39.073934Z",
     "shell.execute_reply": "2024-04-20T17:11:39.072617Z",
     "shell.execute_reply.started": "2024-04-20T17:11:39.05092Z"
    },
    "trusted": true
   },
   "outputs": [
    {
     "data": {
      "text/plain": [
       "Monthly_Balance\n",
       "186.267    1\n",
       "202.309    1\n",
       "892.511    1\n",
       "404.146    1\n",
       "315.223    1\n",
       "392.765    1\n",
       "171.771    1\n",
       "216.142    1\n",
       "250.909    1\n",
       "410.927    1\n",
       "270.621    1\n",
       "345.811    1\n",
       "299.959    1\n",
       "310.445    1\n",
       "306.038    1\n",
       "Name: count, dtype: int64"
      ]
     },
     "execution_count": 385,
     "metadata": {},
     "output_type": "execute_result"
    }
   ],
   "source": [
    "df['Monthly_Balance'].value_counts().head(15)"
   ]
  },
  {
   "cell_type": "code",
   "execution_count": 386,
   "metadata": {
    "execution": {
     "iopub.execute_input": "2024-04-20T17:11:39.890171Z",
     "iopub.status.busy": "2024-04-20T17:11:39.889756Z",
     "iopub.status.idle": "2024-04-20T17:11:39.898643Z",
     "shell.execute_reply": "2024-04-20T17:11:39.897493Z",
     "shell.execute_reply.started": "2024-04-20T17:11:39.89014Z"
    },
    "trusted": true
   },
   "outputs": [
    {
     "data": {
      "text/plain": [
       "1606.5181919814756"
      ]
     },
     "execution_count": 386,
     "metadata": {},
     "output_type": "execute_result"
    }
   ],
   "source": [
    "df['Monthly_Balance'].max()"
   ]
  },
  {
   "cell_type": "code",
   "execution_count": 387,
   "metadata": {
    "execution": {
     "iopub.execute_input": "2024-04-20T17:11:40.657051Z",
     "iopub.status.busy": "2024-04-20T17:11:40.656506Z",
     "iopub.status.idle": "2024-04-20T17:11:40.665635Z",
     "shell.execute_reply": "2024-04-20T17:11:40.664495Z",
     "shell.execute_reply.started": "2024-04-20T17:11:40.657014Z"
    },
    "trusted": true
   },
   "outputs": [
    {
     "data": {
      "text/plain": [
       "0.103402231183395"
      ]
     },
     "execution_count": 387,
     "metadata": {},
     "output_type": "execute_result"
    }
   ],
   "source": [
    "df['Monthly_Balance'].min()"
   ]
  },
  {
   "cell_type": "code",
   "execution_count": 388,
   "metadata": {
    "execution": {
     "iopub.execute_input": "2024-04-20T17:11:41.486879Z",
     "iopub.status.busy": "2024-04-20T17:11:41.486438Z",
     "iopub.status.idle": "2024-04-20T17:11:41.495644Z",
     "shell.execute_reply": "2024-04-20T17:11:41.494475Z",
     "shell.execute_reply.started": "2024-04-20T17:11:41.486845Z"
    },
    "trusted": true
   },
   "outputs": [
    {
     "data": {
      "text/plain": [
       "401.5754750169605"
      ]
     },
     "execution_count": 388,
     "metadata": {},
     "output_type": "execute_result"
    }
   ],
   "source": [
    "df['Monthly_Balance'].mean()"
   ]
  },
  {
   "cell_type": "code",
   "execution_count": 389,
   "metadata": {
    "execution": {
     "iopub.execute_input": "2024-04-20T17:11:42.266656Z",
     "iopub.status.busy": "2024-04-20T17:11:42.2662Z",
     "iopub.status.idle": "2024-04-20T17:11:46.476652Z",
     "shell.execute_reply": "2024-04-20T17:11:46.475314Z",
     "shell.execute_reply.started": "2024-04-20T17:11:42.26662Z"
    },
    "trusted": true
   },
   "outputs": [
    {
     "data": {
      "text/plain": [
       "0"
      ]
     },
     "execution_count": 389,
     "metadata": {},
     "output_type": "execute_result"
    }
   ],
   "source": [
    "df = knn_impute_column(df, 'Monthly_Balance')\n",
    "df.Monthly_Balance.isna().sum()"
   ]
  },
  {
   "cell_type": "code",
   "execution_count": 390,
   "metadata": {
    "execution": {
     "iopub.execute_input": "2024-04-20T17:11:46.478711Z",
     "iopub.status.busy": "2024-04-20T17:11:46.478347Z",
     "iopub.status.idle": "2024-04-20T17:11:47.05437Z",
     "shell.execute_reply": "2024-04-20T17:11:47.05323Z",
     "shell.execute_reply.started": "2024-04-20T17:11:46.478682Z"
    },
    "trusted": true
   },
   "outputs": [
    {
     "data": {
      "image/png": "[encoded data removed]",
      "text/plain": [
       "<Figure size 1200x600 with 1 Axes>"
      ]
     },
     "metadata": {},
     "output_type": "display_data"
    }
   ],
   "source": [
    "sns.boxplot(df, x= df['Monthly_Balance']);"
   ]
  },
  {
   "cell_type": "code",
   "execution_count": 391,
   "metadata": {
    "execution": {
     "iopub.execute_input": "2024-04-20T17:11:47.056311Z",
     "iopub.status.busy": "2024-04-20T17:11:47.055979Z",
     "iopub.status.idle": "2024-04-20T17:11:47.151683Z",
     "shell.execute_reply": "2024-04-20T17:11:47.149486Z",
     "shell.execute_reply.started": "2024-04-20T17:11:47.056283Z"
    },
    "trusted": true
   },
   "outputs": [
    {
     "name": "stdout",
     "output_type": "stream",
     "text": [
      "<class 'pandas.core.frame.DataFrame'>\n",
      "Index: 46120 entries, 0 to 49999\n",
      "Data columns (total 19 columns):\n",
      " #   Column                     Non-Null Count  Dtype  \n",
      "---  ------                     --------------  -----  \n",
      " 0   Age                        46120 non-null  int64  \n",
      " 1   Occupation                 46120 non-null  object \n",
      " 2   Annual_Income              46120 non-null  float64\n",
      " 3   Num_Bank_Accounts          46120 non-null  int64  \n",
      " 4   Num_Credit_Card            46120 non-null  int64  \n",
      " 5   Interest_Rate              46120 non-null  int64  \n",
      " 6   Num_of_Loan                46120 non-null  int64  \n",
      " 7   Delay_from_due_date        46120 non-null  int64  \n",
      " 8   Num_of_Delayed_Payment     46120 non-null  float64\n",
      " 9   Num_Credit_Inquiries       46120 non-null  float64\n",
      " 10  Credit_Mix                 46120 non-null  object \n",
      " 11  Outstanding_Debt           46120 non-null  float64\n",
      " 12  Credit_Utilization_Ratio   46120 non-null  float64\n",
      " 13  Payment_of_Min_Amount      46120 non-null  object \n",
      " 14  Total_EMI_per_month        46120 non-null  float64\n",
      " 15  Amount_invested_monthly    46120 non-null  float64\n",
      " 16  Payment_Behaviour          46120 non-null  object \n",
      " 17  Monthly_Balance            46120 non-null  float64\n",
      " 18  Credit_History_Age_Months  46120 non-null  int32  \n",
      "dtypes: float64(8), int32(1), int64(6), object(4)\n",
      "memory usage: 6.9+ MB\n"
     ]
    }
   ],
   "source": [
    "# lastly change wrong dtypes..\n",
    "df['Annual_Income'] = df['Annual_Income'].astype(float)\n",
    "df['Outstanding_Debt'] = df['Outstanding_Debt'].astype(float)\n",
    "\n",
    "df.info()"
   ]
  },
  {
   "cell_type": "markdown",
   "metadata": {},
   "source": [
    "### Monthly expenses"
   ]
  },
  {
   "cell_type": "code",
   "execution_count": 392,
   "metadata": {},
   "outputs": [
    {
     "data": {
      "text/html": [
       "<div>\n",
       "<style scoped>\n",
       "    .dataframe tbody tr th:only-of-type {\n",
       "        vertical-align: middle;\n",
       "    }\n",
       "\n",
       "    .dataframe tbody tr th {\n",
       "        vertical-align: top;\n",
       "    }\n",
       "\n",
       "    .dataframe thead th {\n",
       "        text-align: right;\n",
       "    }\n",
       "</style>\n",
       "<table border=\"1\" class=\"dataframe\">\n",
       "  <thead>\n",
       "    <tr style=\"text-align: right;\">\n",
       "      <th></th>\n",
       "      <th>Age</th>\n",
       "      <th>Occupation</th>\n",
       "      <th>Annual_Income</th>\n",
       "      <th>Num_Bank_Accounts</th>\n",
       "      <th>Num_Credit_Card</th>\n",
       "      <th>Interest_Rate</th>\n",
       "      <th>Num_of_Loan</th>\n",
       "      <th>Delay_from_due_date</th>\n",
       "      <th>Num_of_Delayed_Payment</th>\n",
       "      <th>Num_Credit_Inquiries</th>\n",
       "      <th>Credit_Mix</th>\n",
       "      <th>Outstanding_Debt</th>\n",
       "      <th>Credit_Utilization_Ratio</th>\n",
       "      <th>Payment_of_Min_Amount</th>\n",
       "      <th>Total_EMI_per_month</th>\n",
       "      <th>Amount_invested_monthly</th>\n",
       "      <th>Payment_Behaviour</th>\n",
       "      <th>Monthly_Balance</th>\n",
       "      <th>Credit_History_Age_Months</th>\n",
       "      <th>Monthly_expense</th>\n",
       "    </tr>\n",
       "  </thead>\n",
       "  <tbody>\n",
       "    <tr>\n",
       "      <th>0</th>\n",
       "      <td>23</td>\n",
       "      <td>Scientist</td>\n",
       "      <td>19114.120</td>\n",
       "      <td>3</td>\n",
       "      <td>4</td>\n",
       "      <td>3</td>\n",
       "      <td>4</td>\n",
       "      <td>3</td>\n",
       "      <td>7.000</td>\n",
       "      <td>2022.000</td>\n",
       "      <td>Good</td>\n",
       "      <td>809.980</td>\n",
       "      <td>35.030</td>\n",
       "      <td>No</td>\n",
       "      <td>49.575</td>\n",
       "      <td>236.643</td>\n",
       "      <td>Low_spent_Small_value_payments</td>\n",
       "      <td>186.267</td>\n",
       "      <td>273</td>\n",
       "      <td>1406.577</td>\n",
       "    </tr>\n",
       "    <tr>\n",
       "      <th>1</th>\n",
       "      <td>24</td>\n",
       "      <td>Scientist</td>\n",
       "      <td>19114.120</td>\n",
       "      <td>3</td>\n",
       "      <td>4</td>\n",
       "      <td>3</td>\n",
       "      <td>4</td>\n",
       "      <td>3</td>\n",
       "      <td>9.000</td>\n",
       "      <td>4.000</td>\n",
       "      <td>Good</td>\n",
       "      <td>809.980</td>\n",
       "      <td>33.053</td>\n",
       "      <td>No</td>\n",
       "      <td>49.575</td>\n",
       "      <td>21.465</td>\n",
       "      <td>High_spent_Medium_value_payments</td>\n",
       "      <td>361.444</td>\n",
       "      <td>274</td>\n",
       "      <td>1231.399</td>\n",
       "    </tr>\n",
       "    <tr>\n",
       "      <th>3</th>\n",
       "      <td>24</td>\n",
       "      <td>Scientist</td>\n",
       "      <td>19114.120</td>\n",
       "      <td>3</td>\n",
       "      <td>4</td>\n",
       "      <td>3</td>\n",
       "      <td>4</td>\n",
       "      <td>4</td>\n",
       "      <td>5.000</td>\n",
       "      <td>4.000</td>\n",
       "      <td>Good</td>\n",
       "      <td>809.980</td>\n",
       "      <td>32.431</td>\n",
       "      <td>No</td>\n",
       "      <td>49.575</td>\n",
       "      <td>39.083</td>\n",
       "      <td>High_spent_Medium_value_payments</td>\n",
       "      <td>343.827</td>\n",
       "      <td>276</td>\n",
       "      <td>1249.016</td>\n",
       "    </tr>\n",
       "    <tr>\n",
       "      <th>4</th>\n",
       "      <td>28</td>\n",
       "      <td>Other</td>\n",
       "      <td>34847.840</td>\n",
       "      <td>2</td>\n",
       "      <td>4</td>\n",
       "      <td>6</td>\n",
       "      <td>1</td>\n",
       "      <td>3</td>\n",
       "      <td>1.000</td>\n",
       "      <td>5.000</td>\n",
       "      <td>Good</td>\n",
       "      <td>605.030</td>\n",
       "      <td>25.927</td>\n",
       "      <td>No</td>\n",
       "      <td>18.816</td>\n",
       "      <td>39.684</td>\n",
       "      <td>High_spent_Large_value_payments</td>\n",
       "      <td>485.298</td>\n",
       "      <td>327</td>\n",
       "      <td>2418.688</td>\n",
       "    </tr>\n",
       "    <tr>\n",
       "      <th>5</th>\n",
       "      <td>28</td>\n",
       "      <td>Teacher</td>\n",
       "      <td>34847.840</td>\n",
       "      <td>2</td>\n",
       "      <td>4</td>\n",
       "      <td>6</td>\n",
       "      <td>1</td>\n",
       "      <td>3</td>\n",
       "      <td>3.000</td>\n",
       "      <td>5.000</td>\n",
       "      <td>Good</td>\n",
       "      <td>605.030</td>\n",
       "      <td>30.117</td>\n",
       "      <td>No</td>\n",
       "      <td>18.816</td>\n",
       "      <td>251.627</td>\n",
       "      <td>Low_spent_Large_value_payments</td>\n",
       "      <td>303.355</td>\n",
       "      <td>328</td>\n",
       "      <td>2600.632</td>\n",
       "    </tr>\n",
       "  </tbody>\n",
       "</table>\n",
       "</div>"
      ],
      "text/plain": [
       "   Age Occupation  Annual_Income  Num_Bank_Accounts  Num_Credit_Card  \\\n",
       "0   23  Scientist      19114.120                  3                4   \n",
       "1   24  Scientist      19114.120                  3                4   \n",
       "3   24  Scientist      19114.120                  3                4   \n",
       "4   28      Other      34847.840                  2                4   \n",
       "5   28    Teacher      34847.840                  2                4   \n",
       "\n",
       "   Interest_Rate  Num_of_Loan  Delay_from_due_date  Num_of_Delayed_Payment  \\\n",
       "0              3            4                    3                   7.000   \n",
       "1              3            4                    3                   9.000   \n",
       "3              3            4                    4                   5.000   \n",
       "4              6            1                    3                   1.000   \n",
       "5              6            1                    3                   3.000   \n",
       "\n",
       "   Num_Credit_Inquiries Credit_Mix  Outstanding_Debt  \\\n",
       "0              2022.000       Good           809.980   \n",
       "1                 4.000       Good           809.980   \n",
       "3                 4.000       Good           809.980   \n",
       "4                 5.000       Good           605.030   \n",
       "5                 5.000       Good           605.030   \n",
       "\n",
       "   Credit_Utilization_Ratio Payment_of_Min_Amount  Total_EMI_per_month  \\\n",
       "0                    35.030                    No               49.575   \n",
       "1                    33.053                    No               49.575   \n",
       "3                    32.431                    No               49.575   \n",
       "4                    25.927                    No               18.816   \n",
       "5                    30.117                    No               18.816   \n",
       "\n",
       "   Amount_invested_monthly                 Payment_Behaviour  Monthly_Balance  \\\n",
       "0                  236.643    Low_spent_Small_value_payments          186.267   \n",
       "1                   21.465  High_spent_Medium_value_payments          361.444   \n",
       "3                   39.083  High_spent_Medium_value_payments          343.827   \n",
       "4                   39.684   High_spent_Large_value_payments          485.298   \n",
       "5                  251.627    Low_spent_Large_value_payments          303.355   \n",
       "\n",
       "   Credit_History_Age_Months  Monthly_expense  \n",
       "0                        273         1406.577  \n",
       "1                        274         1231.399  \n",
       "3                        276         1249.016  \n",
       "4                        327         2418.688  \n",
       "5                        328         2600.632  "
      ]
     },
     "execution_count": 392,
     "metadata": {},
     "output_type": "execute_result"
    }
   ],
   "source": [
    "df['Monthly_expense'] = df['Annual_Income'] / 12 - df['Monthly_Balance']\n",
    "df[df['Monthly_expense'] < 0]['Monthly_expense'].count()\n",
    "df['Monthly_expense'] = df['Monthly_expense'].astype(float)\n",
    "\n",
    "df.head()\n"
   ]
  },
  {
   "cell_type": "code",
   "execution_count": 393,
   "metadata": {
    "execution": {
     "iopub.execute_input": "2024-04-20T17:11:48.630862Z",
     "iopub.status.busy": "2024-04-20T17:11:48.630434Z",
     "iopub.status.idle": "2024-04-20T17:11:50.370577Z",
     "shell.execute_reply": "2024-04-20T17:11:50.369283Z",
     "shell.execute_reply.started": "2024-04-20T17:11:48.63083Z"
    },
    "trusted": true
   },
   "outputs": [
    {
     "data": {
      "image/png": "[encoded data removed]",
      "text/plain": [
       "<Figure size 1800x1000 with 2 Axes>"
      ]
     },
     "metadata": {},
     "output_type": "display_data"
    }
   ],
   "source": [
    "plt.figure(figsize=(18, 10))\n",
    "sns.heatmap(df.select_dtypes(include='number').corr(), annot = True);"
   ]
  },
  {
   "cell_type": "code",
   "execution_count": 394,
   "metadata": {
    "execution": {
     "iopub.execute_input": "2024-04-20T17:11:50.373484Z",
     "iopub.status.busy": "2024-04-20T17:11:50.373001Z",
     "iopub.status.idle": "2024-04-20T17:16:25.310697Z",
     "shell.execute_reply": "2024-04-20T17:16:25.307062Z",
     "shell.execute_reply.started": "2024-04-20T17:11:50.373438Z"
    },
    "trusted": true
   },
   "outputs": [],
   "source": [
    "# sns.pairplot(df, corner=True);"
   ]
  },
  {
   "cell_type": "markdown",
   "metadata": {},
   "source": [
    "# Save and read clean data"
   ]
  },
  {
   "cell_type": "code",
   "execution_count": 395,
   "metadata": {},
   "outputs": [],
   "source": [
    "df.to_csv(\"Creditscore_test_cleaned.csv\", index=False)"
   ]
  },
  {
   "cell_type": "code",
   "execution_count": 396,
   "metadata": {},
   "outputs": [
    {
     "data": {
      "text/html": [
       "<div>\n",
       "<style scoped>\n",
       "    .dataframe tbody tr th:only-of-type {\n",
       "        vertical-align: middle;\n",
       "    }\n",
       "\n",
       "    .dataframe tbody tr th {\n",
       "        vertical-align: top;\n",
       "    }\n",
       "\n",
       "    .dataframe thead th {\n",
       "        text-align: right;\n",
       "    }\n",
       "</style>\n",
       "<table border=\"1\" class=\"dataframe\">\n",
       "  <thead>\n",
       "    <tr style=\"text-align: right;\">\n",
       "      <th></th>\n",
       "      <th>Age</th>\n",
       "      <th>Occupation</th>\n",
       "      <th>Annual_Income</th>\n",
       "      <th>Num_Bank_Accounts</th>\n",
       "      <th>Num_Credit_Card</th>\n",
       "      <th>Interest_Rate</th>\n",
       "      <th>Num_of_Loan</th>\n",
       "      <th>Delay_from_due_date</th>\n",
       "      <th>Num_of_Delayed_Payment</th>\n",
       "      <th>Num_Credit_Inquiries</th>\n",
       "      <th>Credit_Mix</th>\n",
       "      <th>Outstanding_Debt</th>\n",
       "      <th>Credit_Utilization_Ratio</th>\n",
       "      <th>Payment_of_Min_Amount</th>\n",
       "      <th>Total_EMI_per_month</th>\n",
       "      <th>Amount_invested_monthly</th>\n",
       "      <th>Payment_Behaviour</th>\n",
       "      <th>Monthly_Balance</th>\n",
       "      <th>Credit_History_Age_Months</th>\n",
       "      <th>Monthly_expense</th>\n",
       "    </tr>\n",
       "  </thead>\n",
       "  <tbody>\n",
       "    <tr>\n",
       "      <th>0</th>\n",
       "      <td>23</td>\n",
       "      <td>Scientist</td>\n",
       "      <td>19114.120</td>\n",
       "      <td>3</td>\n",
       "      <td>4</td>\n",
       "      <td>3</td>\n",
       "      <td>4</td>\n",
       "      <td>3</td>\n",
       "      <td>7.000</td>\n",
       "      <td>2022.000</td>\n",
       "      <td>Good</td>\n",
       "      <td>809.980</td>\n",
       "      <td>35.030</td>\n",
       "      <td>No</td>\n",
       "      <td>49.575</td>\n",
       "      <td>236.643</td>\n",
       "      <td>Low_spent_Small_value_payments</td>\n",
       "      <td>186.267</td>\n",
       "      <td>273</td>\n",
       "      <td>1406.577</td>\n",
       "    </tr>\n",
       "    <tr>\n",
       "      <th>1</th>\n",
       "      <td>24</td>\n",
       "      <td>Scientist</td>\n",
       "      <td>19114.120</td>\n",
       "      <td>3</td>\n",
       "      <td>4</td>\n",
       "      <td>3</td>\n",
       "      <td>4</td>\n",
       "      <td>3</td>\n",
       "      <td>9.000</td>\n",
       "      <td>4.000</td>\n",
       "      <td>Good</td>\n",
       "      <td>809.980</td>\n",
       "      <td>33.053</td>\n",
       "      <td>No</td>\n",
       "      <td>49.575</td>\n",
       "      <td>21.465</td>\n",
       "      <td>High_spent_Medium_value_payments</td>\n",
       "      <td>361.444</td>\n",
       "      <td>274</td>\n",
       "      <td>1231.399</td>\n",
       "    </tr>\n",
       "    <tr>\n",
       "      <th>2</th>\n",
       "      <td>24</td>\n",
       "      <td>Scientist</td>\n",
       "      <td>19114.120</td>\n",
       "      <td>3</td>\n",
       "      <td>4</td>\n",
       "      <td>3</td>\n",
       "      <td>4</td>\n",
       "      <td>4</td>\n",
       "      <td>5.000</td>\n",
       "      <td>4.000</td>\n",
       "      <td>Good</td>\n",
       "      <td>809.980</td>\n",
       "      <td>32.431</td>\n",
       "      <td>No</td>\n",
       "      <td>49.575</td>\n",
       "      <td>39.083</td>\n",
       "      <td>High_spent_Medium_value_payments</td>\n",
       "      <td>343.827</td>\n",
       "      <td>276</td>\n",
       "      <td>1249.016</td>\n",
       "    </tr>\n",
       "    <tr>\n",
       "      <th>3</th>\n",
       "      <td>28</td>\n",
       "      <td>Other</td>\n",
       "      <td>34847.840</td>\n",
       "      <td>2</td>\n",
       "      <td>4</td>\n",
       "      <td>6</td>\n",
       "      <td>1</td>\n",
       "      <td>3</td>\n",
       "      <td>1.000</td>\n",
       "      <td>5.000</td>\n",
       "      <td>Good</td>\n",
       "      <td>605.030</td>\n",
       "      <td>25.927</td>\n",
       "      <td>No</td>\n",
       "      <td>18.816</td>\n",
       "      <td>39.684</td>\n",
       "      <td>High_spent_Large_value_payments</td>\n",
       "      <td>485.298</td>\n",
       "      <td>327</td>\n",
       "      <td>2418.688</td>\n",
       "    </tr>\n",
       "    <tr>\n",
       "      <th>4</th>\n",
       "      <td>28</td>\n",
       "      <td>Teacher</td>\n",
       "      <td>34847.840</td>\n",
       "      <td>2</td>\n",
       "      <td>4</td>\n",
       "      <td>6</td>\n",
       "      <td>1</td>\n",
       "      <td>3</td>\n",
       "      <td>3.000</td>\n",
       "      <td>5.000</td>\n",
       "      <td>Good</td>\n",
       "      <td>605.030</td>\n",
       "      <td>30.117</td>\n",
       "      <td>No</td>\n",
       "      <td>18.816</td>\n",
       "      <td>251.627</td>\n",
       "      <td>Low_spent_Large_value_payments</td>\n",
       "      <td>303.355</td>\n",
       "      <td>328</td>\n",
       "      <td>2600.632</td>\n",
       "    </tr>\n",
       "  </tbody>\n",
       "</table>\n",
       "</div>"
      ],
      "text/plain": [
       "   Age Occupation  Annual_Income  Num_Bank_Accounts  Num_Credit_Card  \\\n",
       "0   23  Scientist      19114.120                  3                4   \n",
       "1   24  Scientist      19114.120                  3                4   \n",
       "2   24  Scientist      19114.120                  3                4   \n",
       "3   28      Other      34847.840                  2                4   \n",
       "4   28    Teacher      34847.840                  2                4   \n",
       "\n",
       "   Interest_Rate  Num_of_Loan  Delay_from_due_date  Num_of_Delayed_Payment  \\\n",
       "0              3            4                    3                   7.000   \n",
       "1              3            4                    3                   9.000   \n",
       "2              3            4                    4                   5.000   \n",
       "3              6            1                    3                   1.000   \n",
       "4              6            1                    3                   3.000   \n",
       "\n",
       "   Num_Credit_Inquiries Credit_Mix  Outstanding_Debt  \\\n",
       "0              2022.000       Good           809.980   \n",
       "1                 4.000       Good           809.980   \n",
       "2                 4.000       Good           809.980   \n",
       "3                 5.000       Good           605.030   \n",
       "4                 5.000       Good           605.030   \n",
       "\n",
       "   Credit_Utilization_Ratio Payment_of_Min_Amount  Total_EMI_per_month  \\\n",
       "0                    35.030                    No               49.575   \n",
       "1                    33.053                    No               49.575   \n",
       "2                    32.431                    No               49.575   \n",
       "3                    25.927                    No               18.816   \n",
       "4                    30.117                    No               18.816   \n",
       "\n",
       "   Amount_invested_monthly                 Payment_Behaviour  Monthly_Balance  \\\n",
       "0                  236.643    Low_spent_Small_value_payments          186.267   \n",
       "1                   21.465  High_spent_Medium_value_payments          361.444   \n",
       "2                   39.083  High_spent_Medium_value_payments          343.827   \n",
       "3                   39.684   High_spent_Large_value_payments          485.298   \n",
       "4                  251.627    Low_spent_Large_value_payments          303.355   \n",
       "\n",
       "   Credit_History_Age_Months  Monthly_expense  \n",
       "0                        273         1406.577  \n",
       "1                        274         1231.399  \n",
       "2                        276         1249.016  \n",
       "3                        327         2418.688  \n",
       "4                        328         2600.632  "
      ]
     },
     "execution_count": 396,
     "metadata": {},
     "output_type": "execute_result"
    }
   ],
   "source": [
    "df = pd.read_csv(r\"Creditscore_test_cleaned.csv\")\n",
    "df.head()"
   ]
  },
  {
   "cell_type": "code",
   "execution_count": null,
   "metadata": {},
   "outputs": [],
   "source": []
  }
 ],
 "metadata": {
  "kaggle": {
   "accelerator": "none",
   "dataSources": [
    {
     "datasetId": 2289007,
     "sourceId": 3846912,
     "sourceType": "datasetVersion"
    }
   ],
   "dockerImageVersionId": 30673,
   "isGpuEnabled": false,
   "isInternetEnabled": true,
   "language": "python",
   "sourceType": "notebook"
  },
  "kernelspec": {
   "display_name": "Python 3",
   "language": "python",
   "name": "python3"
  },
  "language_info": {
   "codemirror_mode": {
    "name": "ipython",
    "version": 3
   },
   "file_extension": ".py",
   "mimetype": "text/x-python",
   "name": "python",
   "nbconvert_exporter": "python",
   "pygments_lexer": "ipython3",
   "version": "3.10.11"
  }
 },
 "nbformat": 4,
 "nbformat_minor": 4
}
